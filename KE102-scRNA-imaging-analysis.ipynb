{
 "cells": [
  {
   "cell_type": "code",
   "execution_count": 1,
   "metadata": {},
   "outputs": [],
   "source": [
    "import skimage as skimage\n",
    "import os\n",
    "import glob\n",
    "import numpy as np\n",
    "import pandas as pd\n",
    "import matplotlib.pyplot as plt\n",
    "import re\n",
    "\n",
    "pixel_size = 3.25\n"
   ]
  },
  {
   "cell_type": "markdown",
   "metadata": {},
   "source": [
    "This is analysis for the Lawlor, Vanslambrouck, Higgins bioprinter paper.\n",
    "\n",
    "This analysis is for images obtained from organoids used for scRNA analysis.\n",
    "\n",
    "This notebook segments the mafb images at D7_12 and outputs various measurements for further analysis.\n",
    "\n",
    "This first section was to generate images to illastik based annotation/segmentation. this was all images taken prior to scRNA dissocation, excluding one that had stitched incorrectly. This data is all stored in the ./trimmed folder "
   ]
  },
  {
   "cell_type": "code",
   "execution_count": 2,
   "metadata": {},
   "outputs": [],
   "source": [
    "def get_time_stamp(file_name, split_by = \"_\"):\n",
    "    stamps = [s for s in file_name.split(split_by) if re.match(\"^[0-2][0-9].[0-5][0-9].[0-5][0-9]$\", s)]\n",
    "    assert (len(stamps) == 1), \"unique time stamp not found\"\n",
    "    return(stamps[0])\n",
    "\n",
    "def get_measurements(i):\n",
    "    height = round(i.shape[0] / 1024)\n",
    "    \n",
    "    if(len(skimage.measure.regionprops(i)) < 1):\n",
    "        return(0, 0, 0, 0, height)\n",
    "    else:\n",
    "        props = skimage.measure.regionprops(i)[0]\n",
    "    \n",
    "        return(props.area, props.solidity, props.major_axis_length, props.convex_area, height)\n",
    "\n"
   ]
  },
  {
   "cell_type": "markdown",
   "metadata": {},
   "source": [
    "Using images that have been organised into subfolder by plate and well\n",
    "\n",
    "eg\n",
    "final\n",
    "-plate1a\n",
    "--w1\n",
    "--w2\n",
    "--w3\n",
    "--etc\n",
    "\n",
    "Initially these need to be loaded, have conditions appended and trimmed for easy display. This whole set will then get processed in illastik to generate pixel probability maps."
   ]
  },
  {
   "cell_type": "code",
   "execution_count": 3,
   "metadata": {},
   "outputs": [],
   "source": [
    "file_path = \"data\"\n"
   ]
  },
  {
   "cell_type": "code",
   "execution_count": 11,
   "metadata": {},
   "outputs": [
    {
     "name": "stdout",
     "output_type": "stream",
     "text": [
      "270 files initially\n",
      "230 files after removing duplicates\n"
     ]
    }
   ],
   "source": [
    "raw_files = glob.glob(os.path.join(file_path, \"plate*\",\"*\",\"*.tif\"))\n",
    "print(len(raw_files), \"files initially\")\n",
    "\n",
    "files = []\n",
    "#remove duplicates\n",
    "for f in raw_files:\n",
    "    if 'duplicate' not in f:\n",
    "        files.append(f)\n",
    "    \n",
    "print(len(files), \"files after removing duplicates\")\n",
    "\n",
    "\n"
   ]
  },
  {
   "cell_type": "markdown",
   "metadata": {},
   "source": [
    "Now duplicating all the data with condition strings appended to the file name, and image trimmed so sizes match for each condition. this data will be run through ilastik.\n",
    "\n",
    "this first chunk is for the mafb-tagBFP channel."
   ]
  },
  {
   "cell_type": "code",
   "execution_count": 12,
   "metadata": {},
   "outputs": [
    {
     "name": "stdout",
     "output_type": "stream",
     "text": [
      "(4992, 1028)\n",
      "plate2b_w1_line_2020-02-11_17.23.54_iso_Kynan Lawlor_F_fused.tif\n",
      "(4800, 1020)\n",
      "final_KE012_data\\full_set_trimmed\\bfp_plate2b_w1_line_2020-02-11_17.23.54_iso_Kynan Lawlor_F_fused.tif\n"
     ]
    },
    {
     "name": "stderr",
     "output_type": "stream",
     "text": [
      "C:\\Users\\kynan.lawlor\\AppData\\Local\\Continuum\\miniconda3\\envs\\imaging\\lib\\site-packages\\skimage\\io\\_io.py:141: UserWarning: final_KE012_data\\full_set_trimmed\\bfp_plate2b_w1_line_2020-02-11_17.23.54_iso_Kynan Lawlor_F_fused.tif is a low contrast image\n",
      "  warn('%s is a low contrast image' % fname)\n"
     ]
    },
    {
     "name": "stdout",
     "output_type": "stream",
     "text": [
      "(4992, 1028)\n",
      "plate2b_w1_line_2020-02-11_17.23.28_iso_Kynan Lawlor_F_fused.tif\n",
      "(4800, 1020)\n",
      "final_KE012_data\\full_set_trimmed\\bfp_plate2b_w1_line_2020-02-11_17.23.28_iso_Kynan Lawlor_F_fused.tif\n",
      "(1024, 1024)\n",
      "plate2b_w1_dots_2020-02-11_17.23.15_iso_Kynan Lawlor_convert.tif\n",
      "(1024, 1024)\n",
      "final_KE012_data\\full_set_trimmed\\bfp_plate2b_w1_dots_2020-02-11_17.23.15_iso_Kynan Lawlor_convert.tif\n"
     ]
    },
    {
     "name": "stderr",
     "output_type": "stream",
     "text": [
      "C:\\Users\\kynan.lawlor\\AppData\\Local\\Continuum\\miniconda3\\envs\\imaging\\lib\\site-packages\\skimage\\io\\_io.py:141: UserWarning: final_KE012_data\\full_set_trimmed\\bfp_plate2b_w1_line_2020-02-11_17.23.28_iso_Kynan Lawlor_F_fused.tif is a low contrast image\n",
      "  warn('%s is a low contrast image' % fname)\n",
      "C:\\Users\\kynan.lawlor\\AppData\\Local\\Continuum\\miniconda3\\envs\\imaging\\lib\\site-packages\\skimage\\io\\_io.py:141: UserWarning: final_KE012_data\\full_set_trimmed\\bfp_plate2b_w1_dots_2020-02-11_17.23.15_iso_Kynan Lawlor_convert.tif is a low contrast image\n",
      "  warn('%s is a low contrast image' % fname)\n"
     ]
    },
    {
     "name": "stdout",
     "output_type": "stream",
     "text": [
      "(1024, 1024)\n",
      "plate2b_w1_dots_2020-02-11_17.23.04_iso_Kynan Lawlor_convert.tif\n",
      "(1024, 1024)\n",
      "final_KE012_data\\full_set_trimmed\\bfp_plate2b_w1_dots_2020-02-11_17.23.04_iso_Kynan Lawlor_convert.tif\n",
      "(1024, 1024)\n",
      "plate2b_w1_dots_2020-02-11_17.22.37_iso_Kynan Lawlor_convert.tif\n",
      "(1024, 1024)\n",
      "final_KE012_data\\full_set_trimmed\\bfp_plate2b_w1_dots_2020-02-11_17.22.37_iso_Kynan Lawlor_convert.tif\n"
     ]
    },
    {
     "name": "stderr",
     "output_type": "stream",
     "text": [
      "C:\\Users\\kynan.lawlor\\AppData\\Local\\Continuum\\miniconda3\\envs\\imaging\\lib\\site-packages\\skimage\\io\\_io.py:141: UserWarning: final_KE012_data\\full_set_trimmed\\bfp_plate2b_w1_dots_2020-02-11_17.23.04_iso_Kynan Lawlor_convert.tif is a low contrast image\n",
      "  warn('%s is a low contrast image' % fname)\n",
      "C:\\Users\\kynan.lawlor\\AppData\\Local\\Continuum\\miniconda3\\envs\\imaging\\lib\\site-packages\\skimage\\io\\_io.py:141: UserWarning: final_KE012_data\\full_set_trimmed\\bfp_plate2b_w1_dots_2020-02-11_17.22.37_iso_Kynan Lawlor_convert.tif is a low contrast image\n",
      "  warn('%s is a low contrast image' % fname)\n"
     ]
    },
    {
     "name": "stdout",
     "output_type": "stream",
     "text": [
      "(4992, 1028)\n",
      "plate2b_w1_line_2020-02-11_17.24.19_iso_Kynan Lawlor_F_fused.tif\n",
      "(4800, 1020)\n",
      "final_KE012_data\\full_set_trimmed\\bfp_plate2b_w1_line_2020-02-11_17.24.19_iso_Kynan Lawlor_F_fused.tif\n"
     ]
    },
    {
     "name": "stderr",
     "output_type": "stream",
     "text": [
      "C:\\Users\\kynan.lawlor\\AppData\\Local\\Continuum\\miniconda3\\envs\\imaging\\lib\\site-packages\\skimage\\io\\_io.py:141: UserWarning: final_KE012_data\\full_set_trimmed\\bfp_plate2b_w1_line_2020-02-11_17.24.19_iso_Kynan Lawlor_F_fused.tif is a low contrast image\n",
      "  warn('%s is a low contrast image' % fname)\n"
     ]
    },
    {
     "name": "stdout",
     "output_type": "stream",
     "text": [
      "(4990, 1029)\n",
      "plate2b_w4_line_2020-02-11_09.48.27_iso_Kynan Lawlor_F_fused_scRNA.tif\n",
      "(4800, 1020)\n",
      "final_KE012_data\\full_set_trimmed\\bfp_plate2b_w4_line_2020-02-11_09.48.27_iso_Kynan Lawlor_F_fused_scRNA.tif\n"
     ]
    },
    {
     "name": "stderr",
     "output_type": "stream",
     "text": [
      "C:\\Users\\kynan.lawlor\\AppData\\Local\\Continuum\\miniconda3\\envs\\imaging\\lib\\site-packages\\skimage\\io\\_io.py:141: UserWarning: final_KE012_data\\full_set_trimmed\\bfp_plate2b_w4_line_2020-02-11_09.48.27_iso_Kynan Lawlor_F_fused_scRNA.tif is a low contrast image\n",
      "  warn('%s is a low contrast image' % fname)\n"
     ]
    },
    {
     "name": "stdout",
     "output_type": "stream",
     "text": [
      "(1024, 1024)\n",
      "plate2b_w4_dots_2020-02-11_09.48.01_iso_Kynan Lawlor_convert_scRNA.tif\n",
      "(1024, 1024)\n",
      "final_KE012_data\\full_set_trimmed\\bfp_plate2b_w4_dots_2020-02-11_09.48.01_iso_Kynan Lawlor_convert_scRNA.tif\n",
      "(1024, 1024)\n",
      "plate2b_w3_dots_2020-02-11_17.28.39_iso_Kynan Lawlor_convert.tif\n",
      "(1024, 1024)\n",
      "final_KE012_data\\full_set_trimmed\\bfp_plate2b_w3_dots_2020-02-11_17.28.39_iso_Kynan Lawlor_convert.tif\n"
     ]
    },
    {
     "name": "stderr",
     "output_type": "stream",
     "text": [
      "C:\\Users\\kynan.lawlor\\AppData\\Local\\Continuum\\miniconda3\\envs\\imaging\\lib\\site-packages\\skimage\\io\\_io.py:141: UserWarning: final_KE012_data\\full_set_trimmed\\bfp_plate2b_w4_dots_2020-02-11_09.48.01_iso_Kynan Lawlor_convert_scRNA.tif is a low contrast image\n",
      "  warn('%s is a low contrast image' % fname)\n",
      "C:\\Users\\kynan.lawlor\\AppData\\Local\\Continuum\\miniconda3\\envs\\imaging\\lib\\site-packages\\skimage\\io\\_io.py:141: UserWarning: final_KE012_data\\full_set_trimmed\\bfp_plate2b_w3_dots_2020-02-11_17.28.39_iso_Kynan Lawlor_convert.tif is a low contrast image\n",
      "  warn('%s is a low contrast image' % fname)\n"
     ]
    },
    {
     "name": "stdout",
     "output_type": "stream",
     "text": [
      "(4992, 1032)\n",
      "plate2b_w3_line_2020-02-11_17.29.18_iso_Kynan Lawlor_F_fused.tif\n",
      "(4800, 1020)\n",
      "final_KE012_data\\full_set_trimmed\\bfp_plate2b_w3_line_2020-02-11_17.29.18_iso_Kynan Lawlor_F_fused.tif\n"
     ]
    },
    {
     "name": "stderr",
     "output_type": "stream",
     "text": [
      "C:\\Users\\kynan.lawlor\\AppData\\Local\\Continuum\\miniconda3\\envs\\imaging\\lib\\site-packages\\skimage\\io\\_io.py:141: UserWarning: final_KE012_data\\full_set_trimmed\\bfp_plate2b_w3_line_2020-02-11_17.29.18_iso_Kynan Lawlor_F_fused.tif is a low contrast image\n",
      "  warn('%s is a low contrast image' % fname)\n"
     ]
    },
    {
     "name": "stdout",
     "output_type": "stream",
     "text": [
      "(4992, 1031)\n",
      "plate2b_w3_line_2020-02-11_17.29.45_iso_Kynan Lawlor_F_fused.tif\n",
      "(4800, 1020)\n",
      "final_KE012_data\\full_set_trimmed\\bfp_plate2b_w3_line_2020-02-11_17.29.45_iso_Kynan Lawlor_F_fused.tif\n",
      "(1024, 1024)\n",
      "plate2b_w3_dots_2020-02-11_17.28.56_iso_Kynan Lawlor_convert.tif\n",
      "(1024, 1024)\n",
      "final_KE012_data\\full_set_trimmed\\bfp_plate2b_w3_dots_2020-02-11_17.28.56_iso_Kynan Lawlor_convert.tif\n"
     ]
    },
    {
     "name": "stderr",
     "output_type": "stream",
     "text": [
      "C:\\Users\\kynan.lawlor\\AppData\\Local\\Continuum\\miniconda3\\envs\\imaging\\lib\\site-packages\\skimage\\io\\_io.py:141: UserWarning: final_KE012_data\\full_set_trimmed\\bfp_plate2b_w3_line_2020-02-11_17.29.45_iso_Kynan Lawlor_F_fused.tif is a low contrast image\n",
      "  warn('%s is a low contrast image' % fname)\n",
      "C:\\Users\\kynan.lawlor\\AppData\\Local\\Continuum\\miniconda3\\envs\\imaging\\lib\\site-packages\\skimage\\io\\_io.py:141: UserWarning: final_KE012_data\\full_set_trimmed\\bfp_plate2b_w3_dots_2020-02-11_17.28.56_iso_Kynan Lawlor_convert.tif is a low contrast image\n",
      "  warn('%s is a low contrast image' % fname)\n"
     ]
    },
    {
     "name": "stdout",
     "output_type": "stream",
     "text": [
      "(4992, 1031)\n",
      "plate2b_w3_line_2020-02-11_17.30.19_iso_Kynan Lawlor_F_fused.tif\n",
      "(4800, 1020)\n",
      "final_KE012_data\\full_set_trimmed\\bfp_plate2b_w3_line_2020-02-11_17.30.19_iso_Kynan Lawlor_F_fused.tif\n",
      "(1024, 1024)\n",
      "plate2b_w3_dots_2020-02-11_17.28.25_iso_Kynan Lawlor_convert.tif\n",
      "(1024, 1024)\n",
      "final_KE012_data\\full_set_trimmed\\bfp_plate2b_w3_dots_2020-02-11_17.28.25_iso_Kynan Lawlor_convert.tif\n"
     ]
    },
    {
     "name": "stderr",
     "output_type": "stream",
     "text": [
      "C:\\Users\\kynan.lawlor\\AppData\\Local\\Continuum\\miniconda3\\envs\\imaging\\lib\\site-packages\\skimage\\io\\_io.py:141: UserWarning: final_KE012_data\\full_set_trimmed\\bfp_plate2b_w3_line_2020-02-11_17.30.19_iso_Kynan Lawlor_F_fused.tif is a low contrast image\n",
      "  warn('%s is a low contrast image' % fname)\n",
      "C:\\Users\\kynan.lawlor\\AppData\\Local\\Continuum\\miniconda3\\envs\\imaging\\lib\\site-packages\\skimage\\io\\_io.py:141: UserWarning: final_KE012_data\\full_set_trimmed\\bfp_plate2b_w3_dots_2020-02-11_17.28.25_iso_Kynan Lawlor_convert.tif is a low contrast image\n",
      "  warn('%s is a low contrast image' % fname)\n"
     ]
    },
    {
     "name": "stdout",
     "output_type": "stream",
     "text": [
      "(4992, 1029)\n",
      "plate2b_w6_line_2020-02-11_09.51.40_iso_Kynan Lawlor_F_fused_scRNA.tif\n",
      "(4800, 1020)\n",
      "final_KE012_data\\full_set_trimmed\\bfp_plate2b_w6_line_2020-02-11_09.51.40_iso_Kynan Lawlor_F_fused_scRNA.tif\n",
      "(1024, 1024)\n",
      "plate2b_w6_dots_2020-02-11_09.51.17_iso_Kynan Lawlor_convert_scRNA.tif\n",
      "(1024, 1024)\n",
      "final_KE012_data\\full_set_trimmed\\bfp_plate2b_w6_dots_2020-02-11_09.51.17_iso_Kynan Lawlor_convert_scRNA.tif\n"
     ]
    },
    {
     "name": "stderr",
     "output_type": "stream",
     "text": [
      "C:\\Users\\kynan.lawlor\\AppData\\Local\\Continuum\\miniconda3\\envs\\imaging\\lib\\site-packages\\skimage\\io\\_io.py:141: UserWarning: final_KE012_data\\full_set_trimmed\\bfp_plate2b_w6_line_2020-02-11_09.51.40_iso_Kynan Lawlor_F_fused_scRNA.tif is a low contrast image\n",
      "  warn('%s is a low contrast image' % fname)\n",
      "C:\\Users\\kynan.lawlor\\AppData\\Local\\Continuum\\miniconda3\\envs\\imaging\\lib\\site-packages\\skimage\\io\\_io.py:141: UserWarning: final_KE012_data\\full_set_trimmed\\bfp_plate2b_w6_dots_2020-02-11_09.51.17_iso_Kynan Lawlor_convert_scRNA.tif is a low contrast image\n",
      "  warn('%s is a low contrast image' % fname)\n"
     ]
    },
    {
     "name": "stdout",
     "output_type": "stream",
     "text": [
      "(4990, 1031)\n",
      "plate2b_w2_line_2020-02-11_17.27.41_iso_Kynan Lawlor_F_fused.tif\n",
      "(4800, 1020)\n",
      "final_KE012_data\\full_set_trimmed\\bfp_plate2b_w2_line_2020-02-11_17.27.41_iso_Kynan Lawlor_F_fused.tif\n",
      "(1024, 1024)\n",
      "plate2b_w2_dots_2020-02-11_17.26.15_iso_Kynan Lawlor_convert.tif\n",
      "(1024, 1024)\n",
      "final_KE012_data\\full_set_trimmed\\bfp_plate2b_w2_dots_2020-02-11_17.26.15_iso_Kynan Lawlor_convert.tif\n"
     ]
    },
    {
     "name": "stderr",
     "output_type": "stream",
     "text": [
      "C:\\Users\\kynan.lawlor\\AppData\\Local\\Continuum\\miniconda3\\envs\\imaging\\lib\\site-packages\\skimage\\io\\_io.py:141: UserWarning: final_KE012_data\\full_set_trimmed\\bfp_plate2b_w2_line_2020-02-11_17.27.41_iso_Kynan Lawlor_F_fused.tif is a low contrast image\n",
      "  warn('%s is a low contrast image' % fname)\n",
      "C:\\Users\\kynan.lawlor\\AppData\\Local\\Continuum\\miniconda3\\envs\\imaging\\lib\\site-packages\\skimage\\io\\_io.py:141: UserWarning: final_KE012_data\\full_set_trimmed\\bfp_plate2b_w2_dots_2020-02-11_17.26.15_iso_Kynan Lawlor_convert.tif is a low contrast image\n",
      "  warn('%s is a low contrast image' % fname)\n"
     ]
    },
    {
     "name": "stdout",
     "output_type": "stream",
     "text": [
      "(1024, 1024)\n",
      "plate2b_w2_dots_2020-02-11_17.26.26_iso_Kynan Lawlor_convert.tif\n",
      "(1024, 1024)\n",
      "final_KE012_data\\full_set_trimmed\\bfp_plate2b_w2_dots_2020-02-11_17.26.26_iso_Kynan Lawlor_convert.tif\n",
      "(4992, 1030)"
     ]
    },
    {
     "name": "stderr",
     "output_type": "stream",
     "text": [
      "C:\\Users\\kynan.lawlor\\AppData\\Local\\Continuum\\miniconda3\\envs\\imaging\\lib\\site-packages\\skimage\\io\\_io.py:141: UserWarning: final_KE012_data\\full_set_trimmed\\bfp_plate2b_w2_dots_2020-02-11_17.26.26_iso_Kynan Lawlor_convert.tif is a low contrast image\n",
      "  warn('%s is a low contrast image' % fname)\n"
     ]
    },
    {
     "name": "stdout",
     "output_type": "stream",
     "text": [
      "\n",
      "plate2b_w2_line_2020-02-11_17.26.42_iso_Kynan Lawlor_F_fused.tif\n",
      "(4800, 1020)\n",
      "final_KE012_data\\full_set_trimmed\\bfp_plate2b_w2_line_2020-02-11_17.26.42_iso_Kynan Lawlor_F_fused.tif\n"
     ]
    },
    {
     "name": "stderr",
     "output_type": "stream",
     "text": [
      "C:\\Users\\kynan.lawlor\\AppData\\Local\\Continuum\\miniconda3\\envs\\imaging\\lib\\site-packages\\skimage\\io\\_io.py:141: UserWarning: final_KE012_data\\full_set_trimmed\\bfp_plate2b_w2_line_2020-02-11_17.26.42_iso_Kynan Lawlor_F_fused.tif is a low contrast image\n",
      "  warn('%s is a low contrast image' % fname)\n"
     ]
    },
    {
     "name": "stdout",
     "output_type": "stream",
     "text": [
      "(4992, 1030)\n",
      "plate2b_w2_line_2020-02-11_17.27.12_iso_Kynan Lawlor_F_fused.tif\n",
      "(4800, 1020)\n",
      "final_KE012_data\\full_set_trimmed\\bfp_plate2b_w2_line_2020-02-11_17.27.12_iso_Kynan Lawlor_F_fused.tif\n",
      "(1024, 1024)\n",
      "plate2b_w2_dots_2020-02-11_17.26.02_iso_Kynan Lawlor_convert.tif\n",
      "(1024, 1024)\n",
      "final_KE012_data\\full_set_trimmed\\bfp_plate2b_w2_dots_2020-02-11_17.26.02_iso_Kynan Lawlor_convert.tif\n"
     ]
    },
    {
     "name": "stderr",
     "output_type": "stream",
     "text": [
      "C:\\Users\\kynan.lawlor\\AppData\\Local\\Continuum\\miniconda3\\envs\\imaging\\lib\\site-packages\\skimage\\io\\_io.py:141: UserWarning: final_KE012_data\\full_set_trimmed\\bfp_plate2b_w2_line_2020-02-11_17.27.12_iso_Kynan Lawlor_F_fused.tif is a low contrast image\n",
      "  warn('%s is a low contrast image' % fname)\n",
      "C:\\Users\\kynan.lawlor\\AppData\\Local\\Continuum\\miniconda3\\envs\\imaging\\lib\\site-packages\\skimage\\io\\_io.py:141: UserWarning: final_KE012_data\\full_set_trimmed\\bfp_plate2b_w2_dots_2020-02-11_17.26.02_iso_Kynan Lawlor_convert.tif is a low contrast image\n",
      "  warn('%s is a low contrast image' % fname)\n"
     ]
    },
    {
     "name": "stdout",
     "output_type": "stream",
     "text": [
      "(1024, 1024)\n",
      "plate2b_w5_dots_2020-02-11_09.49.58_iso_Kynan Lawlor_convert_scRNA.tif\n",
      "(1024, 1024)\n",
      "final_KE012_data\\full_set_trimmed\\bfp_plate2b_w5_dots_2020-02-11_09.49.58_iso_Kynan Lawlor_convert_scRNA.tif\n"
     ]
    },
    {
     "name": "stderr",
     "output_type": "stream",
     "text": [
      "C:\\Users\\kynan.lawlor\\AppData\\Local\\Continuum\\miniconda3\\envs\\imaging\\lib\\site-packages\\skimage\\io\\_io.py:141: UserWarning: final_KE012_data\\full_set_trimmed\\bfp_plate2b_w5_dots_2020-02-11_09.49.58_iso_Kynan Lawlor_convert_scRNA.tif is a low contrast image\n",
      "  warn('%s is a low contrast image' % fname)\n"
     ]
    },
    {
     "name": "stdout",
     "output_type": "stream",
     "text": [
      "(4870, 1030)\n",
      "plate2b_w5_line_2020-02-11_09.50.28_iso_Kynan Lawlor_F_fused_scRNA.tif\n",
      "(4800, 1020)\n",
      "final_KE012_data\\full_set_trimmed\\bfp_plate2b_w5_line_2020-02-11_09.50.28_iso_Kynan Lawlor_F_fused_scRNA.tif\n"
     ]
    },
    {
     "name": "stderr",
     "output_type": "stream",
     "text": [
      "C:\\Users\\kynan.lawlor\\AppData\\Local\\Continuum\\miniconda3\\envs\\imaging\\lib\\site-packages\\skimage\\io\\_io.py:141: UserWarning: final_KE012_data\\full_set_trimmed\\bfp_plate2b_w5_line_2020-02-11_09.50.28_iso_Kynan Lawlor_F_fused_scRNA.tif is a low contrast image\n",
      "  warn('%s is a low contrast image' % fname)\n"
     ]
    },
    {
     "name": "stdout",
     "output_type": "stream",
     "text": [
      "(4990, 1029)\n",
      "plate3a_w4_line_2020-02-11_17.51.38_iso_Kynan Lawlor_F_fused.tif\n",
      "(4800, 1020)\n",
      "final_KE012_data\\full_set_trimmed\\bfp_plate3a_w4_line_2020-02-11_17.51.38_iso_Kynan Lawlor_F_fused.tif\n",
      "(1024, 1024)\n",
      "plate3a_w4_dots_2020-02-11_17.49.29_iso_Kynan Lawlor_convert.tif\n",
      "(1024, 1024)\n",
      "final_KE012_data\\full_set_trimmed\\bfp_plate3a_w4_dots_2020-02-11_17.49.29_iso_Kynan Lawlor_convert.tif\n"
     ]
    },
    {
     "name": "stderr",
     "output_type": "stream",
     "text": [
      "C:\\Users\\kynan.lawlor\\AppData\\Local\\Continuum\\miniconda3\\envs\\imaging\\lib\\site-packages\\skimage\\io\\_io.py:141: UserWarning: final_KE012_data\\full_set_trimmed\\bfp_plate3a_w4_line_2020-02-11_17.51.38_iso_Kynan Lawlor_F_fused.tif is a low contrast image\n",
      "  warn('%s is a low contrast image' % fname)\n",
      "C:\\Users\\kynan.lawlor\\AppData\\Local\\Continuum\\miniconda3\\envs\\imaging\\lib\\site-packages\\skimage\\io\\_io.py:141: UserWarning: final_KE012_data\\full_set_trimmed\\bfp_plate3a_w4_dots_2020-02-11_17.49.29_iso_Kynan Lawlor_convert.tif is a low contrast image\n",
      "  warn('%s is a low contrast image' % fname)\n"
     ]
    },
    {
     "name": "stdout",
     "output_type": "stream",
     "text": [
      "(1024, 1024)\n",
      "plate3a_w4_dots_2020-02-11_17.49.56_iso_Kynan Lawlor_convert.tif\n",
      "(1024, 1024)\n",
      "final_KE012_data\\full_set_trimmed\\bfp_plate3a_w4_dots_2020-02-11_17.49.56_iso_Kynan Lawlor_convert.tif\n",
      "(1024, 1024)\n",
      "plate3a_w4_dots_2020-02-11_17.49.44_iso_Kynan Lawlor_convert.tif\n",
      "(1024, 1024)\n",
      "final_KE012_data\\full_set_trimmed\\bfp_plate3a_w4_dots_2020-02-11_17.49.44_iso_Kynan Lawlor_convert.tif\n"
     ]
    },
    {
     "name": "stderr",
     "output_type": "stream",
     "text": [
      "C:\\Users\\kynan.lawlor\\AppData\\Local\\Continuum\\miniconda3\\envs\\imaging\\lib\\site-packages\\skimage\\io\\_io.py:141: UserWarning: final_KE012_data\\full_set_trimmed\\bfp_plate3a_w4_dots_2020-02-11_17.49.56_iso_Kynan Lawlor_convert.tif is a low contrast image\n",
      "  warn('%s is a low contrast image' % fname)\n",
      "C:\\Users\\kynan.lawlor\\AppData\\Local\\Continuum\\miniconda3\\envs\\imaging\\lib\\site-packages\\skimage\\io\\_io.py:141: UserWarning: final_KE012_data\\full_set_trimmed\\bfp_plate3a_w4_dots_2020-02-11_17.49.44_iso_Kynan Lawlor_convert.tif is a low contrast image\n",
      "  warn('%s is a low contrast image' % fname)\n"
     ]
    },
    {
     "name": "stdout",
     "output_type": "stream",
     "text": [
      "(4990, 1029)\n",
      "plate3a_w4_line_2020-02-11_17.50.59_iso_Kynan Lawlor_F_fused.tif\n",
      "(4800, 1020)\n",
      "final_KE012_data\\full_set_trimmed\\bfp_plate3a_w4_line_2020-02-11_17.50.59_iso_Kynan Lawlor_F_fused.tif\n"
     ]
    },
    {
     "name": "stderr",
     "output_type": "stream",
     "text": [
      "C:\\Users\\kynan.lawlor\\AppData\\Local\\Continuum\\miniconda3\\envs\\imaging\\lib\\site-packages\\skimage\\io\\_io.py:141: UserWarning: final_KE012_data\\full_set_trimmed\\bfp_plate3a_w4_line_2020-02-11_17.50.59_iso_Kynan Lawlor_F_fused.tif is a low contrast image\n",
      "  warn('%s is a low contrast image' % fname)\n"
     ]
    },
    {
     "name": "stdout",
     "output_type": "stream",
     "text": [
      "(4991, 1028)\n",
      "plate3a_w4_line_2020-02-11_17.50.09_iso_Kynan Lawlor_F_fused.tif\n",
      "(4800, 1020)\n",
      "final_KE012_data\\full_set_trimmed\\bfp_plate3a_w4_line_2020-02-11_17.50.09_iso_Kynan Lawlor_F_fused.tif\n"
     ]
    },
    {
     "name": "stderr",
     "output_type": "stream",
     "text": [
      "C:\\Users\\kynan.lawlor\\AppData\\Local\\Continuum\\miniconda3\\envs\\imaging\\lib\\site-packages\\skimage\\io\\_io.py:141: UserWarning: final_KE012_data\\full_set_trimmed\\bfp_plate3a_w4_line_2020-02-11_17.50.09_iso_Kynan Lawlor_F_fused.tif is a low contrast image\n",
      "  warn('%s is a low contrast image' % fname)\n"
     ]
    },
    {
     "name": "stdout",
     "output_type": "stream",
     "text": [
      "(4992, 1031)\n",
      "plate3a_w3_line_2020-02-11_17.46.09_iso_Kynan Lawlor_F_fused.tif\n",
      "(4800, 1020)\n",
      "final_KE012_data\\full_set_trimmed\\bfp_plate3a_w3_line_2020-02-11_17.46.09_iso_Kynan Lawlor_F_fused.tif\n",
      "(1024, 1024)\n",
      "plate3a_w3_dots_2020-02-11_17.45.51_iso_Kynan Lawlor_convert.tif\n",
      "(1024, 1024)\n",
      "final_KE012_data\\full_set_trimmed\\bfp_plate3a_w3_dots_2020-02-11_17.45.51_iso_Kynan Lawlor_convert.tif\n"
     ]
    },
    {
     "name": "stderr",
     "output_type": "stream",
     "text": [
      "C:\\Users\\kynan.lawlor\\AppData\\Local\\Continuum\\miniconda3\\envs\\imaging\\lib\\site-packages\\skimage\\io\\_io.py:141: UserWarning: final_KE012_data\\full_set_trimmed\\bfp_plate3a_w3_line_2020-02-11_17.46.09_iso_Kynan Lawlor_F_fused.tif is a low contrast image\n",
      "  warn('%s is a low contrast image' % fname)\n",
      "C:\\Users\\kynan.lawlor\\AppData\\Local\\Continuum\\miniconda3\\envs\\imaging\\lib\\site-packages\\skimage\\io\\_io.py:141: UserWarning: final_KE012_data\\full_set_trimmed\\bfp_plate3a_w3_dots_2020-02-11_17.45.51_iso_Kynan Lawlor_convert.tif is a low contrast image\n",
      "  warn('%s is a low contrast image' % fname)\n"
     ]
    },
    {
     "name": "stdout",
     "output_type": "stream",
     "text": [
      "(1024, 1024)\n",
      "plate3a_w3_dots_2020-02-11_17.44.56_iso_Kynan Lawlor_convert.tif\n",
      "(1024, 1024)\n",
      "final_KE012_data\\full_set_trimmed\\bfp_plate3a_w3_dots_2020-02-11_17.44.56_iso_Kynan Lawlor_convert.tif\n"
     ]
    },
    {
     "name": "stderr",
     "output_type": "stream",
     "text": [
      "C:\\Users\\kynan.lawlor\\AppData\\Local\\Continuum\\miniconda3\\envs\\imaging\\lib\\site-packages\\skimage\\io\\_io.py:141: UserWarning: final_KE012_data\\full_set_trimmed\\bfp_plate3a_w3_dots_2020-02-11_17.44.56_iso_Kynan Lawlor_convert.tif is a low contrast image\n",
      "  warn('%s is a low contrast image' % fname)\n"
     ]
    },
    {
     "name": "stdout",
     "output_type": "stream",
     "text": [
      "(4990, 1031)\n",
      "plate3a_w3_line_2020-02-11_17.48.07_iso_Kynan Lawlor_F_fused.tif\n",
      "(4800, 1020)\n",
      "final_KE012_data\\full_set_trimmed\\bfp_plate3a_w3_line_2020-02-11_17.48.07_iso_Kynan Lawlor_F_fused.tif\n"
     ]
    },
    {
     "name": "stderr",
     "output_type": "stream",
     "text": [
      "C:\\Users\\kynan.lawlor\\AppData\\Local\\Continuum\\miniconda3\\envs\\imaging\\lib\\site-packages\\skimage\\io\\_io.py:141: UserWarning: final_KE012_data\\full_set_trimmed\\bfp_plate3a_w3_line_2020-02-11_17.48.07_iso_Kynan Lawlor_F_fused.tif is a low contrast image\n",
      "  warn('%s is a low contrast image' % fname)\n"
     ]
    },
    {
     "name": "stdout",
     "output_type": "stream",
     "text": [
      "(4991, 1032)\n",
      "plate3a_w3_line_2020-02-11_17.47.04_iso_Kynan Lawlor_F_fused.tif\n",
      "(4800, 1020)\n",
      "final_KE012_data\\full_set_trimmed\\bfp_plate3a_w3_line_2020-02-11_17.47.04_iso_Kynan Lawlor_F_fused.tif\n",
      "(1024, 1024)\n",
      "plate3a_w6_dots_2020-02-11_17.59.33_iso_Kynan Lawlor_convert.tif\n",
      "(1024, 1024)\n",
      "final_KE012_data\\full_set_trimmed\\bfp_plate3a_w6_dots_2020-02-11_17.59.33_iso_Kynan Lawlor_convert.tif\n"
     ]
    },
    {
     "name": "stderr",
     "output_type": "stream",
     "text": [
      "C:\\Users\\kynan.lawlor\\AppData\\Local\\Continuum\\miniconda3\\envs\\imaging\\lib\\site-packages\\skimage\\io\\_io.py:141: UserWarning: final_KE012_data\\full_set_trimmed\\bfp_plate3a_w3_line_2020-02-11_17.47.04_iso_Kynan Lawlor_F_fused.tif is a low contrast image\n",
      "  warn('%s is a low contrast image' % fname)\n",
      "C:\\Users\\kynan.lawlor\\AppData\\Local\\Continuum\\miniconda3\\envs\\imaging\\lib\\site-packages\\skimage\\io\\_io.py:141: UserWarning: final_KE012_data\\full_set_trimmed\\bfp_plate3a_w6_dots_2020-02-11_17.59.33_iso_Kynan Lawlor_convert.tif is a low contrast image\n",
      "  warn('%s is a low contrast image' % fname)\n"
     ]
    },
    {
     "name": "stdout",
     "output_type": "stream",
     "text": [
      "(4990, 1030)\n",
      "plate3a_w6_line_2020-02-11_18.01.21_iso_Kynan Lawlor_F_fused.tif\n",
      "(4800, 1020)\n",
      "final_KE012_data\\full_set_trimmed\\bfp_plate3a_w6_line_2020-02-11_18.01.21_iso_Kynan Lawlor_F_fused.tif\n"
     ]
    },
    {
     "name": "stderr",
     "output_type": "stream",
     "text": [
      "C:\\Users\\kynan.lawlor\\AppData\\Local\\Continuum\\miniconda3\\envs\\imaging\\lib\\site-packages\\skimage\\io\\_io.py:141: UserWarning: final_KE012_data\\full_set_trimmed\\bfp_plate3a_w6_line_2020-02-11_18.01.21_iso_Kynan Lawlor_F_fused.tif is a low contrast image\n",
      "  warn('%s is a low contrast image' % fname)\n"
     ]
    },
    {
     "name": "stdout",
     "output_type": "stream",
     "text": [
      "(4989, 1030)\n",
      "plate3a_w6_line_2020-02-11_18.02.03_iso_Kynan Lawlor_F_fused.tif\n",
      "(4800, 1020)\n",
      "final_KE012_data\\full_set_trimmed\\bfp_plate3a_w6_line_2020-02-11_18.02.03_iso_Kynan Lawlor_F_fused.tif\n",
      "(1024, 1024)\n",
      "plate3a_w6_dots_2020-02-11_18.00.29_iso_Kynan Lawlor_convert.tif\n",
      "(1024, 1024)\n",
      "final_KE012_data\\full_set_trimmed\\bfp_plate3a_w6_dots_2020-02-11_18.00.29_iso_Kynan Lawlor_convert.tif\n"
     ]
    },
    {
     "name": "stderr",
     "output_type": "stream",
     "text": [
      "C:\\Users\\kynan.lawlor\\AppData\\Local\\Continuum\\miniconda3\\envs\\imaging\\lib\\site-packages\\skimage\\io\\_io.py:141: UserWarning: final_KE012_data\\full_set_trimmed\\bfp_plate3a_w6_line_2020-02-11_18.02.03_iso_Kynan Lawlor_F_fused.tif is a low contrast image\n",
      "  warn('%s is a low contrast image' % fname)\n",
      "C:\\Users\\kynan.lawlor\\AppData\\Local\\Continuum\\miniconda3\\envs\\imaging\\lib\\site-packages\\skimage\\io\\_io.py:141: UserWarning: final_KE012_data\\full_set_trimmed\\bfp_plate3a_w6_dots_2020-02-11_18.00.29_iso_Kynan Lawlor_convert.tif is a low contrast image\n",
      "  warn('%s is a low contrast image' % fname)\n"
     ]
    },
    {
     "name": "stdout",
     "output_type": "stream",
     "text": [
      "(4989, 1031)\n",
      "plate3a_w6_line_2020-02-11_18.02.46_iso_Kynan Lawlor_F_fused.tif\n",
      "(4800, 1020)\n",
      "final_KE012_data\\full_set_trimmed\\bfp_plate3a_w6_line_2020-02-11_18.02.46_iso_Kynan Lawlor_F_fused.tif\n",
      "(1024, 1024)\n",
      "plate3a_w6_dots_2020-02-11_18.00.12_iso_Kynan Lawlor_convert.tif\n",
      "(1024, 1024)\n",
      "final_KE012_data\\full_set_trimmed\\bfp_plate3a_w6_dots_2020-02-11_18.00.12_iso_Kynan Lawlor_convert.tif\n"
     ]
    },
    {
     "name": "stderr",
     "output_type": "stream",
     "text": [
      "C:\\Users\\kynan.lawlor\\AppData\\Local\\Continuum\\miniconda3\\envs\\imaging\\lib\\site-packages\\skimage\\io\\_io.py:141: UserWarning: final_KE012_data\\full_set_trimmed\\bfp_plate3a_w6_line_2020-02-11_18.02.46_iso_Kynan Lawlor_F_fused.tif is a low contrast image\n",
      "  warn('%s is a low contrast image' % fname)\n",
      "C:\\Users\\kynan.lawlor\\AppData\\Local\\Continuum\\miniconda3\\envs\\imaging\\lib\\site-packages\\skimage\\io\\_io.py:141: UserWarning: final_KE012_data\\full_set_trimmed\\bfp_plate3a_w6_dots_2020-02-11_18.00.12_iso_Kynan Lawlor_convert.tif is a low contrast image\n",
      "  warn('%s is a low contrast image' % fname)\n"
     ]
    },
    {
     "name": "stdout",
     "output_type": "stream",
     "text": [
      "(4992, 1030)\n",
      "plate3a_w2_line_2020-02-11_17.43.36_iso_Kynan Lawlor_F_fused.tif\n",
      "(4800, 1020)\n",
      "final_KE012_data\\full_set_trimmed\\bfp_plate3a_w2_line_2020-02-11_17.43.36_iso_Kynan Lawlor_F_fused.tif\n",
      "(1024, 1024)\n",
      "plate3a_w2_dots_2020-02-11_17.42.40_iso_Kynan Lawlor_convert.tif\n",
      "(1024, 1024)\n",
      "final_KE012_data\\full_set_trimmed\\bfp_plate3a_w2_dots_2020-02-11_17.42.40_iso_Kynan Lawlor_convert.tif\n"
     ]
    },
    {
     "name": "stderr",
     "output_type": "stream",
     "text": [
      "C:\\Users\\kynan.lawlor\\AppData\\Local\\Continuum\\miniconda3\\envs\\imaging\\lib\\site-packages\\skimage\\io\\_io.py:141: UserWarning: final_KE012_data\\full_set_trimmed\\bfp_plate3a_w2_line_2020-02-11_17.43.36_iso_Kynan Lawlor_F_fused.tif is a low contrast image\n",
      "  warn('%s is a low contrast image' % fname)\n",
      "C:\\Users\\kynan.lawlor\\AppData\\Local\\Continuum\\miniconda3\\envs\\imaging\\lib\\site-packages\\skimage\\io\\_io.py:141: UserWarning: final_KE012_data\\full_set_trimmed\\bfp_plate3a_w2_dots_2020-02-11_17.42.40_iso_Kynan Lawlor_convert.tif is a low contrast image\n",
      "  warn('%s is a low contrast image' % fname)\n"
     ]
    },
    {
     "name": "stdout",
     "output_type": "stream",
     "text": [
      "(4992, 1030)\n",
      "plate3a_w2_line_2020-02-11_17.42.57_iso_Kynan Lawlor_F_fused.tif\n",
      "(4800, 1020)\n",
      "final_KE012_data\\full_set_trimmed\\bfp_plate3a_w2_line_2020-02-11_17.42.57_iso_Kynan Lawlor_F_fused.tif\n"
     ]
    },
    {
     "name": "stderr",
     "output_type": "stream",
     "text": [
      "C:\\Users\\kynan.lawlor\\AppData\\Local\\Continuum\\miniconda3\\envs\\imaging\\lib\\site-packages\\skimage\\io\\_io.py:141: UserWarning: final_KE012_data\\full_set_trimmed\\bfp_plate3a_w2_line_2020-02-11_17.42.57_iso_Kynan Lawlor_F_fused.tif is a low contrast image\n",
      "  warn('%s is a low contrast image' % fname)\n"
     ]
    },
    {
     "name": "stdout",
     "output_type": "stream",
     "text": [
      "(4992, 1030)\n",
      "plate3a_w2_line_2020-02-11_17.44.05_iso_Kynan Lawlor_F_fused.tif\n",
      "(4800, 1020)\n",
      "final_KE012_data\\full_set_trimmed\\bfp_plate3a_w2_line_2020-02-11_17.44.05_iso_Kynan Lawlor_F_fused.tif\n",
      "(1024, 1024)\n",
      "plate3a_w2_dots_2020-02-11_17.42.02_iso_Kynan Lawlor_convert.tif\n",
      "(1024, 1024)\n",
      "final_KE012_data\\full_set_trimmed\\bfp_plate3a_w2_dots_2020-02-11_17.42.02_iso_Kynan Lawlor_convert.tif\n"
     ]
    },
    {
     "name": "stderr",
     "output_type": "stream",
     "text": [
      "C:\\Users\\kynan.lawlor\\AppData\\Local\\Continuum\\miniconda3\\envs\\imaging\\lib\\site-packages\\skimage\\io\\_io.py:141: UserWarning: final_KE012_data\\full_set_trimmed\\bfp_plate3a_w2_line_2020-02-11_17.44.05_iso_Kynan Lawlor_F_fused.tif is a low contrast image\n",
      "  warn('%s is a low contrast image' % fname)\n",
      "C:\\Users\\kynan.lawlor\\AppData\\Local\\Continuum\\miniconda3\\envs\\imaging\\lib\\site-packages\\skimage\\io\\_io.py:141: UserWarning: final_KE012_data\\full_set_trimmed\\bfp_plate3a_w2_dots_2020-02-11_17.42.02_iso_Kynan Lawlor_convert.tif is a low contrast image\n",
      "  warn('%s is a low contrast image' % fname)\n"
     ]
    },
    {
     "name": "stdout",
     "output_type": "stream",
     "text": [
      "(1024, 1024)\n",
      "plate3a_w2_dots_2020-02-11_17.41.30_iso_Kynan Lawlor_convert.tif\n",
      "(1024, 1024)\n",
      "final_KE012_data\\full_set_trimmed\\bfp_plate3a_w2_dots_2020-02-11_17.41.30_iso_Kynan Lawlor_convert.tif\n",
      "(1024, 1024)\n",
      "plate3a_w5_dots_2020-02-11_17.54.58_iso_Kynan Lawlor_convert.tif\n",
      "(1024, 1024)\n",
      "final_KE012_data\\full_set_trimmed\\bfp_plate3a_w5_dots_2020-02-11_17.54.58_iso_Kynan Lawlor_convert.tif\n"
     ]
    },
    {
     "name": "stderr",
     "output_type": "stream",
     "text": [
      "C:\\Users\\kynan.lawlor\\AppData\\Local\\Continuum\\miniconda3\\envs\\imaging\\lib\\site-packages\\skimage\\io\\_io.py:141: UserWarning: final_KE012_data\\full_set_trimmed\\bfp_plate3a_w2_dots_2020-02-11_17.41.30_iso_Kynan Lawlor_convert.tif is a low contrast image\n",
      "  warn('%s is a low contrast image' % fname)\n",
      "C:\\Users\\kynan.lawlor\\AppData\\Local\\Continuum\\miniconda3\\envs\\imaging\\lib\\site-packages\\skimage\\io\\_io.py:141: UserWarning: final_KE012_data\\full_set_trimmed\\bfp_plate3a_w5_dots_2020-02-11_17.54.58_iso_Kynan Lawlor_convert.tif is a low contrast image\n",
      "  warn('%s is a low contrast image' % fname)\n",
      "C:\\Users\\kynan.lawlor\\AppData\\Local\\Continuum\\miniconda3\\envs\\imaging\\lib\\site-packages\\skimage\\io\\_io.py:141: UserWarning: final_KE012_data\\full_set_trimmed\\bfp_plate3a_w5_line_2020-02-11_17.55.38_iso_Kynan Lawlor_F_fused.tif is a low contrast image\n",
      "  warn('%s is a low contrast image' % fname)\n"
     ]
    },
    {
     "name": "stdout",
     "output_type": "stream",
     "text": [
      "(4991, 1029)\n",
      "plate3a_w5_line_2020-02-11_17.55.38_iso_Kynan Lawlor_F_fused.tif\n",
      "(4800, 1020)\n",
      "final_KE012_data\\full_set_trimmed\\bfp_plate3a_w5_line_2020-02-11_17.55.38_iso_Kynan Lawlor_F_fused.tif\n",
      "(4991, 1029)\n",
      "plate3a_w5_line_2020-02-11_17.57.01_iso_Kynan Lawlor_F_fused.tif\n",
      "(4800, 1020)\n",
      "final_KE012_data\\full_set_trimmed\\bfp_plate3a_w5_line_2020-02-11_17.57.01_iso_Kynan Lawlor_F_fused.tif\n",
      "(1024, 1024)"
     ]
    },
    {
     "name": "stderr",
     "output_type": "stream",
     "text": [
      "C:\\Users\\kynan.lawlor\\AppData\\Local\\Continuum\\miniconda3\\envs\\imaging\\lib\\site-packages\\skimage\\io\\_io.py:141: UserWarning: final_KE012_data\\full_set_trimmed\\bfp_plate3a_w5_line_2020-02-11_17.57.01_iso_Kynan Lawlor_F_fused.tif is a low contrast image\n",
      "  warn('%s is a low contrast image' % fname)\n",
      "C:\\Users\\kynan.lawlor\\AppData\\Local\\Continuum\\miniconda3\\envs\\imaging\\lib\\site-packages\\skimage\\io\\_io.py:141: UserWarning: final_KE012_data\\full_set_trimmed\\bfp_plate3a_w5_dots_2020-02-11_17.54.07_iso_Kynan Lawlor_convert.tif is a low contrast image\n",
      "  warn('%s is a low contrast image' % fname)\n"
     ]
    },
    {
     "name": "stdout",
     "output_type": "stream",
     "text": [
      "\n",
      "plate3a_w5_dots_2020-02-11_17.54.07_iso_Kynan Lawlor_convert.tif\n",
      "(1024, 1024)\n",
      "final_KE012_data\\full_set_trimmed\\bfp_plate3a_w5_dots_2020-02-11_17.54.07_iso_Kynan Lawlor_convert.tif\n",
      "(4991, 1030)\n",
      "plate3a_w5_line_2020-02-11_17.57.36_iso_Kynan Lawlor_F_fused.tif\n",
      "(4800, 1020)\n",
      "final_KE012_data\\full_set_trimmed\\bfp_plate3a_w5_line_2020-02-11_17.57.36_iso_Kynan Lawlor_F_fused.tif\n",
      "(1024, 1024)\n",
      "plate4b_w1_dots_2020-02-11_10.24.08_iso_Kynan Lawlor_convert_scRNA.tif\n",
      "(1024, 1024)\n",
      "final_KE012_data\\full_set_trimmed\\bfp_plate4b_w1_dots_2020-02-11_10.24.08_iso_Kynan Lawlor_convert_scRNA.tif\n"
     ]
    },
    {
     "name": "stderr",
     "output_type": "stream",
     "text": [
      "C:\\Users\\kynan.lawlor\\AppData\\Local\\Continuum\\miniconda3\\envs\\imaging\\lib\\site-packages\\skimage\\io\\_io.py:141: UserWarning: final_KE012_data\\full_set_trimmed\\bfp_plate3a_w5_line_2020-02-11_17.57.36_iso_Kynan Lawlor_F_fused.tif is a low contrast image\n",
      "  warn('%s is a low contrast image' % fname)\n",
      "C:\\Users\\kynan.lawlor\\AppData\\Local\\Continuum\\miniconda3\\envs\\imaging\\lib\\site-packages\\skimage\\io\\_io.py:141: UserWarning: final_KE012_data\\full_set_trimmed\\bfp_plate4b_w1_dots_2020-02-11_10.24.08_iso_Kynan Lawlor_convert_scRNA.tif is a low contrast image\n",
      "  warn('%s is a low contrast image' % fname)\n"
     ]
    },
    {
     "name": "stdout",
     "output_type": "stream",
     "text": [
      "(4992, 1028)\n",
      "plate4b_w1_line_2020-02-11_10.24.32_iso_Kynan Lawlor_F_fused_scRNA.tif\n",
      "(4800, 1020)\n",
      "final_KE012_data\\full_set_trimmed\\bfp_plate4b_w1_line_2020-02-11_10.24.32_iso_Kynan Lawlor_F_fused_scRNA.tif\n"
     ]
    },
    {
     "name": "stderr",
     "output_type": "stream",
     "text": [
      "C:\\Users\\kynan.lawlor\\AppData\\Local\\Continuum\\miniconda3\\envs\\imaging\\lib\\site-packages\\skimage\\io\\_io.py:141: UserWarning: final_KE012_data\\full_set_trimmed\\bfp_plate4b_w1_line_2020-02-11_10.24.32_iso_Kynan Lawlor_F_fused_scRNA.tif is a low contrast image\n",
      "  warn('%s is a low contrast image' % fname)\n"
     ]
    },
    {
     "name": "stdout",
     "output_type": "stream",
     "text": [
      "(4989, 1028)\n",
      "plate4b_w4_line_2020-02-11_18.54.02_iso_Kynan Lawlor_F_fused.tif\n",
      "(4800, 1020)\n",
      "final_KE012_data\\full_set_trimmed\\bfp_plate4b_w4_line_2020-02-11_18.54.02_iso_Kynan Lawlor_F_fused.tif\n",
      "(1024, 1024)\n",
      "plate4b_w4_dots_2020-02-11_18.51.19_iso_Kynan Lawlor_convert.tif\n",
      "(1024, 1024)\n",
      "final_KE012_data\\full_set_trimmed\\bfp_plate4b_w4_dots_2020-02-11_18.51.19_iso_Kynan Lawlor_convert.tif\n"
     ]
    },
    {
     "name": "stderr",
     "output_type": "stream",
     "text": [
      "C:\\Users\\kynan.lawlor\\AppData\\Local\\Continuum\\miniconda3\\envs\\imaging\\lib\\site-packages\\skimage\\io\\_io.py:141: UserWarning: final_KE012_data\\full_set_trimmed\\bfp_plate4b_w4_line_2020-02-11_18.54.02_iso_Kynan Lawlor_F_fused.tif is a low contrast image\n",
      "  warn('%s is a low contrast image' % fname)\n",
      "C:\\Users\\kynan.lawlor\\AppData\\Local\\Continuum\\miniconda3\\envs\\imaging\\lib\\site-packages\\skimage\\io\\_io.py:141: UserWarning: final_KE012_data\\full_set_trimmed\\bfp_plate4b_w4_dots_2020-02-11_18.51.19_iso_Kynan Lawlor_convert.tif is a low contrast image\n",
      "  warn('%s is a low contrast image' % fname)\n"
     ]
    },
    {
     "name": "stdout",
     "output_type": "stream",
     "text": [
      "(1024, 1024)\n",
      "plate4b_w4_dots_2020-02-11_18.52.26_iso_Kynan Lawlor_convert.tif\n",
      "(1024, 1024)\n",
      "final_KE012_data\\full_set_trimmed\\bfp_plate4b_w4_dots_2020-02-11_18.52.26_iso_Kynan Lawlor_convert.tif\n"
     ]
    },
    {
     "name": "stderr",
     "output_type": "stream",
     "text": [
      "C:\\Users\\kynan.lawlor\\AppData\\Local\\Continuum\\miniconda3\\envs\\imaging\\lib\\site-packages\\skimage\\io\\_io.py:141: UserWarning: final_KE012_data\\full_set_trimmed\\bfp_plate4b_w4_dots_2020-02-11_18.52.26_iso_Kynan Lawlor_convert.tif is a low contrast image\n",
      "  warn('%s is a low contrast image' % fname)\n"
     ]
    },
    {
     "name": "stdout",
     "output_type": "stream",
     "text": [
      "(4991, 1028)\n",
      "plate4b_w4_line_2020-02-11_18.53.18_iso_Kynan Lawlor_F_fused.tif\n",
      "(4800, 1020)\n",
      "final_KE012_data\\full_set_trimmed\\bfp_plate4b_w4_line_2020-02-11_18.53.18_iso_Kynan Lawlor_F_fused.tif\n",
      "(1024, 1024)\n",
      "plate4b_w4_dots_2020-02-11_18.52.15_iso_Kynan Lawlor_convert.tif\n",
      "(1024, 1024)\n",
      "final_KE012_data\\full_set_trimmed\\bfp_plate4b_w4_dots_2020-02-11_18.52.15_iso_Kynan Lawlor_convert.tif\n"
     ]
    },
    {
     "name": "stderr",
     "output_type": "stream",
     "text": [
      "C:\\Users\\kynan.lawlor\\AppData\\Local\\Continuum\\miniconda3\\envs\\imaging\\lib\\site-packages\\skimage\\io\\_io.py:141: UserWarning: final_KE012_data\\full_set_trimmed\\bfp_plate4b_w4_line_2020-02-11_18.53.18_iso_Kynan Lawlor_F_fused.tif is a low contrast image\n",
      "  warn('%s is a low contrast image' % fname)\n",
      "C:\\Users\\kynan.lawlor\\AppData\\Local\\Continuum\\miniconda3\\envs\\imaging\\lib\\site-packages\\skimage\\io\\_io.py:141: UserWarning: final_KE012_data\\full_set_trimmed\\bfp_plate4b_w4_dots_2020-02-11_18.52.15_iso_Kynan Lawlor_convert.tif is a low contrast image\n",
      "  warn('%s is a low contrast image' % fname)\n"
     ]
    },
    {
     "name": "stdout",
     "output_type": "stream",
     "text": [
      "(4992, 1028)\n",
      "plate4b_w4_line_2020-02-11_18.52.43_iso_Kynan Lawlor_F_fused.tif\n",
      "(4800, 1020)\n",
      "final_KE012_data\\full_set_trimmed\\bfp_plate4b_w4_line_2020-02-11_18.52.43_iso_Kynan Lawlor_F_fused.tif\n",
      "(1024, 1024)\n",
      "plate4b_w3_dots_2020-02-11_10.25.58_iso_Kynan Lawlor_convert_scRNA.tif\n",
      "(1024, 1024)\n",
      "final_KE012_data\\full_set_trimmed\\bfp_plate4b_w3_dots_2020-02-11_10.25.58_iso_Kynan Lawlor_convert_scRNA.tif\n"
     ]
    },
    {
     "name": "stderr",
     "output_type": "stream",
     "text": [
      "C:\\Users\\kynan.lawlor\\AppData\\Local\\Continuum\\miniconda3\\envs\\imaging\\lib\\site-packages\\skimage\\io\\_io.py:141: UserWarning: final_KE012_data\\full_set_trimmed\\bfp_plate4b_w4_line_2020-02-11_18.52.43_iso_Kynan Lawlor_F_fused.tif is a low contrast image\n",
      "  warn('%s is a low contrast image' % fname)\n",
      "C:\\Users\\kynan.lawlor\\AppData\\Local\\Continuum\\miniconda3\\envs\\imaging\\lib\\site-packages\\skimage\\io\\_io.py:141: UserWarning: final_KE012_data\\full_set_trimmed\\bfp_plate4b_w3_dots_2020-02-11_10.25.58_iso_Kynan Lawlor_convert_scRNA.tif is a low contrast image\n",
      "  warn('%s is a low contrast image' % fname)\n"
     ]
    },
    {
     "name": "stdout",
     "output_type": "stream",
     "text": [
      "(4992, 1031)\n",
      "plate4b_w3_line_2020-02-11_10.26.20_iso_Kynan Lawlor_F_fused_scRNA.tif\n",
      "(4800, 1020)\n",
      "final_KE012_data\\full_set_trimmed\\bfp_plate4b_w3_line_2020-02-11_10.26.20_iso_Kynan Lawlor_F_fused_scRNA.tif\n"
     ]
    },
    {
     "name": "stderr",
     "output_type": "stream",
     "text": [
      "C:\\Users\\kynan.lawlor\\AppData\\Local\\Continuum\\miniconda3\\envs\\imaging\\lib\\site-packages\\skimage\\io\\_io.py:141: UserWarning: final_KE012_data\\full_set_trimmed\\bfp_plate4b_w3_line_2020-02-11_10.26.20_iso_Kynan Lawlor_F_fused_scRNA.tif is a low contrast image\n",
      "  warn('%s is a low contrast image' % fname)\n"
     ]
    },
    {
     "name": "stdout",
     "output_type": "stream",
     "text": [
      "(4992, 1029)\n",
      "plate4b_w2_line_2020-02-11_10.25.23_iso_Kynan Lawlor_F_fused_scRNA.tif\n",
      "(4800, 1020)\n",
      "final_KE012_data\\full_set_trimmed\\bfp_plate4b_w2_line_2020-02-11_10.25.23_iso_Kynan Lawlor_F_fused_scRNA.tif\n",
      "(1024, 1024)\n",
      "plate4b_w2_dots_2020-02-11_10.25.08_iso_Kynan Lawlor_convert_scRNA.tif\n",
      "(1024, 1024)\n",
      "final_KE012_data\\full_set_trimmed\\bfp_plate4b_w2_dots_2020-02-11_10.25.08_iso_Kynan Lawlor_convert_scRNA.tif\n"
     ]
    },
    {
     "name": "stderr",
     "output_type": "stream",
     "text": [
      "C:\\Users\\kynan.lawlor\\AppData\\Local\\Continuum\\miniconda3\\envs\\imaging\\lib\\site-packages\\skimage\\io\\_io.py:141: UserWarning: final_KE012_data\\full_set_trimmed\\bfp_plate4b_w2_line_2020-02-11_10.25.23_iso_Kynan Lawlor_F_fused_scRNA.tif is a low contrast image\n",
      "  warn('%s is a low contrast image' % fname)\n",
      "C:\\Users\\kynan.lawlor\\AppData\\Local\\Continuum\\miniconda3\\envs\\imaging\\lib\\site-packages\\skimage\\io\\_io.py:141: UserWarning: final_KE012_data\\full_set_trimmed\\bfp_plate4b_w2_dots_2020-02-11_10.25.08_iso_Kynan Lawlor_convert_scRNA.tif is a low contrast image\n",
      "  warn('%s is a low contrast image' % fname)\n"
     ]
    },
    {
     "name": "stdout",
     "output_type": "stream",
     "text": [
      "(4991, 1028)\n",
      "plate4b_w5_line_2020-02-11_18.59.01_iso_Kynan Lawlor_F_fused.tif\n",
      "(4800, 1020)\n",
      "final_KE012_data\\full_set_trimmed\\bfp_plate4b_w5_line_2020-02-11_18.59.01_iso_Kynan Lawlor_F_fused.tif\n"
     ]
    },
    {
     "name": "stderr",
     "output_type": "stream",
     "text": [
      "C:\\Users\\kynan.lawlor\\AppData\\Local\\Continuum\\miniconda3\\envs\\imaging\\lib\\site-packages\\skimage\\io\\_io.py:141: UserWarning: final_KE012_data\\full_set_trimmed\\bfp_plate4b_w5_line_2020-02-11_18.59.01_iso_Kynan Lawlor_F_fused.tif is a low contrast image\n",
      "  warn('%s is a low contrast image' % fname)\n"
     ]
    },
    {
     "name": "stdout",
     "output_type": "stream",
     "text": [
      "(4990, 1029)\n",
      "plate4b_w5_line_2020-02-11_19.00.01_iso_Kynan Lawlor_F_fused.tif\n",
      "(4800, 1020)\n",
      "final_KE012_data\\full_set_trimmed\\bfp_plate4b_w5_line_2020-02-11_19.00.01_iso_Kynan Lawlor_F_fused.tif\n",
      "(1024, 1024)\n",
      "plate4b_w5_dots_2020-02-11_18.55.34_iso_Kynan Lawlor_convert.tif\n",
      "(1024, 1024)\n",
      "final_KE012_data\\full_set_trimmed\\bfp_plate4b_w5_dots_2020-02-11_18.55.34_iso_Kynan Lawlor_convert.tif\n"
     ]
    },
    {
     "name": "stderr",
     "output_type": "stream",
     "text": [
      "C:\\Users\\kynan.lawlor\\AppData\\Local\\Continuum\\miniconda3\\envs\\imaging\\lib\\site-packages\\skimage\\io\\_io.py:141: UserWarning: final_KE012_data\\full_set_trimmed\\bfp_plate4b_w5_line_2020-02-11_19.00.01_iso_Kynan Lawlor_F_fused.tif is a low contrast image\n",
      "  warn('%s is a low contrast image' % fname)\n",
      "C:\\Users\\kynan.lawlor\\AppData\\Local\\Continuum\\miniconda3\\envs\\imaging\\lib\\site-packages\\skimage\\io\\_io.py:141: UserWarning: final_KE012_data\\full_set_trimmed\\bfp_plate4b_w5_dots_2020-02-11_18.55.34_iso_Kynan Lawlor_convert.tif is a low contrast image\n",
      "  warn('%s is a low contrast image' % fname)\n"
     ]
    },
    {
     "name": "stdout",
     "output_type": "stream",
     "text": [
      "(1024, 1024)\n",
      "plate4b_w5_dots_2020-02-11_18.55.58_iso_Kynan Lawlor_convert.tif\n",
      "(1024, 1024)\n",
      "final_KE012_data\\full_set_trimmed\\bfp_plate4b_w5_dots_2020-02-11_18.55.58_iso_Kynan Lawlor_convert.tif\n",
      "(1024, 1024)\n",
      "plate4b_w5_dots_2020-02-11_18.56.37_iso_Kynan Lawlor_convert.tif\n",
      "(1024, 1024)\n",
      "final_KE012_data\\full_set_trimmed\\bfp_plate4b_w5_dots_2020-02-11_18.56.37_iso_Kynan Lawlor_convert.tif\n"
     ]
    },
    {
     "name": "stderr",
     "output_type": "stream",
     "text": [
      "C:\\Users\\kynan.lawlor\\AppData\\Local\\Continuum\\miniconda3\\envs\\imaging\\lib\\site-packages\\skimage\\io\\_io.py:141: UserWarning: final_KE012_data\\full_set_trimmed\\bfp_plate4b_w5_dots_2020-02-11_18.55.58_iso_Kynan Lawlor_convert.tif is a low contrast image\n",
      "  warn('%s is a low contrast image' % fname)\n",
      "C:\\Users\\kynan.lawlor\\AppData\\Local\\Continuum\\miniconda3\\envs\\imaging\\lib\\site-packages\\skimage\\io\\_io.py:141: UserWarning: final_KE012_data\\full_set_trimmed\\bfp_plate4b_w5_dots_2020-02-11_18.56.37_iso_Kynan Lawlor_convert.tif is a low contrast image\n",
      "  warn('%s is a low contrast image' % fname)\n"
     ]
    },
    {
     "name": "stdout",
     "output_type": "stream",
     "text": [
      "(4991, 1028)\n",
      "plate4b_w5_line_2020-02-11_18.57.55_iso_Kynan Lawlor_F_fused.tif\n",
      "(4800, 1020)\n",
      "final_KE012_data\\full_set_trimmed\\bfp_plate4b_w5_line_2020-02-11_18.57.55_iso_Kynan Lawlor_F_fused.tif\n",
      "(1024, 1024)"
     ]
    },
    {
     "name": "stderr",
     "output_type": "stream",
     "text": [
      "C:\\Users\\kynan.lawlor\\AppData\\Local\\Continuum\\miniconda3\\envs\\imaging\\lib\\site-packages\\skimage\\io\\_io.py:141: UserWarning: final_KE012_data\\full_set_trimmed\\bfp_plate4b_w5_line_2020-02-11_18.57.55_iso_Kynan Lawlor_F_fused.tif is a low contrast image\n",
      "  warn('%s is a low contrast image' % fname)\n",
      "C:\\Users\\kynan.lawlor\\AppData\\Local\\Continuum\\miniconda3\\envs\\imaging\\lib\\site-packages\\skimage\\io\\_io.py:141: UserWarning: final_KE012_data\\full_set_trimmed\\bfp_plate3b_w1_dots_2020-02-11_10.11.13_iso_Kynan Lawlor_convert_scRNA.tif is a low contrast image\n",
      "  warn('%s is a low contrast image' % fname)\n"
     ]
    },
    {
     "name": "stdout",
     "output_type": "stream",
     "text": [
      "\n",
      "plate3b_w1_dots_2020-02-11_10.11.13_iso_Kynan Lawlor_convert_scRNA.tif\n",
      "(1024, 1024)\n",
      "final_KE012_data\\full_set_trimmed\\bfp_plate3b_w1_dots_2020-02-11_10.11.13_iso_Kynan Lawlor_convert_scRNA.tif\n",
      "(4991, 1028)\n",
      "plate3b_w1_line_2020-02-11_10.11.40_iso_Kynan Lawlor_F_fused_scRNA.tif\n",
      "(4800, 1020)\n",
      "final_KE012_data\\full_set_trimmed\\bfp_plate3b_w1_line_2020-02-11_10.11.40_iso_Kynan Lawlor_F_fused_scRNA.tif\n",
      "(1024, 1024)\n",
      "plate3b_w4_dots_2020-02-11_18.05.02_iso_Kynan Lawlor_convert.tif\n",
      "(1024, 1024)\n",
      "final_KE012_data\\full_set_trimmed\\bfp_plate3b_w4_dots_2020-02-11_18.05.02_iso_Kynan Lawlor_convert.tif\n"
     ]
    },
    {
     "name": "stderr",
     "output_type": "stream",
     "text": [
      "C:\\Users\\kynan.lawlor\\AppData\\Local\\Continuum\\miniconda3\\envs\\imaging\\lib\\site-packages\\skimage\\io\\_io.py:141: UserWarning: final_KE012_data\\full_set_trimmed\\bfp_plate3b_w1_line_2020-02-11_10.11.40_iso_Kynan Lawlor_F_fused_scRNA.tif is a low contrast image\n",
      "  warn('%s is a low contrast image' % fname)\n",
      "C:\\Users\\kynan.lawlor\\AppData\\Local\\Continuum\\miniconda3\\envs\\imaging\\lib\\site-packages\\skimage\\io\\_io.py:141: UserWarning: final_KE012_data\\full_set_trimmed\\bfp_plate3b_w4_dots_2020-02-11_18.05.02_iso_Kynan Lawlor_convert.tif is a low contrast image\n",
      "  warn('%s is a low contrast image' % fname)\n"
     ]
    },
    {
     "name": "stdout",
     "output_type": "stream",
     "text": [
      "(4988, 1028)\n",
      "plate3b_w4_line_2020-02-11_18.06.42_iso_Kynan Lawlor_F_fused.tif\n",
      "(4800, 1020)\n",
      "final_KE012_data\\full_set_trimmed\\bfp_plate3b_w4_line_2020-02-11_18.06.42_iso_Kynan Lawlor_F_fused.tif\n"
     ]
    },
    {
     "name": "stderr",
     "output_type": "stream",
     "text": [
      "C:\\Users\\kynan.lawlor\\AppData\\Local\\Continuum\\miniconda3\\envs\\imaging\\lib\\site-packages\\skimage\\io\\_io.py:141: UserWarning: final_KE012_data\\full_set_trimmed\\bfp_plate3b_w4_line_2020-02-11_18.06.42_iso_Kynan Lawlor_F_fused.tif is a low contrast image\n",
      "  warn('%s is a low contrast image' % fname)\n"
     ]
    },
    {
     "name": "stdout",
     "output_type": "stream",
     "text": [
      "(1024, 1024)\n",
      "plate3b_w4_dots_2020-02-11_18.06.15_iso_Kynan Lawlor_convert.tif\n",
      "(1024, 1024)\n",
      "final_KE012_data\\full_set_trimmed\\bfp_plate3b_w4_dots_2020-02-11_18.06.15_iso_Kynan Lawlor_convert.tif\n"
     ]
    },
    {
     "name": "stderr",
     "output_type": "stream",
     "text": [
      "C:\\Users\\kynan.lawlor\\AppData\\Local\\Continuum\\miniconda3\\envs\\imaging\\lib\\site-packages\\skimage\\io\\_io.py:141: UserWarning: final_KE012_data\\full_set_trimmed\\bfp_plate3b_w4_dots_2020-02-11_18.06.15_iso_Kynan Lawlor_convert.tif is a low contrast image\n",
      "  warn('%s is a low contrast image' % fname)\n"
     ]
    },
    {
     "name": "stdout",
     "output_type": "stream",
     "text": [
      "(4992, 1028)\n",
      "plate3b_w4_line_2020-02-11_18.08.40_iso_Kynan Lawlor_F_fused.tif\n",
      "(4800, 1020)\n",
      "final_KE012_data\\full_set_trimmed\\bfp_plate3b_w4_line_2020-02-11_18.08.40_iso_Kynan Lawlor_F_fused.tif\n"
     ]
    },
    {
     "name": "stderr",
     "output_type": "stream",
     "text": [
      "C:\\Users\\kynan.lawlor\\AppData\\Local\\Continuum\\miniconda3\\envs\\imaging\\lib\\site-packages\\skimage\\io\\_io.py:141: UserWarning: final_KE012_data\\full_set_trimmed\\bfp_plate3b_w4_line_2020-02-11_18.08.40_iso_Kynan Lawlor_F_fused.tif is a low contrast image\n",
      "  warn('%s is a low contrast image' % fname)\n"
     ]
    },
    {
     "name": "stdout",
     "output_type": "stream",
     "text": [
      "(4992, 1028)\n",
      "plate3b_w4_line_2020-02-11_18.07.12_iso_Kynan Lawlor_F_fused.tif\n",
      "(4800, 1020)\n",
      "final_KE012_data\\full_set_trimmed\\bfp_plate3b_w4_line_2020-02-11_18.07.12_iso_Kynan Lawlor_F_fused.tif\n"
     ]
    },
    {
     "name": "stderr",
     "output_type": "stream",
     "text": [
      "C:\\Users\\kynan.lawlor\\AppData\\Local\\Continuum\\miniconda3\\envs\\imaging\\lib\\site-packages\\skimage\\io\\_io.py:141: UserWarning: final_KE012_data\\full_set_trimmed\\bfp_plate3b_w4_line_2020-02-11_18.07.12_iso_Kynan Lawlor_F_fused.tif is a low contrast image\n",
      "  warn('%s is a low contrast image' % fname)\n",
      "C:\\Users\\kynan.lawlor\\AppData\\Local\\Continuum\\miniconda3\\envs\\imaging\\lib\\site-packages\\skimage\\io\\_io.py:141: UserWarning: final_KE012_data\\full_set_trimmed\\bfp_plate3b_w4_dots_2020-02-11_18.06.26_iso_Kynan Lawlor_convert.tif is a low contrast image\n",
      "  warn('%s is a low contrast image' % fname)\n"
     ]
    },
    {
     "name": "stdout",
     "output_type": "stream",
     "text": [
      "(1024, 1024)\n",
      "plate3b_w4_dots_2020-02-11_18.06.26_iso_Kynan Lawlor_convert.tif\n",
      "(1024, 1024)\n",
      "final_KE012_data\\full_set_trimmed\\bfp_plate3b_w4_dots_2020-02-11_18.06.26_iso_Kynan Lawlor_convert.tif\n",
      "(1024, 1024)\n",
      "plate3b_w3_dots_2020-02-11_10.13.29_iso_Kynan Lawlor_convert_scRNA.tif\n",
      "(1024, 1024)\n",
      "final_KE012_data\\full_set_trimmed\\bfp_plate3b_w3_dots_2020-02-11_10.13.29_iso_Kynan Lawlor_convert_scRNA.tif\n"
     ]
    },
    {
     "name": "stderr",
     "output_type": "stream",
     "text": [
      "C:\\Users\\kynan.lawlor\\AppData\\Local\\Continuum\\miniconda3\\envs\\imaging\\lib\\site-packages\\skimage\\io\\_io.py:141: UserWarning: final_KE012_data\\full_set_trimmed\\bfp_plate3b_w3_dots_2020-02-11_10.13.29_iso_Kynan Lawlor_convert_scRNA.tif is a low contrast image\n",
      "  warn('%s is a low contrast image' % fname)\n"
     ]
    },
    {
     "name": "stdout",
     "output_type": "stream",
     "text": [
      "(4992, 1032)\n",
      "plate3b_w3_line_2020-02-11_10.13.47_iso_Kynan Lawlor_F_fused_scRNA.tif\n",
      "(4800, 1020)\n",
      "final_KE012_data\\full_set_trimmed\\bfp_plate3b_w3_line_2020-02-11_10.13.47_iso_Kynan Lawlor_F_fused_scRNA.tif\n"
     ]
    },
    {
     "name": "stderr",
     "output_type": "stream",
     "text": [
      "C:\\Users\\kynan.lawlor\\AppData\\Local\\Continuum\\miniconda3\\envs\\imaging\\lib\\site-packages\\skimage\\io\\_io.py:141: UserWarning: final_KE012_data\\full_set_trimmed\\bfp_plate3b_w3_line_2020-02-11_10.13.47_iso_Kynan Lawlor_F_fused_scRNA.tif is a low contrast image\n",
      "  warn('%s is a low contrast image' % fname)\n"
     ]
    },
    {
     "name": "stdout",
     "output_type": "stream",
     "text": [
      "(4992, 1030)\n",
      "plate3b_w6_line_2020-02-11_18.21.17_iso_Kynan Lawlor_F_fused.tif\n",
      "(4800, 1020)\n",
      "final_KE012_data\\full_set_trimmed\\bfp_plate3b_w6_line_2020-02-11_18.21.17_iso_Kynan Lawlor_F_fused.tif\n"
     ]
    },
    {
     "name": "stderr",
     "output_type": "stream",
     "text": [
      "C:\\Users\\kynan.lawlor\\AppData\\Local\\Continuum\\miniconda3\\envs\\imaging\\lib\\site-packages\\skimage\\io\\_io.py:141: UserWarning: final_KE012_data\\full_set_trimmed\\bfp_plate3b_w6_line_2020-02-11_18.21.17_iso_Kynan Lawlor_F_fused.tif is a low contrast image\n",
      "  warn('%s is a low contrast image' % fname)\n"
     ]
    },
    {
     "name": "stdout",
     "output_type": "stream",
     "text": [
      "(1024, 1024)\n",
      "plate3b_w6_dots_2020-02-11_18.18.55_iso_Kynan Lawlor_convert.tif\n",
      "(1024, 1024)\n",
      "final_KE012_data\\full_set_trimmed\\bfp_plate3b_w6_dots_2020-02-11_18.18.55_iso_Kynan Lawlor_convert.tif\n"
     ]
    },
    {
     "name": "stderr",
     "output_type": "stream",
     "text": [
      "C:\\Users\\kynan.lawlor\\AppData\\Local\\Continuum\\miniconda3\\envs\\imaging\\lib\\site-packages\\skimage\\io\\_io.py:141: UserWarning: final_KE012_data\\full_set_trimmed\\bfp_plate3b_w6_dots_2020-02-11_18.18.55_iso_Kynan Lawlor_convert.tif is a low contrast image\n",
      "  warn('%s is a low contrast image' % fname)\n"
     ]
    },
    {
     "name": "stdout",
     "output_type": "stream",
     "text": [
      "(4992, 1030)\n",
      "plate3b_w6_line_2020-02-11_18.22.16_iso_Kynan Lawlor_F_fused.tif\n",
      "(4800, 1020)\n",
      "final_KE012_data\\full_set_trimmed\\bfp_plate3b_w6_line_2020-02-11_18.22.16_iso_Kynan Lawlor_F_fused.tif\n",
      "(1024, 1024)\n",
      "plate3b_w6_dots_2020-02-11_18.18.41_iso_Kynan Lawlor_convert.tif\n",
      "(1024, 1024)\n",
      "final_KE012_data\\full_set_trimmed\\bfp_plate3b_w6_dots_2020-02-11_18.18.41_iso_Kynan Lawlor_convert.tif\n"
     ]
    },
    {
     "name": "stderr",
     "output_type": "stream",
     "text": [
      "C:\\Users\\kynan.lawlor\\AppData\\Local\\Continuum\\miniconda3\\envs\\imaging\\lib\\site-packages\\skimage\\io\\_io.py:141: UserWarning: final_KE012_data\\full_set_trimmed\\bfp_plate3b_w6_line_2020-02-11_18.22.16_iso_Kynan Lawlor_F_fused.tif is a low contrast image\n",
      "  warn('%s is a low contrast image' % fname)\n",
      "C:\\Users\\kynan.lawlor\\AppData\\Local\\Continuum\\miniconda3\\envs\\imaging\\lib\\site-packages\\skimage\\io\\_io.py:141: UserWarning: final_KE012_data\\full_set_trimmed\\bfp_plate3b_w6_dots_2020-02-11_18.18.41_iso_Kynan Lawlor_convert.tif is a low contrast image\n",
      "  warn('%s is a low contrast image' % fname)\n"
     ]
    },
    {
     "name": "stdout",
     "output_type": "stream",
     "text": [
      "(1024, 1024)\n",
      "plate3b_w6_dots_2020-02-11_18.19.09_iso_Kynan Lawlor_convert.tif\n",
      "(1024, 1024)\n",
      "final_KE012_data\\full_set_trimmed\\bfp_plate3b_w6_dots_2020-02-11_18.19.09_iso_Kynan Lawlor_convert.tif\n"
     ]
    },
    {
     "name": "stderr",
     "output_type": "stream",
     "text": [
      "C:\\Users\\kynan.lawlor\\AppData\\Local\\Continuum\\miniconda3\\envs\\imaging\\lib\\site-packages\\skimage\\io\\_io.py:141: UserWarning: final_KE012_data\\full_set_trimmed\\bfp_plate3b_w6_dots_2020-02-11_18.19.09_iso_Kynan Lawlor_convert.tif is a low contrast image\n",
      "  warn('%s is a low contrast image' % fname)\n"
     ]
    },
    {
     "name": "stdout",
     "output_type": "stream",
     "text": [
      "(4992, 1030)\n",
      "plate3b_w6_line_2020-02-11_18.19.54_iso_Kynan Lawlor_F_fused.tif\n",
      "(4800, 1020)\n",
      "final_KE012_data\\full_set_trimmed\\bfp_plate3b_w6_line_2020-02-11_18.19.54_iso_Kynan Lawlor_F_fused.tif\n"
     ]
    },
    {
     "name": "stderr",
     "output_type": "stream",
     "text": [
      "C:\\Users\\kynan.lawlor\\AppData\\Local\\Continuum\\miniconda3\\envs\\imaging\\lib\\site-packages\\skimage\\io\\_io.py:141: UserWarning: final_KE012_data\\full_set_trimmed\\bfp_plate3b_w6_line_2020-02-11_18.19.54_iso_Kynan Lawlor_F_fused.tif is a low contrast image\n",
      "  warn('%s is a low contrast image' % fname)\n"
     ]
    },
    {
     "name": "stdout",
     "output_type": "stream",
     "text": [
      "(4992, 1031)\n",
      "plate3b_w2_line_2020-02-11_10.12.44_iso_Kynan Lawlor_F_fused_scRNA.tif\n",
      "(4800, 1020)\n",
      "final_KE012_data\\full_set_trimmed\\bfp_plate3b_w2_line_2020-02-11_10.12.44_iso_Kynan Lawlor_F_fused_scRNA.tif\n"
     ]
    },
    {
     "name": "stderr",
     "output_type": "stream",
     "text": [
      "C:\\Users\\kynan.lawlor\\AppData\\Local\\Continuum\\miniconda3\\envs\\imaging\\lib\\site-packages\\skimage\\io\\_io.py:141: UserWarning: final_KE012_data\\full_set_trimmed\\bfp_plate3b_w2_line_2020-02-11_10.12.44_iso_Kynan Lawlor_F_fused_scRNA.tif is a low contrast image\n",
      "  warn('%s is a low contrast image' % fname)\n",
      "C:\\Users\\kynan.lawlor\\AppData\\Local\\Continuum\\miniconda3\\envs\\imaging\\lib\\site-packages\\skimage\\io\\_io.py:141: UserWarning: final_KE012_data\\full_set_trimmed\\bfp_plate3b_w2_dots_2020-02-11_10.12.22_iso_Kynan Lawlor_convert_scRNA.tif is a low contrast image\n",
      "  warn('%s is a low contrast image' % fname)\n"
     ]
    },
    {
     "name": "stdout",
     "output_type": "stream",
     "text": [
      "(1024, 1024)\n",
      "plate3b_w2_dots_2020-02-11_10.12.22_iso_Kynan Lawlor_convert_scRNA.tif\n",
      "(1024, 1024)\n",
      "final_KE012_data\\full_set_trimmed\\bfp_plate3b_w2_dots_2020-02-11_10.12.22_iso_Kynan Lawlor_convert_scRNA.tif\n",
      "(1024, 1024)\n",
      "plate3b_w5_dots_2020-02-11_18.10.18_iso_Kynan Lawlor_convert.tif\n",
      "(1024, 1024)\n",
      "final_KE012_data\\full_set_trimmed\\bfp_plate3b_w5_dots_2020-02-11_18.10.18_iso_Kynan Lawlor_convert.tif\n",
      "(1024, 1024)\n",
      "plate3b_w5_dots_2020-02-11_18.11.24_iso_Kynan Lawlor_convert.tif\n",
      "(1024, 1024)\n",
      "final_KE012_data\\full_set_trimmed\\bfp_plate3b_w5_dots_2020-02-11_18.11.24_iso_Kynan Lawlor_convert.tif\n"
     ]
    },
    {
     "name": "stderr",
     "output_type": "stream",
     "text": [
      "C:\\Users\\kynan.lawlor\\AppData\\Local\\Continuum\\miniconda3\\envs\\imaging\\lib\\site-packages\\skimage\\io\\_io.py:141: UserWarning: final_KE012_data\\full_set_trimmed\\bfp_plate3b_w5_dots_2020-02-11_18.10.18_iso_Kynan Lawlor_convert.tif is a low contrast image\n",
      "  warn('%s is a low contrast image' % fname)\n",
      "C:\\Users\\kynan.lawlor\\AppData\\Local\\Continuum\\miniconda3\\envs\\imaging\\lib\\site-packages\\skimage\\io\\_io.py:141: UserWarning: final_KE012_data\\full_set_trimmed\\bfp_plate3b_w5_dots_2020-02-11_18.11.24_iso_Kynan Lawlor_convert.tif is a low contrast image\n",
      "  warn('%s is a low contrast image' % fname)\n"
     ]
    },
    {
     "name": "stdout",
     "output_type": "stream",
     "text": [
      "(4991, 1028)\n",
      "plate3b_w5_line_2020-02-11_18.13.48_iso_Kynan Lawlor_F_fused.tif\n",
      "(4800, 1020)\n",
      "final_KE012_data\\full_set_trimmed\\bfp_plate3b_w5_line_2020-02-11_18.13.48_iso_Kynan Lawlor_F_fused.tif\n"
     ]
    },
    {
     "name": "stderr",
     "output_type": "stream",
     "text": [
      "C:\\Users\\kynan.lawlor\\AppData\\Local\\Continuum\\miniconda3\\envs\\imaging\\lib\\site-packages\\skimage\\io\\_io.py:141: UserWarning: final_KE012_data\\full_set_trimmed\\bfp_plate3b_w5_line_2020-02-11_18.13.48_iso_Kynan Lawlor_F_fused.tif is a low contrast image\n",
      "  warn('%s is a low contrast image' % fname)\n"
     ]
    },
    {
     "name": "stdout",
     "output_type": "stream",
     "text": [
      "(1024, 1024)\n",
      "plate3b_w5_dots_2020-02-11_18.11.09_iso_Kynan Lawlor_convert.tif\n",
      "(1024, 1024)\n",
      "final_KE012_data\\full_set_trimmed\\bfp_plate3b_w5_dots_2020-02-11_18.11.09_iso_Kynan Lawlor_convert.tif\n"
     ]
    },
    {
     "name": "stderr",
     "output_type": "stream",
     "text": [
      "C:\\Users\\kynan.lawlor\\AppData\\Local\\Continuum\\miniconda3\\envs\\imaging\\lib\\site-packages\\skimage\\io\\_io.py:141: UserWarning: final_KE012_data\\full_set_trimmed\\bfp_plate3b_w5_dots_2020-02-11_18.11.09_iso_Kynan Lawlor_convert.tif is a low contrast image\n",
      "  warn('%s is a low contrast image' % fname)\n"
     ]
    },
    {
     "name": "stdout",
     "output_type": "stream",
     "text": [
      "(4991, 1028)\n",
      "plate3b_w5_line_2020-02-11_18.15.13_iso_Kynan Lawlor_F_fused.tif\n",
      "(4800, 1020)\n",
      "final_KE012_data\\full_set_trimmed\\bfp_plate3b_w5_line_2020-02-11_18.15.13_iso_Kynan Lawlor_F_fused.tif\n"
     ]
    },
    {
     "name": "stderr",
     "output_type": "stream",
     "text": [
      "C:\\Users\\kynan.lawlor\\AppData\\Local\\Continuum\\miniconda3\\envs\\imaging\\lib\\site-packages\\skimage\\io\\_io.py:141: UserWarning: final_KE012_data\\full_set_trimmed\\bfp_plate3b_w5_line_2020-02-11_18.15.13_iso_Kynan Lawlor_F_fused.tif is a low contrast image\n",
      "  warn('%s is a low contrast image' % fname)\n"
     ]
    },
    {
     "name": "stdout",
     "output_type": "stream",
     "text": [
      "(4992, 1029)\n",
      "plate3b_w5_line_2020-02-11_18.17.43_iso_Kynan Lawlor_F_fused.tif\n",
      "(4800, 1020)\n",
      "final_KE012_data\\full_set_trimmed\\bfp_plate3b_w5_line_2020-02-11_18.17.43_iso_Kynan Lawlor_F_fused.tif\n"
     ]
    },
    {
     "name": "stderr",
     "output_type": "stream",
     "text": [
      "C:\\Users\\kynan.lawlor\\AppData\\Local\\Continuum\\miniconda3\\envs\\imaging\\lib\\site-packages\\skimage\\io\\_io.py:141: UserWarning: final_KE012_data\\full_set_trimmed\\bfp_plate3b_w5_line_2020-02-11_18.17.43_iso_Kynan Lawlor_F_fused.tif is a low contrast image\n",
      "  warn('%s is a low contrast image' % fname)\n"
     ]
    },
    {
     "name": "stdout",
     "output_type": "stream",
     "text": [
      "(1024, 1024)\n",
      "plate4a_w4_dots_2020-02-11_18.35.48_iso_Kynan Lawlor_convert.tif\n",
      "(1024, 1024)\n",
      "final_KE012_data\\full_set_trimmed\\bfp_plate4a_w4_dots_2020-02-11_18.35.48_iso_Kynan Lawlor_convert.tif\n"
     ]
    },
    {
     "name": "stderr",
     "output_type": "stream",
     "text": [
      "C:\\Users\\kynan.lawlor\\AppData\\Local\\Continuum\\miniconda3\\envs\\imaging\\lib\\site-packages\\skimage\\io\\_io.py:141: UserWarning: final_KE012_data\\full_set_trimmed\\bfp_plate4a_w4_dots_2020-02-11_18.35.48_iso_Kynan Lawlor_convert.tif is a low contrast image\n",
      "  warn('%s is a low contrast image' % fname)\n"
     ]
    },
    {
     "name": "stdout",
     "output_type": "stream",
     "text": [
      "(4992, 1028)\n",
      "plate4a_w4_line_2020-02-11_18.39.23_iso_Kynan Lawlor_F_fused.tif\n",
      "(4800, 1020)\n",
      "final_KE012_data\\full_set_trimmed\\bfp_plate4a_w4_line_2020-02-11_18.39.23_iso_Kynan Lawlor_F_fused.tif\n",
      "(1024, 1024)\n",
      "plate4a_w4_dots_2020-02-11_18.35.31_iso_Kynan Lawlor_convert.tif\n",
      "(1024, 1024)\n",
      "final_KE012_data\\full_set_trimmed\\bfp_plate4a_w4_dots_2020-02-11_18.35.31_iso_Kynan Lawlor_convert.tif\n"
     ]
    },
    {
     "name": "stderr",
     "output_type": "stream",
     "text": [
      "C:\\Users\\kynan.lawlor\\AppData\\Local\\Continuum\\miniconda3\\envs\\imaging\\lib\\site-packages\\skimage\\io\\_io.py:141: UserWarning: final_KE012_data\\full_set_trimmed\\bfp_plate4a_w4_line_2020-02-11_18.39.23_iso_Kynan Lawlor_F_fused.tif is a low contrast image\n",
      "  warn('%s is a low contrast image' % fname)\n",
      "C:\\Users\\kynan.lawlor\\AppData\\Local\\Continuum\\miniconda3\\envs\\imaging\\lib\\site-packages\\skimage\\io\\_io.py:141: UserWarning: final_KE012_data\\full_set_trimmed\\bfp_plate4a_w4_dots_2020-02-11_18.35.31_iso_Kynan Lawlor_convert.tif is a low contrast image\n",
      "  warn('%s is a low contrast image' % fname)\n"
     ]
    },
    {
     "name": "stdout",
     "output_type": "stream",
     "text": [
      "(1024, 1024)\n",
      "plate4a_w4_dots_2020-02-11_18.36.01_iso_Kynan Lawlor_convert.tif\n",
      "(1024, 1024)\n",
      "final_KE012_data\\full_set_trimmed\\bfp_plate4a_w4_dots_2020-02-11_18.36.01_iso_Kynan Lawlor_convert.tif\n"
     ]
    },
    {
     "name": "stderr",
     "output_type": "stream",
     "text": [
      "C:\\Users\\kynan.lawlor\\AppData\\Local\\Continuum\\miniconda3\\envs\\imaging\\lib\\site-packages\\skimage\\io\\_io.py:141: UserWarning: final_KE012_data\\full_set_trimmed\\bfp_plate4a_w4_dots_2020-02-11_18.36.01_iso_Kynan Lawlor_convert.tif is a low contrast image\n",
      "  warn('%s is a low contrast image' % fname)\n"
     ]
    },
    {
     "name": "stdout",
     "output_type": "stream",
     "text": [
      "(4989, 1028)\n",
      "plate4a_w4_line_2020-02-11_18.38.13_iso_Kynan Lawlor_F_fused.tif\n",
      "(4800, 1020)\n",
      "final_KE012_data\\full_set_trimmed\\bfp_plate4a_w4_line_2020-02-11_18.38.13_iso_Kynan Lawlor_F_fused.tif\n"
     ]
    },
    {
     "name": "stderr",
     "output_type": "stream",
     "text": [
      "C:\\Users\\kynan.lawlor\\AppData\\Local\\Continuum\\miniconda3\\envs\\imaging\\lib\\site-packages\\skimage\\io\\_io.py:141: UserWarning: final_KE012_data\\full_set_trimmed\\bfp_plate4a_w4_line_2020-02-11_18.38.13_iso_Kynan Lawlor_F_fused.tif is a low contrast image\n",
      "  warn('%s is a low contrast image' % fname)\n"
     ]
    },
    {
     "name": "stdout",
     "output_type": "stream",
     "text": [
      "(4990, 1030)\n",
      "plate4a_w4_line_2020-02-11_18.38.50_iso_Kynan Lawlor_F_fused.tif\n",
      "(4800, 1020)\n",
      "final_KE012_data\\full_set_trimmed\\bfp_plate4a_w4_line_2020-02-11_18.38.50_iso_Kynan Lawlor_F_fused.tif\n"
     ]
    },
    {
     "name": "stderr",
     "output_type": "stream",
     "text": [
      "C:\\Users\\kynan.lawlor\\AppData\\Local\\Continuum\\miniconda3\\envs\\imaging\\lib\\site-packages\\skimage\\io\\_io.py:141: UserWarning: final_KE012_data\\full_set_trimmed\\bfp_plate4a_w4_line_2020-02-11_18.38.50_iso_Kynan Lawlor_F_fused.tif is a low contrast image\n",
      "  warn('%s is a low contrast image' % fname)\n"
     ]
    },
    {
     "name": "stdout",
     "output_type": "stream",
     "text": [
      "(4992, 1028)\n",
      "plate4a_w3_line_2020-02-11_18.32.27_iso_Kynan Lawlor_F_fused.tif\n",
      "(4800, 1020)\n",
      "final_KE012_data\\full_set_trimmed\\bfp_plate4a_w3_line_2020-02-11_18.32.27_iso_Kynan Lawlor_F_fused.tif\n"
     ]
    },
    {
     "name": "stderr",
     "output_type": "stream",
     "text": [
      "C:\\Users\\kynan.lawlor\\AppData\\Local\\Continuum\\miniconda3\\envs\\imaging\\lib\\site-packages\\skimage\\io\\_io.py:141: UserWarning: final_KE012_data\\full_set_trimmed\\bfp_plate4a_w3_line_2020-02-11_18.32.27_iso_Kynan Lawlor_F_fused.tif is a low contrast image\n",
      "  warn('%s is a low contrast image' % fname)\n"
     ]
    },
    {
     "name": "stdout",
     "output_type": "stream",
     "text": [
      "(4992, 1031)\n",
      "plate4a_w3_line_2020-02-11_18.33.01_iso_Kynan Lawlor_F_fused.tif\n",
      "(4800, 1020)\n",
      "final_KE012_data\\full_set_trimmed\\bfp_plate4a_w3_line_2020-02-11_18.33.01_iso_Kynan Lawlor_F_fused.tif\n"
     ]
    },
    {
     "name": "stderr",
     "output_type": "stream",
     "text": [
      "C:\\Users\\kynan.lawlor\\AppData\\Local\\Continuum\\miniconda3\\envs\\imaging\\lib\\site-packages\\skimage\\io\\_io.py:141: UserWarning: final_KE012_data\\full_set_trimmed\\bfp_plate4a_w3_line_2020-02-11_18.33.01_iso_Kynan Lawlor_F_fused.tif is a low contrast image\n",
      "  warn('%s is a low contrast image' % fname)\n"
     ]
    },
    {
     "name": "stdout",
     "output_type": "stream",
     "text": [
      "(4991, 1031)\n",
      "plate4a_w3_line_2020-02-11_18.34.10_iso_Kynan Lawlor_F_fused.tif\n",
      "(4800, 1020)\n",
      "final_KE012_data\\full_set_trimmed\\bfp_plate4a_w3_line_2020-02-11_18.34.10_iso_Kynan Lawlor_F_fused.tif\n"
     ]
    },
    {
     "name": "stderr",
     "output_type": "stream",
     "text": [
      "C:\\Users\\kynan.lawlor\\AppData\\Local\\Continuum\\miniconda3\\envs\\imaging\\lib\\site-packages\\skimage\\io\\_io.py:141: UserWarning: final_KE012_data\\full_set_trimmed\\bfp_plate4a_w3_line_2020-02-11_18.34.10_iso_Kynan Lawlor_F_fused.tif is a low contrast image\n",
      "  warn('%s is a low contrast image' % fname)\n",
      "C:\\Users\\kynan.lawlor\\AppData\\Local\\Continuum\\miniconda3\\envs\\imaging\\lib\\site-packages\\skimage\\io\\_io.py:141: UserWarning: final_KE012_data\\full_set_trimmed\\bfp_plate4a_w3_dots_2020-02-11_18.30.37_iso_Kynan Lawlor_convert.tif is a low contrast image\n",
      "  warn('%s is a low contrast image' % fname)\n"
     ]
    },
    {
     "name": "stdout",
     "output_type": "stream",
     "text": [
      "(1024, 1024)\n",
      "plate4a_w3_dots_2020-02-11_18.30.37_iso_Kynan Lawlor_convert.tif\n",
      "(1024, 1024)\n",
      "final_KE012_data\\full_set_trimmed\\bfp_plate4a_w3_dots_2020-02-11_18.30.37_iso_Kynan Lawlor_convert.tif\n",
      "(1024, 1024)\n",
      "plate4a_w3_dots_2020-02-11_18.31.25_iso_Kynan Lawlor_convert.tif\n",
      "(1024, 1024)\n",
      "final_KE012_data\\full_set_trimmed\\bfp_plate4a_w3_dots_2020-02-11_18.31.25_iso_Kynan Lawlor_convert.tif\n"
     ]
    },
    {
     "name": "stderr",
     "output_type": "stream",
     "text": [
      "C:\\Users\\kynan.lawlor\\AppData\\Local\\Continuum\\miniconda3\\envs\\imaging\\lib\\site-packages\\skimage\\io\\_io.py:141: UserWarning: final_KE012_data\\full_set_trimmed\\bfp_plate4a_w3_dots_2020-02-11_18.31.25_iso_Kynan Lawlor_convert.tif is a low contrast image\n",
      "  warn('%s is a low contrast image' % fname)\n"
     ]
    },
    {
     "name": "stdout",
     "output_type": "stream",
     "text": [
      "(1024, 1024)\n",
      "plate4a_w3_dots_2020-02-11_18.31.40_iso_Kynan Lawlor_convert.tif\n",
      "(1024, 1024)\n",
      "final_KE012_data\\full_set_trimmed\\bfp_plate4a_w3_dots_2020-02-11_18.31.40_iso_Kynan Lawlor_convert.tif\n",
      "(1024, 1024)\n",
      "plate4a_w6_dots_2020-02-11_18.45.56_iso_Kynan Lawlor_convert.tif\n",
      "(1024, 1024)\n",
      "final_KE012_data\\full_set_trimmed\\bfp_plate4a_w6_dots_2020-02-11_18.45.56_iso_Kynan Lawlor_convert.tif\n"
     ]
    },
    {
     "name": "stderr",
     "output_type": "stream",
     "text": [
      "C:\\Users\\kynan.lawlor\\AppData\\Local\\Continuum\\miniconda3\\envs\\imaging\\lib\\site-packages\\skimage\\io\\_io.py:141: UserWarning: final_KE012_data\\full_set_trimmed\\bfp_plate4a_w3_dots_2020-02-11_18.31.40_iso_Kynan Lawlor_convert.tif is a low contrast image\n",
      "  warn('%s is a low contrast image' % fname)\n",
      "C:\\Users\\kynan.lawlor\\AppData\\Local\\Continuum\\miniconda3\\envs\\imaging\\lib\\site-packages\\skimage\\io\\_io.py:141: UserWarning: final_KE012_data\\full_set_trimmed\\bfp_plate4a_w6_dots_2020-02-11_18.45.56_iso_Kynan Lawlor_convert.tif is a low contrast image\n",
      "  warn('%s is a low contrast image' % fname)\n"
     ]
    },
    {
     "name": "stdout",
     "output_type": "stream",
     "text": [
      "(4989, 1031)\n",
      "plate4a_w6_line_2020-02-11_18.46.51_iso_Kynan Lawlor_F_fused.tif\n",
      "(4800, 1020)\n",
      "final_KE012_data\\full_set_trimmed\\bfp_plate4a_w6_line_2020-02-11_18.46.51_iso_Kynan Lawlor_F_fused.tif\n"
     ]
    },
    {
     "name": "stderr",
     "output_type": "stream",
     "text": [
      "C:\\Users\\kynan.lawlor\\AppData\\Local\\Continuum\\miniconda3\\envs\\imaging\\lib\\site-packages\\skimage\\io\\_io.py:141: UserWarning: final_KE012_data\\full_set_trimmed\\bfp_plate4a_w6_line_2020-02-11_18.46.51_iso_Kynan Lawlor_F_fused.tif is a low contrast image\n",
      "  warn('%s is a low contrast image' % fname)\n"
     ]
    },
    {
     "name": "stdout",
     "output_type": "stream",
     "text": [
      "(4992, 1029)\n",
      "plate4a_w6_line_2020-02-11_18.49.36_iso_Kynan Lawlor_F_fused.tif\n",
      "(4800, 1020)\n",
      "final_KE012_data\\full_set_trimmed\\bfp_plate4a_w6_line_2020-02-11_18.49.36_iso_Kynan Lawlor_F_fused.tif\n"
     ]
    },
    {
     "name": "stderr",
     "output_type": "stream",
     "text": [
      "C:\\Users\\kynan.lawlor\\AppData\\Local\\Continuum\\miniconda3\\envs\\imaging\\lib\\site-packages\\skimage\\io\\_io.py:141: UserWarning: final_KE012_data\\full_set_trimmed\\bfp_plate4a_w6_line_2020-02-11_18.49.36_iso_Kynan Lawlor_F_fused.tif is a low contrast image\n",
      "  warn('%s is a low contrast image' % fname)\n"
     ]
    },
    {
     "name": "stdout",
     "output_type": "stream",
     "text": [
      "(1024, 1024)\n",
      "plate4a_w6_dots_2020-02-11_18.46.14_iso_Kynan Lawlor_convert.tif\n",
      "(1024, 1024)\n",
      "final_KE012_data\\full_set_trimmed\\bfp_plate4a_w6_dots_2020-02-11_18.46.14_iso_Kynan Lawlor_convert.tif\n"
     ]
    },
    {
     "name": "stderr",
     "output_type": "stream",
     "text": [
      "C:\\Users\\kynan.lawlor\\AppData\\Local\\Continuum\\miniconda3\\envs\\imaging\\lib\\site-packages\\skimage\\io\\_io.py:141: UserWarning: final_KE012_data\\full_set_trimmed\\bfp_plate4a_w6_dots_2020-02-11_18.46.14_iso_Kynan Lawlor_convert.tif is a low contrast image\n",
      "  warn('%s is a low contrast image' % fname)\n"
     ]
    },
    {
     "name": "stdout",
     "output_type": "stream",
     "text": [
      "(4991, 1031)\n",
      "plate4a_w6_line_2020-02-11_18.47.40_iso_Kynan Lawlor_F_fused.tif\n",
      "(4800, 1020)\n",
      "final_KE012_data\\full_set_trimmed\\bfp_plate4a_w6_line_2020-02-11_18.47.40_iso_Kynan Lawlor_F_fused.tif\n",
      "(1024, 1024)"
     ]
    },
    {
     "name": "stderr",
     "output_type": "stream",
     "text": [
      "C:\\Users\\kynan.lawlor\\AppData\\Local\\Continuum\\miniconda3\\envs\\imaging\\lib\\site-packages\\skimage\\io\\_io.py:141: UserWarning: final_KE012_data\\full_set_trimmed\\bfp_plate4a_w6_line_2020-02-11_18.47.40_iso_Kynan Lawlor_F_fused.tif is a low contrast image\n",
      "  warn('%s is a low contrast image' % fname)\n",
      "C:\\Users\\kynan.lawlor\\AppData\\Local\\Continuum\\miniconda3\\envs\\imaging\\lib\\site-packages\\skimage\\io\\_io.py:141: UserWarning: final_KE012_data\\full_set_trimmed\\bfp_plate4a_w6_dots_2020-02-11_18.46.32_iso_Kynan Lawlor_convert.tif is a low contrast image\n",
      "  warn('%s is a low contrast image' % fname)\n"
     ]
    },
    {
     "name": "stdout",
     "output_type": "stream",
     "text": [
      "\n",
      "plate4a_w6_dots_2020-02-11_18.46.32_iso_Kynan Lawlor_convert.tif\n",
      "(1024, 1024)\n",
      "final_KE012_data\\full_set_trimmed\\bfp_plate4a_w6_dots_2020-02-11_18.46.32_iso_Kynan Lawlor_convert.tif\n",
      "(1024, 1024)\n",
      "plate4a_w2_dots_2020-02-11_18.28.26_iso_Kynan Lawlor_convert.tif\n",
      "(1024, 1024)\n",
      "final_KE012_data\\full_set_trimmed\\bfp_plate4a_w2_dots_2020-02-11_18.28.26_iso_Kynan Lawlor_convert.tif\n"
     ]
    },
    {
     "name": "stderr",
     "output_type": "stream",
     "text": [
      "C:\\Users\\kynan.lawlor\\AppData\\Local\\Continuum\\miniconda3\\envs\\imaging\\lib\\site-packages\\skimage\\io\\_io.py:141: UserWarning: final_KE012_data\\full_set_trimmed\\bfp_plate4a_w2_dots_2020-02-11_18.28.26_iso_Kynan Lawlor_convert.tif is a low contrast image\n",
      "  warn('%s is a low contrast image' % fname)\n",
      "C:\\Users\\kynan.lawlor\\AppData\\Local\\Continuum\\miniconda3\\envs\\imaging\\lib\\site-packages\\skimage\\io\\_io.py:141: UserWarning: final_KE012_data\\full_set_trimmed\\bfp_plate4a_w2_dots_2020-02-11_18.27.46_iso_Kynan Lawlor_convert.tif is a low contrast image\n",
      "  warn('%s is a low contrast image' % fname)\n"
     ]
    },
    {
     "name": "stdout",
     "output_type": "stream",
     "text": [
      "(1024, 1024)\n",
      "plate4a_w2_dots_2020-02-11_18.27.46_iso_Kynan Lawlor_convert.tif\n",
      "(1024, 1024)\n",
      "final_KE012_data\\full_set_trimmed\\bfp_plate4a_w2_dots_2020-02-11_18.27.46_iso_Kynan Lawlor_convert.tif\n",
      "(4992, 1029)\n",
      "plate4a_w2_line_2020-02-11_18.29.34_iso_Kynan Lawlor_F_fused.tif\n",
      "(4800, 1020)\n",
      "final_KE012_data\\full_set_trimmed\\bfp_plate4a_w2_line_2020-02-11_18.29.34_iso_Kynan Lawlor_F_fused.tif\n"
     ]
    },
    {
     "name": "stderr",
     "output_type": "stream",
     "text": [
      "C:\\Users\\kynan.lawlor\\AppData\\Local\\Continuum\\miniconda3\\envs\\imaging\\lib\\site-packages\\skimage\\io\\_io.py:141: UserWarning: final_KE012_data\\full_set_trimmed\\bfp_plate4a_w2_line_2020-02-11_18.29.34_iso_Kynan Lawlor_F_fused.tif is a low contrast image\n",
      "  warn('%s is a low contrast image' % fname)\n"
     ]
    },
    {
     "name": "stdout",
     "output_type": "stream",
     "text": [
      "(4992, 1029)\n",
      "plate4a_w2_line_2020-02-11_18.28.42_iso_Kynan Lawlor_F_fused.tif\n",
      "(4800, 1020)\n",
      "final_KE012_data\\full_set_trimmed\\bfp_plate4a_w2_line_2020-02-11_18.28.42_iso_Kynan Lawlor_F_fused.tif\n",
      "(1024, 1024)\n",
      "plate4a_w2_dots_2020-02-11_18.28.13_iso_Kynan Lawlor_convert.tif\n",
      "(1024, 1024)\n",
      "final_KE012_data\\full_set_trimmed\\bfp_plate4a_w2_dots_2020-02-11_18.28.13_iso_Kynan Lawlor_convert.tif\n"
     ]
    },
    {
     "name": "stderr",
     "output_type": "stream",
     "text": [
      "C:\\Users\\kynan.lawlor\\AppData\\Local\\Continuum\\miniconda3\\envs\\imaging\\lib\\site-packages\\skimage\\io\\_io.py:141: UserWarning: final_KE012_data\\full_set_trimmed\\bfp_plate4a_w2_line_2020-02-11_18.28.42_iso_Kynan Lawlor_F_fused.tif is a low contrast image\n",
      "  warn('%s is a low contrast image' % fname)\n",
      "C:\\Users\\kynan.lawlor\\AppData\\Local\\Continuum\\miniconda3\\envs\\imaging\\lib\\site-packages\\skimage\\io\\_io.py:141: UserWarning: final_KE012_data\\full_set_trimmed\\bfp_plate4a_w2_dots_2020-02-11_18.28.13_iso_Kynan Lawlor_convert.tif is a low contrast image\n",
      "  warn('%s is a low contrast image' % fname)\n"
     ]
    },
    {
     "name": "stdout",
     "output_type": "stream",
     "text": [
      "(4992, 1029)\n",
      "plate4a_w2_line_2020-02-11_18.29.08_iso_Kynan Lawlor_F_fused.tif\n",
      "(4800, 1020)\n",
      "final_KE012_data\\full_set_trimmed\\bfp_plate4a_w2_line_2020-02-11_18.29.08_iso_Kynan Lawlor_F_fused.tif\n"
     ]
    },
    {
     "name": "stderr",
     "output_type": "stream",
     "text": [
      "C:\\Users\\kynan.lawlor\\AppData\\Local\\Continuum\\miniconda3\\envs\\imaging\\lib\\site-packages\\skimage\\io\\_io.py:141: UserWarning: final_KE012_data\\full_set_trimmed\\bfp_plate4a_w2_line_2020-02-11_18.29.08_iso_Kynan Lawlor_F_fused.tif is a low contrast image\n",
      "  warn('%s is a low contrast image' % fname)\n"
     ]
    },
    {
     "name": "stdout",
     "output_type": "stream",
     "text": [
      "(1024, 1024)\n",
      "plate4a_w5_dots_2020-02-11_18.41.49_iso_Kynan Lawlor_convert.tif\n",
      "(1024, 1024)\n",
      "final_KE012_data\\full_set_trimmed\\bfp_plate4a_w5_dots_2020-02-11_18.41.49_iso_Kynan Lawlor_convert.tif\n",
      "(1024, 1024)\n",
      "plate4a_w5_dots_2020-02-11_18.42.03_iso_Kynan Lawlor_convert.tif\n",
      "(1024, 1024)\n",
      "final_KE012_data\\full_set_trimmed\\bfp_plate4a_w5_dots_2020-02-11_18.42.03_iso_Kynan Lawlor_convert.tif\n"
     ]
    },
    {
     "name": "stderr",
     "output_type": "stream",
     "text": [
      "C:\\Users\\kynan.lawlor\\AppData\\Local\\Continuum\\miniconda3\\envs\\imaging\\lib\\site-packages\\skimage\\io\\_io.py:141: UserWarning: final_KE012_data\\full_set_trimmed\\bfp_plate4a_w5_dots_2020-02-11_18.41.49_iso_Kynan Lawlor_convert.tif is a low contrast image\n",
      "  warn('%s is a low contrast image' % fname)\n",
      "C:\\Users\\kynan.lawlor\\AppData\\Local\\Continuum\\miniconda3\\envs\\imaging\\lib\\site-packages\\skimage\\io\\_io.py:141: UserWarning: final_KE012_data\\full_set_trimmed\\bfp_plate4a_w5_dots_2020-02-11_18.42.03_iso_Kynan Lawlor_convert.tif is a low contrast image\n",
      "  warn('%s is a low contrast image' % fname)\n"
     ]
    },
    {
     "name": "stdout",
     "output_type": "stream",
     "text": [
      "(4990, 1028)\n",
      "plate4a_w5_line_2020-02-11_18.42.23_iso_Kynan Lawlor_F_fused.tif\n",
      "(4800, 1020)\n",
      "final_KE012_data\\full_set_trimmed\\bfp_plate4a_w5_line_2020-02-11_18.42.23_iso_Kynan Lawlor_F_fused.tif\n"
     ]
    },
    {
     "name": "stderr",
     "output_type": "stream",
     "text": [
      "C:\\Users\\kynan.lawlor\\AppData\\Local\\Continuum\\miniconda3\\envs\\imaging\\lib\\site-packages\\skimage\\io\\_io.py:141: UserWarning: final_KE012_data\\full_set_trimmed\\bfp_plate4a_w5_line_2020-02-11_18.42.23_iso_Kynan Lawlor_F_fused.tif is a low contrast image\n",
      "  warn('%s is a low contrast image' % fname)\n"
     ]
    },
    {
     "name": "stdout",
     "output_type": "stream",
     "text": [
      "(4992, 1029)\n",
      "plate4a_w5_line_2020-02-11_18.44.35_iso_Kynan Lawlor_F_fused.tif\n",
      "(4800, 1020)\n",
      "final_KE012_data\\full_set_trimmed\\bfp_plate4a_w5_line_2020-02-11_18.44.35_iso_Kynan Lawlor_F_fused.tif\n"
     ]
    },
    {
     "name": "stderr",
     "output_type": "stream",
     "text": [
      "C:\\Users\\kynan.lawlor\\AppData\\Local\\Continuum\\miniconda3\\envs\\imaging\\lib\\site-packages\\skimage\\io\\_io.py:141: UserWarning: final_KE012_data\\full_set_trimmed\\bfp_plate4a_w5_line_2020-02-11_18.44.35_iso_Kynan Lawlor_F_fused.tif is a low contrast image\n",
      "  warn('%s is a low contrast image' % fname)\n"
     ]
    },
    {
     "name": "stdout",
     "output_type": "stream",
     "text": [
      "(4992, 1029)\n",
      "plate4a_w5_line_2020-02-11_18.43.46_iso_Kynan Lawlor_F_fused.tif\n",
      "(4800, 1020)\n",
      "final_KE012_data\\full_set_trimmed\\bfp_plate4a_w5_line_2020-02-11_18.43.46_iso_Kynan Lawlor_F_fused.tif\n"
     ]
    },
    {
     "name": "stderr",
     "output_type": "stream",
     "text": [
      "C:\\Users\\kynan.lawlor\\AppData\\Local\\Continuum\\miniconda3\\envs\\imaging\\lib\\site-packages\\skimage\\io\\_io.py:141: UserWarning: final_KE012_data\\full_set_trimmed\\bfp_plate4a_w5_line_2020-02-11_18.43.46_iso_Kynan Lawlor_F_fused.tif is a low contrast image\n",
      "  warn('%s is a low contrast image' % fname)\n"
     ]
    },
    {
     "name": "stdout",
     "output_type": "stream",
     "text": [
      "(1024, 1024)\n",
      "plate4a_w5_dots_2020-02-11_18.41.25_iso_Kynan Lawlor_convert.tif\n",
      "(1024, 1024)\n",
      "final_KE012_data\\full_set_trimmed\\bfp_plate4a_w5_dots_2020-02-11_18.41.25_iso_Kynan Lawlor_convert.tif\n",
      "(1024, 1024)\n",
      "plate5_hand3_hand_2020-02-11_10.36.47_iso_Kynan Lawlor_convert.tif\n",
      "(1024, 1024)\n",
      "final_KE012_data\\full_set_trimmed\\bfp_plate5_hand3_hand_2020-02-11_10.36.47_iso_Kynan Lawlor_convert.tif\n"
     ]
    },
    {
     "name": "stderr",
     "output_type": "stream",
     "text": [
      "C:\\Users\\kynan.lawlor\\AppData\\Local\\Continuum\\miniconda3\\envs\\imaging\\lib\\site-packages\\skimage\\io\\_io.py:141: UserWarning: final_KE012_data\\full_set_trimmed\\bfp_plate4a_w5_dots_2020-02-11_18.41.25_iso_Kynan Lawlor_convert.tif is a low contrast image\n",
      "  warn('%s is a low contrast image' % fname)\n",
      "C:\\Users\\kynan.lawlor\\AppData\\Local\\Continuum\\miniconda3\\envs\\imaging\\lib\\site-packages\\skimage\\io\\_io.py:141: UserWarning: final_KE012_data\\full_set_trimmed\\bfp_plate5_hand3_hand_2020-02-11_10.36.47_iso_Kynan Lawlor_convert.tif is a low contrast image\n",
      "  warn('%s is a low contrast image' % fname)\n"
     ]
    },
    {
     "name": "stdout",
     "output_type": "stream",
     "text": [
      "(1024, 1024)\n",
      "plate5_hand3_hand_2020-02-11_10.37.04_iso_Kynan Lawlor_convert.tif\n",
      "(1024, 1024)\n",
      "final_KE012_data\\full_set_trimmed\\bfp_plate5_hand3_hand_2020-02-11_10.37.04_iso_Kynan Lawlor_convert.tif\n"
     ]
    },
    {
     "name": "stderr",
     "output_type": "stream",
     "text": [
      "C:\\Users\\kynan.lawlor\\AppData\\Local\\Continuum\\miniconda3\\envs\\imaging\\lib\\site-packages\\skimage\\io\\_io.py:141: UserWarning: final_KE012_data\\full_set_trimmed\\bfp_plate5_hand3_hand_2020-02-11_10.37.04_iso_Kynan Lawlor_convert.tif is a low contrast image\n",
      "  warn('%s is a low contrast image' % fname)\n"
     ]
    },
    {
     "name": "stdout",
     "output_type": "stream",
     "text": [
      "(1024, 1024)\n",
      "plate5_hand3_hand_2020-02-11_10.36.03_iso_Kynan Lawlor_convert.tif\n",
      "(1024, 1024)\n",
      "final_KE012_data\\full_set_trimmed\\bfp_plate5_hand3_hand_2020-02-11_10.36.03_iso_Kynan Lawlor_convert.tif\n",
      "(1024, 1024)\n",
      "plate5_hand3_hand_2020-02-11_10.36.21_iso_Kynan Lawlor_convert.tif\n",
      "(1024, 1024)\n",
      "final_KE012_data\\full_set_trimmed\\bfp_plate5_hand3_hand_2020-02-11_10.36.21_iso_Kynan Lawlor_convert.tif\n"
     ]
    },
    {
     "name": "stderr",
     "output_type": "stream",
     "text": [
      "C:\\Users\\kynan.lawlor\\AppData\\Local\\Continuum\\miniconda3\\envs\\imaging\\lib\\site-packages\\skimage\\io\\_io.py:141: UserWarning: final_KE012_data\\full_set_trimmed\\bfp_plate5_hand3_hand_2020-02-11_10.36.03_iso_Kynan Lawlor_convert.tif is a low contrast image\n",
      "  warn('%s is a low contrast image' % fname)\n",
      "C:\\Users\\kynan.lawlor\\AppData\\Local\\Continuum\\miniconda3\\envs\\imaging\\lib\\site-packages\\skimage\\io\\_io.py:141: UserWarning: final_KE012_data\\full_set_trimmed\\bfp_plate5_hand3_hand_2020-02-11_10.36.21_iso_Kynan Lawlor_convert.tif is a low contrast image\n",
      "  warn('%s is a low contrast image' % fname)\n"
     ]
    },
    {
     "name": "stdout",
     "output_type": "stream",
     "text": [
      "(1024, 1024)\n",
      "plate5_hand1_hand_2020-02-11_10.32.32_iso_Kynan Lawlor_convert.tif\n",
      "(1024, 1024)\n",
      "final_KE012_data\\full_set_trimmed\\bfp_plate5_hand1_hand_2020-02-11_10.32.32_iso_Kynan Lawlor_convert.tif\n",
      "(1024, 1024)\n",
      "plate5_hand1_hand_2020-02-11_10.33.07_iso_Kynan Lawlor_convert.tif\n",
      "(1024, 1024)\n",
      "final_KE012_data\\full_set_trimmed\\bfp_plate5_hand1_hand_2020-02-11_10.33.07_iso_Kynan Lawlor_convert.tif\n"
     ]
    },
    {
     "name": "stderr",
     "output_type": "stream",
     "text": [
      "C:\\Users\\kynan.lawlor\\AppData\\Local\\Continuum\\miniconda3\\envs\\imaging\\lib\\site-packages\\skimage\\io\\_io.py:141: UserWarning: final_KE012_data\\full_set_trimmed\\bfp_plate5_hand1_hand_2020-02-11_10.32.32_iso_Kynan Lawlor_convert.tif is a low contrast image\n",
      "  warn('%s is a low contrast image' % fname)\n",
      "C:\\Users\\kynan.lawlor\\AppData\\Local\\Continuum\\miniconda3\\envs\\imaging\\lib\\site-packages\\skimage\\io\\_io.py:141: UserWarning: final_KE012_data\\full_set_trimmed\\bfp_plate5_hand1_hand_2020-02-11_10.33.07_iso_Kynan Lawlor_convert.tif is a low contrast image\n",
      "  warn('%s is a low contrast image' % fname)\n"
     ]
    },
    {
     "name": "stdout",
     "output_type": "stream",
     "text": [
      "(1024, 1024)\n",
      "plate5_hand1_hand_2020-02-11_10.33.29_iso_Kynan Lawlor_convert.tif\n",
      "(1024, 1024)\n",
      "final_KE012_data\\full_set_trimmed\\bfp_plate5_hand1_hand_2020-02-11_10.33.29_iso_Kynan Lawlor_convert.tif\n",
      "(1024, 1024)\n",
      "plate5_hand1_hand_2020-02-11_10.32.12_iso_Kynan Lawlor_convert.tif\n",
      "(1024, 1024)\n",
      "final_KE012_data\\full_set_trimmed\\bfp_plate5_hand1_hand_2020-02-11_10.32.12_iso_Kynan Lawlor_convert.tif\n"
     ]
    },
    {
     "name": "stderr",
     "output_type": "stream",
     "text": [
      "C:\\Users\\kynan.lawlor\\AppData\\Local\\Continuum\\miniconda3\\envs\\imaging\\lib\\site-packages\\skimage\\io\\_io.py:141: UserWarning: final_KE012_data\\full_set_trimmed\\bfp_plate5_hand1_hand_2020-02-11_10.33.29_iso_Kynan Lawlor_convert.tif is a low contrast image\n",
      "  warn('%s is a low contrast image' % fname)\n",
      "C:\\Users\\kynan.lawlor\\AppData\\Local\\Continuum\\miniconda3\\envs\\imaging\\lib\\site-packages\\skimage\\io\\_io.py:141: UserWarning: final_KE012_data\\full_set_trimmed\\bfp_plate5_hand1_hand_2020-02-11_10.32.12_iso_Kynan Lawlor_convert.tif is a low contrast image\n",
      "  warn('%s is a low contrast image' % fname)\n"
     ]
    },
    {
     "name": "stdout",
     "output_type": "stream",
     "text": [
      "(1024, 1024)\n",
      "plate5_hand2_hand_2020-02-11_10.34.00_iso_Kynan Lawlor_convert.tif\n",
      "(1024, 1024)\n",
      "final_KE012_data\\full_set_trimmed\\bfp_plate5_hand2_hand_2020-02-11_10.34.00_iso_Kynan Lawlor_convert.tif\n",
      "(1024, 1024)\n",
      "plate5_hand2_hand_2020-02-11_10.35.19_iso_Kynan Lawlor_convert.tif\n",
      "(1024, 1024)\n",
      "final_KE012_data\\full_set_trimmed\\bfp_plate5_hand2_hand_2020-02-11_10.35.19_iso_Kynan Lawlor_convert.tif\n",
      "(1024, 1024)\n",
      "plate5_hand2_hand_2020-02-11_10.34.49_iso_Kynan Lawlor_convert.tif\n",
      "(1024, 1024)\n",
      "final_KE012_data\\full_set_trimmed\\bfp_plate5_hand2_hand_2020-02-11_10.34.49_iso_Kynan Lawlor_convert.tif\n"
     ]
    },
    {
     "name": "stderr",
     "output_type": "stream",
     "text": [
      "C:\\Users\\kynan.lawlor\\AppData\\Local\\Continuum\\miniconda3\\envs\\imaging\\lib\\site-packages\\skimage\\io\\_io.py:141: UserWarning: final_KE012_data\\full_set_trimmed\\bfp_plate5_hand2_hand_2020-02-11_10.34.00_iso_Kynan Lawlor_convert.tif is a low contrast image\n",
      "  warn('%s is a low contrast image' % fname)\n",
      "C:\\Users\\kynan.lawlor\\AppData\\Local\\Continuum\\miniconda3\\envs\\imaging\\lib\\site-packages\\skimage\\io\\_io.py:141: UserWarning: final_KE012_data\\full_set_trimmed\\bfp_plate5_hand2_hand_2020-02-11_10.35.19_iso_Kynan Lawlor_convert.tif is a low contrast image\n",
      "  warn('%s is a low contrast image' % fname)\n",
      "C:\\Users\\kynan.lawlor\\AppData\\Local\\Continuum\\miniconda3\\envs\\imaging\\lib\\site-packages\\skimage\\io\\_io.py:141: UserWarning: final_KE012_data\\full_set_trimmed\\bfp_plate5_hand2_hand_2020-02-11_10.34.49_iso_Kynan Lawlor_convert.tif is a low contrast image\n",
      "  warn('%s is a low contrast image' % fname)\n"
     ]
    },
    {
     "name": "stdout",
     "output_type": "stream",
     "text": [
      "(1024, 1024)\n",
      "plate5_hand2_hand_2020-02-11_10.34.28_iso_Kynan Lawlor_convert.tif\n",
      "(1024, 1024)\n",
      "final_KE012_data\\full_set_trimmed\\bfp_plate5_hand2_hand_2020-02-11_10.34.28_iso_Kynan Lawlor_convert.tif\n",
      "(1024, 1024)\n",
      "plate1b_w1_dots_2020-02-11_09.02.10_iso_Kynan Lawlor_convert.tif\n",
      "(1024, 1024)\n",
      "final_KE012_data\\full_set_trimmed\\bfp_plate1b_w1_dots_2020-02-11_09.02.10_iso_Kynan Lawlor_convert.tif\n"
     ]
    },
    {
     "name": "stderr",
     "output_type": "stream",
     "text": [
      "C:\\Users\\kynan.lawlor\\AppData\\Local\\Continuum\\miniconda3\\envs\\imaging\\lib\\site-packages\\skimage\\io\\_io.py:141: UserWarning: final_KE012_data\\full_set_trimmed\\bfp_plate5_hand2_hand_2020-02-11_10.34.28_iso_Kynan Lawlor_convert.tif is a low contrast image\n",
      "  warn('%s is a low contrast image' % fname)\n",
      "C:\\Users\\kynan.lawlor\\AppData\\Local\\Continuum\\miniconda3\\envs\\imaging\\lib\\site-packages\\skimage\\io\\_io.py:141: UserWarning: final_KE012_data\\full_set_trimmed\\bfp_plate1b_w1_dots_2020-02-11_09.02.10_iso_Kynan Lawlor_convert.tif is a low contrast image\n",
      "  warn('%s is a low contrast image' % fname)\n",
      "C:\\Users\\kynan.lawlor\\AppData\\Local\\Continuum\\miniconda3\\envs\\imaging\\lib\\site-packages\\skimage\\io\\_io.py:141: UserWarning: final_KE012_data\\full_set_trimmed\\bfp_plate1b_w1_dots_2020-02-11_09.01.57_iso_Kynan Lawlor_convert.tif is a low contrast image\n",
      "  warn('%s is a low contrast image' % fname)\n"
     ]
    },
    {
     "name": "stdout",
     "output_type": "stream",
     "text": [
      "(1024, 1024)\n",
      "plate1b_w1_dots_2020-02-11_09.01.57_iso_Kynan Lawlor_convert.tif\n",
      "(1024, 1024)\n",
      "final_KE012_data\\full_set_trimmed\\bfp_plate1b_w1_dots_2020-02-11_09.01.57_iso_Kynan Lawlor_convert.tif\n",
      "(1024, 1024)\n",
      "plate1b_w1_dots_2020-02-11_09.01.43_iso_Kynan Lawlor_convert.tif\n",
      "(1024, 1024)\n",
      "final_KE012_data\\full_set_trimmed\\bfp_plate1b_w1_dots_2020-02-11_09.01.43_iso_Kynan Lawlor_convert.tif\n"
     ]
    },
    {
     "name": "stderr",
     "output_type": "stream",
     "text": [
      "C:\\Users\\kynan.lawlor\\AppData\\Local\\Continuum\\miniconda3\\envs\\imaging\\lib\\site-packages\\skimage\\io\\_io.py:141: UserWarning: final_KE012_data\\full_set_trimmed\\bfp_plate1b_w1_dots_2020-02-11_09.01.43_iso_Kynan Lawlor_convert.tif is a low contrast image\n",
      "  warn('%s is a low contrast image' % fname)\n"
     ]
    },
    {
     "name": "stdout",
     "output_type": "stream",
     "text": [
      "(4991, 1030)\n",
      "plate1b_w1_line_2020-02-11_09.02.59_iso_Kynan Lawlor_F_fused.tif\n",
      "(4800, 1020)\n",
      "final_KE012_data\\full_set_trimmed\\bfp_plate1b_w1_line_2020-02-11_09.02.59_iso_Kynan Lawlor_F_fused.tif\n"
     ]
    },
    {
     "name": "stderr",
     "output_type": "stream",
     "text": [
      "C:\\Users\\kynan.lawlor\\AppData\\Local\\Continuum\\miniconda3\\envs\\imaging\\lib\\site-packages\\skimage\\io\\_io.py:141: UserWarning: final_KE012_data\\full_set_trimmed\\bfp_plate1b_w1_line_2020-02-11_09.02.59_iso_Kynan Lawlor_F_fused.tif is a low contrast image\n",
      "  warn('%s is a low contrast image' % fname)\n"
     ]
    },
    {
     "name": "stdout",
     "output_type": "stream",
     "text": [
      "(4991, 1031)\n",
      "plate1b_w1_line_2020-02-11_09.02.27_iso_Kynan Lawlor_F_fused.tif\n",
      "(4800, 1020)\n",
      "final_KE012_data\\full_set_trimmed\\bfp_plate1b_w1_line_2020-02-11_09.02.27_iso_Kynan Lawlor_F_fused.tif\n"
     ]
    },
    {
     "name": "stderr",
     "output_type": "stream",
     "text": [
      "C:\\Users\\kynan.lawlor\\AppData\\Local\\Continuum\\miniconda3\\envs\\imaging\\lib\\site-packages\\skimage\\io\\_io.py:141: UserWarning: final_KE012_data\\full_set_trimmed\\bfp_plate1b_w1_line_2020-02-11_09.02.27_iso_Kynan Lawlor_F_fused.tif is a low contrast image\n",
      "  warn('%s is a low contrast image' % fname)\n"
     ]
    },
    {
     "name": "stdout",
     "output_type": "stream",
     "text": [
      "(4992, 1030)\n",
      "plate1b_w1_line_2020-02-11_09.03.32_iso_Kynan Lawlor_F_fused.tif\n",
      "(4800, 1020)\n",
      "final_KE012_data\\full_set_trimmed\\bfp_plate1b_w1_line_2020-02-11_09.03.32_iso_Kynan Lawlor_F_fused.tif\n"
     ]
    },
    {
     "name": "stderr",
     "output_type": "stream",
     "text": [
      "C:\\Users\\kynan.lawlor\\AppData\\Local\\Continuum\\miniconda3\\envs\\imaging\\lib\\site-packages\\skimage\\io\\_io.py:141: UserWarning: final_KE012_data\\full_set_trimmed\\bfp_plate1b_w1_line_2020-02-11_09.03.32_iso_Kynan Lawlor_F_fused.tif is a low contrast image\n",
      "  warn('%s is a low contrast image' % fname)\n"
     ]
    },
    {
     "name": "stdout",
     "output_type": "stream",
     "text": [
      "(4991, 1030)\n",
      "plate1b_w4_line_2020-02-11_09.13.57_iso_Kynan Lawlor_F_fused.tif\n",
      "(4800, 1020)\n",
      "final_KE012_data\\full_set_trimmed\\bfp_plate1b_w4_line_2020-02-11_09.13.57_iso_Kynan Lawlor_F_fused.tif\n"
     ]
    },
    {
     "name": "stderr",
     "output_type": "stream",
     "text": [
      "C:\\Users\\kynan.lawlor\\AppData\\Local\\Continuum\\miniconda3\\envs\\imaging\\lib\\site-packages\\skimage\\io\\_io.py:141: UserWarning: final_KE012_data\\full_set_trimmed\\bfp_plate1b_w4_line_2020-02-11_09.13.57_iso_Kynan Lawlor_F_fused.tif is a low contrast image\n",
      "  warn('%s is a low contrast image' % fname)\n"
     ]
    },
    {
     "name": "stdout",
     "output_type": "stream",
     "text": [
      "(1024, 1024)\n",
      "plate1b_w4_dots_2020-02-11_09.12.26_iso_Kynan Lawlor_convert.tif\n",
      "(1024, 1024)\n",
      "final_KE012_data\\full_set_trimmed\\bfp_plate1b_w4_dots_2020-02-11_09.12.26_iso_Kynan Lawlor_convert.tif\n"
     ]
    },
    {
     "name": "stderr",
     "output_type": "stream",
     "text": [
      "C:\\Users\\kynan.lawlor\\AppData\\Local\\Continuum\\miniconda3\\envs\\imaging\\lib\\site-packages\\skimage\\io\\_io.py:141: UserWarning: final_KE012_data\\full_set_trimmed\\bfp_plate1b_w4_dots_2020-02-11_09.12.26_iso_Kynan Lawlor_convert.tif is a low contrast image\n",
      "  warn('%s is a low contrast image' % fname)\n"
     ]
    },
    {
     "name": "stdout",
     "output_type": "stream",
     "text": [
      "(4990, 1029)\n",
      "plate1b_w4_line_2020-02-11_09.12.48_iso_Kynan Lawlor_F_fused.tif\n",
      "(4800, 1020)\n",
      "final_KE012_data\\full_set_trimmed\\bfp_plate1b_w4_line_2020-02-11_09.12.48_iso_Kynan Lawlor_F_fused.tif\n"
     ]
    },
    {
     "name": "stderr",
     "output_type": "stream",
     "text": [
      "C:\\Users\\kynan.lawlor\\AppData\\Local\\Continuum\\miniconda3\\envs\\imaging\\lib\\site-packages\\skimage\\io\\_io.py:141: UserWarning: final_KE012_data\\full_set_trimmed\\bfp_plate1b_w4_line_2020-02-11_09.12.48_iso_Kynan Lawlor_F_fused.tif is a low contrast image\n",
      "  warn('%s is a low contrast image' % fname)\n"
     ]
    },
    {
     "name": "stdout",
     "output_type": "stream",
     "text": [
      "(4990, 1030)\n",
      "plate1b_w4_line_2020-02-11_09.13.29_iso_Kynan Lawlor_F_fused.tif\n",
      "(4800, 1020)\n",
      "final_KE012_data\\full_set_trimmed\\bfp_plate1b_w4_line_2020-02-11_09.13.29_iso_Kynan Lawlor_F_fused.tif\n"
     ]
    },
    {
     "name": "stderr",
     "output_type": "stream",
     "text": [
      "C:\\Users\\kynan.lawlor\\AppData\\Local\\Continuum\\miniconda3\\envs\\imaging\\lib\\site-packages\\skimage\\io\\_io.py:141: UserWarning: final_KE012_data\\full_set_trimmed\\bfp_plate1b_w4_line_2020-02-11_09.13.29_iso_Kynan Lawlor_F_fused.tif is a low contrast image\n",
      "  warn('%s is a low contrast image' % fname)\n"
     ]
    },
    {
     "name": "stdout",
     "output_type": "stream",
     "text": [
      "(1024, 1024)\n",
      "plate1b_w4_dots_2020-02-11_09.11.47_iso_Kynan Lawlor_convert.tif\n",
      "(1024, 1024)\n",
      "final_KE012_data\\full_set_trimmed\\bfp_plate1b_w4_dots_2020-02-11_09.11.47_iso_Kynan Lawlor_convert.tif\n",
      "(1024, 1024)\n",
      "plate1b_w4_dots_2020-02-11_09.12.07_iso_Kynan Lawlor_convert.tif\n",
      "(1024, 1024)\n",
      "final_KE012_data\\full_set_trimmed\\bfp_plate1b_w4_dots_2020-02-11_09.12.07_iso_Kynan Lawlor_convert.tif\n",
      "(1024, 1024)\n",
      "plate1b_w3_dots_2020-02-11_09.08.16_iso_Kynan Lawlor_convert.tif\n",
      "(1024, 1024)\n",
      "final_KE012_data\\full_set_trimmed\\bfp_plate1b_w3_dots_2020-02-11_09.08.16_iso_Kynan Lawlor_convert.tif\n"
     ]
    },
    {
     "name": "stderr",
     "output_type": "stream",
     "text": [
      "C:\\Users\\kynan.lawlor\\AppData\\Local\\Continuum\\miniconda3\\envs\\imaging\\lib\\site-packages\\skimage\\io\\_io.py:141: UserWarning: final_KE012_data\\full_set_trimmed\\bfp_plate1b_w4_dots_2020-02-11_09.11.47_iso_Kynan Lawlor_convert.tif is a low contrast image\n",
      "  warn('%s is a low contrast image' % fname)\n",
      "C:\\Users\\kynan.lawlor\\AppData\\Local\\Continuum\\miniconda3\\envs\\imaging\\lib\\site-packages\\skimage\\io\\_io.py:141: UserWarning: final_KE012_data\\full_set_trimmed\\bfp_plate1b_w4_dots_2020-02-11_09.12.07_iso_Kynan Lawlor_convert.tif is a low contrast image\n",
      "  warn('%s is a low contrast image' % fname)\n",
      "C:\\Users\\kynan.lawlor\\AppData\\Local\\Continuum\\miniconda3\\envs\\imaging\\lib\\site-packages\\skimage\\io\\_io.py:141: UserWarning: final_KE012_data\\full_set_trimmed\\bfp_plate1b_w3_dots_2020-02-11_09.08.16_iso_Kynan Lawlor_convert.tif is a low contrast image\n",
      "  warn('%s is a low contrast image' % fname)\n"
     ]
    },
    {
     "name": "stdout",
     "output_type": "stream",
     "text": [
      "(1024, 1024)\n",
      "plate1b_w3_dots_2020-02-11_09.08.33_iso_Kynan Lawlor_convert.tif\n",
      "(1024, 1024)\n",
      "final_KE012_data\\full_set_trimmed\\bfp_plate1b_w3_dots_2020-02-11_09.08.33_iso_Kynan Lawlor_convert.tif\n",
      "(1024, 1024)\n",
      "plate1b_w3_dots_2020-02-11_09.09.06_iso_Kynan Lawlor_convert.tif\n",
      "(1024, 1024)\n",
      "final_KE012_data\\full_set_trimmed\\bfp_plate1b_w3_dots_2020-02-11_09.09.06_iso_Kynan Lawlor_convert.tif\n"
     ]
    },
    {
     "name": "stderr",
     "output_type": "stream",
     "text": [
      "C:\\Users\\kynan.lawlor\\AppData\\Local\\Continuum\\miniconda3\\envs\\imaging\\lib\\site-packages\\skimage\\io\\_io.py:141: UserWarning: final_KE012_data\\full_set_trimmed\\bfp_plate1b_w3_dots_2020-02-11_09.08.33_iso_Kynan Lawlor_convert.tif is a low contrast image\n",
      "  warn('%s is a low contrast image' % fname)\n",
      "C:\\Users\\kynan.lawlor\\AppData\\Local\\Continuum\\miniconda3\\envs\\imaging\\lib\\site-packages\\skimage\\io\\_io.py:141: UserWarning: final_KE012_data\\full_set_trimmed\\bfp_plate1b_w3_dots_2020-02-11_09.09.06_iso_Kynan Lawlor_convert.tif is a low contrast image\n",
      "  warn('%s is a low contrast image' % fname)\n"
     ]
    },
    {
     "name": "stdout",
     "output_type": "stream",
     "text": [
      "(4991, 1031)\n",
      "plate1b_w3_line_2020-02-11_09.10.22_iso_Kynan Lawlor_F_fused.tif\n",
      "(4800, 1020)\n",
      "final_KE012_data\\full_set_trimmed\\bfp_plate1b_w3_line_2020-02-11_09.10.22_iso_Kynan Lawlor_F_fused.tif\n"
     ]
    },
    {
     "name": "stderr",
     "output_type": "stream",
     "text": [
      "C:\\Users\\kynan.lawlor\\AppData\\Local\\Continuum\\miniconda3\\envs\\imaging\\lib\\site-packages\\skimage\\io\\_io.py:141: UserWarning: final_KE012_data\\full_set_trimmed\\bfp_plate1b_w3_line_2020-02-11_09.10.22_iso_Kynan Lawlor_F_fused.tif is a low contrast image\n",
      "  warn('%s is a low contrast image' % fname)\n"
     ]
    },
    {
     "name": "stdout",
     "output_type": "stream",
     "text": [
      "(4992, 1032)\n",
      "plate1b_w3_line_2020-02-11_09.09.29_iso_Kynan Lawlor_F_fused.tif\n",
      "(4800, 1020)\n",
      "final_KE012_data\\full_set_trimmed\\bfp_plate1b_w3_line_2020-02-11_09.09.29_iso_Kynan Lawlor_F_fused.tif\n"
     ]
    },
    {
     "name": "stderr",
     "output_type": "stream",
     "text": [
      "C:\\Users\\kynan.lawlor\\AppData\\Local\\Continuum\\miniconda3\\envs\\imaging\\lib\\site-packages\\skimage\\io\\_io.py:141: UserWarning: final_KE012_data\\full_set_trimmed\\bfp_plate1b_w3_line_2020-02-11_09.09.29_iso_Kynan Lawlor_F_fused.tif is a low contrast image\n",
      "  warn('%s is a low contrast image' % fname)\n"
     ]
    },
    {
     "name": "stdout",
     "output_type": "stream",
     "text": [
      "(4992, 1031)\n",
      "plate1b_w3_line_2020-02-11_09.09.56_iso_Kynan Lawlor_F_fused.tif\n",
      "(4800, 1020)\n",
      "final_KE012_data\\full_set_trimmed\\bfp_plate1b_w3_line_2020-02-11_09.09.56_iso_Kynan Lawlor_F_fused.tif\n",
      "(1024, 1024)\n",
      "plate1b_w6_dots_2020-02-11_09.18.44_iso_Kynan Lawlor_convert_scRNA.tif\n",
      "(1024, 1024)\n",
      "final_KE012_data\\full_set_trimmed\\bfp_plate1b_w6_dots_2020-02-11_09.18.44_iso_Kynan Lawlor_convert_scRNA.tif\n"
     ]
    },
    {
     "name": "stderr",
     "output_type": "stream",
     "text": [
      "C:\\Users\\kynan.lawlor\\AppData\\Local\\Continuum\\miniconda3\\envs\\imaging\\lib\\site-packages\\skimage\\io\\_io.py:141: UserWarning: final_KE012_data\\full_set_trimmed\\bfp_plate1b_w3_line_2020-02-11_09.09.56_iso_Kynan Lawlor_F_fused.tif is a low contrast image\n",
      "  warn('%s is a low contrast image' % fname)\n",
      "C:\\Users\\kynan.lawlor\\AppData\\Local\\Continuum\\miniconda3\\envs\\imaging\\lib\\site-packages\\skimage\\io\\_io.py:141: UserWarning: final_KE012_data\\full_set_trimmed\\bfp_plate1b_w6_dots_2020-02-11_09.18.44_iso_Kynan Lawlor_convert_scRNA.tif is a low contrast image\n",
      "  warn('%s is a low contrast image' % fname)\n"
     ]
    },
    {
     "name": "stdout",
     "output_type": "stream",
     "text": [
      "(1024, 1024)\n",
      "plate1b_w6_dots_2020-02-11_09.19.03_iso_Kynan Lawlor_convert_scRNA.tif\n",
      "(1024, 1024)\n",
      "final_KE012_data\\full_set_trimmed\\bfp_plate1b_w6_dots_2020-02-11_09.19.03_iso_Kynan Lawlor_convert_scRNA.tif\n"
     ]
    },
    {
     "name": "stderr",
     "output_type": "stream",
     "text": [
      "C:\\Users\\kynan.lawlor\\AppData\\Local\\Continuum\\miniconda3\\envs\\imaging\\lib\\site-packages\\skimage\\io\\_io.py:141: UserWarning: final_KE012_data\\full_set_trimmed\\bfp_plate1b_w6_dots_2020-02-11_09.19.03_iso_Kynan Lawlor_convert_scRNA.tif is a low contrast image\n",
      "  warn('%s is a low contrast image' % fname)\n"
     ]
    },
    {
     "name": "stdout",
     "output_type": "stream",
     "text": [
      "(4991, 1031)\n",
      "plate1b_w6_line_2020-02-11_09.19.20_iso_Kynan Lawlor_F_fused_scRNA.tif\n",
      "(4800, 1020)\n",
      "final_KE012_data\\full_set_trimmed\\bfp_plate1b_w6_line_2020-02-11_09.19.20_iso_Kynan Lawlor_F_fused_scRNA.tif\n"
     ]
    },
    {
     "name": "stderr",
     "output_type": "stream",
     "text": [
      "C:\\Users\\kynan.lawlor\\AppData\\Local\\Continuum\\miniconda3\\envs\\imaging\\lib\\site-packages\\skimage\\io\\_io.py:141: UserWarning: final_KE012_data\\full_set_trimmed\\bfp_plate1b_w6_line_2020-02-11_09.19.20_iso_Kynan Lawlor_F_fused_scRNA.tif is a low contrast image\n",
      "  warn('%s is a low contrast image' % fname)\n"
     ]
    },
    {
     "name": "stdout",
     "output_type": "stream",
     "text": [
      "(4991, 1032)\n",
      "plate1b_w6_line_2020-02-11_09.19.47_iso_Kynan Lawlor_F_fused_scRNA.tif\n",
      "(4800, 1020)\n",
      "final_KE012_data\\full_set_trimmed\\bfp_plate1b_w6_line_2020-02-11_09.19.47_iso_Kynan Lawlor_F_fused_scRNA.tif\n"
     ]
    },
    {
     "name": "stderr",
     "output_type": "stream",
     "text": [
      "C:\\Users\\kynan.lawlor\\AppData\\Local\\Continuum\\miniconda3\\envs\\imaging\\lib\\site-packages\\skimage\\io\\_io.py:141: UserWarning: final_KE012_data\\full_set_trimmed\\bfp_plate1b_w6_line_2020-02-11_09.19.47_iso_Kynan Lawlor_F_fused_scRNA.tif is a low contrast image\n",
      "  warn('%s is a low contrast image' % fname)\n",
      "C:\\Users\\kynan.lawlor\\AppData\\Local\\Continuum\\miniconda3\\envs\\imaging\\lib\\site-packages\\skimage\\io\\_io.py:141: UserWarning: final_KE012_data\\full_set_trimmed\\bfp_plate1b_w6_dots_2020-02-11_09.18.19_iso_Kynan Lawlor_convert_scRNA.tif is a low contrast image\n",
      "  warn('%s is a low contrast image' % fname)\n"
     ]
    },
    {
     "name": "stdout",
     "output_type": "stream",
     "text": [
      "(1024, 1024)\n",
      "plate1b_w6_dots_2020-02-11_09.18.19_iso_Kynan Lawlor_convert_scRNA.tif\n",
      "(1024, 1024)\n",
      "final_KE012_data\\full_set_trimmed\\bfp_plate1b_w6_dots_2020-02-11_09.18.19_iso_Kynan Lawlor_convert_scRNA.tif\n",
      "(4992, 1031)\n",
      "plate1b_w6_line_2020-02-11_09.20.13_iso_Kynan Lawlor_F_fused_scRNA.tif\n",
      "(4800, 1020)\n",
      "final_KE012_data\\full_set_trimmed\\bfp_plate1b_w6_line_2020-02-11_09.20.13_iso_Kynan Lawlor_F_fused_scRNA.tif\n"
     ]
    },
    {
     "name": "stderr",
     "output_type": "stream",
     "text": [
      "C:\\Users\\kynan.lawlor\\AppData\\Local\\Continuum\\miniconda3\\envs\\imaging\\lib\\site-packages\\skimage\\io\\_io.py:141: UserWarning: final_KE012_data\\full_set_trimmed\\bfp_plate1b_w6_line_2020-02-11_09.20.13_iso_Kynan Lawlor_F_fused_scRNA.tif is a low contrast image\n",
      "  warn('%s is a low contrast image' % fname)\n"
     ]
    },
    {
     "name": "stdout",
     "output_type": "stream",
     "text": [
      "(1024, 1024)\n",
      "plate1b_w2_dots_2020-02-11_09.05.39_iso_Kynan Lawlor_convert_scRNA.tif\n",
      "(1024, 1024)\n",
      "final_KE012_data\\full_set_trimmed\\bfp_plate1b_w2_dots_2020-02-11_09.05.39_iso_Kynan Lawlor_convert_scRNA.tif\n",
      "(1024, 1024)\n",
      "plate1b_w2_dots_2020-02-11_09.04.14_iso_Kynan Lawlor_convert_scRNA.tif\n",
      "(1024, 1024)\n",
      "final_KE012_data\\full_set_trimmed\\bfp_plate1b_w2_dots_2020-02-11_09.04.14_iso_Kynan Lawlor_convert_scRNA.tif\n"
     ]
    },
    {
     "name": "stderr",
     "output_type": "stream",
     "text": [
      "C:\\Users\\kynan.lawlor\\AppData\\Local\\Continuum\\miniconda3\\envs\\imaging\\lib\\site-packages\\skimage\\io\\_io.py:141: UserWarning: final_KE012_data\\full_set_trimmed\\bfp_plate1b_w2_dots_2020-02-11_09.05.39_iso_Kynan Lawlor_convert_scRNA.tif is a low contrast image\n",
      "  warn('%s is a low contrast image' % fname)\n",
      "C:\\Users\\kynan.lawlor\\AppData\\Local\\Continuum\\miniconda3\\envs\\imaging\\lib\\site-packages\\skimage\\io\\_io.py:141: UserWarning: final_KE012_data\\full_set_trimmed\\bfp_plate1b_w2_dots_2020-02-11_09.04.14_iso_Kynan Lawlor_convert_scRNA.tif is a low contrast image\n",
      "  warn('%s is a low contrast image' % fname)\n"
     ]
    },
    {
     "name": "stdout",
     "output_type": "stream",
     "text": [
      "(4993, 1029)\n",
      "plate1b_w2_line_2020-02-11_09.07.29_iso_Kynan Lawlor_F_fused_scRNA.tif\n",
      "(4800, 1020)\n",
      "final_KE012_data\\full_set_trimmed\\bfp_plate1b_w2_line_2020-02-11_09.07.29_iso_Kynan Lawlor_F_fused_scRNA.tif\n"
     ]
    },
    {
     "name": "stderr",
     "output_type": "stream",
     "text": [
      "C:\\Users\\kynan.lawlor\\AppData\\Local\\Continuum\\miniconda3\\envs\\imaging\\lib\\site-packages\\skimage\\io\\_io.py:141: UserWarning: final_KE012_data\\full_set_trimmed\\bfp_plate1b_w2_line_2020-02-11_09.07.29_iso_Kynan Lawlor_F_fused_scRNA.tif is a low contrast image\n",
      "  warn('%s is a low contrast image' % fname)\n"
     ]
    },
    {
     "name": "stdout",
     "output_type": "stream",
     "text": [
      "(4992, 1030)\n",
      "plate1b_w2_line_2020-02-11_09.07.01_iso_Kynan Lawlor_F_fused_scRNA.tif\n",
      "(4800, 1020)\n",
      "final_KE012_data\\full_set_trimmed\\bfp_plate1b_w2_line_2020-02-11_09.07.01_iso_Kynan Lawlor_F_fused_scRNA.tif\n"
     ]
    },
    {
     "name": "stderr",
     "output_type": "stream",
     "text": [
      "C:\\Users\\kynan.lawlor\\AppData\\Local\\Continuum\\miniconda3\\envs\\imaging\\lib\\site-packages\\skimage\\io\\_io.py:141: UserWarning: final_KE012_data\\full_set_trimmed\\bfp_plate1b_w2_line_2020-02-11_09.07.01_iso_Kynan Lawlor_F_fused_scRNA.tif is a low contrast image\n",
      "  warn('%s is a low contrast image' % fname)\n"
     ]
    },
    {
     "name": "stdout",
     "output_type": "stream",
     "text": [
      "(1024, 1024)\n",
      "plate1b_w2_dots_2020-02-11_09.05.06_iso_Kynan Lawlor_convert_scRNA.tif\n",
      "(1024, 1024)\n",
      "final_KE012_data\\full_set_trimmed\\bfp_plate1b_w2_dots_2020-02-11_09.05.06_iso_Kynan Lawlor_convert_scRNA.tif\n"
     ]
    },
    {
     "name": "stderr",
     "output_type": "stream",
     "text": [
      "C:\\Users\\kynan.lawlor\\AppData\\Local\\Continuum\\miniconda3\\envs\\imaging\\lib\\site-packages\\skimage\\io\\_io.py:141: UserWarning: final_KE012_data\\full_set_trimmed\\bfp_plate1b_w2_dots_2020-02-11_09.05.06_iso_Kynan Lawlor_convert_scRNA.tif is a low contrast image\n",
      "  warn('%s is a low contrast image' % fname)\n"
     ]
    },
    {
     "name": "stdout",
     "output_type": "stream",
     "text": [
      "(4992, 1029)\n",
      "plate1b_w2_line_2020-02-11_09.06.27_iso_Kynan Lawlor_F_fused_scRNA.tif\n",
      "(4800, 1020)\n",
      "final_KE012_data\\full_set_trimmed\\bfp_plate1b_w2_line_2020-02-11_09.06.27_iso_Kynan Lawlor_F_fused_scRNA.tif\n"
     ]
    },
    {
     "name": "stderr",
     "output_type": "stream",
     "text": [
      "C:\\Users\\kynan.lawlor\\AppData\\Local\\Continuum\\miniconda3\\envs\\imaging\\lib\\site-packages\\skimage\\io\\_io.py:141: UserWarning: final_KE012_data\\full_set_trimmed\\bfp_plate1b_w2_line_2020-02-11_09.06.27_iso_Kynan Lawlor_F_fused_scRNA.tif is a low contrast image\n",
      "  warn('%s is a low contrast image' % fname)\n"
     ]
    },
    {
     "name": "stdout",
     "output_type": "stream",
     "text": [
      "(4992, 1030)\n",
      "plate1b_w5_line_2020-02-11_09.17.09_iso_Kynan Lawlor_F_fused_scRNA.tif\n",
      "(4800, 1020)\n",
      "final_KE012_data\\full_set_trimmed\\bfp_plate1b_w5_line_2020-02-11_09.17.09_iso_Kynan Lawlor_F_fused_scRNA.tif\n"
     ]
    },
    {
     "name": "stderr",
     "output_type": "stream",
     "text": [
      "C:\\Users\\kynan.lawlor\\AppData\\Local\\Continuum\\miniconda3\\envs\\imaging\\lib\\site-packages\\skimage\\io\\_io.py:141: UserWarning: final_KE012_data\\full_set_trimmed\\bfp_plate1b_w5_line_2020-02-11_09.17.09_iso_Kynan Lawlor_F_fused_scRNA.tif is a low contrast image\n",
      "  warn('%s is a low contrast image' % fname)\n"
     ]
    },
    {
     "name": "stdout",
     "output_type": "stream",
     "text": [
      "(1024, 1024)\n",
      "plate1b_w5_dots_2020-02-11_09.16.24_iso_Kynan Lawlor_convert_scRNA.tif\n",
      "(1024, 1024)\n",
      "final_KE012_data\\full_set_trimmed\\bfp_plate1b_w5_dots_2020-02-11_09.16.24_iso_Kynan Lawlor_convert_scRNA.tif\n"
     ]
    },
    {
     "name": "stderr",
     "output_type": "stream",
     "text": [
      "C:\\Users\\kynan.lawlor\\AppData\\Local\\Continuum\\miniconda3\\envs\\imaging\\lib\\site-packages\\skimage\\io\\_io.py:141: UserWarning: final_KE012_data\\full_set_trimmed\\bfp_plate1b_w5_dots_2020-02-11_09.16.24_iso_Kynan Lawlor_convert_scRNA.tif is a low contrast image\n",
      "  warn('%s is a low contrast image' % fname)\n"
     ]
    },
    {
     "name": "stdout",
     "output_type": "stream",
     "text": [
      "(1024, 1024)\n",
      "plate1b_w5_dots_2020-02-11_09.15.33_iso_Kynan Lawlor_convert_scRNA.tif\n",
      "(1024, 1024)\n",
      "final_KE012_data\\full_set_trimmed\\bfp_plate1b_w5_dots_2020-02-11_09.15.33_iso_Kynan Lawlor_convert_scRNA.tif\n"
     ]
    },
    {
     "name": "stderr",
     "output_type": "stream",
     "text": [
      "C:\\Users\\kynan.lawlor\\AppData\\Local\\Continuum\\miniconda3\\envs\\imaging\\lib\\site-packages\\skimage\\io\\_io.py:141: UserWarning: final_KE012_data\\full_set_trimmed\\bfp_plate1b_w5_dots_2020-02-11_09.15.33_iso_Kynan Lawlor_convert_scRNA.tif is a low contrast image\n",
      "  warn('%s is a low contrast image' % fname)\n"
     ]
    },
    {
     "name": "stdout",
     "output_type": "stream",
     "text": [
      "(4990, 1030)\n",
      "plate1b_w5_line_2020-02-11_09.16.40_iso_Kynan Lawlor_F_fused_scRNA.tif\n",
      "(4800, 1020)\n",
      "final_KE012_data\\full_set_trimmed\\bfp_plate1b_w5_line_2020-02-11_09.16.40_iso_Kynan Lawlor_F_fused_scRNA.tif\n"
     ]
    },
    {
     "name": "stderr",
     "output_type": "stream",
     "text": [
      "C:\\Users\\kynan.lawlor\\AppData\\Local\\Continuum\\miniconda3\\envs\\imaging\\lib\\site-packages\\skimage\\io\\_io.py:141: UserWarning: final_KE012_data\\full_set_trimmed\\bfp_plate1b_w5_line_2020-02-11_09.16.40_iso_Kynan Lawlor_F_fused_scRNA.tif is a low contrast image\n",
      "  warn('%s is a low contrast image' % fname)\n"
     ]
    },
    {
     "name": "stdout",
     "output_type": "stream",
     "text": [
      "(4992, 1031)\n",
      "plate1b_w5_line_2020-02-11_09.17.35_iso_Kynan Lawlor_F_fused_scRNA.tif\n",
      "(4800, 1020)\n",
      "final_KE012_data\\full_set_trimmed\\bfp_plate1b_w5_line_2020-02-11_09.17.35_iso_Kynan Lawlor_F_fused_scRNA.tif\n"
     ]
    },
    {
     "name": "stderr",
     "output_type": "stream",
     "text": [
      "C:\\Users\\kynan.lawlor\\AppData\\Local\\Continuum\\miniconda3\\envs\\imaging\\lib\\site-packages\\skimage\\io\\_io.py:141: UserWarning: final_KE012_data\\full_set_trimmed\\bfp_plate1b_w5_line_2020-02-11_09.17.35_iso_Kynan Lawlor_F_fused_scRNA.tif is a low contrast image\n",
      "  warn('%s is a low contrast image' % fname)\n"
     ]
    },
    {
     "name": "stdout",
     "output_type": "stream",
     "text": [
      "(1024, 1024)\n",
      "plate1b_w5_dots_2020-02-11_09.15.58_iso_Kynan Lawlor_convert_scRNA.tif\n",
      "(1024, 1024)\n",
      "final_KE012_data\\full_set_trimmed\\bfp_plate1b_w5_dots_2020-02-11_09.15.58_iso_Kynan Lawlor_convert_scRNA.tif\n",
      "(1024, 1024)\n",
      "plate2a_w4_dots_2020-02-11_09.33.19_iso_Kynan Lawlor_convert.tif\n",
      "(1024, 1024)\n",
      "final_KE012_data\\full_set_trimmed\\bfp_plate2a_w4_dots_2020-02-11_09.33.19_iso_Kynan Lawlor_convert.tif\n"
     ]
    },
    {
     "name": "stderr",
     "output_type": "stream",
     "text": [
      "C:\\Users\\kynan.lawlor\\AppData\\Local\\Continuum\\miniconda3\\envs\\imaging\\lib\\site-packages\\skimage\\io\\_io.py:141: UserWarning: final_KE012_data\\full_set_trimmed\\bfp_plate1b_w5_dots_2020-02-11_09.15.58_iso_Kynan Lawlor_convert_scRNA.tif is a low contrast image\n",
      "  warn('%s is a low contrast image' % fname)\n",
      "C:\\Users\\kynan.lawlor\\AppData\\Local\\Continuum\\miniconda3\\envs\\imaging\\lib\\site-packages\\skimage\\io\\_io.py:141: UserWarning: final_KE012_data\\full_set_trimmed\\bfp_plate2a_w4_dots_2020-02-11_09.33.19_iso_Kynan Lawlor_convert.tif is a low contrast image\n",
      "  warn('%s is a low contrast image' % fname)\n"
     ]
    },
    {
     "name": "stdout",
     "output_type": "stream",
     "text": [
      "(1024, 1024)\n",
      "plate2a_w4_dots_2020-02-11_09.33.32_iso_Kynan Lawlor_convert.tif\n",
      "(1024, 1024)\n",
      "final_KE012_data\\full_set_trimmed\\bfp_plate2a_w4_dots_2020-02-11_09.33.32_iso_Kynan Lawlor_convert.tif\n"
     ]
    },
    {
     "name": "stderr",
     "output_type": "stream",
     "text": [
      "C:\\Users\\kynan.lawlor\\AppData\\Local\\Continuum\\miniconda3\\envs\\imaging\\lib\\site-packages\\skimage\\io\\_io.py:141: UserWarning: final_KE012_data\\full_set_trimmed\\bfp_plate2a_w4_dots_2020-02-11_09.33.32_iso_Kynan Lawlor_convert.tif is a low contrast image\n",
      "  warn('%s is a low contrast image' % fname)\n"
     ]
    },
    {
     "name": "stdout",
     "output_type": "stream",
     "text": [
      "(4992, 1029)\n",
      "plate2a_w4_line_2020-02-11_09.35.12_iso_Kynan Lawlor_F_fused.tif\n",
      "(4800, 1020)\n",
      "final_KE012_data\\full_set_trimmed\\bfp_plate2a_w4_line_2020-02-11_09.35.12_iso_Kynan Lawlor_F_fused.tif\n"
     ]
    },
    {
     "name": "stderr",
     "output_type": "stream",
     "text": [
      "C:\\Users\\kynan.lawlor\\AppData\\Local\\Continuum\\miniconda3\\envs\\imaging\\lib\\site-packages\\skimage\\io\\_io.py:141: UserWarning: final_KE012_data\\full_set_trimmed\\bfp_plate2a_w4_line_2020-02-11_09.35.12_iso_Kynan Lawlor_F_fused.tif is a low contrast image\n",
      "  warn('%s is a low contrast image' % fname)\n"
     ]
    },
    {
     "name": "stdout",
     "output_type": "stream",
     "text": [
      "(1024, 1024)\n",
      "plate2a_w4_dots_2020-02-11_09.33.50_iso_Kynan Lawlor_convert.tif\n",
      "(1024, 1024)\n",
      "final_KE012_data\\full_set_trimmed\\bfp_plate2a_w4_dots_2020-02-11_09.33.50_iso_Kynan Lawlor_convert.tif\n"
     ]
    },
    {
     "name": "stderr",
     "output_type": "stream",
     "text": [
      "C:\\Users\\kynan.lawlor\\AppData\\Local\\Continuum\\miniconda3\\envs\\imaging\\lib\\site-packages\\skimage\\io\\_io.py:141: UserWarning: final_KE012_data\\full_set_trimmed\\bfp_plate2a_w4_dots_2020-02-11_09.33.50_iso_Kynan Lawlor_convert.tif is a low contrast image\n",
      "  warn('%s is a low contrast image' % fname)\n"
     ]
    },
    {
     "name": "stdout",
     "output_type": "stream",
     "text": [
      "(4991, 1028)\n",
      "plate2a_w4_line_2020-02-11_09.34.43_iso_Kynan Lawlor_F_fused.tif\n",
      "(4800, 1020)\n",
      "final_KE012_data\\full_set_trimmed\\bfp_plate2a_w4_line_2020-02-11_09.34.43_iso_Kynan Lawlor_F_fused.tif\n"
     ]
    },
    {
     "name": "stderr",
     "output_type": "stream",
     "text": [
      "C:\\Users\\kynan.lawlor\\AppData\\Local\\Continuum\\miniconda3\\envs\\imaging\\lib\\site-packages\\skimage\\io\\_io.py:141: UserWarning: final_KE012_data\\full_set_trimmed\\bfp_plate2a_w4_line_2020-02-11_09.34.43_iso_Kynan Lawlor_F_fused.tif is a low contrast image\n",
      "  warn('%s is a low contrast image' % fname)\n"
     ]
    },
    {
     "name": "stdout",
     "output_type": "stream",
     "text": [
      "(4989, 1028)\n",
      "plate2a_w4_line_2020-02-11_09.34.12_iso_Kynan Lawlor_F_fused.tif\n",
      "(4800, 1020)\n",
      "final_KE012_data\\full_set_trimmed\\bfp_plate2a_w4_line_2020-02-11_09.34.12_iso_Kynan Lawlor_F_fused.tif\n"
     ]
    },
    {
     "name": "stderr",
     "output_type": "stream",
     "text": [
      "C:\\Users\\kynan.lawlor\\AppData\\Local\\Continuum\\miniconda3\\envs\\imaging\\lib\\site-packages\\skimage\\io\\_io.py:141: UserWarning: final_KE012_data\\full_set_trimmed\\bfp_plate2a_w4_line_2020-02-11_09.34.12_iso_Kynan Lawlor_F_fused.tif is a low contrast image\n",
      "  warn('%s is a low contrast image' % fname)\n"
     ]
    },
    {
     "name": "stdout",
     "output_type": "stream",
     "text": [
      "(1024, 1024)\n",
      "plate2a_w3_dots_2020-02-11_09.31.02_iso_Kynan Lawlor_convert.tif\n",
      "(1024, 1024)\n",
      "final_KE012_data\\full_set_trimmed\\bfp_plate2a_w3_dots_2020-02-11_09.31.02_iso_Kynan Lawlor_convert.tif\n"
     ]
    },
    {
     "name": "stderr",
     "output_type": "stream",
     "text": [
      "C:\\Users\\kynan.lawlor\\AppData\\Local\\Continuum\\miniconda3\\envs\\imaging\\lib\\site-packages\\skimage\\io\\_io.py:141: UserWarning: final_KE012_data\\full_set_trimmed\\bfp_plate2a_w3_dots_2020-02-11_09.31.02_iso_Kynan Lawlor_convert.tif is a low contrast image\n",
      "  warn('%s is a low contrast image' % fname)\n"
     ]
    },
    {
     "name": "stdout",
     "output_type": "stream",
     "text": [
      "(4992, 1031)\n",
      "plate2a_w3_line_2020-02-11_09.31.56_iso_Kynan Lawlor_F_fused.tif\n",
      "(4800, 1020)\n",
      "final_KE012_data\\full_set_trimmed\\bfp_plate2a_w3_line_2020-02-11_09.31.56_iso_Kynan Lawlor_F_fused.tif\n"
     ]
    },
    {
     "name": "stderr",
     "output_type": "stream",
     "text": [
      "C:\\Users\\kynan.lawlor\\AppData\\Local\\Continuum\\miniconda3\\envs\\imaging\\lib\\site-packages\\skimage\\io\\_io.py:141: UserWarning: final_KE012_data\\full_set_trimmed\\bfp_plate2a_w3_line_2020-02-11_09.31.56_iso_Kynan Lawlor_F_fused.tif is a low contrast image\n",
      "  warn('%s is a low contrast image' % fname)\n"
     ]
    },
    {
     "name": "stdout",
     "output_type": "stream",
     "text": [
      "(4992, 1032)\n",
      "plate2a_w3_line_2020-02-11_09.32.21_iso_Kynan Lawlor_F_fused.tif\n",
      "(4800, 1020)\n",
      "final_KE012_data\\full_set_trimmed\\bfp_plate2a_w3_line_2020-02-11_09.32.21_iso_Kynan Lawlor_F_fused.tif\n"
     ]
    },
    {
     "name": "stderr",
     "output_type": "stream",
     "text": [
      "C:\\Users\\kynan.lawlor\\AppData\\Local\\Continuum\\miniconda3\\envs\\imaging\\lib\\site-packages\\skimage\\io\\_io.py:141: UserWarning: final_KE012_data\\full_set_trimmed\\bfp_plate2a_w3_line_2020-02-11_09.32.21_iso_Kynan Lawlor_F_fused.tif is a low contrast image\n",
      "  warn('%s is a low contrast image' % fname)\n"
     ]
    },
    {
     "name": "stdout",
     "output_type": "stream",
     "text": [
      "(1024, 1024)\n",
      "plate2a_w3_dots_2020-02-11_09.30.25_iso_Kynan Lawlor_convert.tif\n",
      "(1024, 1024)\n",
      "final_KE012_data\\full_set_trimmed\\bfp_plate2a_w3_dots_2020-02-11_09.30.25_iso_Kynan Lawlor_convert.tif\n"
     ]
    },
    {
     "name": "stderr",
     "output_type": "stream",
     "text": [
      "C:\\Users\\kynan.lawlor\\AppData\\Local\\Continuum\\miniconda3\\envs\\imaging\\lib\\site-packages\\skimage\\io\\_io.py:141: UserWarning: final_KE012_data\\full_set_trimmed\\bfp_plate2a_w3_dots_2020-02-11_09.30.25_iso_Kynan Lawlor_convert.tif is a low contrast image\n",
      "  warn('%s is a low contrast image' % fname)\n"
     ]
    },
    {
     "name": "stdout",
     "output_type": "stream",
     "text": [
      "(4992, 1031)\n",
      "plate2a_w3_line_2020-02-11_09.31.21_iso_Kynan Lawlor_F_fused.tif\n",
      "(4800, 1020)\n",
      "final_KE012_data\\full_set_trimmed\\bfp_plate2a_w3_line_2020-02-11_09.31.21_iso_Kynan Lawlor_F_fused.tif\n",
      "(1024, 1024)\n",
      "plate2a_w3_dots_2020-02-11_09.30.13_iso_Kynan Lawlor_convert.tif\n",
      "(1024, 1024)\n",
      "final_KE012_data\\full_set_trimmed\\bfp_plate2a_w3_dots_2020-02-11_09.30.13_iso_Kynan Lawlor_convert.tif\n"
     ]
    },
    {
     "name": "stderr",
     "output_type": "stream",
     "text": [
      "C:\\Users\\kynan.lawlor\\AppData\\Local\\Continuum\\miniconda3\\envs\\imaging\\lib\\site-packages\\skimage\\io\\_io.py:141: UserWarning: final_KE012_data\\full_set_trimmed\\bfp_plate2a_w3_line_2020-02-11_09.31.21_iso_Kynan Lawlor_F_fused.tif is a low contrast image\n",
      "  warn('%s is a low contrast image' % fname)\n",
      "C:\\Users\\kynan.lawlor\\AppData\\Local\\Continuum\\miniconda3\\envs\\imaging\\lib\\site-packages\\skimage\\io\\_io.py:141: UserWarning: final_KE012_data\\full_set_trimmed\\bfp_plate2a_w3_dots_2020-02-11_09.30.13_iso_Kynan Lawlor_convert.tif is a low contrast image\n",
      "  warn('%s is a low contrast image' % fname)\n"
     ]
    },
    {
     "name": "stdout",
     "output_type": "stream",
     "text": [
      "(4991, 1031)\n",
      "plate2a_w6_line_2020-02-11_09.39.53_iso_Kynan Lawlor_F_fused.tif\n",
      "(4800, 1020)\n",
      "final_KE012_data\\full_set_trimmed\\bfp_plate2a_w6_line_2020-02-11_09.39.53_iso_Kynan Lawlor_F_fused.tif\n"
     ]
    },
    {
     "name": "stderr",
     "output_type": "stream",
     "text": [
      "C:\\Users\\kynan.lawlor\\AppData\\Local\\Continuum\\miniconda3\\envs\\imaging\\lib\\site-packages\\skimage\\io\\_io.py:141: UserWarning: final_KE012_data\\full_set_trimmed\\bfp_plate2a_w6_line_2020-02-11_09.39.53_iso_Kynan Lawlor_F_fused.tif is a low contrast image\n",
      "  warn('%s is a low contrast image' % fname)\n"
     ]
    },
    {
     "name": "stdout",
     "output_type": "stream",
     "text": [
      "(4992, 1029)\n",
      "plate2a_w6_line_2020-02-11_09.38.56_iso_Kynan Lawlor_F_fused.tif\n",
      "(4800, 1020)\n",
      "final_KE012_data\\full_set_trimmed\\bfp_plate2a_w6_line_2020-02-11_09.38.56_iso_Kynan Lawlor_F_fused.tif\n"
     ]
    },
    {
     "name": "stderr",
     "output_type": "stream",
     "text": [
      "C:\\Users\\kynan.lawlor\\AppData\\Local\\Continuum\\miniconda3\\envs\\imaging\\lib\\site-packages\\skimage\\io\\_io.py:141: UserWarning: final_KE012_data\\full_set_trimmed\\bfp_plate2a_w6_line_2020-02-11_09.38.56_iso_Kynan Lawlor_F_fused.tif is a low contrast image\n",
      "  warn('%s is a low contrast image' % fname)\n"
     ]
    },
    {
     "name": "stdout",
     "output_type": "stream",
     "text": [
      "(4990, 1031)\n",
      "plate2a_w6_line_2020-02-11_09.39.25_iso_Kynan Lawlor_F_fused.tif\n",
      "(4800, 1020)\n",
      "final_KE012_data\\full_set_trimmed\\bfp_plate2a_w6_line_2020-02-11_09.39.25_iso_Kynan Lawlor_F_fused.tif\n",
      "(1024, 1024)\n",
      "plate2a_w6_dots_2020-02-11_09.38.15_iso_Kynan Lawlor_convert.tif\n",
      "(1024, 1024)\n",
      "final_KE012_data\\full_set_trimmed\\bfp_plate2a_w6_dots_2020-02-11_09.38.15_iso_Kynan Lawlor_convert.tif\n"
     ]
    },
    {
     "name": "stderr",
     "output_type": "stream",
     "text": [
      "C:\\Users\\kynan.lawlor\\AppData\\Local\\Continuum\\miniconda3\\envs\\imaging\\lib\\site-packages\\skimage\\io\\_io.py:141: UserWarning: final_KE012_data\\full_set_trimmed\\bfp_plate2a_w6_line_2020-02-11_09.39.25_iso_Kynan Lawlor_F_fused.tif is a low contrast image\n",
      "  warn('%s is a low contrast image' % fname)\n",
      "C:\\Users\\kynan.lawlor\\AppData\\Local\\Continuum\\miniconda3\\envs\\imaging\\lib\\site-packages\\skimage\\io\\_io.py:141: UserWarning: final_KE012_data\\full_set_trimmed\\bfp_plate2a_w6_dots_2020-02-11_09.38.15_iso_Kynan Lawlor_convert.tif is a low contrast image\n",
      "  warn('%s is a low contrast image' % fname)\n"
     ]
    },
    {
     "name": "stdout",
     "output_type": "stream",
     "text": [
      "(1024, 1024)\n",
      "plate2a_w6_dots_2020-02-11_09.38.42_iso_Kynan Lawlor_convert.tif\n",
      "(1024, 1024)\n",
      "final_KE012_data\\full_set_trimmed\\bfp_plate2a_w6_dots_2020-02-11_09.38.42_iso_Kynan Lawlor_convert.tif\n",
      "(1024, 1024)\n",
      "plate2a_w6_dots_2020-02-11_09.38.31_iso_Kynan Lawlor_convert.tif\n",
      "(1024, 1024)\n",
      "final_KE012_data\\full_set_trimmed\\bfp_plate2a_w6_dots_2020-02-11_09.38.31_iso_Kynan Lawlor_convert.tif\n"
     ]
    },
    {
     "name": "stderr",
     "output_type": "stream",
     "text": [
      "C:\\Users\\kynan.lawlor\\AppData\\Local\\Continuum\\miniconda3\\envs\\imaging\\lib\\site-packages\\skimage\\io\\_io.py:141: UserWarning: final_KE012_data\\full_set_trimmed\\bfp_plate2a_w6_dots_2020-02-11_09.38.42_iso_Kynan Lawlor_convert.tif is a low contrast image\n",
      "  warn('%s is a low contrast image' % fname)\n",
      "C:\\Users\\kynan.lawlor\\AppData\\Local\\Continuum\\miniconda3\\envs\\imaging\\lib\\site-packages\\skimage\\io\\_io.py:141: UserWarning: final_KE012_data\\full_set_trimmed\\bfp_plate2a_w6_dots_2020-02-11_09.38.31_iso_Kynan Lawlor_convert.tif is a low contrast image\n",
      "  warn('%s is a low contrast image' % fname)\n"
     ]
    },
    {
     "name": "stdout",
     "output_type": "stream",
     "text": [
      "(4992, 1029)\n",
      "plate2a_w2_line_2020-02-11_09.29.04_iso_Kynan Lawlor_F_fused.tif\n",
      "(4800, 1020)\n",
      "final_KE012_data\\full_set_trimmed\\bfp_plate2a_w2_line_2020-02-11_09.29.04_iso_Kynan Lawlor_F_fused.tif\n"
     ]
    },
    {
     "name": "stderr",
     "output_type": "stream",
     "text": [
      "C:\\Users\\kynan.lawlor\\AppData\\Local\\Continuum\\miniconda3\\envs\\imaging\\lib\\site-packages\\skimage\\io\\_io.py:141: UserWarning: final_KE012_data\\full_set_trimmed\\bfp_plate2a_w2_line_2020-02-11_09.29.04_iso_Kynan Lawlor_F_fused.tif is a low contrast image\n",
      "  warn('%s is a low contrast image' % fname)\n"
     ]
    },
    {
     "name": "stdout",
     "output_type": "stream",
     "text": [
      "(4992, 1030)\n",
      "plate2a_w2_line_2020-02-11_09.28.33_iso_Kynan Lawlor_F_fused.tif\n",
      "(4800, 1020)\n",
      "final_KE012_data\\full_set_trimmed\\bfp_plate2a_w2_line_2020-02-11_09.28.33_iso_Kynan Lawlor_F_fused.tif\n",
      "(1024, 1024)"
     ]
    },
    {
     "name": "stderr",
     "output_type": "stream",
     "text": [
      "C:\\Users\\kynan.lawlor\\AppData\\Local\\Continuum\\miniconda3\\envs\\imaging\\lib\\site-packages\\skimage\\io\\_io.py:141: UserWarning: final_KE012_data\\full_set_trimmed\\bfp_plate2a_w2_line_2020-02-11_09.28.33_iso_Kynan Lawlor_F_fused.tif is a low contrast image\n",
      "  warn('%s is a low contrast image' % fname)\n",
      "C:\\Users\\kynan.lawlor\\AppData\\Local\\Continuum\\miniconda3\\envs\\imaging\\lib\\site-packages\\skimage\\io\\_io.py:141: UserWarning: final_KE012_data\\full_set_trimmed\\bfp_plate2a_w2_dots_2020-02-11_09.28.04_iso_Kynan Lawlor_convert.tif is a low contrast image\n",
      "  warn('%s is a low contrast image' % fname)\n"
     ]
    },
    {
     "name": "stdout",
     "output_type": "stream",
     "text": [
      "\n",
      "plate2a_w2_dots_2020-02-11_09.28.04_iso_Kynan Lawlor_convert.tif\n",
      "(1024, 1024)\n",
      "final_KE012_data\\full_set_trimmed\\bfp_plate2a_w2_dots_2020-02-11_09.28.04_iso_Kynan Lawlor_convert.tif\n",
      "(1024, 1024)\n",
      "plate2a_w2_dots_2020-02-11_09.27.42_iso_Kynan Lawlor_convert.tif\n",
      "(1024, 1024)\n",
      "final_KE012_data\\full_set_trimmed\\bfp_plate2a_w2_dots_2020-02-11_09.27.42_iso_Kynan Lawlor_convert.tif\n"
     ]
    },
    {
     "name": "stderr",
     "output_type": "stream",
     "text": [
      "C:\\Users\\kynan.lawlor\\AppData\\Local\\Continuum\\miniconda3\\envs\\imaging\\lib\\site-packages\\skimage\\io\\_io.py:141: UserWarning: final_KE012_data\\full_set_trimmed\\bfp_plate2a_w2_dots_2020-02-11_09.27.42_iso_Kynan Lawlor_convert.tif is a low contrast image\n",
      "  warn('%s is a low contrast image' % fname)\n"
     ]
    },
    {
     "name": "stdout",
     "output_type": "stream",
     "text": [
      "(4992, 1030)\n",
      "plate2a_w2_line_2020-02-11_09.29.31_iso_Kynan Lawlor_F_fused.tif\n",
      "(4800, 1020)\n",
      "final_KE012_data\\full_set_trimmed\\bfp_plate2a_w2_line_2020-02-11_09.29.31_iso_Kynan Lawlor_F_fused.tif\n",
      "(1024, 1024)\n",
      "plate2a_w2_dots_2020-02-11_09.28.17_iso_Kynan Lawlor_convert.tif\n",
      "(1024, 1024)\n",
      "final_KE012_data\\full_set_trimmed\\bfp_plate2a_w2_dots_2020-02-11_09.28.17_iso_Kynan Lawlor_convert.tif\n"
     ]
    },
    {
     "name": "stderr",
     "output_type": "stream",
     "text": [
      "C:\\Users\\kynan.lawlor\\AppData\\Local\\Continuum\\miniconda3\\envs\\imaging\\lib\\site-packages\\skimage\\io\\_io.py:141: UserWarning: final_KE012_data\\full_set_trimmed\\bfp_plate2a_w2_line_2020-02-11_09.29.31_iso_Kynan Lawlor_F_fused.tif is a low contrast image\n",
      "  warn('%s is a low contrast image' % fname)\n",
      "C:\\Users\\kynan.lawlor\\AppData\\Local\\Continuum\\miniconda3\\envs\\imaging\\lib\\site-packages\\skimage\\io\\_io.py:141: UserWarning: final_KE012_data\\full_set_trimmed\\bfp_plate2a_w2_dots_2020-02-11_09.28.17_iso_Kynan Lawlor_convert.tif is a low contrast image\n",
      "  warn('%s is a low contrast image' % fname)\n"
     ]
    },
    {
     "name": "stdout",
     "output_type": "stream",
     "text": [
      "(4990, 1030)\n",
      "plate2a_w5_line_2020-02-11_09.37.38_iso_Kynan Lawlor_F_fused.tif\n",
      "(4800, 1020)\n",
      "final_KE012_data\\full_set_trimmed\\bfp_plate2a_w5_line_2020-02-11_09.37.38_iso_Kynan Lawlor_F_fused.tif\n"
     ]
    },
    {
     "name": "stderr",
     "output_type": "stream",
     "text": [
      "C:\\Users\\kynan.lawlor\\AppData\\Local\\Continuum\\miniconda3\\envs\\imaging\\lib\\site-packages\\skimage\\io\\_io.py:141: UserWarning: final_KE012_data\\full_set_trimmed\\bfp_plate2a_w5_line_2020-02-11_09.37.38_iso_Kynan Lawlor_F_fused.tif is a low contrast image\n",
      "  warn('%s is a low contrast image' % fname)\n"
     ]
    },
    {
     "name": "stdout",
     "output_type": "stream",
     "text": [
      "(4991, 1029)\n",
      "plate2a_w5_line_2020-02-11_09.36.40_iso_Kynan Lawlor_F_fused.tif\n",
      "(4800, 1020)\n",
      "final_KE012_data\\full_set_trimmed\\bfp_plate2a_w5_line_2020-02-11_09.36.40_iso_Kynan Lawlor_F_fused.tif\n"
     ]
    },
    {
     "name": "stderr",
     "output_type": "stream",
     "text": [
      "C:\\Users\\kynan.lawlor\\AppData\\Local\\Continuum\\miniconda3\\envs\\imaging\\lib\\site-packages\\skimage\\io\\_io.py:141: UserWarning: final_KE012_data\\full_set_trimmed\\bfp_plate2a_w5_line_2020-02-11_09.36.40_iso_Kynan Lawlor_F_fused.tif is a low contrast image\n",
      "  warn('%s is a low contrast image' % fname)\n"
     ]
    },
    {
     "name": "stdout",
     "output_type": "stream",
     "text": [
      "(4990, 1030)\n",
      "plate2a_w5_line_2020-02-11_09.37.06_iso_Kynan Lawlor_F_fused.tif\n",
      "(4800, 1020)\n",
      "final_KE012_data\\full_set_trimmed\\bfp_plate2a_w5_line_2020-02-11_09.37.06_iso_Kynan Lawlor_F_fused.tif\n"
     ]
    },
    {
     "name": "stderr",
     "output_type": "stream",
     "text": [
      "C:\\Users\\kynan.lawlor\\AppData\\Local\\Continuum\\miniconda3\\envs\\imaging\\lib\\site-packages\\skimage\\io\\_io.py:141: UserWarning: final_KE012_data\\full_set_trimmed\\bfp_plate2a_w5_line_2020-02-11_09.37.06_iso_Kynan Lawlor_F_fused.tif is a low contrast image\n",
      "  warn('%s is a low contrast image' % fname)\n"
     ]
    },
    {
     "name": "stdout",
     "output_type": "stream",
     "text": [
      "(1024, 1024)\n",
      "plate2a_w5_dots_2020-02-11_09.36.13_iso_Kynan Lawlor_convert.tif\n",
      "(1024, 1024)\n",
      "final_KE012_data\\full_set_trimmed\\bfp_plate2a_w5_dots_2020-02-11_09.36.13_iso_Kynan Lawlor_convert.tif\n",
      "(1024, 1024)\n",
      "plate2a_w5_dots_2020-02-11_09.35.55_iso_Kynan Lawlor_convert.tif\n",
      "(1024, 1024)\n",
      "final_KE012_data\\full_set_trimmed\\bfp_plate2a_w5_dots_2020-02-11_09.35.55_iso_Kynan Lawlor_convert.tif\n"
     ]
    },
    {
     "name": "stderr",
     "output_type": "stream",
     "text": [
      "C:\\Users\\kynan.lawlor\\AppData\\Local\\Continuum\\miniconda3\\envs\\imaging\\lib\\site-packages\\skimage\\io\\_io.py:141: UserWarning: final_KE012_data\\full_set_trimmed\\bfp_plate2a_w5_dots_2020-02-11_09.36.13_iso_Kynan Lawlor_convert.tif is a low contrast image\n",
      "  warn('%s is a low contrast image' % fname)\n",
      "C:\\Users\\kynan.lawlor\\AppData\\Local\\Continuum\\miniconda3\\envs\\imaging\\lib\\site-packages\\skimage\\io\\_io.py:141: UserWarning: final_KE012_data\\full_set_trimmed\\bfp_plate2a_w5_dots_2020-02-11_09.35.55_iso_Kynan Lawlor_convert.tif is a low contrast image\n",
      "  warn('%s is a low contrast image' % fname)\n"
     ]
    },
    {
     "name": "stdout",
     "output_type": "stream",
     "text": [
      "(1024, 1024)\n",
      "plate2a_w5_dots_2020-02-11_09.36.27_iso_Kynan Lawlor_convert.tif\n",
      "(1024, 1024)\n",
      "final_KE012_data\\full_set_trimmed\\bfp_plate2a_w5_dots_2020-02-11_09.36.27_iso_Kynan Lawlor_convert.tif\n",
      "(1024, 1024)\n",
      "plate1a_w3_dots_2020-02-11_08.42.19_iso_Kynan Lawlor_convert.tif\n",
      "(1024, 1024)\n",
      "final_KE012_data\\full_set_trimmed\\bfp_plate1a_w3_dots_2020-02-11_08.42.19_iso_Kynan Lawlor_convert.tif\n"
     ]
    },
    {
     "name": "stderr",
     "output_type": "stream",
     "text": [
      "C:\\Users\\kynan.lawlor\\AppData\\Local\\Continuum\\miniconda3\\envs\\imaging\\lib\\site-packages\\skimage\\io\\_io.py:141: UserWarning: final_KE012_data\\full_set_trimmed\\bfp_plate2a_w5_dots_2020-02-11_09.36.27_iso_Kynan Lawlor_convert.tif is a low contrast image\n",
      "  warn('%s is a low contrast image' % fname)\n",
      "C:\\Users\\kynan.lawlor\\AppData\\Local\\Continuum\\miniconda3\\envs\\imaging\\lib\\site-packages\\skimage\\io\\_io.py:141: UserWarning: final_KE012_data\\full_set_trimmed\\bfp_plate1a_w3_dots_2020-02-11_08.42.19_iso_Kynan Lawlor_convert.tif is a low contrast image\n",
      "  warn('%s is a low contrast image' % fname)\n"
     ]
    },
    {
     "name": "stdout",
     "output_type": "stream",
     "text": [
      "(4872, 1031)\n",
      "plate1a_w3_line_2020-02-11_08.43.33_iso_Kynan Lawlor_F_fused.tif\n",
      "(4800, 1020)\n",
      "final_KE012_data\\full_set_trimmed\\bfp_plate1a_w3_line_2020-02-11_08.43.33_iso_Kynan Lawlor_F_fused.tif\n",
      "(1024, 1024)\n",
      "plate1a_w3_dots_2020-02-11_08.41.05_iso_Kynan Lawlor_convert.tif\n",
      "(1024, 1024)\n",
      "final_KE012_data\\full_set_trimmed\\bfp_plate1a_w3_dots_2020-02-11_08.41.05_iso_Kynan Lawlor_convert.tif\n"
     ]
    },
    {
     "name": "stderr",
     "output_type": "stream",
     "text": [
      "C:\\Users\\kynan.lawlor\\AppData\\Local\\Continuum\\miniconda3\\envs\\imaging\\lib\\site-packages\\skimage\\io\\_io.py:141: UserWarning: final_KE012_data\\full_set_trimmed\\bfp_plate1a_w3_line_2020-02-11_08.43.33_iso_Kynan Lawlor_F_fused.tif is a low contrast image\n",
      "  warn('%s is a low contrast image' % fname)\n",
      "C:\\Users\\kynan.lawlor\\AppData\\Local\\Continuum\\miniconda3\\envs\\imaging\\lib\\site-packages\\skimage\\io\\_io.py:141: UserWarning: final_KE012_data\\full_set_trimmed\\bfp_plate1a_w3_dots_2020-02-11_08.41.05_iso_Kynan Lawlor_convert.tif is a low contrast image\n",
      "  warn('%s is a low contrast image' % fname)\n"
     ]
    },
    {
     "name": "stdout",
     "output_type": "stream",
     "text": [
      "(4992, 1032)\n",
      "plate1a_w3_line_2020-02-11_08.42.39_iso_Kynan Lawlor_F_fused.tif\n",
      "(4800, 1020)\n",
      "final_KE012_data\\full_set_trimmed\\bfp_plate1a_w3_line_2020-02-11_08.42.39_iso_Kynan Lawlor_F_fused.tif\n"
     ]
    },
    {
     "name": "stderr",
     "output_type": "stream",
     "text": [
      "C:\\Users\\kynan.lawlor\\AppData\\Local\\Continuum\\miniconda3\\envs\\imaging\\lib\\site-packages\\skimage\\io\\_io.py:141: UserWarning: final_KE012_data\\full_set_trimmed\\bfp_plate1a_w3_line_2020-02-11_08.42.39_iso_Kynan Lawlor_F_fused.tif is a low contrast image\n",
      "  warn('%s is a low contrast image' % fname)\n"
     ]
    },
    {
     "name": "stdout",
     "output_type": "stream",
     "text": [
      "(4992, 1032)\n",
      "plate1a_w3_line_2020-02-11_08.46.15_iso_Kynan Lawlor_F_fused.tif\n",
      "(4800, 1020)\n",
      "final_KE012_data\\full_set_trimmed\\bfp_plate1a_w3_line_2020-02-11_08.46.15_iso_Kynan Lawlor_F_fused.tif\n",
      "(1024, 1024)\n",
      "plate1a_w3_dots_2020-02-11_08.41.56_iso_Kynan Lawlor_convert.tif\n",
      "(1024, 1024)\n",
      "final_KE012_data\\full_set_trimmed\\bfp_plate1a_w3_dots_2020-02-11_08.41.56_iso_Kynan Lawlor_convert.tif\n"
     ]
    },
    {
     "name": "stderr",
     "output_type": "stream",
     "text": [
      "C:\\Users\\kynan.lawlor\\AppData\\Local\\Continuum\\miniconda3\\envs\\imaging\\lib\\site-packages\\skimage\\io\\_io.py:141: UserWarning: final_KE012_data\\full_set_trimmed\\bfp_plate1a_w3_line_2020-02-11_08.46.15_iso_Kynan Lawlor_F_fused.tif is a low contrast image\n",
      "  warn('%s is a low contrast image' % fname)\n",
      "C:\\Users\\kynan.lawlor\\AppData\\Local\\Continuum\\miniconda3\\envs\\imaging\\lib\\site-packages\\skimage\\io\\_io.py:141: UserWarning: final_KE012_data\\full_set_trimmed\\bfp_plate1a_w3_dots_2020-02-11_08.41.56_iso_Kynan Lawlor_convert.tif is a low contrast image\n",
      "  warn('%s is a low contrast image' % fname)\n"
     ]
    },
    {
     "name": "stdout",
     "output_type": "stream",
     "text": [
      "(2922, 1707)\n",
      "plate1a_w6_line_2020-02-11_08.56.33_iso_Kynan Lawlor_F_fused.tif\n",
      "(2922, 1020)\n",
      "final_KE012_data\\full_set_trimmed\\bfp_plate1a_w6_line_2020-02-11_08.56.33_iso_Kynan Lawlor_F_fused.tif\n"
     ]
    },
    {
     "name": "stderr",
     "output_type": "stream",
     "text": [
      "C:\\Users\\kynan.lawlor\\AppData\\Local\\Continuum\\miniconda3\\envs\\imaging\\lib\\site-packages\\skimage\\io\\_io.py:141: UserWarning: final_KE012_data\\full_set_trimmed\\bfp_plate1a_w6_line_2020-02-11_08.56.33_iso_Kynan Lawlor_F_fused.tif is a low contrast image\n",
      "  warn('%s is a low contrast image' % fname)\n"
     ]
    },
    {
     "name": "stdout",
     "output_type": "stream",
     "text": [
      "(4871, 1032)\n",
      "plate1a_w6_line_2020-02-11_08.54.39_iso_Kynan Lawlor_F_fused.tif\n",
      "(4800, 1020)\n",
      "final_KE012_data\\full_set_trimmed\\bfp_plate1a_w6_line_2020-02-11_08.54.39_iso_Kynan Lawlor_F_fused.tif\n"
     ]
    },
    {
     "name": "stderr",
     "output_type": "stream",
     "text": [
      "C:\\Users\\kynan.lawlor\\AppData\\Local\\Continuum\\miniconda3\\envs\\imaging\\lib\\site-packages\\skimage\\io\\_io.py:141: UserWarning: final_KE012_data\\full_set_trimmed\\bfp_plate1a_w6_line_2020-02-11_08.54.39_iso_Kynan Lawlor_F_fused.tif is a low contrast image\n",
      "  warn('%s is a low contrast image' % fname)\n"
     ]
    },
    {
     "name": "stdout",
     "output_type": "stream",
     "text": [
      "(1024, 1024)\n",
      "plate1a_w6_dots_2020-02-11_08.52.27_iso_Kynan Lawlor_convert.tif\n",
      "(1024, 1024)\n",
      "final_KE012_data\\full_set_trimmed\\bfp_plate1a_w6_dots_2020-02-11_08.52.27_iso_Kynan Lawlor_convert.tif\n",
      "(1024, 1024)\n",
      "plate1a_w6_dots_2020-02-11_08.53.20_iso_Kynan Lawlor_convert.tif\n",
      "(1024, 1024)\n",
      "final_KE012_data\\full_set_trimmed\\bfp_plate1a_w6_dots_2020-02-11_08.53.20_iso_Kynan Lawlor_convert.tif\n"
     ]
    },
    {
     "name": "stderr",
     "output_type": "stream",
     "text": [
      "C:\\Users\\kynan.lawlor\\AppData\\Local\\Continuum\\miniconda3\\envs\\imaging\\lib\\site-packages\\skimage\\io\\_io.py:141: UserWarning: final_KE012_data\\full_set_trimmed\\bfp_plate1a_w6_dots_2020-02-11_08.52.27_iso_Kynan Lawlor_convert.tif is a low contrast image\n",
      "  warn('%s is a low contrast image' % fname)\n",
      "C:\\Users\\kynan.lawlor\\AppData\\Local\\Continuum\\miniconda3\\envs\\imaging\\lib\\site-packages\\skimage\\io\\_io.py:141: UserWarning: final_KE012_data\\full_set_trimmed\\bfp_plate1a_w6_dots_2020-02-11_08.53.20_iso_Kynan Lawlor_convert.tif is a low contrast image\n",
      "  warn('%s is a low contrast image' % fname)\n"
     ]
    },
    {
     "name": "stdout",
     "output_type": "stream",
     "text": [
      "(4992, 1031)\n",
      "plate1a_w6_line_2020-02-11_08.53.46_iso_Kynan Lawlor_F_fused.tif\n",
      "(4800, 1020)\n",
      "final_KE012_data\\full_set_trimmed\\bfp_plate1a_w6_line_2020-02-11_08.53.46_iso_Kynan Lawlor_F_fused.tif\n"
     ]
    },
    {
     "name": "stderr",
     "output_type": "stream",
     "text": [
      "C:\\Users\\kynan.lawlor\\AppData\\Local\\Continuum\\miniconda3\\envs\\imaging\\lib\\site-packages\\skimage\\io\\_io.py:141: UserWarning: final_KE012_data\\full_set_trimmed\\bfp_plate1a_w6_line_2020-02-11_08.53.46_iso_Kynan Lawlor_F_fused.tif is a low contrast image\n",
      "  warn('%s is a low contrast image' % fname)\n",
      "C:\\Users\\kynan.lawlor\\AppData\\Local\\Continuum\\miniconda3\\envs\\imaging\\lib\\site-packages\\skimage\\io\\_io.py:141: UserWarning: final_KE012_data\\full_set_trimmed\\bfp_plate1a_w6_dots_2020-02-11_08.52.52_iso_Kynan Lawlor_convert.tif is a low contrast image\n",
      "  warn('%s is a low contrast image' % fname)\n"
     ]
    },
    {
     "name": "stdout",
     "output_type": "stream",
     "text": [
      "(1024, 1024)\n",
      "plate1a_w6_dots_2020-02-11_08.52.52_iso_Kynan Lawlor_convert.tif\n",
      "(1024, 1024)\n",
      "final_KE012_data\\full_set_trimmed\\bfp_plate1a_w6_dots_2020-02-11_08.52.52_iso_Kynan Lawlor_convert.tif\n",
      "(4993, 1031)\n",
      "plate1a_w2_line_2020-02-11_08.36.56_iso_Kynan Lawlor_F_fused.tif\n",
      "(4800, 1020)\n",
      "final_KE012_data\\full_set_trimmed\\bfp_plate1a_w2_line_2020-02-11_08.36.56_iso_Kynan Lawlor_F_fused.tif\n",
      "(1024, 1024)\n",
      "plate1a_w2_dots_2020-02-11_08.35.57_iso_Kynan Lawlor_convert.tif\n",
      "(1024, 1024)\n",
      "final_KE012_data\\full_set_trimmed\\bfp_plate1a_w2_dots_2020-02-11_08.35.57_iso_Kynan Lawlor_convert.tif\n"
     ]
    },
    {
     "name": "stderr",
     "output_type": "stream",
     "text": [
      "C:\\Users\\kynan.lawlor\\AppData\\Local\\Continuum\\miniconda3\\envs\\imaging\\lib\\site-packages\\skimage\\io\\_io.py:141: UserWarning: final_KE012_data\\full_set_trimmed\\bfp_plate1a_w2_line_2020-02-11_08.36.56_iso_Kynan Lawlor_F_fused.tif is a low contrast image\n",
      "  warn('%s is a low contrast image' % fname)\n",
      "C:\\Users\\kynan.lawlor\\AppData\\Local\\Continuum\\miniconda3\\envs\\imaging\\lib\\site-packages\\skimage\\io\\_io.py:141: UserWarning: final_KE012_data\\full_set_trimmed\\bfp_plate1a_w2_dots_2020-02-11_08.35.57_iso_Kynan Lawlor_convert.tif is a low contrast image\n",
      "  warn('%s is a low contrast image' % fname)\n"
     ]
    },
    {
     "name": "stdout",
     "output_type": "stream",
     "text": [
      "(1024, 1024)\n",
      "plate1a_w2_dots_2020-02-11_08.36.22_iso_Kynan Lawlor_convert.tif\n",
      "(1024, 1024)\n",
      "final_KE012_data\\full_set_trimmed\\bfp_plate1a_w2_dots_2020-02-11_08.36.22_iso_Kynan Lawlor_convert.tif\n"
     ]
    },
    {
     "name": "stderr",
     "output_type": "stream",
     "text": [
      "C:\\Users\\kynan.lawlor\\AppData\\Local\\Continuum\\miniconda3\\envs\\imaging\\lib\\site-packages\\skimage\\io\\_io.py:141: UserWarning: final_KE012_data\\full_set_trimmed\\bfp_plate1a_w2_dots_2020-02-11_08.36.22_iso_Kynan Lawlor_convert.tif is a low contrast image\n",
      "  warn('%s is a low contrast image' % fname)\n"
     ]
    },
    {
     "name": "stdout",
     "output_type": "stream",
     "text": [
      "(4993, 1031)\n",
      "plate1a_w2_line_2020-02-11_08.39.04_iso_Kynan Lawlor_F_fused.tif\n",
      "(4800, 1020)\n",
      "final_KE012_data\\full_set_trimmed\\bfp_plate1a_w2_line_2020-02-11_08.39.04_iso_Kynan Lawlor_F_fused.tif\n",
      "(1024, 1024)\n",
      "plate1a_w2_dots_2020-02-11_08.35.17_iso_Kynan Lawlor_convert.tif\n",
      "(1024, 1024)\n",
      "final_KE012_data\\full_set_trimmed\\bfp_plate1a_w2_dots_2020-02-11_08.35.17_iso_Kynan Lawlor_convert.tif\n"
     ]
    },
    {
     "name": "stderr",
     "output_type": "stream",
     "text": [
      "C:\\Users\\kynan.lawlor\\AppData\\Local\\Continuum\\miniconda3\\envs\\imaging\\lib\\site-packages\\skimage\\io\\_io.py:141: UserWarning: final_KE012_data\\full_set_trimmed\\bfp_plate1a_w2_line_2020-02-11_08.39.04_iso_Kynan Lawlor_F_fused.tif is a low contrast image\n",
      "  warn('%s is a low contrast image' % fname)\n",
      "C:\\Users\\kynan.lawlor\\AppData\\Local\\Continuum\\miniconda3\\envs\\imaging\\lib\\site-packages\\skimage\\io\\_io.py:141: UserWarning: final_KE012_data\\full_set_trimmed\\bfp_plate1a_w2_dots_2020-02-11_08.35.17_iso_Kynan Lawlor_convert.tif is a low contrast image\n",
      "  warn('%s is a low contrast image' % fname)\n"
     ]
    },
    {
     "name": "stdout",
     "output_type": "stream",
     "text": [
      "(4992, 1030)\n",
      "plate1a_w2_line_2020-02-11_08.37.57_iso_Kynan Lawlor_F_fused.tif\n",
      "(4800, 1020)\n",
      "final_KE012_data\\full_set_trimmed\\bfp_plate1a_w2_line_2020-02-11_08.37.57_iso_Kynan Lawlor_F_fused.tif\n",
      "(1024, 1024)\n",
      "plate1a_w5_dots_2020-02-11_08.48.13_iso_Kynan Lawlor_convert.tif\n",
      "(1024, 1024)\n",
      "final_KE012_data\\full_set_trimmed\\bfp_plate1a_w5_dots_2020-02-11_08.48.13_iso_Kynan Lawlor_convert.tif\n"
     ]
    },
    {
     "name": "stderr",
     "output_type": "stream",
     "text": [
      "C:\\Users\\kynan.lawlor\\AppData\\Local\\Continuum\\miniconda3\\envs\\imaging\\lib\\site-packages\\skimage\\io\\_io.py:141: UserWarning: final_KE012_data\\full_set_trimmed\\bfp_plate1a_w2_line_2020-02-11_08.37.57_iso_Kynan Lawlor_F_fused.tif is a low contrast image\n",
      "  warn('%s is a low contrast image' % fname)\n",
      "C:\\Users\\kynan.lawlor\\AppData\\Local\\Continuum\\miniconda3\\envs\\imaging\\lib\\site-packages\\skimage\\io\\_io.py:141: UserWarning: final_KE012_data\\full_set_trimmed\\bfp_plate1a_w5_dots_2020-02-11_08.48.13_iso_Kynan Lawlor_convert.tif is a low contrast image\n",
      "  warn('%s is a low contrast image' % fname)\n"
     ]
    },
    {
     "name": "stdout",
     "output_type": "stream",
     "text": [
      "(1024, 1024)\n",
      "plate1a_w5_dots_2020-02-11_08.48.48_iso_Kynan Lawlor_convert.tif\n",
      "(1024, 1024)\n",
      "final_KE012_data\\full_set_trimmed\\bfp_plate1a_w5_dots_2020-02-11_08.48.48_iso_Kynan Lawlor_convert.tif\n"
     ]
    },
    {
     "name": "stderr",
     "output_type": "stream",
     "text": [
      "C:\\Users\\kynan.lawlor\\AppData\\Local\\Continuum\\miniconda3\\envs\\imaging\\lib\\site-packages\\skimage\\io\\_io.py:141: UserWarning: final_KE012_data\\full_set_trimmed\\bfp_plate1a_w5_dots_2020-02-11_08.48.48_iso_Kynan Lawlor_convert.tif is a low contrast image\n",
      "  warn('%s is a low contrast image' % fname)\n"
     ]
    },
    {
     "name": "stdout",
     "output_type": "stream",
     "text": [
      "(4992, 1030)\n",
      "plate1a_w5_line_2020-02-11_08.50.19_iso_Kynan Lawlor_F_fused.tif\n",
      "(4800, 1020)\n",
      "final_KE012_data\\full_set_trimmed\\bfp_plate1a_w5_line_2020-02-11_08.50.19_iso_Kynan Lawlor_F_fused.tif\n"
     ]
    },
    {
     "name": "stderr",
     "output_type": "stream",
     "text": [
      "C:\\Users\\kynan.lawlor\\AppData\\Local\\Continuum\\miniconda3\\envs\\imaging\\lib\\site-packages\\skimage\\io\\_io.py:141: UserWarning: final_KE012_data\\full_set_trimmed\\bfp_plate1a_w5_line_2020-02-11_08.50.19_iso_Kynan Lawlor_F_fused.tif is a low contrast image\n",
      "  warn('%s is a low contrast image' % fname)\n"
     ]
    },
    {
     "name": "stdout",
     "output_type": "stream",
     "text": [
      "(4992, 1030)\n",
      "plate1a_w5_line_2020-02-11_08.51.14_iso_Kynan Lawlor_F_fused.tif\n",
      "(4800, 1020)\n",
      "final_KE012_data\\full_set_trimmed\\bfp_plate1a_w5_line_2020-02-11_08.51.14_iso_Kynan Lawlor_F_fused.tif\n"
     ]
    },
    {
     "name": "stderr",
     "output_type": "stream",
     "text": [
      "C:\\Users\\kynan.lawlor\\AppData\\Local\\Continuum\\miniconda3\\envs\\imaging\\lib\\site-packages\\skimage\\io\\_io.py:141: UserWarning: final_KE012_data\\full_set_trimmed\\bfp_plate1a_w5_line_2020-02-11_08.51.14_iso_Kynan Lawlor_F_fused.tif is a low contrast image\n",
      "  warn('%s is a low contrast image' % fname)\n"
     ]
    },
    {
     "name": "stdout",
     "output_type": "stream",
     "text": [
      "(1024, 1024)\n",
      "plate1a_w5_dots_2020-02-11_08.48.29_iso_Kynan Lawlor_convert.tif\n",
      "(1024, 1024)\n",
      "final_KE012_data\\full_set_trimmed\\bfp_plate1a_w5_dots_2020-02-11_08.48.29_iso_Kynan Lawlor_convert.tif\n"
     ]
    },
    {
     "name": "stderr",
     "output_type": "stream",
     "text": [
      "C:\\Users\\kynan.lawlor\\AppData\\Local\\Continuum\\miniconda3\\envs\\imaging\\lib\\site-packages\\skimage\\io\\_io.py:141: UserWarning: final_KE012_data\\full_set_trimmed\\bfp_plate1a_w5_dots_2020-02-11_08.48.29_iso_Kynan Lawlor_convert.tif is a low contrast image\n",
      "  warn('%s is a low contrast image' % fname)\n"
     ]
    },
    {
     "name": "stdout",
     "output_type": "stream",
     "text": [
      "(4992, 1031)\n",
      "plate1a_w5_line_2020-02-11_08.49.26_iso_Kynan Lawlor_F_fused.tif\n",
      "(4800, 1020)\n",
      "final_KE012_data\\full_set_trimmed\\bfp_plate1a_w5_line_2020-02-11_08.49.26_iso_Kynan Lawlor_F_fused.tif\n",
      "(1024, 1024)\n",
      "plate6_hand4_hand_2020-02-11_10.38.58_iso_Kynan Lawlor_convert.tif\n",
      "(1024, 1024)\n",
      "final_KE012_data\\full_set_trimmed\\bfp_plate6_hand4_hand_2020-02-11_10.38.58_iso_Kynan Lawlor_convert.tif\n"
     ]
    },
    {
     "name": "stderr",
     "output_type": "stream",
     "text": [
      "C:\\Users\\kynan.lawlor\\AppData\\Local\\Continuum\\miniconda3\\envs\\imaging\\lib\\site-packages\\skimage\\io\\_io.py:141: UserWarning: final_KE012_data\\full_set_trimmed\\bfp_plate1a_w5_line_2020-02-11_08.49.26_iso_Kynan Lawlor_F_fused.tif is a low contrast image\n",
      "  warn('%s is a low contrast image' % fname)\n",
      "C:\\Users\\kynan.lawlor\\AppData\\Local\\Continuum\\miniconda3\\envs\\imaging\\lib\\site-packages\\skimage\\io\\_io.py:141: UserWarning: final_KE012_data\\full_set_trimmed\\bfp_plate6_hand4_hand_2020-02-11_10.38.58_iso_Kynan Lawlor_convert.tif is a low contrast image\n",
      "  warn('%s is a low contrast image' % fname)\n"
     ]
    },
    {
     "name": "stdout",
     "output_type": "stream",
     "text": [
      "(1024, 1024)\n",
      "plate6_hand4_hand_2020-02-11_10.38.39_iso_Kynan Lawlor_convert.tif\n",
      "(1024, 1024)\n",
      "final_KE012_data\\full_set_trimmed\\bfp_plate6_hand4_hand_2020-02-11_10.38.39_iso_Kynan Lawlor_convert.tif\n",
      "(1024, 1024)\n",
      "plate6_hand4_hand_2020-02-11_10.38.20_iso_Kynan Lawlor_convert.tif\n",
      "(1024, 1024)\n",
      "final_KE012_data\\full_set_trimmed\\bfp_plate6_hand4_hand_2020-02-11_10.38.20_iso_Kynan Lawlor_convert.tif\n"
     ]
    },
    {
     "name": "stderr",
     "output_type": "stream",
     "text": [
      "C:\\Users\\kynan.lawlor\\AppData\\Local\\Continuum\\miniconda3\\envs\\imaging\\lib\\site-packages\\skimage\\io\\_io.py:141: UserWarning: final_KE012_data\\full_set_trimmed\\bfp_plate6_hand4_hand_2020-02-11_10.38.39_iso_Kynan Lawlor_convert.tif is a low contrast image\n",
      "  warn('%s is a low contrast image' % fname)\n",
      "C:\\Users\\kynan.lawlor\\AppData\\Local\\Continuum\\miniconda3\\envs\\imaging\\lib\\site-packages\\skimage\\io\\_io.py:141: UserWarning: final_KE012_data\\full_set_trimmed\\bfp_plate6_hand4_hand_2020-02-11_10.38.20_iso_Kynan Lawlor_convert.tif is a low contrast image\n",
      "  warn('%s is a low contrast image' % fname)\n"
     ]
    },
    {
     "name": "stdout",
     "output_type": "stream",
     "text": [
      "(1024, 1024)\n",
      "plate6_hand4_hand_2020-02-11_10.37.52_iso_Kynan Lawlor_convert.tif\n",
      "(1024, 1024)\n",
      "final_KE012_data\\full_set_trimmed\\bfp_plate6_hand4_hand_2020-02-11_10.37.52_iso_Kynan Lawlor_convert.tif\n"
     ]
    },
    {
     "name": "stderr",
     "output_type": "stream",
     "text": [
      "C:\\Users\\kynan.lawlor\\AppData\\Local\\Continuum\\miniconda3\\envs\\imaging\\lib\\site-packages\\skimage\\io\\_io.py:141: UserWarning: final_KE012_data\\full_set_trimmed\\bfp_plate6_hand4_hand_2020-02-11_10.37.52_iso_Kynan Lawlor_convert.tif is a low contrast image\n",
      "  warn('%s is a low contrast image' % fname)\n"
     ]
    }
   ],
   "source": [
    "for i,f in enumerate(files):\n",
    "    plate = [s for s in os.path.dirname(f).split(\"\\\\\") if re.match(\"^plate*\", s)][0]\n",
    "    well = os.path.dirname(f).split(\"\\\\\")[2]\n",
    "    img = skimage.io.imread(f)[:,:,0]\n",
    "    print(img.shape)\n",
    "    if img.shape[0] > 2000:\n",
    "        img = img[0:4800,0:1020]\n",
    "        condition = \"line\"\n",
    "    elif 'hand' in well:\n",
    "        condition = 'hand'\n",
    "    else:\n",
    "        condition = 'dots'\n",
    "    file_string = \"_\".join([plate, well, condition, os.path.basename(f)])\n",
    "    print(file_string)\n",
    "    out_path = os.path.join('final_KE012_data','full_set_trimmed', 'bfp_' + file_string)\n",
    "    print(img.shape)\n",
    "    print(out_path)\n",
    "    skimage.io.imsave(arr=img, fname=out_path)\n",
    "    "
   ]
  },
  {
   "cell_type": "markdown",
   "metadata": {},
   "source": [
    "Now, cell below is for GATA3-cherry channel. this is channel two in the images."
   ]
  },
  {
   "cell_type": "code",
   "execution_count": 13,
   "metadata": {},
   "outputs": [
    {
     "name": "stdout",
     "output_type": "stream",
     "text": [
      "(4992, 1028)\n",
      "(4800, 1020)\n",
      "final_KE012_data\\cherry_full_set_trimmed\\cherry_plate2b_w1_line_2020-02-11_17.23.54_iso_Kynan Lawlor_F_fused.tif\n"
     ]
    },
    {
     "name": "stderr",
     "output_type": "stream",
     "text": [
      "C:\\Users\\kynan.lawlor\\AppData\\Local\\Continuum\\miniconda3\\envs\\imaging\\lib\\site-packages\\skimage\\io\\_io.py:141: UserWarning: final_KE012_data\\cherry_full_set_trimmed\\cherry_plate2b_w1_line_2020-02-11_17.23.54_iso_Kynan Lawlor_F_fused.tif is a low contrast image\n",
      "  warn('%s is a low contrast image' % fname)\n"
     ]
    },
    {
     "name": "stdout",
     "output_type": "stream",
     "text": [
      "(4992, 1028)\n",
      "(4800, 1020)\n",
      "final_KE012_data\\cherry_full_set_trimmed\\cherry_plate2b_w1_line_2020-02-11_17.23.28_iso_Kynan Lawlor_F_fused.tif\n",
      "(1024, 1024)\n",
      "(1024, 1024)\n",
      "final_KE012_data\\cherry_full_set_trimmed\\cherry_plate2b_w1_dots_2020-02-11_17.23.15_iso_Kynan Lawlor_convert.tif\n"
     ]
    },
    {
     "name": "stderr",
     "output_type": "stream",
     "text": [
      "C:\\Users\\kynan.lawlor\\AppData\\Local\\Continuum\\miniconda3\\envs\\imaging\\lib\\site-packages\\skimage\\io\\_io.py:141: UserWarning: final_KE012_data\\cherry_full_set_trimmed\\cherry_plate2b_w1_line_2020-02-11_17.23.28_iso_Kynan Lawlor_F_fused.tif is a low contrast image\n",
      "  warn('%s is a low contrast image' % fname)\n",
      "C:\\Users\\kynan.lawlor\\AppData\\Local\\Continuum\\miniconda3\\envs\\imaging\\lib\\site-packages\\skimage\\io\\_io.py:141: UserWarning: final_KE012_data\\cherry_full_set_trimmed\\cherry_plate2b_w1_dots_2020-02-11_17.23.15_iso_Kynan Lawlor_convert.tif is a low contrast image\n",
      "  warn('%s is a low contrast image' % fname)\n"
     ]
    },
    {
     "name": "stdout",
     "output_type": "stream",
     "text": [
      "(1024, 1024)\n",
      "(1024, 1024)\n",
      "final_KE012_data\\cherry_full_set_trimmed\\cherry_plate2b_w1_dots_2020-02-11_17.23.04_iso_Kynan Lawlor_convert.tif\n",
      "(1024, 1024)\n",
      "(1024, 1024)\n",
      "final_KE012_data\\cherry_full_set_trimmed\\cherry_plate2b_w1_dots_2020-02-11_17.22.37_iso_Kynan Lawlor_convert.tif\n"
     ]
    },
    {
     "name": "stderr",
     "output_type": "stream",
     "text": [
      "C:\\Users\\kynan.lawlor\\AppData\\Local\\Continuum\\miniconda3\\envs\\imaging\\lib\\site-packages\\skimage\\io\\_io.py:141: UserWarning: final_KE012_data\\cherry_full_set_trimmed\\cherry_plate2b_w1_dots_2020-02-11_17.23.04_iso_Kynan Lawlor_convert.tif is a low contrast image\n",
      "  warn('%s is a low contrast image' % fname)\n",
      "C:\\Users\\kynan.lawlor\\AppData\\Local\\Continuum\\miniconda3\\envs\\imaging\\lib\\site-packages\\skimage\\io\\_io.py:141: UserWarning: final_KE012_data\\cherry_full_set_trimmed\\cherry_plate2b_w1_dots_2020-02-11_17.22.37_iso_Kynan Lawlor_convert.tif is a low contrast image\n",
      "  warn('%s is a low contrast image' % fname)\n"
     ]
    },
    {
     "name": "stdout",
     "output_type": "stream",
     "text": [
      "(4992, 1028)\n",
      "(4800, 1020)\n",
      "final_KE012_data\\cherry_full_set_trimmed\\cherry_plate2b_w1_line_2020-02-11_17.24.19_iso_Kynan Lawlor_F_fused.tif\n",
      "(4990, 1029)\n",
      "(4800, 1020)\n",
      "final_KE012_data\\cherry_full_set_trimmed\\cherry_plate2b_w4_line_2020-02-11_09.48.27_iso_Kynan Lawlor_F_fused_scRNA.tif\n"
     ]
    },
    {
     "name": "stderr",
     "output_type": "stream",
     "text": [
      "C:\\Users\\kynan.lawlor\\AppData\\Local\\Continuum\\miniconda3\\envs\\imaging\\lib\\site-packages\\skimage\\io\\_io.py:141: UserWarning: final_KE012_data\\cherry_full_set_trimmed\\cherry_plate2b_w1_line_2020-02-11_17.24.19_iso_Kynan Lawlor_F_fused.tif is a low contrast image\n",
      "  warn('%s is a low contrast image' % fname)\n",
      "C:\\Users\\kynan.lawlor\\AppData\\Local\\Continuum\\miniconda3\\envs\\imaging\\lib\\site-packages\\skimage\\io\\_io.py:141: UserWarning: final_KE012_data\\cherry_full_set_trimmed\\cherry_plate2b_w4_line_2020-02-11_09.48.27_iso_Kynan Lawlor_F_fused_scRNA.tif is a low contrast image\n",
      "  warn('%s is a low contrast image' % fname)\n",
      "C:\\Users\\kynan.lawlor\\AppData\\Local\\Continuum\\miniconda3\\envs\\imaging\\lib\\site-packages\\skimage\\io\\_io.py:141: UserWarning: final_KE012_data\\cherry_full_set_trimmed\\cherry_plate2b_w4_dots_2020-02-11_09.48.01_iso_Kynan Lawlor_convert_scRNA.tif is a low contrast image\n",
      "  warn('%s is a low contrast image' % fname)\n"
     ]
    },
    {
     "name": "stdout",
     "output_type": "stream",
     "text": [
      "(1024, 1024)\n",
      "(1024, 1024)\n",
      "final_KE012_data\\cherry_full_set_trimmed\\cherry_plate2b_w4_dots_2020-02-11_09.48.01_iso_Kynan Lawlor_convert_scRNA.tif\n",
      "(1024, 1024)\n",
      "(1024, 1024)\n",
      "final_KE012_data\\cherry_full_set_trimmed\\cherry_plate2b_w3_dots_2020-02-11_17.28.39_iso_Kynan Lawlor_convert.tif\n"
     ]
    },
    {
     "name": "stderr",
     "output_type": "stream",
     "text": [
      "C:\\Users\\kynan.lawlor\\AppData\\Local\\Continuum\\miniconda3\\envs\\imaging\\lib\\site-packages\\skimage\\io\\_io.py:141: UserWarning: final_KE012_data\\cherry_full_set_trimmed\\cherry_plate2b_w3_dots_2020-02-11_17.28.39_iso_Kynan Lawlor_convert.tif is a low contrast image\n",
      "  warn('%s is a low contrast image' % fname)\n"
     ]
    },
    {
     "name": "stdout",
     "output_type": "stream",
     "text": [
      "(4992, 1032)\n",
      "(4800, 1020)\n",
      "final_KE012_data\\cherry_full_set_trimmed\\cherry_plate2b_w3_line_2020-02-11_17.29.18_iso_Kynan Lawlor_F_fused.tif\n"
     ]
    },
    {
     "name": "stderr",
     "output_type": "stream",
     "text": [
      "C:\\Users\\kynan.lawlor\\AppData\\Local\\Continuum\\miniconda3\\envs\\imaging\\lib\\site-packages\\skimage\\io\\_io.py:141: UserWarning: final_KE012_data\\cherry_full_set_trimmed\\cherry_plate2b_w3_line_2020-02-11_17.29.18_iso_Kynan Lawlor_F_fused.tif is a low contrast image\n",
      "  warn('%s is a low contrast image' % fname)\n"
     ]
    },
    {
     "name": "stdout",
     "output_type": "stream",
     "text": [
      "(4992, 1031)\n",
      "(4800, 1020)\n",
      "final_KE012_data\\cherry_full_set_trimmed\\cherry_plate2b_w3_line_2020-02-11_17.29.45_iso_Kynan Lawlor_F_fused.tif\n",
      "(1024, 1024)\n",
      "(1024, 1024)\n",
      "final_KE012_data\\cherry_full_set_trimmed\\cherry_plate2b_w3_dots_2020-02-11_17.28.56_iso_Kynan Lawlor_convert.tif\n"
     ]
    },
    {
     "name": "stderr",
     "output_type": "stream",
     "text": [
      "C:\\Users\\kynan.lawlor\\AppData\\Local\\Continuum\\miniconda3\\envs\\imaging\\lib\\site-packages\\skimage\\io\\_io.py:141: UserWarning: final_KE012_data\\cherry_full_set_trimmed\\cherry_plate2b_w3_line_2020-02-11_17.29.45_iso_Kynan Lawlor_F_fused.tif is a low contrast image\n",
      "  warn('%s is a low contrast image' % fname)\n",
      "C:\\Users\\kynan.lawlor\\AppData\\Local\\Continuum\\miniconda3\\envs\\imaging\\lib\\site-packages\\skimage\\io\\_io.py:141: UserWarning: final_KE012_data\\cherry_full_set_trimmed\\cherry_plate2b_w3_dots_2020-02-11_17.28.56_iso_Kynan Lawlor_convert.tif is a low contrast image\n",
      "  warn('%s is a low contrast image' % fname)\n"
     ]
    },
    {
     "name": "stdout",
     "output_type": "stream",
     "text": [
      "(4992, 1031)\n",
      "(4800, 1020)\n",
      "final_KE012_data\\cherry_full_set_trimmed\\cherry_plate2b_w3_line_2020-02-11_17.30.19_iso_Kynan Lawlor_F_fused.tif\n",
      "(1024, 1024)\n",
      "(1024, 1024)\n",
      "final_KE012_data\\cherry_full_set_trimmed\\cherry_plate2b_w3_dots_2020-02-11_17.28.25_iso_Kynan Lawlor_convert.tif\n"
     ]
    },
    {
     "name": "stderr",
     "output_type": "stream",
     "text": [
      "C:\\Users\\kynan.lawlor\\AppData\\Local\\Continuum\\miniconda3\\envs\\imaging\\lib\\site-packages\\skimage\\io\\_io.py:141: UserWarning: final_KE012_data\\cherry_full_set_trimmed\\cherry_plate2b_w3_line_2020-02-11_17.30.19_iso_Kynan Lawlor_F_fused.tif is a low contrast image\n",
      "  warn('%s is a low contrast image' % fname)\n",
      "C:\\Users\\kynan.lawlor\\AppData\\Local\\Continuum\\miniconda3\\envs\\imaging\\lib\\site-packages\\skimage\\io\\_io.py:141: UserWarning: final_KE012_data\\cherry_full_set_trimmed\\cherry_plate2b_w3_dots_2020-02-11_17.28.25_iso_Kynan Lawlor_convert.tif is a low contrast image\n",
      "  warn('%s is a low contrast image' % fname)\n"
     ]
    },
    {
     "name": "stdout",
     "output_type": "stream",
     "text": [
      "(4992, 1029)\n",
      "(4800, 1020)\n",
      "final_KE012_data\\cherry_full_set_trimmed\\cherry_plate2b_w6_line_2020-02-11_09.51.40_iso_Kynan Lawlor_F_fused_scRNA.tif\n",
      "(1024, 1024)\n",
      "(1024, 1024)\n",
      "final_KE012_data\\cherry_full_set_trimmed\\cherry_plate2b_w6_dots_2020-02-11_09.51.17_iso_Kynan Lawlor_convert_scRNA.tif\n"
     ]
    },
    {
     "name": "stderr",
     "output_type": "stream",
     "text": [
      "C:\\Users\\kynan.lawlor\\AppData\\Local\\Continuum\\miniconda3\\envs\\imaging\\lib\\site-packages\\skimage\\io\\_io.py:141: UserWarning: final_KE012_data\\cherry_full_set_trimmed\\cherry_plate2b_w6_line_2020-02-11_09.51.40_iso_Kynan Lawlor_F_fused_scRNA.tif is a low contrast image\n",
      "  warn('%s is a low contrast image' % fname)\n",
      "C:\\Users\\kynan.lawlor\\AppData\\Local\\Continuum\\miniconda3\\envs\\imaging\\lib\\site-packages\\skimage\\io\\_io.py:141: UserWarning: final_KE012_data\\cherry_full_set_trimmed\\cherry_plate2b_w6_dots_2020-02-11_09.51.17_iso_Kynan Lawlor_convert_scRNA.tif is a low contrast image\n",
      "  warn('%s is a low contrast image' % fname)\n"
     ]
    },
    {
     "name": "stdout",
     "output_type": "stream",
     "text": [
      "(4990, 1031)\n",
      "(4800, 1020)\n",
      "final_KE012_data\\cherry_full_set_trimmed\\cherry_plate2b_w2_line_2020-02-11_17.27.41_iso_Kynan Lawlor_F_fused.tif\n",
      "(1024, 1024)\n",
      "(1024, 1024)\n",
      "final_KE012_data\\cherry_full_set_trimmed\\cherry_plate2b_w2_dots_2020-02-11_17.26.15_iso_Kynan Lawlor_convert.tif\n"
     ]
    },
    {
     "name": "stderr",
     "output_type": "stream",
     "text": [
      "C:\\Users\\kynan.lawlor\\AppData\\Local\\Continuum\\miniconda3\\envs\\imaging\\lib\\site-packages\\skimage\\io\\_io.py:141: UserWarning: final_KE012_data\\cherry_full_set_trimmed\\cherry_plate2b_w2_line_2020-02-11_17.27.41_iso_Kynan Lawlor_F_fused.tif is a low contrast image\n",
      "  warn('%s is a low contrast image' % fname)\n",
      "C:\\Users\\kynan.lawlor\\AppData\\Local\\Continuum\\miniconda3\\envs\\imaging\\lib\\site-packages\\skimage\\io\\_io.py:141: UserWarning: final_KE012_data\\cherry_full_set_trimmed\\cherry_plate2b_w2_dots_2020-02-11_17.26.15_iso_Kynan Lawlor_convert.tif is a low contrast image\n",
      "  warn('%s is a low contrast image' % fname)\n"
     ]
    },
    {
     "name": "stdout",
     "output_type": "stream",
     "text": [
      "(1024, 1024)\n",
      "(1024, 1024)\n",
      "final_KE012_data\\cherry_full_set_trimmed\\cherry_plate2b_w2_dots_2020-02-11_17.26.26_iso_Kynan Lawlor_convert.tif\n",
      "(4992, 1030)\n",
      "(4800, 1020)\n",
      "final_KE012_data\\cherry_full_set_trimmed\\cherry_plate2b_w2_line_2020-02-11_17.26.42_iso_Kynan Lawlor_F_fused.tif\n"
     ]
    },
    {
     "name": "stderr",
     "output_type": "stream",
     "text": [
      "C:\\Users\\kynan.lawlor\\AppData\\Local\\Continuum\\miniconda3\\envs\\imaging\\lib\\site-packages\\skimage\\io\\_io.py:141: UserWarning: final_KE012_data\\cherry_full_set_trimmed\\cherry_plate2b_w2_dots_2020-02-11_17.26.26_iso_Kynan Lawlor_convert.tif is a low contrast image\n",
      "  warn('%s is a low contrast image' % fname)\n",
      "C:\\Users\\kynan.lawlor\\AppData\\Local\\Continuum\\miniconda3\\envs\\imaging\\lib\\site-packages\\skimage\\io\\_io.py:141: UserWarning: final_KE012_data\\cherry_full_set_trimmed\\cherry_plate2b_w2_line_2020-02-11_17.26.42_iso_Kynan Lawlor_F_fused.tif is a low contrast image\n",
      "  warn('%s is a low contrast image' % fname)\n"
     ]
    },
    {
     "name": "stdout",
     "output_type": "stream",
     "text": [
      "(4992, 1030)\n",
      "(4800, 1020)\n",
      "final_KE012_data\\cherry_full_set_trimmed\\cherry_plate2b_w2_line_2020-02-11_17.27.12_iso_Kynan Lawlor_F_fused.tif\n",
      "(1024, 1024)\n",
      "(1024, 1024)\n",
      "final_KE012_data\\cherry_full_set_trimmed\\cherry_plate2b_w2_dots_2020-02-11_17.26.02_iso_Kynan Lawlor_convert.tif\n"
     ]
    },
    {
     "name": "stderr",
     "output_type": "stream",
     "text": [
      "C:\\Users\\kynan.lawlor\\AppData\\Local\\Continuum\\miniconda3\\envs\\imaging\\lib\\site-packages\\skimage\\io\\_io.py:141: UserWarning: final_KE012_data\\cherry_full_set_trimmed\\cherry_plate2b_w2_line_2020-02-11_17.27.12_iso_Kynan Lawlor_F_fused.tif is a low contrast image\n",
      "  warn('%s is a low contrast image' % fname)\n",
      "C:\\Users\\kynan.lawlor\\AppData\\Local\\Continuum\\miniconda3\\envs\\imaging\\lib\\site-packages\\skimage\\io\\_io.py:141: UserWarning: final_KE012_data\\cherry_full_set_trimmed\\cherry_plate2b_w2_dots_2020-02-11_17.26.02_iso_Kynan Lawlor_convert.tif is a low contrast image\n",
      "  warn('%s is a low contrast image' % fname)\n"
     ]
    },
    {
     "name": "stdout",
     "output_type": "stream",
     "text": [
      "(1024, 1024)\n",
      "(1024, 1024)\n",
      "final_KE012_data\\cherry_full_set_trimmed\\cherry_plate2b_w5_dots_2020-02-11_09.49.58_iso_Kynan Lawlor_convert_scRNA.tif\n"
     ]
    },
    {
     "name": "stderr",
     "output_type": "stream",
     "text": [
      "C:\\Users\\kynan.lawlor\\AppData\\Local\\Continuum\\miniconda3\\envs\\imaging\\lib\\site-packages\\skimage\\io\\_io.py:141: UserWarning: final_KE012_data\\cherry_full_set_trimmed\\cherry_plate2b_w5_dots_2020-02-11_09.49.58_iso_Kynan Lawlor_convert_scRNA.tif is a low contrast image\n",
      "  warn('%s is a low contrast image' % fname)\n"
     ]
    },
    {
     "name": "stdout",
     "output_type": "stream",
     "text": [
      "(4870, 1030)\n",
      "(4800, 1020)\n",
      "final_KE012_data\\cherry_full_set_trimmed\\cherry_plate2b_w5_line_2020-02-11_09.50.28_iso_Kynan Lawlor_F_fused_scRNA.tif\n"
     ]
    },
    {
     "name": "stderr",
     "output_type": "stream",
     "text": [
      "C:\\Users\\kynan.lawlor\\AppData\\Local\\Continuum\\miniconda3\\envs\\imaging\\lib\\site-packages\\skimage\\io\\_io.py:141: UserWarning: final_KE012_data\\cherry_full_set_trimmed\\cherry_plate2b_w5_line_2020-02-11_09.50.28_iso_Kynan Lawlor_F_fused_scRNA.tif is a low contrast image\n",
      "  warn('%s is a low contrast image' % fname)\n"
     ]
    },
    {
     "name": "stdout",
     "output_type": "stream",
     "text": [
      "(4990, 1029)\n",
      "(4800, 1020)\n",
      "final_KE012_data\\cherry_full_set_trimmed\\cherry_plate3a_w4_line_2020-02-11_17.51.38_iso_Kynan Lawlor_F_fused.tif\n",
      "(1024, 1024)\n",
      "(1024, 1024)\n",
      "final_KE012_data\\cherry_full_set_trimmed\\cherry_plate3a_w4_dots_2020-02-11_17.49.29_iso_Kynan Lawlor_convert.tif\n"
     ]
    },
    {
     "name": "stderr",
     "output_type": "stream",
     "text": [
      "C:\\Users\\kynan.lawlor\\AppData\\Local\\Continuum\\miniconda3\\envs\\imaging\\lib\\site-packages\\skimage\\io\\_io.py:141: UserWarning: final_KE012_data\\cherry_full_set_trimmed\\cherry_plate3a_w4_line_2020-02-11_17.51.38_iso_Kynan Lawlor_F_fused.tif is a low contrast image\n",
      "  warn('%s is a low contrast image' % fname)\n",
      "C:\\Users\\kynan.lawlor\\AppData\\Local\\Continuum\\miniconda3\\envs\\imaging\\lib\\site-packages\\skimage\\io\\_io.py:141: UserWarning: final_KE012_data\\cherry_full_set_trimmed\\cherry_plate3a_w4_dots_2020-02-11_17.49.29_iso_Kynan Lawlor_convert.tif is a low contrast image\n",
      "  warn('%s is a low contrast image' % fname)\n"
     ]
    },
    {
     "name": "stdout",
     "output_type": "stream",
     "text": [
      "(1024, 1024)\n",
      "(1024, 1024)\n",
      "final_KE012_data\\cherry_full_set_trimmed\\cherry_plate3a_w4_dots_2020-02-11_17.49.56_iso_Kynan Lawlor_convert.tif\n",
      "(1024, 1024)\n",
      "(1024, 1024)\n",
      "final_KE012_data\\cherry_full_set_trimmed\\cherry_plate3a_w4_dots_2020-02-11_17.49.44_iso_Kynan Lawlor_convert.tif\n"
     ]
    },
    {
     "name": "stderr",
     "output_type": "stream",
     "text": [
      "C:\\Users\\kynan.lawlor\\AppData\\Local\\Continuum\\miniconda3\\envs\\imaging\\lib\\site-packages\\skimage\\io\\_io.py:141: UserWarning: final_KE012_data\\cherry_full_set_trimmed\\cherry_plate3a_w4_dots_2020-02-11_17.49.56_iso_Kynan Lawlor_convert.tif is a low contrast image\n",
      "  warn('%s is a low contrast image' % fname)\n",
      "C:\\Users\\kynan.lawlor\\AppData\\Local\\Continuum\\miniconda3\\envs\\imaging\\lib\\site-packages\\skimage\\io\\_io.py:141: UserWarning: final_KE012_data\\cherry_full_set_trimmed\\cherry_plate3a_w4_dots_2020-02-11_17.49.44_iso_Kynan Lawlor_convert.tif is a low contrast image\n",
      "  warn('%s is a low contrast image' % fname)\n"
     ]
    },
    {
     "name": "stdout",
     "output_type": "stream",
     "text": [
      "(4990, 1029)\n",
      "(4800, 1020)\n",
      "final_KE012_data\\cherry_full_set_trimmed\\cherry_plate3a_w4_line_2020-02-11_17.50.59_iso_Kynan Lawlor_F_fused.tif\n"
     ]
    },
    {
     "name": "stderr",
     "output_type": "stream",
     "text": [
      "C:\\Users\\kynan.lawlor\\AppData\\Local\\Continuum\\miniconda3\\envs\\imaging\\lib\\site-packages\\skimage\\io\\_io.py:141: UserWarning: final_KE012_data\\cherry_full_set_trimmed\\cherry_plate3a_w4_line_2020-02-11_17.50.59_iso_Kynan Lawlor_F_fused.tif is a low contrast image\n",
      "  warn('%s is a low contrast image' % fname)\n"
     ]
    },
    {
     "name": "stdout",
     "output_type": "stream",
     "text": [
      "(4991, 1028)\n",
      "(4800, 1020)\n",
      "final_KE012_data\\cherry_full_set_trimmed\\cherry_plate3a_w4_line_2020-02-11_17.50.09_iso_Kynan Lawlor_F_fused.tif\n"
     ]
    },
    {
     "name": "stderr",
     "output_type": "stream",
     "text": [
      "C:\\Users\\kynan.lawlor\\AppData\\Local\\Continuum\\miniconda3\\envs\\imaging\\lib\\site-packages\\skimage\\io\\_io.py:141: UserWarning: final_KE012_data\\cherry_full_set_trimmed\\cherry_plate3a_w4_line_2020-02-11_17.50.09_iso_Kynan Lawlor_F_fused.tif is a low contrast image\n",
      "  warn('%s is a low contrast image' % fname)\n"
     ]
    },
    {
     "name": "stdout",
     "output_type": "stream",
     "text": [
      "(4992, 1031)\n",
      "(4800, 1020)\n",
      "final_KE012_data\\cherry_full_set_trimmed\\cherry_plate3a_w3_line_2020-02-11_17.46.09_iso_Kynan Lawlor_F_fused.tif\n",
      "(1024, 1024)\n",
      "(1024, 1024)\n",
      "final_KE012_data\\cherry_full_set_trimmed\\cherry_plate3a_w3_dots_2020-02-11_17.45.51_iso_Kynan Lawlor_convert.tif\n"
     ]
    },
    {
     "name": "stderr",
     "output_type": "stream",
     "text": [
      "C:\\Users\\kynan.lawlor\\AppData\\Local\\Continuum\\miniconda3\\envs\\imaging\\lib\\site-packages\\skimage\\io\\_io.py:141: UserWarning: final_KE012_data\\cherry_full_set_trimmed\\cherry_plate3a_w3_line_2020-02-11_17.46.09_iso_Kynan Lawlor_F_fused.tif is a low contrast image\n",
      "  warn('%s is a low contrast image' % fname)\n",
      "C:\\Users\\kynan.lawlor\\AppData\\Local\\Continuum\\miniconda3\\envs\\imaging\\lib\\site-packages\\skimage\\io\\_io.py:141: UserWarning: final_KE012_data\\cherry_full_set_trimmed\\cherry_plate3a_w3_dots_2020-02-11_17.45.51_iso_Kynan Lawlor_convert.tif is a low contrast image\n",
      "  warn('%s is a low contrast image' % fname)\n"
     ]
    },
    {
     "name": "stdout",
     "output_type": "stream",
     "text": [
      "(1024, 1024)\n",
      "(1024, 1024)\n",
      "final_KE012_data\\cherry_full_set_trimmed\\cherry_plate3a_w3_dots_2020-02-11_17.44.56_iso_Kynan Lawlor_convert.tif\n"
     ]
    },
    {
     "name": "stderr",
     "output_type": "stream",
     "text": [
      "C:\\Users\\kynan.lawlor\\AppData\\Local\\Continuum\\miniconda3\\envs\\imaging\\lib\\site-packages\\skimage\\io\\_io.py:141: UserWarning: final_KE012_data\\cherry_full_set_trimmed\\cherry_plate3a_w3_dots_2020-02-11_17.44.56_iso_Kynan Lawlor_convert.tif is a low contrast image\n",
      "  warn('%s is a low contrast image' % fname)\n"
     ]
    },
    {
     "name": "stdout",
     "output_type": "stream",
     "text": [
      "(4990, 1031)\n",
      "(4800, 1020)\n",
      "final_KE012_data\\cherry_full_set_trimmed\\cherry_plate3a_w3_line_2020-02-11_17.48.07_iso_Kynan Lawlor_F_fused.tif\n"
     ]
    },
    {
     "name": "stderr",
     "output_type": "stream",
     "text": [
      "C:\\Users\\kynan.lawlor\\AppData\\Local\\Continuum\\miniconda3\\envs\\imaging\\lib\\site-packages\\skimage\\io\\_io.py:141: UserWarning: final_KE012_data\\cherry_full_set_trimmed\\cherry_plate3a_w3_line_2020-02-11_17.48.07_iso_Kynan Lawlor_F_fused.tif is a low contrast image\n",
      "  warn('%s is a low contrast image' % fname)\n"
     ]
    },
    {
     "name": "stdout",
     "output_type": "stream",
     "text": [
      "(4991, 1032)\n",
      "(4800, 1020)\n",
      "final_KE012_data\\cherry_full_set_trimmed\\cherry_plate3a_w3_line_2020-02-11_17.47.04_iso_Kynan Lawlor_F_fused.tif\n",
      "(1024, 1024)\n",
      "(1024, 1024)\n",
      "final_KE012_data\\cherry_full_set_trimmed\\cherry_plate3a_w6_dots_2020-02-11_17.59.33_iso_Kynan Lawlor_convert.tif\n"
     ]
    },
    {
     "name": "stderr",
     "output_type": "stream",
     "text": [
      "C:\\Users\\kynan.lawlor\\AppData\\Local\\Continuum\\miniconda3\\envs\\imaging\\lib\\site-packages\\skimage\\io\\_io.py:141: UserWarning: final_KE012_data\\cherry_full_set_trimmed\\cherry_plate3a_w3_line_2020-02-11_17.47.04_iso_Kynan Lawlor_F_fused.tif is a low contrast image\n",
      "  warn('%s is a low contrast image' % fname)\n",
      "C:\\Users\\kynan.lawlor\\AppData\\Local\\Continuum\\miniconda3\\envs\\imaging\\lib\\site-packages\\skimage\\io\\_io.py:141: UserWarning: final_KE012_data\\cherry_full_set_trimmed\\cherry_plate3a_w6_dots_2020-02-11_17.59.33_iso_Kynan Lawlor_convert.tif is a low contrast image\n",
      "  warn('%s is a low contrast image' % fname)\n"
     ]
    },
    {
     "name": "stdout",
     "output_type": "stream",
     "text": [
      "(4990, 1030)\n",
      "(4800, 1020)\n",
      "final_KE012_data\\cherry_full_set_trimmed\\cherry_plate3a_w6_line_2020-02-11_18.01.21_iso_Kynan Lawlor_F_fused.tif\n"
     ]
    },
    {
     "name": "stderr",
     "output_type": "stream",
     "text": [
      "C:\\Users\\kynan.lawlor\\AppData\\Local\\Continuum\\miniconda3\\envs\\imaging\\lib\\site-packages\\skimage\\io\\_io.py:141: UserWarning: final_KE012_data\\cherry_full_set_trimmed\\cherry_plate3a_w6_line_2020-02-11_18.01.21_iso_Kynan Lawlor_F_fused.tif is a low contrast image\n",
      "  warn('%s is a low contrast image' % fname)\n"
     ]
    },
    {
     "name": "stdout",
     "output_type": "stream",
     "text": [
      "(4989, 1030)\n",
      "(4800, 1020)\n",
      "final_KE012_data\\cherry_full_set_trimmed\\cherry_plate3a_w6_line_2020-02-11_18.02.03_iso_Kynan Lawlor_F_fused.tif\n",
      "(1024, 1024)\n",
      "(1024, 1024)\n",
      "final_KE012_data\\cherry_full_set_trimmed\\cherry_plate3a_w6_dots_2020-02-11_18.00.29_iso_Kynan Lawlor_convert.tif\n"
     ]
    },
    {
     "name": "stderr",
     "output_type": "stream",
     "text": [
      "C:\\Users\\kynan.lawlor\\AppData\\Local\\Continuum\\miniconda3\\envs\\imaging\\lib\\site-packages\\skimage\\io\\_io.py:141: UserWarning: final_KE012_data\\cherry_full_set_trimmed\\cherry_plate3a_w6_line_2020-02-11_18.02.03_iso_Kynan Lawlor_F_fused.tif is a low contrast image\n",
      "  warn('%s is a low contrast image' % fname)\n",
      "C:\\Users\\kynan.lawlor\\AppData\\Local\\Continuum\\miniconda3\\envs\\imaging\\lib\\site-packages\\skimage\\io\\_io.py:141: UserWarning: final_KE012_data\\cherry_full_set_trimmed\\cherry_plate3a_w6_dots_2020-02-11_18.00.29_iso_Kynan Lawlor_convert.tif is a low contrast image\n",
      "  warn('%s is a low contrast image' % fname)\n"
     ]
    },
    {
     "name": "stdout",
     "output_type": "stream",
     "text": [
      "(4989, 1031)\n",
      "(4800, 1020)\n",
      "final_KE012_data\\cherry_full_set_trimmed\\cherry_plate3a_w6_line_2020-02-11_18.02.46_iso_Kynan Lawlor_F_fused.tif\n",
      "(1024, 1024)\n",
      "(1024, 1024)\n",
      "final_KE012_data\\cherry_full_set_trimmed\\cherry_plate3a_w6_dots_2020-02-11_18.00.12_iso_Kynan Lawlor_convert.tif\n"
     ]
    },
    {
     "name": "stderr",
     "output_type": "stream",
     "text": [
      "C:\\Users\\kynan.lawlor\\AppData\\Local\\Continuum\\miniconda3\\envs\\imaging\\lib\\site-packages\\skimage\\io\\_io.py:141: UserWarning: final_KE012_data\\cherry_full_set_trimmed\\cherry_plate3a_w6_line_2020-02-11_18.02.46_iso_Kynan Lawlor_F_fused.tif is a low contrast image\n",
      "  warn('%s is a low contrast image' % fname)\n",
      "C:\\Users\\kynan.lawlor\\AppData\\Local\\Continuum\\miniconda3\\envs\\imaging\\lib\\site-packages\\skimage\\io\\_io.py:141: UserWarning: final_KE012_data\\cherry_full_set_trimmed\\cherry_plate3a_w6_dots_2020-02-11_18.00.12_iso_Kynan Lawlor_convert.tif is a low contrast image\n",
      "  warn('%s is a low contrast image' % fname)\n"
     ]
    },
    {
     "name": "stdout",
     "output_type": "stream",
     "text": [
      "(4992, 1030)\n",
      "(4800, 1020)\n",
      "final_KE012_data\\cherry_full_set_trimmed\\cherry_plate3a_w2_line_2020-02-11_17.43.36_iso_Kynan Lawlor_F_fused.tif\n",
      "(1024, 1024)\n",
      "(1024, 1024)\n",
      "final_KE012_data\\cherry_full_set_trimmed\\cherry_plate3a_w2_dots_2020-02-11_17.42.40_iso_Kynan Lawlor_convert.tif\n"
     ]
    },
    {
     "name": "stderr",
     "output_type": "stream",
     "text": [
      "C:\\Users\\kynan.lawlor\\AppData\\Local\\Continuum\\miniconda3\\envs\\imaging\\lib\\site-packages\\skimage\\io\\_io.py:141: UserWarning: final_KE012_data\\cherry_full_set_trimmed\\cherry_plate3a_w2_line_2020-02-11_17.43.36_iso_Kynan Lawlor_F_fused.tif is a low contrast image\n",
      "  warn('%s is a low contrast image' % fname)\n",
      "C:\\Users\\kynan.lawlor\\AppData\\Local\\Continuum\\miniconda3\\envs\\imaging\\lib\\site-packages\\skimage\\io\\_io.py:141: UserWarning: final_KE012_data\\cherry_full_set_trimmed\\cherry_plate3a_w2_dots_2020-02-11_17.42.40_iso_Kynan Lawlor_convert.tif is a low contrast image\n",
      "  warn('%s is a low contrast image' % fname)\n"
     ]
    },
    {
     "name": "stdout",
     "output_type": "stream",
     "text": [
      "(4992, 1030)\n",
      "(4800, 1020)\n",
      "final_KE012_data\\cherry_full_set_trimmed\\cherry_plate3a_w2_line_2020-02-11_17.42.57_iso_Kynan Lawlor_F_fused.tif\n"
     ]
    },
    {
     "name": "stderr",
     "output_type": "stream",
     "text": [
      "C:\\Users\\kynan.lawlor\\AppData\\Local\\Continuum\\miniconda3\\envs\\imaging\\lib\\site-packages\\skimage\\io\\_io.py:141: UserWarning: final_KE012_data\\cherry_full_set_trimmed\\cherry_plate3a_w2_line_2020-02-11_17.42.57_iso_Kynan Lawlor_F_fused.tif is a low contrast image\n",
      "  warn('%s is a low contrast image' % fname)\n"
     ]
    },
    {
     "name": "stdout",
     "output_type": "stream",
     "text": [
      "(4992, 1030)\n",
      "(4800, 1020)\n",
      "final_KE012_data\\cherry_full_set_trimmed\\cherry_plate3a_w2_line_2020-02-11_17.44.05_iso_Kynan Lawlor_F_fused.tif\n",
      "(1024, 1024)\n",
      "(1024, 1024)\n",
      "final_KE012_data\\cherry_full_set_trimmed\\cherry_plate3a_w2_dots_2020-02-11_17.42.02_iso_Kynan Lawlor_convert.tif\n"
     ]
    },
    {
     "name": "stderr",
     "output_type": "stream",
     "text": [
      "C:\\Users\\kynan.lawlor\\AppData\\Local\\Continuum\\miniconda3\\envs\\imaging\\lib\\site-packages\\skimage\\io\\_io.py:141: UserWarning: final_KE012_data\\cherry_full_set_trimmed\\cherry_plate3a_w2_line_2020-02-11_17.44.05_iso_Kynan Lawlor_F_fused.tif is a low contrast image\n",
      "  warn('%s is a low contrast image' % fname)\n",
      "C:\\Users\\kynan.lawlor\\AppData\\Local\\Continuum\\miniconda3\\envs\\imaging\\lib\\site-packages\\skimage\\io\\_io.py:141: UserWarning: final_KE012_data\\cherry_full_set_trimmed\\cherry_plate3a_w2_dots_2020-02-11_17.42.02_iso_Kynan Lawlor_convert.tif is a low contrast image\n",
      "  warn('%s is a low contrast image' % fname)\n"
     ]
    },
    {
     "name": "stdout",
     "output_type": "stream",
     "text": [
      "(1024, 1024)\n",
      "(1024, 1024)\n",
      "final_KE012_data\\cherry_full_set_trimmed\\cherry_plate3a_w2_dots_2020-02-11_17.41.30_iso_Kynan Lawlor_convert.tif\n",
      "(1024, 1024)\n",
      "(1024, 1024)\n",
      "final_KE012_data\\cherry_full_set_trimmed\\cherry_plate3a_w5_dots_2020-02-11_17.54.58_iso_Kynan Lawlor_convert.tif\n"
     ]
    },
    {
     "name": "stderr",
     "output_type": "stream",
     "text": [
      "C:\\Users\\kynan.lawlor\\AppData\\Local\\Continuum\\miniconda3\\envs\\imaging\\lib\\site-packages\\skimage\\io\\_io.py:141: UserWarning: final_KE012_data\\cherry_full_set_trimmed\\cherry_plate3a_w2_dots_2020-02-11_17.41.30_iso_Kynan Lawlor_convert.tif is a low contrast image\n",
      "  warn('%s is a low contrast image' % fname)\n",
      "C:\\Users\\kynan.lawlor\\AppData\\Local\\Continuum\\miniconda3\\envs\\imaging\\lib\\site-packages\\skimage\\io\\_io.py:141: UserWarning: final_KE012_data\\cherry_full_set_trimmed\\cherry_plate3a_w5_dots_2020-02-11_17.54.58_iso_Kynan Lawlor_convert.tif is a low contrast image\n",
      "  warn('%s is a low contrast image' % fname)\n"
     ]
    },
    {
     "name": "stdout",
     "output_type": "stream",
     "text": [
      "(4991, 1029)\n",
      "(4800, 1020)\n",
      "final_KE012_data\\cherry_full_set_trimmed\\cherry_plate3a_w5_line_2020-02-11_17.55.38_iso_Kynan Lawlor_F_fused.tif\n"
     ]
    },
    {
     "name": "stderr",
     "output_type": "stream",
     "text": [
      "C:\\Users\\kynan.lawlor\\AppData\\Local\\Continuum\\miniconda3\\envs\\imaging\\lib\\site-packages\\skimage\\io\\_io.py:141: UserWarning: final_KE012_data\\cherry_full_set_trimmed\\cherry_plate3a_w5_line_2020-02-11_17.55.38_iso_Kynan Lawlor_F_fused.tif is a low contrast image\n",
      "  warn('%s is a low contrast image' % fname)\n"
     ]
    },
    {
     "name": "stdout",
     "output_type": "stream",
     "text": [
      "(4991, 1029)\n",
      "(4800, 1020)\n",
      "final_KE012_data\\cherry_full_set_trimmed\\cherry_plate3a_w5_line_2020-02-11_17.57.01_iso_Kynan Lawlor_F_fused.tif\n",
      "(1024, 1024)\n",
      "(1024, 1024)\n",
      "final_KE012_data\\cherry_full_set_trimmed\\cherry_plate3a_w5_dots_2020-02-11_17.54.07_iso_Kynan Lawlor_convert.tif\n"
     ]
    },
    {
     "name": "stderr",
     "output_type": "stream",
     "text": [
      "C:\\Users\\kynan.lawlor\\AppData\\Local\\Continuum\\miniconda3\\envs\\imaging\\lib\\site-packages\\skimage\\io\\_io.py:141: UserWarning: final_KE012_data\\cherry_full_set_trimmed\\cherry_plate3a_w5_line_2020-02-11_17.57.01_iso_Kynan Lawlor_F_fused.tif is a low contrast image\n",
      "  warn('%s is a low contrast image' % fname)\n",
      "C:\\Users\\kynan.lawlor\\AppData\\Local\\Continuum\\miniconda3\\envs\\imaging\\lib\\site-packages\\skimage\\io\\_io.py:141: UserWarning: final_KE012_data\\cherry_full_set_trimmed\\cherry_plate3a_w5_dots_2020-02-11_17.54.07_iso_Kynan Lawlor_convert.tif is a low contrast image\n",
      "  warn('%s is a low contrast image' % fname)\n"
     ]
    },
    {
     "name": "stdout",
     "output_type": "stream",
     "text": [
      "(4991, 1030)\n",
      "(4800, 1020)\n",
      "final_KE012_data\\cherry_full_set_trimmed\\cherry_plate3a_w5_line_2020-02-11_17.57.36_iso_Kynan Lawlor_F_fused.tif\n",
      "(1024, 1024)\n",
      "(1024, 1024)\n",
      "final_KE012_data\\cherry_full_set_trimmed\\cherry_plate4b_w1_dots_2020-02-11_10.24.08_iso_Kynan Lawlor_convert_scRNA.tif\n"
     ]
    },
    {
     "name": "stderr",
     "output_type": "stream",
     "text": [
      "C:\\Users\\kynan.lawlor\\AppData\\Local\\Continuum\\miniconda3\\envs\\imaging\\lib\\site-packages\\skimage\\io\\_io.py:141: UserWarning: final_KE012_data\\cherry_full_set_trimmed\\cherry_plate3a_w5_line_2020-02-11_17.57.36_iso_Kynan Lawlor_F_fused.tif is a low contrast image\n",
      "  warn('%s is a low contrast image' % fname)\n",
      "C:\\Users\\kynan.lawlor\\AppData\\Local\\Continuum\\miniconda3\\envs\\imaging\\lib\\site-packages\\skimage\\io\\_io.py:141: UserWarning: final_KE012_data\\cherry_full_set_trimmed\\cherry_plate4b_w1_dots_2020-02-11_10.24.08_iso_Kynan Lawlor_convert_scRNA.tif is a low contrast image\n",
      "  warn('%s is a low contrast image' % fname)\n"
     ]
    },
    {
     "name": "stdout",
     "output_type": "stream",
     "text": [
      "(4992, 1028)\n",
      "(4800, 1020)\n",
      "final_KE012_data\\cherry_full_set_trimmed\\cherry_plate4b_w1_line_2020-02-11_10.24.32_iso_Kynan Lawlor_F_fused_scRNA.tif\n"
     ]
    },
    {
     "name": "stderr",
     "output_type": "stream",
     "text": [
      "C:\\Users\\kynan.lawlor\\AppData\\Local\\Continuum\\miniconda3\\envs\\imaging\\lib\\site-packages\\skimage\\io\\_io.py:141: UserWarning: final_KE012_data\\cherry_full_set_trimmed\\cherry_plate4b_w1_line_2020-02-11_10.24.32_iso_Kynan Lawlor_F_fused_scRNA.tif is a low contrast image\n",
      "  warn('%s is a low contrast image' % fname)\n"
     ]
    },
    {
     "name": "stdout",
     "output_type": "stream",
     "text": [
      "(4989, 1028)\n",
      "(4800, 1020)\n",
      "final_KE012_data\\cherry_full_set_trimmed\\cherry_plate4b_w4_line_2020-02-11_18.54.02_iso_Kynan Lawlor_F_fused.tif\n",
      "(1024, 1024)\n",
      "(1024, 1024)\n",
      "final_KE012_data\\cherry_full_set_trimmed\\cherry_plate4b_w4_dots_2020-02-11_18.51.19_iso_Kynan Lawlor_convert.tif\n"
     ]
    },
    {
     "name": "stderr",
     "output_type": "stream",
     "text": [
      "C:\\Users\\kynan.lawlor\\AppData\\Local\\Continuum\\miniconda3\\envs\\imaging\\lib\\site-packages\\skimage\\io\\_io.py:141: UserWarning: final_KE012_data\\cherry_full_set_trimmed\\cherry_plate4b_w4_line_2020-02-11_18.54.02_iso_Kynan Lawlor_F_fused.tif is a low contrast image\n",
      "  warn('%s is a low contrast image' % fname)\n",
      "C:\\Users\\kynan.lawlor\\AppData\\Local\\Continuum\\miniconda3\\envs\\imaging\\lib\\site-packages\\skimage\\io\\_io.py:141: UserWarning: final_KE012_data\\cherry_full_set_trimmed\\cherry_plate4b_w4_dots_2020-02-11_18.51.19_iso_Kynan Lawlor_convert.tif is a low contrast image\n",
      "  warn('%s is a low contrast image' % fname)\n"
     ]
    },
    {
     "name": "stdout",
     "output_type": "stream",
     "text": [
      "(1024, 1024)\n",
      "(1024, 1024)\n",
      "final_KE012_data\\cherry_full_set_trimmed\\cherry_plate4b_w4_dots_2020-02-11_18.52.26_iso_Kynan Lawlor_convert.tif\n",
      "(4991, 1028)"
     ]
    },
    {
     "name": "stderr",
     "output_type": "stream",
     "text": [
      "C:\\Users\\kynan.lawlor\\AppData\\Local\\Continuum\\miniconda3\\envs\\imaging\\lib\\site-packages\\skimage\\io\\_io.py:141: UserWarning: final_KE012_data\\cherry_full_set_trimmed\\cherry_plate4b_w4_dots_2020-02-11_18.52.26_iso_Kynan Lawlor_convert.tif is a low contrast image\n",
      "  warn('%s is a low contrast image' % fname)\n"
     ]
    },
    {
     "name": "stdout",
     "output_type": "stream",
     "text": [
      "\n",
      "(4800, 1020)\n",
      "final_KE012_data\\cherry_full_set_trimmed\\cherry_plate4b_w4_line_2020-02-11_18.53.18_iso_Kynan Lawlor_F_fused.tif\n",
      "(1024, 1024)\n",
      "(1024, 1024)\n",
      "final_KE012_data\\cherry_full_set_trimmed\\cherry_plate4b_w4_dots_2020-02-11_18.52.15_iso_Kynan Lawlor_convert.tif\n"
     ]
    },
    {
     "name": "stderr",
     "output_type": "stream",
     "text": [
      "C:\\Users\\kynan.lawlor\\AppData\\Local\\Continuum\\miniconda3\\envs\\imaging\\lib\\site-packages\\skimage\\io\\_io.py:141: UserWarning: final_KE012_data\\cherry_full_set_trimmed\\cherry_plate4b_w4_line_2020-02-11_18.53.18_iso_Kynan Lawlor_F_fused.tif is a low contrast image\n",
      "  warn('%s is a low contrast image' % fname)\n",
      "C:\\Users\\kynan.lawlor\\AppData\\Local\\Continuum\\miniconda3\\envs\\imaging\\lib\\site-packages\\skimage\\io\\_io.py:141: UserWarning: final_KE012_data\\cherry_full_set_trimmed\\cherry_plate4b_w4_dots_2020-02-11_18.52.15_iso_Kynan Lawlor_convert.tif is a low contrast image\n",
      "  warn('%s is a low contrast image' % fname)\n"
     ]
    },
    {
     "name": "stdout",
     "output_type": "stream",
     "text": [
      "(4992, 1028)\n",
      "(4800, 1020)\n",
      "final_KE012_data\\cherry_full_set_trimmed\\cherry_plate4b_w4_line_2020-02-11_18.52.43_iso_Kynan Lawlor_F_fused.tif\n",
      "(1024, 1024)\n",
      "(1024, 1024)\n",
      "final_KE012_data\\cherry_full_set_trimmed\\cherry_plate4b_w3_dots_2020-02-11_10.25.58_iso_Kynan Lawlor_convert_scRNA.tif\n"
     ]
    },
    {
     "name": "stderr",
     "output_type": "stream",
     "text": [
      "C:\\Users\\kynan.lawlor\\AppData\\Local\\Continuum\\miniconda3\\envs\\imaging\\lib\\site-packages\\skimage\\io\\_io.py:141: UserWarning: final_KE012_data\\cherry_full_set_trimmed\\cherry_plate4b_w4_line_2020-02-11_18.52.43_iso_Kynan Lawlor_F_fused.tif is a low contrast image\n",
      "  warn('%s is a low contrast image' % fname)\n",
      "C:\\Users\\kynan.lawlor\\AppData\\Local\\Continuum\\miniconda3\\envs\\imaging\\lib\\site-packages\\skimage\\io\\_io.py:141: UserWarning: final_KE012_data\\cherry_full_set_trimmed\\cherry_plate4b_w3_dots_2020-02-11_10.25.58_iso_Kynan Lawlor_convert_scRNA.tif is a low contrast image\n",
      "  warn('%s is a low contrast image' % fname)\n"
     ]
    },
    {
     "name": "stdout",
     "output_type": "stream",
     "text": [
      "(4992, 1031)\n",
      "(4800, 1020)\n",
      "final_KE012_data\\cherry_full_set_trimmed\\cherry_plate4b_w3_line_2020-02-11_10.26.20_iso_Kynan Lawlor_F_fused_scRNA.tif\n"
     ]
    },
    {
     "name": "stderr",
     "output_type": "stream",
     "text": [
      "C:\\Users\\kynan.lawlor\\AppData\\Local\\Continuum\\miniconda3\\envs\\imaging\\lib\\site-packages\\skimage\\io\\_io.py:141: UserWarning: final_KE012_data\\cherry_full_set_trimmed\\cherry_plate4b_w3_line_2020-02-11_10.26.20_iso_Kynan Lawlor_F_fused_scRNA.tif is a low contrast image\n",
      "  warn('%s is a low contrast image' % fname)\n"
     ]
    },
    {
     "name": "stdout",
     "output_type": "stream",
     "text": [
      "(4992, 1029)\n",
      "(4800, 1020)\n",
      "final_KE012_data\\cherry_full_set_trimmed\\cherry_plate4b_w2_line_2020-02-11_10.25.23_iso_Kynan Lawlor_F_fused_scRNA.tif\n",
      "(1024, 1024)\n",
      "(1024, 1024)\n",
      "final_KE012_data\\cherry_full_set_trimmed\\cherry_plate4b_w2_dots_2020-02-11_10.25.08_iso_Kynan Lawlor_convert_scRNA.tif\n"
     ]
    },
    {
     "name": "stderr",
     "output_type": "stream",
     "text": [
      "C:\\Users\\kynan.lawlor\\AppData\\Local\\Continuum\\miniconda3\\envs\\imaging\\lib\\site-packages\\skimage\\io\\_io.py:141: UserWarning: final_KE012_data\\cherry_full_set_trimmed\\cherry_plate4b_w2_line_2020-02-11_10.25.23_iso_Kynan Lawlor_F_fused_scRNA.tif is a low contrast image\n",
      "  warn('%s is a low contrast image' % fname)\n",
      "C:\\Users\\kynan.lawlor\\AppData\\Local\\Continuum\\miniconda3\\envs\\imaging\\lib\\site-packages\\skimage\\io\\_io.py:141: UserWarning: final_KE012_data\\cherry_full_set_trimmed\\cherry_plate4b_w2_dots_2020-02-11_10.25.08_iso_Kynan Lawlor_convert_scRNA.tif is a low contrast image\n",
      "  warn('%s is a low contrast image' % fname)\n"
     ]
    },
    {
     "name": "stdout",
     "output_type": "stream",
     "text": [
      "(4991, 1028)\n",
      "(4800, 1020)\n",
      "final_KE012_data\\cherry_full_set_trimmed\\cherry_plate4b_w5_line_2020-02-11_18.59.01_iso_Kynan Lawlor_F_fused.tif\n"
     ]
    },
    {
     "name": "stderr",
     "output_type": "stream",
     "text": [
      "C:\\Users\\kynan.lawlor\\AppData\\Local\\Continuum\\miniconda3\\envs\\imaging\\lib\\site-packages\\skimage\\io\\_io.py:141: UserWarning: final_KE012_data\\cherry_full_set_trimmed\\cherry_plate4b_w5_line_2020-02-11_18.59.01_iso_Kynan Lawlor_F_fused.tif is a low contrast image\n",
      "  warn('%s is a low contrast image' % fname)\n"
     ]
    },
    {
     "name": "stdout",
     "output_type": "stream",
     "text": [
      "(4990, 1029)\n",
      "(4800, 1020)\n",
      "final_KE012_data\\cherry_full_set_trimmed\\cherry_plate4b_w5_line_2020-02-11_19.00.01_iso_Kynan Lawlor_F_fused.tif\n",
      "(1024, 1024)\n",
      "(1024, 1024)\n",
      "final_KE012_data\\cherry_full_set_trimmed\\cherry_plate4b_w5_dots_2020-02-11_18.55.34_iso_Kynan Lawlor_convert.tif\n"
     ]
    },
    {
     "name": "stderr",
     "output_type": "stream",
     "text": [
      "C:\\Users\\kynan.lawlor\\AppData\\Local\\Continuum\\miniconda3\\envs\\imaging\\lib\\site-packages\\skimage\\io\\_io.py:141: UserWarning: final_KE012_data\\cherry_full_set_trimmed\\cherry_plate4b_w5_line_2020-02-11_19.00.01_iso_Kynan Lawlor_F_fused.tif is a low contrast image\n",
      "  warn('%s is a low contrast image' % fname)\n",
      "C:\\Users\\kynan.lawlor\\AppData\\Local\\Continuum\\miniconda3\\envs\\imaging\\lib\\site-packages\\skimage\\io\\_io.py:141: UserWarning: final_KE012_data\\cherry_full_set_trimmed\\cherry_plate4b_w5_dots_2020-02-11_18.55.34_iso_Kynan Lawlor_convert.tif is a low contrast image\n",
      "  warn('%s is a low contrast image' % fname)\n"
     ]
    },
    {
     "name": "stdout",
     "output_type": "stream",
     "text": [
      "(1024, 1024)\n",
      "(1024, 1024)\n",
      "final_KE012_data\\cherry_full_set_trimmed\\cherry_plate4b_w5_dots_2020-02-11_18.55.58_iso_Kynan Lawlor_convert.tif\n",
      "(1024, 1024)\n",
      "(1024, 1024)\n",
      "final_KE012_data\\cherry_full_set_trimmed\\cherry_plate4b_w5_dots_2020-02-11_18.56.37_iso_Kynan Lawlor_convert.tif\n"
     ]
    },
    {
     "name": "stderr",
     "output_type": "stream",
     "text": [
      "C:\\Users\\kynan.lawlor\\AppData\\Local\\Continuum\\miniconda3\\envs\\imaging\\lib\\site-packages\\skimage\\io\\_io.py:141: UserWarning: final_KE012_data\\cherry_full_set_trimmed\\cherry_plate4b_w5_dots_2020-02-11_18.55.58_iso_Kynan Lawlor_convert.tif is a low contrast image\n",
      "  warn('%s is a low contrast image' % fname)\n",
      "C:\\Users\\kynan.lawlor\\AppData\\Local\\Continuum\\miniconda3\\envs\\imaging\\lib\\site-packages\\skimage\\io\\_io.py:141: UserWarning: final_KE012_data\\cherry_full_set_trimmed\\cherry_plate4b_w5_dots_2020-02-11_18.56.37_iso_Kynan Lawlor_convert.tif is a low contrast image\n",
      "  warn('%s is a low contrast image' % fname)\n"
     ]
    },
    {
     "name": "stdout",
     "output_type": "stream",
     "text": [
      "(4991, 1028)\n",
      "(4800, 1020)\n",
      "final_KE012_data\\cherry_full_set_trimmed\\cherry_plate4b_w5_line_2020-02-11_18.57.55_iso_Kynan Lawlor_F_fused.tif\n",
      "(1024, 1024)\n",
      "(1024, 1024)\n",
      "final_KE012_data\\cherry_full_set_trimmed\\cherry_plate3b_w1_dots_2020-02-11_10.11.13_iso_Kynan Lawlor_convert_scRNA.tif\n"
     ]
    },
    {
     "name": "stderr",
     "output_type": "stream",
     "text": [
      "C:\\Users\\kynan.lawlor\\AppData\\Local\\Continuum\\miniconda3\\envs\\imaging\\lib\\site-packages\\skimage\\io\\_io.py:141: UserWarning: final_KE012_data\\cherry_full_set_trimmed\\cherry_plate4b_w5_line_2020-02-11_18.57.55_iso_Kynan Lawlor_F_fused.tif is a low contrast image\n",
      "  warn('%s is a low contrast image' % fname)\n",
      "C:\\Users\\kynan.lawlor\\AppData\\Local\\Continuum\\miniconda3\\envs\\imaging\\lib\\site-packages\\skimage\\io\\_io.py:141: UserWarning: final_KE012_data\\cherry_full_set_trimmed\\cherry_plate3b_w1_dots_2020-02-11_10.11.13_iso_Kynan Lawlor_convert_scRNA.tif is a low contrast image\n",
      "  warn('%s is a low contrast image' % fname)\n"
     ]
    },
    {
     "name": "stdout",
     "output_type": "stream",
     "text": [
      "(4991, 1028)\n",
      "(4800, 1020)\n",
      "final_KE012_data\\cherry_full_set_trimmed\\cherry_plate3b_w1_line_2020-02-11_10.11.40_iso_Kynan Lawlor_F_fused_scRNA.tif\n",
      "(1024, 1024)\n",
      "(1024, 1024)\n",
      "final_KE012_data\\cherry_full_set_trimmed\\cherry_plate3b_w4_dots_2020-02-11_18.05.02_iso_Kynan Lawlor_convert.tif\n"
     ]
    },
    {
     "name": "stderr",
     "output_type": "stream",
     "text": [
      "C:\\Users\\kynan.lawlor\\AppData\\Local\\Continuum\\miniconda3\\envs\\imaging\\lib\\site-packages\\skimage\\io\\_io.py:141: UserWarning: final_KE012_data\\cherry_full_set_trimmed\\cherry_plate3b_w1_line_2020-02-11_10.11.40_iso_Kynan Lawlor_F_fused_scRNA.tif is a low contrast image\n",
      "  warn('%s is a low contrast image' % fname)\n",
      "C:\\Users\\kynan.lawlor\\AppData\\Local\\Continuum\\miniconda3\\envs\\imaging\\lib\\site-packages\\skimage\\io\\_io.py:141: UserWarning: final_KE012_data\\cherry_full_set_trimmed\\cherry_plate3b_w4_dots_2020-02-11_18.05.02_iso_Kynan Lawlor_convert.tif is a low contrast image\n",
      "  warn('%s is a low contrast image' % fname)\n"
     ]
    },
    {
     "name": "stdout",
     "output_type": "stream",
     "text": [
      "(4988, 1028)\n",
      "(4800, 1020)\n",
      "final_KE012_data\\cherry_full_set_trimmed\\cherry_plate3b_w4_line_2020-02-11_18.06.42_iso_Kynan Lawlor_F_fused.tif\n",
      "(1024, 1024)\n",
      "(1024, 1024)\n",
      "final_KE012_data\\cherry_full_set_trimmed\\cherry_plate3b_w4_dots_2020-02-11_18.06.15_iso_Kynan Lawlor_convert.tif\n"
     ]
    },
    {
     "name": "stderr",
     "output_type": "stream",
     "text": [
      "C:\\Users\\kynan.lawlor\\AppData\\Local\\Continuum\\miniconda3\\envs\\imaging\\lib\\site-packages\\skimage\\io\\_io.py:141: UserWarning: final_KE012_data\\cherry_full_set_trimmed\\cherry_plate3b_w4_line_2020-02-11_18.06.42_iso_Kynan Lawlor_F_fused.tif is a low contrast image\n",
      "  warn('%s is a low contrast image' % fname)\n",
      "C:\\Users\\kynan.lawlor\\AppData\\Local\\Continuum\\miniconda3\\envs\\imaging\\lib\\site-packages\\skimage\\io\\_io.py:141: UserWarning: final_KE012_data\\cherry_full_set_trimmed\\cherry_plate3b_w4_dots_2020-02-11_18.06.15_iso_Kynan Lawlor_convert.tif is a low contrast image\n",
      "  warn('%s is a low contrast image' % fname)\n"
     ]
    },
    {
     "name": "stdout",
     "output_type": "stream",
     "text": [
      "(4992, 1028)\n",
      "(4800, 1020)\n",
      "final_KE012_data\\cherry_full_set_trimmed\\cherry_plate3b_w4_line_2020-02-11_18.08.40_iso_Kynan Lawlor_F_fused.tif\n"
     ]
    },
    {
     "name": "stderr",
     "output_type": "stream",
     "text": [
      "C:\\Users\\kynan.lawlor\\AppData\\Local\\Continuum\\miniconda3\\envs\\imaging\\lib\\site-packages\\skimage\\io\\_io.py:141: UserWarning: final_KE012_data\\cherry_full_set_trimmed\\cherry_plate3b_w4_line_2020-02-11_18.08.40_iso_Kynan Lawlor_F_fused.tif is a low contrast image\n",
      "  warn('%s is a low contrast image' % fname)\n"
     ]
    },
    {
     "name": "stdout",
     "output_type": "stream",
     "text": [
      "(4992, 1028)\n",
      "(4800, 1020)\n",
      "final_KE012_data\\cherry_full_set_trimmed\\cherry_plate3b_w4_line_2020-02-11_18.07.12_iso_Kynan Lawlor_F_fused.tif\n",
      "(1024, 1024)\n",
      "(1024, 1024)\n",
      "final_KE012_data\\cherry_full_set_trimmed\\cherry_plate3b_w4_dots_2020-02-11_18.06.26_iso_Kynan Lawlor_convert.tif\n"
     ]
    },
    {
     "name": "stderr",
     "output_type": "stream",
     "text": [
      "C:\\Users\\kynan.lawlor\\AppData\\Local\\Continuum\\miniconda3\\envs\\imaging\\lib\\site-packages\\skimage\\io\\_io.py:141: UserWarning: final_KE012_data\\cherry_full_set_trimmed\\cherry_plate3b_w4_line_2020-02-11_18.07.12_iso_Kynan Lawlor_F_fused.tif is a low contrast image\n",
      "  warn('%s is a low contrast image' % fname)\n",
      "C:\\Users\\kynan.lawlor\\AppData\\Local\\Continuum\\miniconda3\\envs\\imaging\\lib\\site-packages\\skimage\\io\\_io.py:141: UserWarning: final_KE012_data\\cherry_full_set_trimmed\\cherry_plate3b_w4_dots_2020-02-11_18.06.26_iso_Kynan Lawlor_convert.tif is a low contrast image\n",
      "  warn('%s is a low contrast image' % fname)\n"
     ]
    },
    {
     "name": "stdout",
     "output_type": "stream",
     "text": [
      "(1024, 1024)\n",
      "(1024, 1024)\n",
      "final_KE012_data\\cherry_full_set_trimmed\\cherry_plate3b_w3_dots_2020-02-11_10.13.29_iso_Kynan Lawlor_convert_scRNA.tif\n"
     ]
    },
    {
     "name": "stderr",
     "output_type": "stream",
     "text": [
      "C:\\Users\\kynan.lawlor\\AppData\\Local\\Continuum\\miniconda3\\envs\\imaging\\lib\\site-packages\\skimage\\io\\_io.py:141: UserWarning: final_KE012_data\\cherry_full_set_trimmed\\cherry_plate3b_w3_dots_2020-02-11_10.13.29_iso_Kynan Lawlor_convert_scRNA.tif is a low contrast image\n",
      "  warn('%s is a low contrast image' % fname)\n"
     ]
    },
    {
     "name": "stdout",
     "output_type": "stream",
     "text": [
      "(4992, 1032)\n",
      "(4800, 1020)\n",
      "final_KE012_data\\cherry_full_set_trimmed\\cherry_plate3b_w3_line_2020-02-11_10.13.47_iso_Kynan Lawlor_F_fused_scRNA.tif\n"
     ]
    },
    {
     "name": "stderr",
     "output_type": "stream",
     "text": [
      "C:\\Users\\kynan.lawlor\\AppData\\Local\\Continuum\\miniconda3\\envs\\imaging\\lib\\site-packages\\skimage\\io\\_io.py:141: UserWarning: final_KE012_data\\cherry_full_set_trimmed\\cherry_plate3b_w3_line_2020-02-11_10.13.47_iso_Kynan Lawlor_F_fused_scRNA.tif is a low contrast image\n",
      "  warn('%s is a low contrast image' % fname)\n"
     ]
    },
    {
     "name": "stdout",
     "output_type": "stream",
     "text": [
      "(4992, 1030)\n",
      "(4800, 1020)\n",
      "final_KE012_data\\cherry_full_set_trimmed\\cherry_plate3b_w6_line_2020-02-11_18.21.17_iso_Kynan Lawlor_F_fused.tif\n",
      "(1024, 1024)\n",
      "(1024, 1024)\n",
      "final_KE012_data\\cherry_full_set_trimmed\\cherry_plate3b_w6_dots_2020-02-11_18.18.55_iso_Kynan Lawlor_convert.tif\n"
     ]
    },
    {
     "name": "stderr",
     "output_type": "stream",
     "text": [
      "C:\\Users\\kynan.lawlor\\AppData\\Local\\Continuum\\miniconda3\\envs\\imaging\\lib\\site-packages\\skimage\\io\\_io.py:141: UserWarning: final_KE012_data\\cherry_full_set_trimmed\\cherry_plate3b_w6_line_2020-02-11_18.21.17_iso_Kynan Lawlor_F_fused.tif is a low contrast image\n",
      "  warn('%s is a low contrast image' % fname)\n",
      "C:\\Users\\kynan.lawlor\\AppData\\Local\\Continuum\\miniconda3\\envs\\imaging\\lib\\site-packages\\skimage\\io\\_io.py:141: UserWarning: final_KE012_data\\cherry_full_set_trimmed\\cherry_plate3b_w6_dots_2020-02-11_18.18.55_iso_Kynan Lawlor_convert.tif is a low contrast image\n",
      "  warn('%s is a low contrast image' % fname)\n"
     ]
    },
    {
     "name": "stdout",
     "output_type": "stream",
     "text": [
      "(4992, 1030)\n",
      "(4800, 1020)\n",
      "final_KE012_data\\cherry_full_set_trimmed\\cherry_plate3b_w6_line_2020-02-11_18.22.16_iso_Kynan Lawlor_F_fused.tif\n",
      "(1024, 1024)"
     ]
    },
    {
     "name": "stderr",
     "output_type": "stream",
     "text": [
      "C:\\Users\\kynan.lawlor\\AppData\\Local\\Continuum\\miniconda3\\envs\\imaging\\lib\\site-packages\\skimage\\io\\_io.py:141: UserWarning: final_KE012_data\\cherry_full_set_trimmed\\cherry_plate3b_w6_line_2020-02-11_18.22.16_iso_Kynan Lawlor_F_fused.tif is a low contrast image\n",
      "  warn('%s is a low contrast image' % fname)\n",
      "C:\\Users\\kynan.lawlor\\AppData\\Local\\Continuum\\miniconda3\\envs\\imaging\\lib\\site-packages\\skimage\\io\\_io.py:141: UserWarning: final_KE012_data\\cherry_full_set_trimmed\\cherry_plate3b_w6_dots_2020-02-11_18.18.41_iso_Kynan Lawlor_convert.tif is a low contrast image\n",
      "  warn('%s is a low contrast image' % fname)\n"
     ]
    },
    {
     "name": "stdout",
     "output_type": "stream",
     "text": [
      "\n",
      "(1024, 1024)\n",
      "final_KE012_data\\cherry_full_set_trimmed\\cherry_plate3b_w6_dots_2020-02-11_18.18.41_iso_Kynan Lawlor_convert.tif\n",
      "(1024, 1024)\n",
      "(1024, 1024)\n",
      "final_KE012_data\\cherry_full_set_trimmed\\cherry_plate3b_w6_dots_2020-02-11_18.19.09_iso_Kynan Lawlor_convert.tif\n"
     ]
    },
    {
     "name": "stderr",
     "output_type": "stream",
     "text": [
      "C:\\Users\\kynan.lawlor\\AppData\\Local\\Continuum\\miniconda3\\envs\\imaging\\lib\\site-packages\\skimage\\io\\_io.py:141: UserWarning: final_KE012_data\\cherry_full_set_trimmed\\cherry_plate3b_w6_dots_2020-02-11_18.19.09_iso_Kynan Lawlor_convert.tif is a low contrast image\n",
      "  warn('%s is a low contrast image' % fname)\n"
     ]
    },
    {
     "name": "stdout",
     "output_type": "stream",
     "text": [
      "(4992, 1030)\n",
      "(4800, 1020)\n",
      "final_KE012_data\\cherry_full_set_trimmed\\cherry_plate3b_w6_line_2020-02-11_18.19.54_iso_Kynan Lawlor_F_fused.tif\n"
     ]
    },
    {
     "name": "stderr",
     "output_type": "stream",
     "text": [
      "C:\\Users\\kynan.lawlor\\AppData\\Local\\Continuum\\miniconda3\\envs\\imaging\\lib\\site-packages\\skimage\\io\\_io.py:141: UserWarning: final_KE012_data\\cherry_full_set_trimmed\\cherry_plate3b_w6_line_2020-02-11_18.19.54_iso_Kynan Lawlor_F_fused.tif is a low contrast image\n",
      "  warn('%s is a low contrast image' % fname)\n"
     ]
    },
    {
     "name": "stdout",
     "output_type": "stream",
     "text": [
      "(4992, 1031)\n",
      "(4800, 1020)\n",
      "final_KE012_data\\cherry_full_set_trimmed\\cherry_plate3b_w2_line_2020-02-11_10.12.44_iso_Kynan Lawlor_F_fused_scRNA.tif\n",
      "(1024, 1024)\n",
      "(1024, 1024)\n",
      "final_KE012_data\\cherry_full_set_trimmed\\cherry_plate3b_w2_dots_2020-02-11_10.12.22_iso_Kynan Lawlor_convert_scRNA.tif\n"
     ]
    },
    {
     "name": "stderr",
     "output_type": "stream",
     "text": [
      "C:\\Users\\kynan.lawlor\\AppData\\Local\\Continuum\\miniconda3\\envs\\imaging\\lib\\site-packages\\skimage\\io\\_io.py:141: UserWarning: final_KE012_data\\cherry_full_set_trimmed\\cherry_plate3b_w2_line_2020-02-11_10.12.44_iso_Kynan Lawlor_F_fused_scRNA.tif is a low contrast image\n",
      "  warn('%s is a low contrast image' % fname)\n",
      "C:\\Users\\kynan.lawlor\\AppData\\Local\\Continuum\\miniconda3\\envs\\imaging\\lib\\site-packages\\skimage\\io\\_io.py:141: UserWarning: final_KE012_data\\cherry_full_set_trimmed\\cherry_plate3b_w2_dots_2020-02-11_10.12.22_iso_Kynan Lawlor_convert_scRNA.tif is a low contrast image\n",
      "  warn('%s is a low contrast image' % fname)\n",
      "C:\\Users\\kynan.lawlor\\AppData\\Local\\Continuum\\miniconda3\\envs\\imaging\\lib\\site-packages\\skimage\\io\\_io.py:141: UserWarning: final_KE012_data\\cherry_full_set_trimmed\\cherry_plate3b_w5_dots_2020-02-11_18.10.18_iso_Kynan Lawlor_convert.tif is a low contrast image\n",
      "  warn('%s is a low contrast image' % fname)\n"
     ]
    },
    {
     "name": "stdout",
     "output_type": "stream",
     "text": [
      "(1024, 1024)\n",
      "(1024, 1024)\n",
      "final_KE012_data\\cherry_full_set_trimmed\\cherry_plate3b_w5_dots_2020-02-11_18.10.18_iso_Kynan Lawlor_convert.tif\n",
      "(1024, 1024)\n",
      "(1024, 1024)\n",
      "final_KE012_data\\cherry_full_set_trimmed\\cherry_plate3b_w5_dots_2020-02-11_18.11.24_iso_Kynan Lawlor_convert.tif\n"
     ]
    },
    {
     "name": "stderr",
     "output_type": "stream",
     "text": [
      "C:\\Users\\kynan.lawlor\\AppData\\Local\\Continuum\\miniconda3\\envs\\imaging\\lib\\site-packages\\skimage\\io\\_io.py:141: UserWarning: final_KE012_data\\cherry_full_set_trimmed\\cherry_plate3b_w5_dots_2020-02-11_18.11.24_iso_Kynan Lawlor_convert.tif is a low contrast image\n",
      "  warn('%s is a low contrast image' % fname)\n",
      "C:\\Users\\kynan.lawlor\\AppData\\Local\\Continuum\\miniconda3\\envs\\imaging\\lib\\site-packages\\skimage\\io\\_io.py:141: UserWarning: final_KE012_data\\cherry_full_set_trimmed\\cherry_plate3b_w5_line_2020-02-11_18.13.48_iso_Kynan Lawlor_F_fused.tif is a low contrast image\n",
      "  warn('%s is a low contrast image' % fname)\n"
     ]
    },
    {
     "name": "stdout",
     "output_type": "stream",
     "text": [
      "(4991, 1028)\n",
      "(4800, 1020)\n",
      "final_KE012_data\\cherry_full_set_trimmed\\cherry_plate3b_w5_line_2020-02-11_18.13.48_iso_Kynan Lawlor_F_fused.tif\n",
      "(1024, 1024)\n",
      "(1024, 1024)\n",
      "final_KE012_data\\cherry_full_set_trimmed\\cherry_plate3b_w5_dots_2020-02-11_18.11.09_iso_Kynan Lawlor_convert.tif\n"
     ]
    },
    {
     "name": "stderr",
     "output_type": "stream",
     "text": [
      "C:\\Users\\kynan.lawlor\\AppData\\Local\\Continuum\\miniconda3\\envs\\imaging\\lib\\site-packages\\skimage\\io\\_io.py:141: UserWarning: final_KE012_data\\cherry_full_set_trimmed\\cherry_plate3b_w5_dots_2020-02-11_18.11.09_iso_Kynan Lawlor_convert.tif is a low contrast image\n",
      "  warn('%s is a low contrast image' % fname)\n"
     ]
    },
    {
     "name": "stdout",
     "output_type": "stream",
     "text": [
      "(4991, 1028)\n",
      "(4800, 1020)\n",
      "final_KE012_data\\cherry_full_set_trimmed\\cherry_plate3b_w5_line_2020-02-11_18.15.13_iso_Kynan Lawlor_F_fused.tif\n"
     ]
    },
    {
     "name": "stderr",
     "output_type": "stream",
     "text": [
      "C:\\Users\\kynan.lawlor\\AppData\\Local\\Continuum\\miniconda3\\envs\\imaging\\lib\\site-packages\\skimage\\io\\_io.py:141: UserWarning: final_KE012_data\\cherry_full_set_trimmed\\cherry_plate3b_w5_line_2020-02-11_18.15.13_iso_Kynan Lawlor_F_fused.tif is a low contrast image\n",
      "  warn('%s is a low contrast image' % fname)\n"
     ]
    },
    {
     "name": "stdout",
     "output_type": "stream",
     "text": [
      "(4992, 1029)\n",
      "(4800, 1020)\n",
      "final_KE012_data\\cherry_full_set_trimmed\\cherry_plate3b_w5_line_2020-02-11_18.17.43_iso_Kynan Lawlor_F_fused.tif\n",
      "(1024, 1024)\n",
      "(1024, 1024)\n",
      "final_KE012_data\\cherry_full_set_trimmed\\cherry_plate4a_w4_dots_2020-02-11_18.35.48_iso_Kynan Lawlor_convert.tif\n"
     ]
    },
    {
     "name": "stderr",
     "output_type": "stream",
     "text": [
      "C:\\Users\\kynan.lawlor\\AppData\\Local\\Continuum\\miniconda3\\envs\\imaging\\lib\\site-packages\\skimage\\io\\_io.py:141: UserWarning: final_KE012_data\\cherry_full_set_trimmed\\cherry_plate3b_w5_line_2020-02-11_18.17.43_iso_Kynan Lawlor_F_fused.tif is a low contrast image\n",
      "  warn('%s is a low contrast image' % fname)\n",
      "C:\\Users\\kynan.lawlor\\AppData\\Local\\Continuum\\miniconda3\\envs\\imaging\\lib\\site-packages\\skimage\\io\\_io.py:141: UserWarning: final_KE012_data\\cherry_full_set_trimmed\\cherry_plate4a_w4_dots_2020-02-11_18.35.48_iso_Kynan Lawlor_convert.tif is a low contrast image\n",
      "  warn('%s is a low contrast image' % fname)\n"
     ]
    },
    {
     "name": "stdout",
     "output_type": "stream",
     "text": [
      "(4992, 1028)\n",
      "(4800, 1020)\n",
      "final_KE012_data\\cherry_full_set_trimmed\\cherry_plate4a_w4_line_2020-02-11_18.39.23_iso_Kynan Lawlor_F_fused.tif\n",
      "(1024, 1024)\n",
      "(1024, 1024)\n",
      "final_KE012_data\\cherry_full_set_trimmed\\cherry_plate4a_w4_dots_2020-02-11_18.35.31_iso_Kynan Lawlor_convert.tif\n",
      "(1024, 1024)"
     ]
    },
    {
     "name": "stderr",
     "output_type": "stream",
     "text": [
      "C:\\Users\\kynan.lawlor\\AppData\\Local\\Continuum\\miniconda3\\envs\\imaging\\lib\\site-packages\\skimage\\io\\_io.py:141: UserWarning: final_KE012_data\\cherry_full_set_trimmed\\cherry_plate4a_w4_line_2020-02-11_18.39.23_iso_Kynan Lawlor_F_fused.tif is a low contrast image\n",
      "  warn('%s is a low contrast image' % fname)\n",
      "C:\\Users\\kynan.lawlor\\AppData\\Local\\Continuum\\miniconda3\\envs\\imaging\\lib\\site-packages\\skimage\\io\\_io.py:141: UserWarning: final_KE012_data\\cherry_full_set_trimmed\\cherry_plate4a_w4_dots_2020-02-11_18.35.31_iso_Kynan Lawlor_convert.tif is a low contrast image\n",
      "  warn('%s is a low contrast image' % fname)\n",
      "C:\\Users\\kynan.lawlor\\AppData\\Local\\Continuum\\miniconda3\\envs\\imaging\\lib\\site-packages\\skimage\\io\\_io.py:141: UserWarning: final_KE012_data\\cherry_full_set_trimmed\\cherry_plate4a_w4_dots_2020-02-11_18.36.01_iso_Kynan Lawlor_convert.tif is a low contrast image\n",
      "  warn('%s is a low contrast image' % fname)\n"
     ]
    },
    {
     "name": "stdout",
     "output_type": "stream",
     "text": [
      "\n",
      "(1024, 1024)\n",
      "final_KE012_data\\cherry_full_set_trimmed\\cherry_plate4a_w4_dots_2020-02-11_18.36.01_iso_Kynan Lawlor_convert.tif\n",
      "(4989, 1028)\n",
      "(4800, 1020)\n",
      "final_KE012_data\\cherry_full_set_trimmed\\cherry_plate4a_w4_line_2020-02-11_18.38.13_iso_Kynan Lawlor_F_fused.tif\n"
     ]
    },
    {
     "name": "stderr",
     "output_type": "stream",
     "text": [
      "C:\\Users\\kynan.lawlor\\AppData\\Local\\Continuum\\miniconda3\\envs\\imaging\\lib\\site-packages\\skimage\\io\\_io.py:141: UserWarning: final_KE012_data\\cherry_full_set_trimmed\\cherry_plate4a_w4_line_2020-02-11_18.38.13_iso_Kynan Lawlor_F_fused.tif is a low contrast image\n",
      "  warn('%s is a low contrast image' % fname)\n"
     ]
    },
    {
     "name": "stdout",
     "output_type": "stream",
     "text": [
      "(4990, 1030)\n",
      "(4800, 1020)\n",
      "final_KE012_data\\cherry_full_set_trimmed\\cherry_plate4a_w4_line_2020-02-11_18.38.50_iso_Kynan Lawlor_F_fused.tif\n"
     ]
    },
    {
     "name": "stderr",
     "output_type": "stream",
     "text": [
      "C:\\Users\\kynan.lawlor\\AppData\\Local\\Continuum\\miniconda3\\envs\\imaging\\lib\\site-packages\\skimage\\io\\_io.py:141: UserWarning: final_KE012_data\\cherry_full_set_trimmed\\cherry_plate4a_w4_line_2020-02-11_18.38.50_iso_Kynan Lawlor_F_fused.tif is a low contrast image\n",
      "  warn('%s is a low contrast image' % fname)\n"
     ]
    },
    {
     "name": "stdout",
     "output_type": "stream",
     "text": [
      "(4992, 1028)\n",
      "(4800, 1020)\n",
      "final_KE012_data\\cherry_full_set_trimmed\\cherry_plate4a_w3_line_2020-02-11_18.32.27_iso_Kynan Lawlor_F_fused.tif\n"
     ]
    },
    {
     "name": "stderr",
     "output_type": "stream",
     "text": [
      "C:\\Users\\kynan.lawlor\\AppData\\Local\\Continuum\\miniconda3\\envs\\imaging\\lib\\site-packages\\skimage\\io\\_io.py:141: UserWarning: final_KE012_data\\cherry_full_set_trimmed\\cherry_plate4a_w3_line_2020-02-11_18.32.27_iso_Kynan Lawlor_F_fused.tif is a low contrast image\n",
      "  warn('%s is a low contrast image' % fname)\n"
     ]
    },
    {
     "name": "stdout",
     "output_type": "stream",
     "text": [
      "(4992, 1031)\n",
      "(4800, 1020)\n",
      "final_KE012_data\\cherry_full_set_trimmed\\cherry_plate4a_w3_line_2020-02-11_18.33.01_iso_Kynan Lawlor_F_fused.tif\n",
      "(4991, 1031)\n",
      "(4800, 1020)\n",
      "final_KE012_data\\cherry_full_set_trimmed\\cherry_plate4a_w3_line_2020-02-11_18.34.10_iso_Kynan Lawlor_F_fused.tif\n"
     ]
    },
    {
     "name": "stderr",
     "output_type": "stream",
     "text": [
      "C:\\Users\\kynan.lawlor\\AppData\\Local\\Continuum\\miniconda3\\envs\\imaging\\lib\\site-packages\\skimage\\io\\_io.py:141: UserWarning: final_KE012_data\\cherry_full_set_trimmed\\cherry_plate4a_w3_line_2020-02-11_18.33.01_iso_Kynan Lawlor_F_fused.tif is a low contrast image\n",
      "  warn('%s is a low contrast image' % fname)\n",
      "C:\\Users\\kynan.lawlor\\AppData\\Local\\Continuum\\miniconda3\\envs\\imaging\\lib\\site-packages\\skimage\\io\\_io.py:141: UserWarning: final_KE012_data\\cherry_full_set_trimmed\\cherry_plate4a_w3_line_2020-02-11_18.34.10_iso_Kynan Lawlor_F_fused.tif is a low contrast image\n",
      "  warn('%s is a low contrast image' % fname)\n",
      "C:\\Users\\kynan.lawlor\\AppData\\Local\\Continuum\\miniconda3\\envs\\imaging\\lib\\site-packages\\skimage\\io\\_io.py:141: UserWarning: final_KE012_data\\cherry_full_set_trimmed\\cherry_plate4a_w3_dots_2020-02-11_18.30.37_iso_Kynan Lawlor_convert.tif is a low contrast image\n",
      "  warn('%s is a low contrast image' % fname)\n"
     ]
    },
    {
     "name": "stdout",
     "output_type": "stream",
     "text": [
      "(1024, 1024)\n",
      "(1024, 1024)\n",
      "final_KE012_data\\cherry_full_set_trimmed\\cherry_plate4a_w3_dots_2020-02-11_18.30.37_iso_Kynan Lawlor_convert.tif\n",
      "(1024, 1024)\n",
      "(1024, 1024)\n",
      "final_KE012_data\\cherry_full_set_trimmed\\cherry_plate4a_w3_dots_2020-02-11_18.31.25_iso_Kynan Lawlor_convert.tif\n",
      "(1024, 1024)\n",
      "(1024, 1024)\n",
      "final_KE012_data\\cherry_full_set_trimmed\\cherry_plate4a_w3_dots_2020-02-11_18.31.40_iso_Kynan Lawlor_convert.tif\n"
     ]
    },
    {
     "name": "stderr",
     "output_type": "stream",
     "text": [
      "C:\\Users\\kynan.lawlor\\AppData\\Local\\Continuum\\miniconda3\\envs\\imaging\\lib\\site-packages\\skimage\\io\\_io.py:141: UserWarning: final_KE012_data\\cherry_full_set_trimmed\\cherry_plate4a_w3_dots_2020-02-11_18.31.25_iso_Kynan Lawlor_convert.tif is a low contrast image\n",
      "  warn('%s is a low contrast image' % fname)\n",
      "C:\\Users\\kynan.lawlor\\AppData\\Local\\Continuum\\miniconda3\\envs\\imaging\\lib\\site-packages\\skimage\\io\\_io.py:141: UserWarning: final_KE012_data\\cherry_full_set_trimmed\\cherry_plate4a_w3_dots_2020-02-11_18.31.40_iso_Kynan Lawlor_convert.tif is a low contrast image\n",
      "  warn('%s is a low contrast image' % fname)\n",
      "C:\\Users\\kynan.lawlor\\AppData\\Local\\Continuum\\miniconda3\\envs\\imaging\\lib\\site-packages\\skimage\\io\\_io.py:141: UserWarning: final_KE012_data\\cherry_full_set_trimmed\\cherry_plate4a_w6_dots_2020-02-11_18.45.56_iso_Kynan Lawlor_convert.tif is a low contrast image\n",
      "  warn('%s is a low contrast image' % fname)\n"
     ]
    },
    {
     "name": "stdout",
     "output_type": "stream",
     "text": [
      "(1024, 1024)\n",
      "(1024, 1024)\n",
      "final_KE012_data\\cherry_full_set_trimmed\\cherry_plate4a_w6_dots_2020-02-11_18.45.56_iso_Kynan Lawlor_convert.tif\n",
      "(4989, 1031)\n",
      "(4800, 1020)\n",
      "final_KE012_data\\cherry_full_set_trimmed\\cherry_plate4a_w6_line_2020-02-11_18.46.51_iso_Kynan Lawlor_F_fused.tif\n",
      "(4992, 1029)"
     ]
    },
    {
     "name": "stderr",
     "output_type": "stream",
     "text": [
      "C:\\Users\\kynan.lawlor\\AppData\\Local\\Continuum\\miniconda3\\envs\\imaging\\lib\\site-packages\\skimage\\io\\_io.py:141: UserWarning: final_KE012_data\\cherry_full_set_trimmed\\cherry_plate4a_w6_line_2020-02-11_18.46.51_iso_Kynan Lawlor_F_fused.tif is a low contrast image\n",
      "  warn('%s is a low contrast image' % fname)\n",
      "C:\\Users\\kynan.lawlor\\AppData\\Local\\Continuum\\miniconda3\\envs\\imaging\\lib\\site-packages\\skimage\\io\\_io.py:141: UserWarning: final_KE012_data\\cherry_full_set_trimmed\\cherry_plate4a_w6_line_2020-02-11_18.49.36_iso_Kynan Lawlor_F_fused.tif is a low contrast image\n",
      "  warn('%s is a low contrast image' % fname)\n"
     ]
    },
    {
     "name": "stdout",
     "output_type": "stream",
     "text": [
      "\n",
      "(4800, 1020)\n",
      "final_KE012_data\\cherry_full_set_trimmed\\cherry_plate4a_w6_line_2020-02-11_18.49.36_iso_Kynan Lawlor_F_fused.tif\n",
      "(1024, 1024)\n",
      "(1024, 1024)\n",
      "final_KE012_data\\cherry_full_set_trimmed\\cherry_plate4a_w6_dots_2020-02-11_18.46.14_iso_Kynan Lawlor_convert.tif\n"
     ]
    },
    {
     "name": "stderr",
     "output_type": "stream",
     "text": [
      "C:\\Users\\kynan.lawlor\\AppData\\Local\\Continuum\\miniconda3\\envs\\imaging\\lib\\site-packages\\skimage\\io\\_io.py:141: UserWarning: final_KE012_data\\cherry_full_set_trimmed\\cherry_plate4a_w6_dots_2020-02-11_18.46.14_iso_Kynan Lawlor_convert.tif is a low contrast image\n",
      "  warn('%s is a low contrast image' % fname)\n"
     ]
    },
    {
     "name": "stdout",
     "output_type": "stream",
     "text": [
      "(4991, 1031)\n",
      "(4800, 1020)\n",
      "final_KE012_data\\cherry_full_set_trimmed\\cherry_plate4a_w6_line_2020-02-11_18.47.40_iso_Kynan Lawlor_F_fused.tif\n",
      "(1024, 1024)\n",
      "(1024, 1024)\n",
      "final_KE012_data\\cherry_full_set_trimmed\\cherry_plate4a_w6_dots_2020-02-11_18.46.32_iso_Kynan Lawlor_convert.tif\n",
      "(1024, 1024)"
     ]
    },
    {
     "name": "stderr",
     "output_type": "stream",
     "text": [
      "C:\\Users\\kynan.lawlor\\AppData\\Local\\Continuum\\miniconda3\\envs\\imaging\\lib\\site-packages\\skimage\\io\\_io.py:141: UserWarning: final_KE012_data\\cherry_full_set_trimmed\\cherry_plate4a_w6_line_2020-02-11_18.47.40_iso_Kynan Lawlor_F_fused.tif is a low contrast image\n",
      "  warn('%s is a low contrast image' % fname)\n",
      "C:\\Users\\kynan.lawlor\\AppData\\Local\\Continuum\\miniconda3\\envs\\imaging\\lib\\site-packages\\skimage\\io\\_io.py:141: UserWarning: final_KE012_data\\cherry_full_set_trimmed\\cherry_plate4a_w6_dots_2020-02-11_18.46.32_iso_Kynan Lawlor_convert.tif is a low contrast image\n",
      "  warn('%s is a low contrast image' % fname)\n",
      "C:\\Users\\kynan.lawlor\\AppData\\Local\\Continuum\\miniconda3\\envs\\imaging\\lib\\site-packages\\skimage\\io\\_io.py:141: UserWarning: final_KE012_data\\cherry_full_set_trimmed\\cherry_plate4a_w2_dots_2020-02-11_18.28.26_iso_Kynan Lawlor_convert.tif is a low contrast image\n",
      "  warn('%s is a low contrast image' % fname)\n"
     ]
    },
    {
     "name": "stdout",
     "output_type": "stream",
     "text": [
      "\n",
      "(1024, 1024)\n",
      "final_KE012_data\\cherry_full_set_trimmed\\cherry_plate4a_w2_dots_2020-02-11_18.28.26_iso_Kynan Lawlor_convert.tif\n",
      "(1024, 1024)\n",
      "(1024, 1024)\n",
      "final_KE012_data\\cherry_full_set_trimmed\\cherry_plate4a_w2_dots_2020-02-11_18.27.46_iso_Kynan Lawlor_convert.tif\n"
     ]
    },
    {
     "name": "stderr",
     "output_type": "stream",
     "text": [
      "C:\\Users\\kynan.lawlor\\AppData\\Local\\Continuum\\miniconda3\\envs\\imaging\\lib\\site-packages\\skimage\\io\\_io.py:141: UserWarning: final_KE012_data\\cherry_full_set_trimmed\\cherry_plate4a_w2_dots_2020-02-11_18.27.46_iso_Kynan Lawlor_convert.tif is a low contrast image\n",
      "  warn('%s is a low contrast image' % fname)\n"
     ]
    },
    {
     "name": "stdout",
     "output_type": "stream",
     "text": [
      "(4992, 1029)\n",
      "(4800, 1020)\n",
      "final_KE012_data\\cherry_full_set_trimmed\\cherry_plate4a_w2_line_2020-02-11_18.29.34_iso_Kynan Lawlor_F_fused.tif\n"
     ]
    },
    {
     "name": "stderr",
     "output_type": "stream",
     "text": [
      "C:\\Users\\kynan.lawlor\\AppData\\Local\\Continuum\\miniconda3\\envs\\imaging\\lib\\site-packages\\skimage\\io\\_io.py:141: UserWarning: final_KE012_data\\cherry_full_set_trimmed\\cherry_plate4a_w2_line_2020-02-11_18.29.34_iso_Kynan Lawlor_F_fused.tif is a low contrast image\n",
      "  warn('%s is a low contrast image' % fname)\n"
     ]
    },
    {
     "name": "stdout",
     "output_type": "stream",
     "text": [
      "(4992, 1029)\n",
      "(4800, 1020)\n",
      "final_KE012_data\\cherry_full_set_trimmed\\cherry_plate4a_w2_line_2020-02-11_18.28.42_iso_Kynan Lawlor_F_fused.tif\n",
      "(1024, 1024)\n",
      "(1024, 1024)\n",
      "final_KE012_data\\cherry_full_set_trimmed\\cherry_plate4a_w2_dots_2020-02-11_18.28.13_iso_Kynan Lawlor_convert.tif\n"
     ]
    },
    {
     "name": "stderr",
     "output_type": "stream",
     "text": [
      "C:\\Users\\kynan.lawlor\\AppData\\Local\\Continuum\\miniconda3\\envs\\imaging\\lib\\site-packages\\skimage\\io\\_io.py:141: UserWarning: final_KE012_data\\cherry_full_set_trimmed\\cherry_plate4a_w2_line_2020-02-11_18.28.42_iso_Kynan Lawlor_F_fused.tif is a low contrast image\n",
      "  warn('%s is a low contrast image' % fname)\n",
      "C:\\Users\\kynan.lawlor\\AppData\\Local\\Continuum\\miniconda3\\envs\\imaging\\lib\\site-packages\\skimage\\io\\_io.py:141: UserWarning: final_KE012_data\\cherry_full_set_trimmed\\cherry_plate4a_w2_dots_2020-02-11_18.28.13_iso_Kynan Lawlor_convert.tif is a low contrast image\n",
      "  warn('%s is a low contrast image' % fname)\n"
     ]
    },
    {
     "name": "stdout",
     "output_type": "stream",
     "text": [
      "(4992, 1029)\n",
      "(4800, 1020)\n",
      "final_KE012_data\\cherry_full_set_trimmed\\cherry_plate4a_w2_line_2020-02-11_18.29.08_iso_Kynan Lawlor_F_fused.tif\n",
      "(1024, 1024)\n",
      "(1024, 1024)\n",
      "final_KE012_data\\cherry_full_set_trimmed\\cherry_plate4a_w5_dots_2020-02-11_18.41.49_iso_Kynan Lawlor_convert.tif\n"
     ]
    },
    {
     "name": "stderr",
     "output_type": "stream",
     "text": [
      "C:\\Users\\kynan.lawlor\\AppData\\Local\\Continuum\\miniconda3\\envs\\imaging\\lib\\site-packages\\skimage\\io\\_io.py:141: UserWarning: final_KE012_data\\cherry_full_set_trimmed\\cherry_plate4a_w2_line_2020-02-11_18.29.08_iso_Kynan Lawlor_F_fused.tif is a low contrast image\n",
      "  warn('%s is a low contrast image' % fname)\n",
      "C:\\Users\\kynan.lawlor\\AppData\\Local\\Continuum\\miniconda3\\envs\\imaging\\lib\\site-packages\\skimage\\io\\_io.py:141: UserWarning: final_KE012_data\\cherry_full_set_trimmed\\cherry_plate4a_w5_dots_2020-02-11_18.41.49_iso_Kynan Lawlor_convert.tif is a low contrast image\n",
      "  warn('%s is a low contrast image' % fname)\n"
     ]
    },
    {
     "name": "stdout",
     "output_type": "stream",
     "text": [
      "(1024, 1024)\n",
      "(1024, 1024)\n",
      "final_KE012_data\\cherry_full_set_trimmed\\cherry_plate4a_w5_dots_2020-02-11_18.42.03_iso_Kynan Lawlor_convert.tif\n",
      "(4990, 1028)\n",
      "(4800, 1020)\n",
      "final_KE012_data\\cherry_full_set_trimmed\\cherry_plate4a_w5_line_2020-02-11_18.42.23_iso_Kynan Lawlor_F_fused.tif\n"
     ]
    },
    {
     "name": "stderr",
     "output_type": "stream",
     "text": [
      "C:\\Users\\kynan.lawlor\\AppData\\Local\\Continuum\\miniconda3\\envs\\imaging\\lib\\site-packages\\skimage\\io\\_io.py:141: UserWarning: final_KE012_data\\cherry_full_set_trimmed\\cherry_plate4a_w5_dots_2020-02-11_18.42.03_iso_Kynan Lawlor_convert.tif is a low contrast image\n",
      "  warn('%s is a low contrast image' % fname)\n",
      "C:\\Users\\kynan.lawlor\\AppData\\Local\\Continuum\\miniconda3\\envs\\imaging\\lib\\site-packages\\skimage\\io\\_io.py:141: UserWarning: final_KE012_data\\cherry_full_set_trimmed\\cherry_plate4a_w5_line_2020-02-11_18.42.23_iso_Kynan Lawlor_F_fused.tif is a low contrast image\n",
      "  warn('%s is a low contrast image' % fname)\n"
     ]
    },
    {
     "name": "stdout",
     "output_type": "stream",
     "text": [
      "(4992, 1029)\n",
      "(4800, 1020)\n",
      "final_KE012_data\\cherry_full_set_trimmed\\cherry_plate4a_w5_line_2020-02-11_18.44.35_iso_Kynan Lawlor_F_fused.tif\n"
     ]
    },
    {
     "name": "stderr",
     "output_type": "stream",
     "text": [
      "C:\\Users\\kynan.lawlor\\AppData\\Local\\Continuum\\miniconda3\\envs\\imaging\\lib\\site-packages\\skimage\\io\\_io.py:141: UserWarning: final_KE012_data\\cherry_full_set_trimmed\\cherry_plate4a_w5_line_2020-02-11_18.44.35_iso_Kynan Lawlor_F_fused.tif is a low contrast image\n",
      "  warn('%s is a low contrast image' % fname)\n"
     ]
    },
    {
     "name": "stdout",
     "output_type": "stream",
     "text": [
      "(4992, 1029)\n",
      "(4800, 1020)\n",
      "final_KE012_data\\cherry_full_set_trimmed\\cherry_plate4a_w5_line_2020-02-11_18.43.46_iso_Kynan Lawlor_F_fused.tif\n",
      "(1024, 1024)\n",
      "(1024, 1024)\n",
      "final_KE012_data\\cherry_full_set_trimmed\\cherry_plate4a_w5_dots_2020-02-11_18.41.25_iso_Kynan Lawlor_convert.tif\n"
     ]
    },
    {
     "name": "stderr",
     "output_type": "stream",
     "text": [
      "C:\\Users\\kynan.lawlor\\AppData\\Local\\Continuum\\miniconda3\\envs\\imaging\\lib\\site-packages\\skimage\\io\\_io.py:141: UserWarning: final_KE012_data\\cherry_full_set_trimmed\\cherry_plate4a_w5_line_2020-02-11_18.43.46_iso_Kynan Lawlor_F_fused.tif is a low contrast image\n",
      "  warn('%s is a low contrast image' % fname)\n",
      "C:\\Users\\kynan.lawlor\\AppData\\Local\\Continuum\\miniconda3\\envs\\imaging\\lib\\site-packages\\skimage\\io\\_io.py:141: UserWarning: final_KE012_data\\cherry_full_set_trimmed\\cherry_plate4a_w5_dots_2020-02-11_18.41.25_iso_Kynan Lawlor_convert.tif is a low contrast image\n",
      "  warn('%s is a low contrast image' % fname)\n"
     ]
    },
    {
     "name": "stdout",
     "output_type": "stream",
     "text": [
      "(1024, 1024)\n",
      "(1024, 1024)\n",
      "final_KE012_data\\cherry_full_set_trimmed\\cherry_plate5_hand3_hand_2020-02-11_10.36.47_iso_Kynan Lawlor_convert.tif\n",
      "(1024, 1024)\n",
      "(1024, 1024)\n",
      "final_KE012_data\\cherry_full_set_trimmed\\cherry_plate5_hand3_hand_2020-02-11_10.37.04_iso_Kynan Lawlor_convert.tif\n",
      "(1024, 1024)\n",
      "(1024, 1024)\n",
      "final_KE012_data\\cherry_full_set_trimmed\\cherry_plate5_hand3_hand_2020-02-11_10.36.03_iso_Kynan Lawlor_convert.tif\n"
     ]
    },
    {
     "name": "stderr",
     "output_type": "stream",
     "text": [
      "C:\\Users\\kynan.lawlor\\AppData\\Local\\Continuum\\miniconda3\\envs\\imaging\\lib\\site-packages\\skimage\\io\\_io.py:141: UserWarning: final_KE012_data\\cherry_full_set_trimmed\\cherry_plate5_hand3_hand_2020-02-11_10.36.47_iso_Kynan Lawlor_convert.tif is a low contrast image\n",
      "  warn('%s is a low contrast image' % fname)\n",
      "C:\\Users\\kynan.lawlor\\AppData\\Local\\Continuum\\miniconda3\\envs\\imaging\\lib\\site-packages\\skimage\\io\\_io.py:141: UserWarning: final_KE012_data\\cherry_full_set_trimmed\\cherry_plate5_hand3_hand_2020-02-11_10.37.04_iso_Kynan Lawlor_convert.tif is a low contrast image\n",
      "  warn('%s is a low contrast image' % fname)\n",
      "C:\\Users\\kynan.lawlor\\AppData\\Local\\Continuum\\miniconda3\\envs\\imaging\\lib\\site-packages\\skimage\\io\\_io.py:141: UserWarning: final_KE012_data\\cherry_full_set_trimmed\\cherry_plate5_hand3_hand_2020-02-11_10.36.03_iso_Kynan Lawlor_convert.tif is a low contrast image\n",
      "  warn('%s is a low contrast image' % fname)\n"
     ]
    },
    {
     "name": "stdout",
     "output_type": "stream",
     "text": [
      "(1024, 1024)\n",
      "(1024, 1024)\n",
      "final_KE012_data\\cherry_full_set_trimmed\\cherry_plate5_hand3_hand_2020-02-11_10.36.21_iso_Kynan Lawlor_convert.tif\n",
      "(1024, 1024)\n",
      "(1024, 1024)\n",
      "final_KE012_data\\cherry_full_set_trimmed\\cherry_plate5_hand1_hand_2020-02-11_10.32.32_iso_Kynan Lawlor_convert.tif\n",
      "(1024, 1024)\n",
      "(1024, 1024)\n",
      "final_KE012_data\\cherry_full_set_trimmed\\cherry_plate5_hand1_hand_2020-02-11_10.33.07_iso_Kynan Lawlor_convert.tif\n"
     ]
    },
    {
     "name": "stderr",
     "output_type": "stream",
     "text": [
      "C:\\Users\\kynan.lawlor\\AppData\\Local\\Continuum\\miniconda3\\envs\\imaging\\lib\\site-packages\\skimage\\io\\_io.py:141: UserWarning: final_KE012_data\\cherry_full_set_trimmed\\cherry_plate5_hand3_hand_2020-02-11_10.36.21_iso_Kynan Lawlor_convert.tif is a low contrast image\n",
      "  warn('%s is a low contrast image' % fname)\n",
      "C:\\Users\\kynan.lawlor\\AppData\\Local\\Continuum\\miniconda3\\envs\\imaging\\lib\\site-packages\\skimage\\io\\_io.py:141: UserWarning: final_KE012_data\\cherry_full_set_trimmed\\cherry_plate5_hand1_hand_2020-02-11_10.32.32_iso_Kynan Lawlor_convert.tif is a low contrast image\n",
      "  warn('%s is a low contrast image' % fname)\n",
      "C:\\Users\\kynan.lawlor\\AppData\\Local\\Continuum\\miniconda3\\envs\\imaging\\lib\\site-packages\\skimage\\io\\_io.py:141: UserWarning: final_KE012_data\\cherry_full_set_trimmed\\cherry_plate5_hand1_hand_2020-02-11_10.33.07_iso_Kynan Lawlor_convert.tif is a low contrast image\n",
      "  warn('%s is a low contrast image' % fname)\n",
      "C:\\Users\\kynan.lawlor\\AppData\\Local\\Continuum\\miniconda3\\envs\\imaging\\lib\\site-packages\\skimage\\io\\_io.py:141: UserWarning: final_KE012_data\\cherry_full_set_trimmed\\cherry_plate5_hand1_hand_2020-02-11_10.33.29_iso_Kynan Lawlor_convert.tif is a low contrast image\n",
      "  warn('%s is a low contrast image' % fname)\n",
      "C:\\Users\\kynan.lawlor\\AppData\\Local\\Continuum\\miniconda3\\envs\\imaging\\lib\\site-packages\\skimage\\io\\_io.py:141: UserWarning: final_KE012_data\\cherry_full_set_trimmed\\cherry_plate5_hand1_hand_2020-02-11_10.32.12_iso_Kynan Lawlor_convert.tif is a low contrast image\n",
      "  warn('%s is a low contrast image' % fname)\n"
     ]
    },
    {
     "name": "stdout",
     "output_type": "stream",
     "text": [
      "(1024, 1024)\n",
      "(1024, 1024)\n",
      "final_KE012_data\\cherry_full_set_trimmed\\cherry_plate5_hand1_hand_2020-02-11_10.33.29_iso_Kynan Lawlor_convert.tif\n",
      "(1024, 1024)\n",
      "(1024, 1024)\n",
      "final_KE012_data\\cherry_full_set_trimmed\\cherry_plate5_hand1_hand_2020-02-11_10.32.12_iso_Kynan Lawlor_convert.tif\n",
      "(1024, 1024)\n",
      "(1024, 1024)\n",
      "final_KE012_data\\cherry_full_set_trimmed\\cherry_plate5_hand2_hand_2020-02-11_10.34.00_iso_Kynan Lawlor_convert.tif\n",
      "(1024, 1024)\n",
      "(1024, 1024)\n",
      "final_KE012_data\\cherry_full_set_trimmed\\cherry_plate5_hand2_hand_2020-02-11_10.35.19_iso_Kynan Lawlor_convert.tif\n",
      "(1024, 1024)\n",
      "(1024, 1024)\n",
      "final_KE012_data\\cherry_full_set_trimmed\\cherry_plate5_hand2_hand_2020-02-11_10.34.49_iso_Kynan Lawlor_convert.tif\n"
     ]
    },
    {
     "name": "stderr",
     "output_type": "stream",
     "text": [
      "C:\\Users\\kynan.lawlor\\AppData\\Local\\Continuum\\miniconda3\\envs\\imaging\\lib\\site-packages\\skimage\\io\\_io.py:141: UserWarning: final_KE012_data\\cherry_full_set_trimmed\\cherry_plate5_hand2_hand_2020-02-11_10.34.00_iso_Kynan Lawlor_convert.tif is a low contrast image\n",
      "  warn('%s is a low contrast image' % fname)\n",
      "C:\\Users\\kynan.lawlor\\AppData\\Local\\Continuum\\miniconda3\\envs\\imaging\\lib\\site-packages\\skimage\\io\\_io.py:141: UserWarning: final_KE012_data\\cherry_full_set_trimmed\\cherry_plate5_hand2_hand_2020-02-11_10.35.19_iso_Kynan Lawlor_convert.tif is a low contrast image\n",
      "  warn('%s is a low contrast image' % fname)\n",
      "C:\\Users\\kynan.lawlor\\AppData\\Local\\Continuum\\miniconda3\\envs\\imaging\\lib\\site-packages\\skimage\\io\\_io.py:141: UserWarning: final_KE012_data\\cherry_full_set_trimmed\\cherry_plate5_hand2_hand_2020-02-11_10.34.49_iso_Kynan Lawlor_convert.tif is a low contrast image\n",
      "  warn('%s is a low contrast image' % fname)\n"
     ]
    },
    {
     "name": "stdout",
     "output_type": "stream",
     "text": [
      "(1024, 1024)\n",
      "(1024, 1024)\n",
      "final_KE012_data\\cherry_full_set_trimmed\\cherry_plate5_hand2_hand_2020-02-11_10.34.28_iso_Kynan Lawlor_convert.tif\n",
      "(1024, 1024)\n",
      "(1024, 1024)\n",
      "final_KE012_data\\cherry_full_set_trimmed\\cherry_plate1b_w1_dots_2020-02-11_09.02.10_iso_Kynan Lawlor_convert.tif\n",
      "(1024, 1024)\n",
      "(1024, 1024)\n",
      "final_KE012_data\\cherry_full_set_trimmed\\cherry_plate1b_w1_dots_2020-02-11_09.01.57_iso_Kynan Lawlor_convert.tif\n"
     ]
    },
    {
     "name": "stderr",
     "output_type": "stream",
     "text": [
      "C:\\Users\\kynan.lawlor\\AppData\\Local\\Continuum\\miniconda3\\envs\\imaging\\lib\\site-packages\\skimage\\io\\_io.py:141: UserWarning: final_KE012_data\\cherry_full_set_trimmed\\cherry_plate5_hand2_hand_2020-02-11_10.34.28_iso_Kynan Lawlor_convert.tif is a low contrast image\n",
      "  warn('%s is a low contrast image' % fname)\n",
      "C:\\Users\\kynan.lawlor\\AppData\\Local\\Continuum\\miniconda3\\envs\\imaging\\lib\\site-packages\\skimage\\io\\_io.py:141: UserWarning: final_KE012_data\\cherry_full_set_trimmed\\cherry_plate1b_w1_dots_2020-02-11_09.02.10_iso_Kynan Lawlor_convert.tif is a low contrast image\n",
      "  warn('%s is a low contrast image' % fname)\n",
      "C:\\Users\\kynan.lawlor\\AppData\\Local\\Continuum\\miniconda3\\envs\\imaging\\lib\\site-packages\\skimage\\io\\_io.py:141: UserWarning: final_KE012_data\\cherry_full_set_trimmed\\cherry_plate1b_w1_dots_2020-02-11_09.01.57_iso_Kynan Lawlor_convert.tif is a low contrast image\n",
      "  warn('%s is a low contrast image' % fname)\n"
     ]
    },
    {
     "name": "stdout",
     "output_type": "stream",
     "text": [
      "(1024, 1024)\n",
      "(1024, 1024)\n",
      "final_KE012_data\\cherry_full_set_trimmed\\cherry_plate1b_w1_dots_2020-02-11_09.01.43_iso_Kynan Lawlor_convert.tif\n",
      "(4991, 1030)\n",
      "(4800, 1020)\n",
      "final_KE012_data\\cherry_full_set_trimmed\\cherry_plate1b_w1_line_2020-02-11_09.02.59_iso_Kynan Lawlor_F_fused.tif\n"
     ]
    },
    {
     "name": "stderr",
     "output_type": "stream",
     "text": [
      "C:\\Users\\kynan.lawlor\\AppData\\Local\\Continuum\\miniconda3\\envs\\imaging\\lib\\site-packages\\skimage\\io\\_io.py:141: UserWarning: final_KE012_data\\cherry_full_set_trimmed\\cherry_plate1b_w1_dots_2020-02-11_09.01.43_iso_Kynan Lawlor_convert.tif is a low contrast image\n",
      "  warn('%s is a low contrast image' % fname)\n",
      "C:\\Users\\kynan.lawlor\\AppData\\Local\\Continuum\\miniconda3\\envs\\imaging\\lib\\site-packages\\skimage\\io\\_io.py:141: UserWarning: final_KE012_data\\cherry_full_set_trimmed\\cherry_plate1b_w1_line_2020-02-11_09.02.59_iso_Kynan Lawlor_F_fused.tif is a low contrast image\n",
      "  warn('%s is a low contrast image' % fname)\n"
     ]
    },
    {
     "name": "stdout",
     "output_type": "stream",
     "text": [
      "(4991, 1031)\n",
      "(4800, 1020)\n",
      "final_KE012_data\\cherry_full_set_trimmed\\cherry_plate1b_w1_line_2020-02-11_09.02.27_iso_Kynan Lawlor_F_fused.tif\n"
     ]
    },
    {
     "name": "stderr",
     "output_type": "stream",
     "text": [
      "C:\\Users\\kynan.lawlor\\AppData\\Local\\Continuum\\miniconda3\\envs\\imaging\\lib\\site-packages\\skimage\\io\\_io.py:141: UserWarning: final_KE012_data\\cherry_full_set_trimmed\\cherry_plate1b_w1_line_2020-02-11_09.02.27_iso_Kynan Lawlor_F_fused.tif is a low contrast image\n",
      "  warn('%s is a low contrast image' % fname)\n"
     ]
    },
    {
     "name": "stdout",
     "output_type": "stream",
     "text": [
      "(4992, 1030)\n",
      "(4800, 1020)\n",
      "final_KE012_data\\cherry_full_set_trimmed\\cherry_plate1b_w1_line_2020-02-11_09.03.32_iso_Kynan Lawlor_F_fused.tif\n",
      "(4991, 1030)"
     ]
    },
    {
     "name": "stderr",
     "output_type": "stream",
     "text": [
      "C:\\Users\\kynan.lawlor\\AppData\\Local\\Continuum\\miniconda3\\envs\\imaging\\lib\\site-packages\\skimage\\io\\_io.py:141: UserWarning: final_KE012_data\\cherry_full_set_trimmed\\cherry_plate1b_w1_line_2020-02-11_09.03.32_iso_Kynan Lawlor_F_fused.tif is a low contrast image\n",
      "  warn('%s is a low contrast image' % fname)\n",
      "C:\\Users\\kynan.lawlor\\AppData\\Local\\Continuum\\miniconda3\\envs\\imaging\\lib\\site-packages\\skimage\\io\\_io.py:141: UserWarning: final_KE012_data\\cherry_full_set_trimmed\\cherry_plate1b_w4_line_2020-02-11_09.13.57_iso_Kynan Lawlor_F_fused.tif is a low contrast image\n",
      "  warn('%s is a low contrast image' % fname)\n"
     ]
    },
    {
     "name": "stdout",
     "output_type": "stream",
     "text": [
      "\n",
      "(4800, 1020)\n",
      "final_KE012_data\\cherry_full_set_trimmed\\cherry_plate1b_w4_line_2020-02-11_09.13.57_iso_Kynan Lawlor_F_fused.tif\n",
      "(1024, 1024)\n",
      "(1024, 1024)\n",
      "final_KE012_data\\cherry_full_set_trimmed\\cherry_plate1b_w4_dots_2020-02-11_09.12.26_iso_Kynan Lawlor_convert.tif\n"
     ]
    },
    {
     "name": "stderr",
     "output_type": "stream",
     "text": [
      "C:\\Users\\kynan.lawlor\\AppData\\Local\\Continuum\\miniconda3\\envs\\imaging\\lib\\site-packages\\skimage\\io\\_io.py:141: UserWarning: final_KE012_data\\cherry_full_set_trimmed\\cherry_plate1b_w4_dots_2020-02-11_09.12.26_iso_Kynan Lawlor_convert.tif is a low contrast image\n",
      "  warn('%s is a low contrast image' % fname)\n"
     ]
    },
    {
     "name": "stdout",
     "output_type": "stream",
     "text": [
      "(4990, 1029)\n",
      "(4800, 1020)\n",
      "final_KE012_data\\cherry_full_set_trimmed\\cherry_plate1b_w4_line_2020-02-11_09.12.48_iso_Kynan Lawlor_F_fused.tif\n"
     ]
    },
    {
     "name": "stderr",
     "output_type": "stream",
     "text": [
      "C:\\Users\\kynan.lawlor\\AppData\\Local\\Continuum\\miniconda3\\envs\\imaging\\lib\\site-packages\\skimage\\io\\_io.py:141: UserWarning: final_KE012_data\\cherry_full_set_trimmed\\cherry_plate1b_w4_line_2020-02-11_09.12.48_iso_Kynan Lawlor_F_fused.tif is a low contrast image\n",
      "  warn('%s is a low contrast image' % fname)\n"
     ]
    },
    {
     "name": "stdout",
     "output_type": "stream",
     "text": [
      "(4990, 1030)\n",
      "(4800, 1020)\n",
      "final_KE012_data\\cherry_full_set_trimmed\\cherry_plate1b_w4_line_2020-02-11_09.13.29_iso_Kynan Lawlor_F_fused.tif\n",
      "(1024, 1024)\n",
      "(1024, 1024)\n",
      "final_KE012_data\\cherry_full_set_trimmed\\cherry_plate1b_w4_dots_2020-02-11_09.11.47_iso_Kynan Lawlor_convert.tif\n",
      "(1024, 1024)"
     ]
    },
    {
     "name": "stderr",
     "output_type": "stream",
     "text": [
      "C:\\Users\\kynan.lawlor\\AppData\\Local\\Continuum\\miniconda3\\envs\\imaging\\lib\\site-packages\\skimage\\io\\_io.py:141: UserWarning: final_KE012_data\\cherry_full_set_trimmed\\cherry_plate1b_w4_line_2020-02-11_09.13.29_iso_Kynan Lawlor_F_fused.tif is a low contrast image\n",
      "  warn('%s is a low contrast image' % fname)\n",
      "C:\\Users\\kynan.lawlor\\AppData\\Local\\Continuum\\miniconda3\\envs\\imaging\\lib\\site-packages\\skimage\\io\\_io.py:141: UserWarning: final_KE012_data\\cherry_full_set_trimmed\\cherry_plate1b_w4_dots_2020-02-11_09.11.47_iso_Kynan Lawlor_convert.tif is a low contrast image\n",
      "  warn('%s is a low contrast image' % fname)\n",
      "C:\\Users\\kynan.lawlor\\AppData\\Local\\Continuum\\miniconda3\\envs\\imaging\\lib\\site-packages\\skimage\\io\\_io.py:141: UserWarning: final_KE012_data\\cherry_full_set_trimmed\\cherry_plate1b_w4_dots_2020-02-11_09.12.07_iso_Kynan Lawlor_convert.tif is a low contrast image\n",
      "  warn('%s is a low contrast image' % fname)\n"
     ]
    },
    {
     "name": "stdout",
     "output_type": "stream",
     "text": [
      "\n",
      "(1024, 1024)\n",
      "final_KE012_data\\cherry_full_set_trimmed\\cherry_plate1b_w4_dots_2020-02-11_09.12.07_iso_Kynan Lawlor_convert.tif\n",
      "(1024, 1024)\n",
      "(1024, 1024)\n",
      "final_KE012_data\\cherry_full_set_trimmed\\cherry_plate1b_w3_dots_2020-02-11_09.08.16_iso_Kynan Lawlor_convert.tif\n",
      "(1024, 1024)"
     ]
    },
    {
     "name": "stderr",
     "output_type": "stream",
     "text": [
      "C:\\Users\\kynan.lawlor\\AppData\\Local\\Continuum\\miniconda3\\envs\\imaging\\lib\\site-packages\\skimage\\io\\_io.py:141: UserWarning: final_KE012_data\\cherry_full_set_trimmed\\cherry_plate1b_w3_dots_2020-02-11_09.08.16_iso_Kynan Lawlor_convert.tif is a low contrast image\n",
      "  warn('%s is a low contrast image' % fname)\n",
      "C:\\Users\\kynan.lawlor\\AppData\\Local\\Continuum\\miniconda3\\envs\\imaging\\lib\\site-packages\\skimage\\io\\_io.py:141: UserWarning: final_KE012_data\\cherry_full_set_trimmed\\cherry_plate1b_w3_dots_2020-02-11_09.08.33_iso_Kynan Lawlor_convert.tif is a low contrast image\n",
      "  warn('%s is a low contrast image' % fname)\n"
     ]
    },
    {
     "name": "stdout",
     "output_type": "stream",
     "text": [
      "\n",
      "(1024, 1024)\n",
      "final_KE012_data\\cherry_full_set_trimmed\\cherry_plate1b_w3_dots_2020-02-11_09.08.33_iso_Kynan Lawlor_convert.tif\n",
      "(1024, 1024)\n",
      "(1024, 1024)\n",
      "final_KE012_data\\cherry_full_set_trimmed\\cherry_plate1b_w3_dots_2020-02-11_09.09.06_iso_Kynan Lawlor_convert.tif\n"
     ]
    },
    {
     "name": "stderr",
     "output_type": "stream",
     "text": [
      "C:\\Users\\kynan.lawlor\\AppData\\Local\\Continuum\\miniconda3\\envs\\imaging\\lib\\site-packages\\skimage\\io\\_io.py:141: UserWarning: final_KE012_data\\cherry_full_set_trimmed\\cherry_plate1b_w3_dots_2020-02-11_09.09.06_iso_Kynan Lawlor_convert.tif is a low contrast image\n",
      "  warn('%s is a low contrast image' % fname)\n",
      "C:\\Users\\kynan.lawlor\\AppData\\Local\\Continuum\\miniconda3\\envs\\imaging\\lib\\site-packages\\skimage\\io\\_io.py:141: UserWarning: final_KE012_data\\cherry_full_set_trimmed\\cherry_plate1b_w3_line_2020-02-11_09.10.22_iso_Kynan Lawlor_F_fused.tif is a low contrast image\n",
      "  warn('%s is a low contrast image' % fname)\n"
     ]
    },
    {
     "name": "stdout",
     "output_type": "stream",
     "text": [
      "(4991, 1031)\n",
      "(4800, 1020)\n",
      "final_KE012_data\\cherry_full_set_trimmed\\cherry_plate1b_w3_line_2020-02-11_09.10.22_iso_Kynan Lawlor_F_fused.tif\n",
      "(4992, 1032)\n",
      "(4800, 1020)\n",
      "final_KE012_data\\cherry_full_set_trimmed\\cherry_plate1b_w3_line_2020-02-11_09.09.29_iso_Kynan Lawlor_F_fused.tif\n"
     ]
    },
    {
     "name": "stderr",
     "output_type": "stream",
     "text": [
      "C:\\Users\\kynan.lawlor\\AppData\\Local\\Continuum\\miniconda3\\envs\\imaging\\lib\\site-packages\\skimage\\io\\_io.py:141: UserWarning: final_KE012_data\\cherry_full_set_trimmed\\cherry_plate1b_w3_line_2020-02-11_09.09.29_iso_Kynan Lawlor_F_fused.tif is a low contrast image\n",
      "  warn('%s is a low contrast image' % fname)\n"
     ]
    },
    {
     "name": "stdout",
     "output_type": "stream",
     "text": [
      "(4992, 1031)\n",
      "(4800, 1020)\n",
      "final_KE012_data\\cherry_full_set_trimmed\\cherry_plate1b_w3_line_2020-02-11_09.09.56_iso_Kynan Lawlor_F_fused.tif\n",
      "(1024, 1024)\n",
      "(1024, 1024)\n",
      "final_KE012_data\\cherry_full_set_trimmed\\cherry_plate1b_w6_dots_2020-02-11_09.18.44_iso_Kynan Lawlor_convert_scRNA.tif\n",
      "(1024, 1024)"
     ]
    },
    {
     "name": "stderr",
     "output_type": "stream",
     "text": [
      "C:\\Users\\kynan.lawlor\\AppData\\Local\\Continuum\\miniconda3\\envs\\imaging\\lib\\site-packages\\skimage\\io\\_io.py:141: UserWarning: final_KE012_data\\cherry_full_set_trimmed\\cherry_plate1b_w3_line_2020-02-11_09.09.56_iso_Kynan Lawlor_F_fused.tif is a low contrast image\n",
      "  warn('%s is a low contrast image' % fname)\n",
      "C:\\Users\\kynan.lawlor\\AppData\\Local\\Continuum\\miniconda3\\envs\\imaging\\lib\\site-packages\\skimage\\io\\_io.py:141: UserWarning: final_KE012_data\\cherry_full_set_trimmed\\cherry_plate1b_w6_dots_2020-02-11_09.18.44_iso_Kynan Lawlor_convert_scRNA.tif is a low contrast image\n",
      "  warn('%s is a low contrast image' % fname)\n",
      "C:\\Users\\kynan.lawlor\\AppData\\Local\\Continuum\\miniconda3\\envs\\imaging\\lib\\site-packages\\skimage\\io\\_io.py:141: UserWarning: final_KE012_data\\cherry_full_set_trimmed\\cherry_plate1b_w6_dots_2020-02-11_09.19.03_iso_Kynan Lawlor_convert_scRNA.tif is a low contrast image\n",
      "  warn('%s is a low contrast image' % fname)\n"
     ]
    },
    {
     "name": "stdout",
     "output_type": "stream",
     "text": [
      "\n",
      "(1024, 1024)\n",
      "final_KE012_data\\cherry_full_set_trimmed\\cherry_plate1b_w6_dots_2020-02-11_09.19.03_iso_Kynan Lawlor_convert_scRNA.tif\n",
      "(4991, 1031)\n",
      "(4800, 1020)\n",
      "final_KE012_data\\cherry_full_set_trimmed\\cherry_plate1b_w6_line_2020-02-11_09.19.20_iso_Kynan Lawlor_F_fused_scRNA.tif\n"
     ]
    },
    {
     "name": "stderr",
     "output_type": "stream",
     "text": [
      "C:\\Users\\kynan.lawlor\\AppData\\Local\\Continuum\\miniconda3\\envs\\imaging\\lib\\site-packages\\skimage\\io\\_io.py:141: UserWarning: final_KE012_data\\cherry_full_set_trimmed\\cherry_plate1b_w6_line_2020-02-11_09.19.20_iso_Kynan Lawlor_F_fused_scRNA.tif is a low contrast image\n",
      "  warn('%s is a low contrast image' % fname)\n"
     ]
    },
    {
     "name": "stdout",
     "output_type": "stream",
     "text": [
      "(4991, 1032)\n",
      "(4800, 1020)\n",
      "final_KE012_data\\cherry_full_set_trimmed\\cherry_plate1b_w6_line_2020-02-11_09.19.47_iso_Kynan Lawlor_F_fused_scRNA.tif\n",
      "(1024, 1024)\n",
      "(1024, 1024)\n",
      "final_KE012_data\\cherry_full_set_trimmed\\cherry_plate1b_w6_dots_2020-02-11_09.18.19_iso_Kynan Lawlor_convert_scRNA.tif\n"
     ]
    },
    {
     "name": "stderr",
     "output_type": "stream",
     "text": [
      "C:\\Users\\kynan.lawlor\\AppData\\Local\\Continuum\\miniconda3\\envs\\imaging\\lib\\site-packages\\skimage\\io\\_io.py:141: UserWarning: final_KE012_data\\cherry_full_set_trimmed\\cherry_plate1b_w6_line_2020-02-11_09.19.47_iso_Kynan Lawlor_F_fused_scRNA.tif is a low contrast image\n",
      "  warn('%s is a low contrast image' % fname)\n",
      "C:\\Users\\kynan.lawlor\\AppData\\Local\\Continuum\\miniconda3\\envs\\imaging\\lib\\site-packages\\skimage\\io\\_io.py:141: UserWarning: final_KE012_data\\cherry_full_set_trimmed\\cherry_plate1b_w6_dots_2020-02-11_09.18.19_iso_Kynan Lawlor_convert_scRNA.tif is a low contrast image\n",
      "  warn('%s is a low contrast image' % fname)\n"
     ]
    },
    {
     "name": "stdout",
     "output_type": "stream",
     "text": [
      "(4992, 1031)\n",
      "(4800, 1020)\n",
      "final_KE012_data\\cherry_full_set_trimmed\\cherry_plate1b_w6_line_2020-02-11_09.20.13_iso_Kynan Lawlor_F_fused_scRNA.tif\n",
      "(1024, 1024)\n",
      "(1024, 1024)\n",
      "final_KE012_data\\cherry_full_set_trimmed\\cherry_plate1b_w2_dots_2020-02-11_09.05.39_iso_Kynan Lawlor_convert_scRNA.tif\n"
     ]
    },
    {
     "name": "stderr",
     "output_type": "stream",
     "text": [
      "C:\\Users\\kynan.lawlor\\AppData\\Local\\Continuum\\miniconda3\\envs\\imaging\\lib\\site-packages\\skimage\\io\\_io.py:141: UserWarning: final_KE012_data\\cherry_full_set_trimmed\\cherry_plate1b_w6_line_2020-02-11_09.20.13_iso_Kynan Lawlor_F_fused_scRNA.tif is a low contrast image\n",
      "  warn('%s is a low contrast image' % fname)\n",
      "C:\\Users\\kynan.lawlor\\AppData\\Local\\Continuum\\miniconda3\\envs\\imaging\\lib\\site-packages\\skimage\\io\\_io.py:141: UserWarning: final_KE012_data\\cherry_full_set_trimmed\\cherry_plate1b_w2_dots_2020-02-11_09.05.39_iso_Kynan Lawlor_convert_scRNA.tif is a low contrast image\n",
      "  warn('%s is a low contrast image' % fname)\n",
      "C:\\Users\\kynan.lawlor\\AppData\\Local\\Continuum\\miniconda3\\envs\\imaging\\lib\\site-packages\\skimage\\io\\_io.py:141: UserWarning: final_KE012_data\\cherry_full_set_trimmed\\cherry_plate1b_w2_dots_2020-02-11_09.04.14_iso_Kynan Lawlor_convert_scRNA.tif is a low contrast image\n",
      "  warn('%s is a low contrast image' % fname)\n"
     ]
    },
    {
     "name": "stdout",
     "output_type": "stream",
     "text": [
      "(1024, 1024)\n",
      "(1024, 1024)\n",
      "final_KE012_data\\cherry_full_set_trimmed\\cherry_plate1b_w2_dots_2020-02-11_09.04.14_iso_Kynan Lawlor_convert_scRNA.tif\n",
      "(4993, 1029)\n",
      "(4800, 1020)\n",
      "final_KE012_data\\cherry_full_set_trimmed\\cherry_plate1b_w2_line_2020-02-11_09.07.29_iso_Kynan Lawlor_F_fused_scRNA.tif\n"
     ]
    },
    {
     "name": "stderr",
     "output_type": "stream",
     "text": [
      "C:\\Users\\kynan.lawlor\\AppData\\Local\\Continuum\\miniconda3\\envs\\imaging\\lib\\site-packages\\skimage\\io\\_io.py:141: UserWarning: final_KE012_data\\cherry_full_set_trimmed\\cherry_plate1b_w2_line_2020-02-11_09.07.29_iso_Kynan Lawlor_F_fused_scRNA.tif is a low contrast image\n",
      "  warn('%s is a low contrast image' % fname)\n"
     ]
    },
    {
     "name": "stdout",
     "output_type": "stream",
     "text": [
      "(4992, 1030)\n",
      "(4800, 1020)\n",
      "final_KE012_data\\cherry_full_set_trimmed\\cherry_plate1b_w2_line_2020-02-11_09.07.01_iso_Kynan Lawlor_F_fused_scRNA.tif\n",
      "(1024, 1024)\n",
      "(1024, 1024)\n",
      "final_KE012_data\\cherry_full_set_trimmed\\cherry_plate1b_w2_dots_2020-02-11_09.05.06_iso_Kynan Lawlor_convert_scRNA.tif\n"
     ]
    },
    {
     "name": "stderr",
     "output_type": "stream",
     "text": [
      "C:\\Users\\kynan.lawlor\\AppData\\Local\\Continuum\\miniconda3\\envs\\imaging\\lib\\site-packages\\skimage\\io\\_io.py:141: UserWarning: final_KE012_data\\cherry_full_set_trimmed\\cherry_plate1b_w2_line_2020-02-11_09.07.01_iso_Kynan Lawlor_F_fused_scRNA.tif is a low contrast image\n",
      "  warn('%s is a low contrast image' % fname)\n",
      "C:\\Users\\kynan.lawlor\\AppData\\Local\\Continuum\\miniconda3\\envs\\imaging\\lib\\site-packages\\skimage\\io\\_io.py:141: UserWarning: final_KE012_data\\cherry_full_set_trimmed\\cherry_plate1b_w2_dots_2020-02-11_09.05.06_iso_Kynan Lawlor_convert_scRNA.tif is a low contrast image\n",
      "  warn('%s is a low contrast image' % fname)\n"
     ]
    },
    {
     "name": "stdout",
     "output_type": "stream",
     "text": [
      "(4992, 1029)\n",
      "(4800, 1020)\n",
      "final_KE012_data\\cherry_full_set_trimmed\\cherry_plate1b_w2_line_2020-02-11_09.06.27_iso_Kynan Lawlor_F_fused_scRNA.tif\n"
     ]
    },
    {
     "name": "stderr",
     "output_type": "stream",
     "text": [
      "C:\\Users\\kynan.lawlor\\AppData\\Local\\Continuum\\miniconda3\\envs\\imaging\\lib\\site-packages\\skimage\\io\\_io.py:141: UserWarning: final_KE012_data\\cherry_full_set_trimmed\\cherry_plate1b_w2_line_2020-02-11_09.06.27_iso_Kynan Lawlor_F_fused_scRNA.tif is a low contrast image\n",
      "  warn('%s is a low contrast image' % fname)\n"
     ]
    },
    {
     "name": "stdout",
     "output_type": "stream",
     "text": [
      "(4992, 1030)\n",
      "(4800, 1020)\n",
      "final_KE012_data\\cherry_full_set_trimmed\\cherry_plate1b_w5_line_2020-02-11_09.17.09_iso_Kynan Lawlor_F_fused_scRNA.tif\n",
      "(1024, 1024)\n",
      "(1024, 1024)\n",
      "final_KE012_data\\cherry_full_set_trimmed\\cherry_plate1b_w5_dots_2020-02-11_09.16.24_iso_Kynan Lawlor_convert_scRNA.tif\n"
     ]
    },
    {
     "name": "stderr",
     "output_type": "stream",
     "text": [
      "C:\\Users\\kynan.lawlor\\AppData\\Local\\Continuum\\miniconda3\\envs\\imaging\\lib\\site-packages\\skimage\\io\\_io.py:141: UserWarning: final_KE012_data\\cherry_full_set_trimmed\\cherry_plate1b_w5_line_2020-02-11_09.17.09_iso_Kynan Lawlor_F_fused_scRNA.tif is a low contrast image\n",
      "  warn('%s is a low contrast image' % fname)\n",
      "C:\\Users\\kynan.lawlor\\AppData\\Local\\Continuum\\miniconda3\\envs\\imaging\\lib\\site-packages\\skimage\\io\\_io.py:141: UserWarning: final_KE012_data\\cherry_full_set_trimmed\\cherry_plate1b_w5_dots_2020-02-11_09.16.24_iso_Kynan Lawlor_convert_scRNA.tif is a low contrast image\n",
      "  warn('%s is a low contrast image' % fname)\n"
     ]
    },
    {
     "name": "stdout",
     "output_type": "stream",
     "text": [
      "(1024, 1024)\n",
      "(1024, 1024)\n",
      "final_KE012_data\\cherry_full_set_trimmed\\cherry_plate1b_w5_dots_2020-02-11_09.15.33_iso_Kynan Lawlor_convert_scRNA.tif\n",
      "(4990, 1030)\n",
      "(4800, 1020)\n",
      "final_KE012_data\\cherry_full_set_trimmed\\cherry_plate1b_w5_line_2020-02-11_09.16.40_iso_Kynan Lawlor_F_fused_scRNA.tif\n"
     ]
    },
    {
     "name": "stderr",
     "output_type": "stream",
     "text": [
      "C:\\Users\\kynan.lawlor\\AppData\\Local\\Continuum\\miniconda3\\envs\\imaging\\lib\\site-packages\\skimage\\io\\_io.py:141: UserWarning: final_KE012_data\\cherry_full_set_trimmed\\cherry_plate1b_w5_dots_2020-02-11_09.15.33_iso_Kynan Lawlor_convert_scRNA.tif is a low contrast image\n",
      "  warn('%s is a low contrast image' % fname)\n",
      "C:\\Users\\kynan.lawlor\\AppData\\Local\\Continuum\\miniconda3\\envs\\imaging\\lib\\site-packages\\skimage\\io\\_io.py:141: UserWarning: final_KE012_data\\cherry_full_set_trimmed\\cherry_plate1b_w5_line_2020-02-11_09.16.40_iso_Kynan Lawlor_F_fused_scRNA.tif is a low contrast image\n",
      "  warn('%s is a low contrast image' % fname)\n"
     ]
    },
    {
     "name": "stdout",
     "output_type": "stream",
     "text": [
      "(4992, 1031)\n",
      "(4800, 1020)\n",
      "final_KE012_data\\cherry_full_set_trimmed\\cherry_plate1b_w5_line_2020-02-11_09.17.35_iso_Kynan Lawlor_F_fused_scRNA.tif\n",
      "(1024, 1024)\n",
      "(1024, 1024)\n",
      "final_KE012_data\\cherry_full_set_trimmed\\cherry_plate1b_w5_dots_2020-02-11_09.15.58_iso_Kynan Lawlor_convert_scRNA.tif\n"
     ]
    },
    {
     "name": "stderr",
     "output_type": "stream",
     "text": [
      "C:\\Users\\kynan.lawlor\\AppData\\Local\\Continuum\\miniconda3\\envs\\imaging\\lib\\site-packages\\skimage\\io\\_io.py:141: UserWarning: final_KE012_data\\cherry_full_set_trimmed\\cherry_plate1b_w5_line_2020-02-11_09.17.35_iso_Kynan Lawlor_F_fused_scRNA.tif is a low contrast image\n",
      "  warn('%s is a low contrast image' % fname)\n",
      "C:\\Users\\kynan.lawlor\\AppData\\Local\\Continuum\\miniconda3\\envs\\imaging\\lib\\site-packages\\skimage\\io\\_io.py:141: UserWarning: final_KE012_data\\cherry_full_set_trimmed\\cherry_plate1b_w5_dots_2020-02-11_09.15.58_iso_Kynan Lawlor_convert_scRNA.tif is a low contrast image\n",
      "  warn('%s is a low contrast image' % fname)\n"
     ]
    },
    {
     "name": "stdout",
     "output_type": "stream",
     "text": [
      "(1024, 1024)\n",
      "(1024, 1024)\n",
      "final_KE012_data\\cherry_full_set_trimmed\\cherry_plate2a_w4_dots_2020-02-11_09.33.19_iso_Kynan Lawlor_convert.tif\n",
      "(1024, 1024)\n",
      "(1024, 1024)\n",
      "final_KE012_data\\cherry_full_set_trimmed\\cherry_plate2a_w4_dots_2020-02-11_09.33.32_iso_Kynan Lawlor_convert.tif\n"
     ]
    },
    {
     "name": "stderr",
     "output_type": "stream",
     "text": [
      "C:\\Users\\kynan.lawlor\\AppData\\Local\\Continuum\\miniconda3\\envs\\imaging\\lib\\site-packages\\skimage\\io\\_io.py:141: UserWarning: final_KE012_data\\cherry_full_set_trimmed\\cherry_plate2a_w4_dots_2020-02-11_09.33.19_iso_Kynan Lawlor_convert.tif is a low contrast image\n",
      "  warn('%s is a low contrast image' % fname)\n",
      "C:\\Users\\kynan.lawlor\\AppData\\Local\\Continuum\\miniconda3\\envs\\imaging\\lib\\site-packages\\skimage\\io\\_io.py:141: UserWarning: final_KE012_data\\cherry_full_set_trimmed\\cherry_plate2a_w4_dots_2020-02-11_09.33.32_iso_Kynan Lawlor_convert.tif is a low contrast image\n",
      "  warn('%s is a low contrast image' % fname)\n"
     ]
    },
    {
     "name": "stdout",
     "output_type": "stream",
     "text": [
      "(4992, 1029)\n",
      "(4800, 1020)\n",
      "final_KE012_data\\cherry_full_set_trimmed\\cherry_plate2a_w4_line_2020-02-11_09.35.12_iso_Kynan Lawlor_F_fused.tif\n",
      "(1024, 1024)\n",
      "(1024, 1024)\n",
      "final_KE012_data\\cherry_full_set_trimmed\\cherry_plate2a_w4_dots_2020-02-11_09.33.50_iso_Kynan Lawlor_convert.tif\n"
     ]
    },
    {
     "name": "stderr",
     "output_type": "stream",
     "text": [
      "C:\\Users\\kynan.lawlor\\AppData\\Local\\Continuum\\miniconda3\\envs\\imaging\\lib\\site-packages\\skimage\\io\\_io.py:141: UserWarning: final_KE012_data\\cherry_full_set_trimmed\\cherry_plate2a_w4_line_2020-02-11_09.35.12_iso_Kynan Lawlor_F_fused.tif is a low contrast image\n",
      "  warn('%s is a low contrast image' % fname)\n",
      "C:\\Users\\kynan.lawlor\\AppData\\Local\\Continuum\\miniconda3\\envs\\imaging\\lib\\site-packages\\skimage\\io\\_io.py:141: UserWarning: final_KE012_data\\cherry_full_set_trimmed\\cherry_plate2a_w4_dots_2020-02-11_09.33.50_iso_Kynan Lawlor_convert.tif is a low contrast image\n",
      "  warn('%s is a low contrast image' % fname)\n"
     ]
    },
    {
     "name": "stdout",
     "output_type": "stream",
     "text": [
      "(4991, 1028)\n",
      "(4800, 1020)\n",
      "final_KE012_data\\cherry_full_set_trimmed\\cherry_plate2a_w4_line_2020-02-11_09.34.43_iso_Kynan Lawlor_F_fused.tif\n"
     ]
    },
    {
     "name": "stderr",
     "output_type": "stream",
     "text": [
      "C:\\Users\\kynan.lawlor\\AppData\\Local\\Continuum\\miniconda3\\envs\\imaging\\lib\\site-packages\\skimage\\io\\_io.py:141: UserWarning: final_KE012_data\\cherry_full_set_trimmed\\cherry_plate2a_w4_line_2020-02-11_09.34.43_iso_Kynan Lawlor_F_fused.tif is a low contrast image\n",
      "  warn('%s is a low contrast image' % fname)\n"
     ]
    },
    {
     "name": "stdout",
     "output_type": "stream",
     "text": [
      "(4989, 1028)\n",
      "(4800, 1020)\n",
      "final_KE012_data\\cherry_full_set_trimmed\\cherry_plate2a_w4_line_2020-02-11_09.34.12_iso_Kynan Lawlor_F_fused.tif\n",
      "(1024, 1024)\n",
      "(1024, 1024)\n",
      "final_KE012_data\\cherry_full_set_trimmed\\cherry_plate2a_w3_dots_2020-02-11_09.31.02_iso_Kynan Lawlor_convert.tif\n"
     ]
    },
    {
     "name": "stderr",
     "output_type": "stream",
     "text": [
      "C:\\Users\\kynan.lawlor\\AppData\\Local\\Continuum\\miniconda3\\envs\\imaging\\lib\\site-packages\\skimage\\io\\_io.py:141: UserWarning: final_KE012_data\\cherry_full_set_trimmed\\cherry_plate2a_w4_line_2020-02-11_09.34.12_iso_Kynan Lawlor_F_fused.tif is a low contrast image\n",
      "  warn('%s is a low contrast image' % fname)\n",
      "C:\\Users\\kynan.lawlor\\AppData\\Local\\Continuum\\miniconda3\\envs\\imaging\\lib\\site-packages\\skimage\\io\\_io.py:141: UserWarning: final_KE012_data\\cherry_full_set_trimmed\\cherry_plate2a_w3_dots_2020-02-11_09.31.02_iso_Kynan Lawlor_convert.tif is a low contrast image\n",
      "  warn('%s is a low contrast image' % fname)\n"
     ]
    },
    {
     "name": "stdout",
     "output_type": "stream",
     "text": [
      "(4992, 1031)\n",
      "(4800, 1020)\n",
      "final_KE012_data\\cherry_full_set_trimmed\\cherry_plate2a_w3_line_2020-02-11_09.31.56_iso_Kynan Lawlor_F_fused.tif\n"
     ]
    },
    {
     "name": "stderr",
     "output_type": "stream",
     "text": [
      "C:\\Users\\kynan.lawlor\\AppData\\Local\\Continuum\\miniconda3\\envs\\imaging\\lib\\site-packages\\skimage\\io\\_io.py:141: UserWarning: final_KE012_data\\cherry_full_set_trimmed\\cherry_plate2a_w3_line_2020-02-11_09.31.56_iso_Kynan Lawlor_F_fused.tif is a low contrast image\n",
      "  warn('%s is a low contrast image' % fname)\n"
     ]
    },
    {
     "name": "stdout",
     "output_type": "stream",
     "text": [
      "(4992, 1032)\n",
      "(4800, 1020)\n",
      "final_KE012_data\\cherry_full_set_trimmed\\cherry_plate2a_w3_line_2020-02-11_09.32.21_iso_Kynan Lawlor_F_fused.tif\n",
      "(1024, 1024)\n",
      "(1024, 1024)\n",
      "final_KE012_data\\cherry_full_set_trimmed\\cherry_plate2a_w3_dots_2020-02-11_09.30.25_iso_Kynan Lawlor_convert.tif\n"
     ]
    },
    {
     "name": "stderr",
     "output_type": "stream",
     "text": [
      "C:\\Users\\kynan.lawlor\\AppData\\Local\\Continuum\\miniconda3\\envs\\imaging\\lib\\site-packages\\skimage\\io\\_io.py:141: UserWarning: final_KE012_data\\cherry_full_set_trimmed\\cherry_plate2a_w3_line_2020-02-11_09.32.21_iso_Kynan Lawlor_F_fused.tif is a low contrast image\n",
      "  warn('%s is a low contrast image' % fname)\n",
      "C:\\Users\\kynan.lawlor\\AppData\\Local\\Continuum\\miniconda3\\envs\\imaging\\lib\\site-packages\\skimage\\io\\_io.py:141: UserWarning: final_KE012_data\\cherry_full_set_trimmed\\cherry_plate2a_w3_dots_2020-02-11_09.30.25_iso_Kynan Lawlor_convert.tif is a low contrast image\n",
      "  warn('%s is a low contrast image' % fname)\n"
     ]
    },
    {
     "name": "stdout",
     "output_type": "stream",
     "text": [
      "(4992, 1031)\n",
      "(4800, 1020)\n",
      "final_KE012_data\\cherry_full_set_trimmed\\cherry_plate2a_w3_line_2020-02-11_09.31.21_iso_Kynan Lawlor_F_fused.tif\n",
      "(1024, 1024)\n",
      "(1024, 1024)\n",
      "final_KE012_data\\cherry_full_set_trimmed\\cherry_plate2a_w3_dots_2020-02-11_09.30.13_iso_Kynan Lawlor_convert.tif\n"
     ]
    },
    {
     "name": "stderr",
     "output_type": "stream",
     "text": [
      "C:\\Users\\kynan.lawlor\\AppData\\Local\\Continuum\\miniconda3\\envs\\imaging\\lib\\site-packages\\skimage\\io\\_io.py:141: UserWarning: final_KE012_data\\cherry_full_set_trimmed\\cherry_plate2a_w3_line_2020-02-11_09.31.21_iso_Kynan Lawlor_F_fused.tif is a low contrast image\n",
      "  warn('%s is a low contrast image' % fname)\n",
      "C:\\Users\\kynan.lawlor\\AppData\\Local\\Continuum\\miniconda3\\envs\\imaging\\lib\\site-packages\\skimage\\io\\_io.py:141: UserWarning: final_KE012_data\\cherry_full_set_trimmed\\cherry_plate2a_w3_dots_2020-02-11_09.30.13_iso_Kynan Lawlor_convert.tif is a low contrast image\n",
      "  warn('%s is a low contrast image' % fname)\n"
     ]
    },
    {
     "name": "stdout",
     "output_type": "stream",
     "text": [
      "(4991, 1031)\n",
      "(4800, 1020)\n",
      "final_KE012_data\\cherry_full_set_trimmed\\cherry_plate2a_w6_line_2020-02-11_09.39.53_iso_Kynan Lawlor_F_fused.tif\n"
     ]
    },
    {
     "name": "stderr",
     "output_type": "stream",
     "text": [
      "C:\\Users\\kynan.lawlor\\AppData\\Local\\Continuum\\miniconda3\\envs\\imaging\\lib\\site-packages\\skimage\\io\\_io.py:141: UserWarning: final_KE012_data\\cherry_full_set_trimmed\\cherry_plate2a_w6_line_2020-02-11_09.39.53_iso_Kynan Lawlor_F_fused.tif is a low contrast image\n",
      "  warn('%s is a low contrast image' % fname)\n"
     ]
    },
    {
     "name": "stdout",
     "output_type": "stream",
     "text": [
      "(4992, 1029)\n",
      "(4800, 1020)\n",
      "final_KE012_data\\cherry_full_set_trimmed\\cherry_plate2a_w6_line_2020-02-11_09.38.56_iso_Kynan Lawlor_F_fused.tif\n"
     ]
    },
    {
     "name": "stderr",
     "output_type": "stream",
     "text": [
      "C:\\Users\\kynan.lawlor\\AppData\\Local\\Continuum\\miniconda3\\envs\\imaging\\lib\\site-packages\\skimage\\io\\_io.py:141: UserWarning: final_KE012_data\\cherry_full_set_trimmed\\cherry_plate2a_w6_line_2020-02-11_09.38.56_iso_Kynan Lawlor_F_fused.tif is a low contrast image\n",
      "  warn('%s is a low contrast image' % fname)\n"
     ]
    },
    {
     "name": "stdout",
     "output_type": "stream",
     "text": [
      "(4990, 1031)\n",
      "(4800, 1020)\n",
      "final_KE012_data\\cherry_full_set_trimmed\\cherry_plate2a_w6_line_2020-02-11_09.39.25_iso_Kynan Lawlor_F_fused.tif\n",
      "(1024, 1024)\n",
      "(1024, 1024)\n",
      "final_KE012_data\\cherry_full_set_trimmed\\cherry_plate2a_w6_dots_2020-02-11_09.38.15_iso_Kynan Lawlor_convert.tif\n",
      "(1024, 1024)\n",
      "(1024, 1024)\n",
      "final_KE012_data\\cherry_full_set_trimmed\\cherry_plate2a_w6_dots_2020-02-11_09.38.42_iso_Kynan Lawlor_convert.tif\n"
     ]
    },
    {
     "name": "stderr",
     "output_type": "stream",
     "text": [
      "C:\\Users\\kynan.lawlor\\AppData\\Local\\Continuum\\miniconda3\\envs\\imaging\\lib\\site-packages\\skimage\\io\\_io.py:141: UserWarning: final_KE012_data\\cherry_full_set_trimmed\\cherry_plate2a_w6_line_2020-02-11_09.39.25_iso_Kynan Lawlor_F_fused.tif is a low contrast image\n",
      "  warn('%s is a low contrast image' % fname)\n",
      "C:\\Users\\kynan.lawlor\\AppData\\Local\\Continuum\\miniconda3\\envs\\imaging\\lib\\site-packages\\skimage\\io\\_io.py:141: UserWarning: final_KE012_data\\cherry_full_set_trimmed\\cherry_plate2a_w6_dots_2020-02-11_09.38.15_iso_Kynan Lawlor_convert.tif is a low contrast image\n",
      "  warn('%s is a low contrast image' % fname)\n",
      "C:\\Users\\kynan.lawlor\\AppData\\Local\\Continuum\\miniconda3\\envs\\imaging\\lib\\site-packages\\skimage\\io\\_io.py:141: UserWarning: final_KE012_data\\cherry_full_set_trimmed\\cherry_plate2a_w6_dots_2020-02-11_09.38.42_iso_Kynan Lawlor_convert.tif is a low contrast image\n",
      "  warn('%s is a low contrast image' % fname)\n"
     ]
    },
    {
     "name": "stdout",
     "output_type": "stream",
     "text": [
      "(1024, 1024)\n",
      "(1024, 1024)\n",
      "final_KE012_data\\cherry_full_set_trimmed\\cherry_plate2a_w6_dots_2020-02-11_09.38.31_iso_Kynan Lawlor_convert.tif\n",
      "(4992, 1029)\n",
      "(4800, 1020)\n",
      "final_KE012_data\\cherry_full_set_trimmed\\cherry_plate2a_w2_line_2020-02-11_09.29.04_iso_Kynan Lawlor_F_fused.tif\n"
     ]
    },
    {
     "name": "stderr",
     "output_type": "stream",
     "text": [
      "C:\\Users\\kynan.lawlor\\AppData\\Local\\Continuum\\miniconda3\\envs\\imaging\\lib\\site-packages\\skimage\\io\\_io.py:141: UserWarning: final_KE012_data\\cherry_full_set_trimmed\\cherry_plate2a_w6_dots_2020-02-11_09.38.31_iso_Kynan Lawlor_convert.tif is a low contrast image\n",
      "  warn('%s is a low contrast image' % fname)\n",
      "C:\\Users\\kynan.lawlor\\AppData\\Local\\Continuum\\miniconda3\\envs\\imaging\\lib\\site-packages\\skimage\\io\\_io.py:141: UserWarning: final_KE012_data\\cherry_full_set_trimmed\\cherry_plate2a_w2_line_2020-02-11_09.29.04_iso_Kynan Lawlor_F_fused.tif is a low contrast image\n",
      "  warn('%s is a low contrast image' % fname)\n"
     ]
    },
    {
     "name": "stdout",
     "output_type": "stream",
     "text": [
      "(4992, 1030)\n",
      "(4800, 1020)\n",
      "final_KE012_data\\cherry_full_set_trimmed\\cherry_plate2a_w2_line_2020-02-11_09.28.33_iso_Kynan Lawlor_F_fused.tif\n",
      "(1024, 1024)\n",
      "(1024, 1024)\n",
      "final_KE012_data\\cherry_full_set_trimmed\\cherry_plate2a_w2_dots_2020-02-11_09.28.04_iso_Kynan Lawlor_convert.tif\n",
      "(1024, 1024)"
     ]
    },
    {
     "name": "stderr",
     "output_type": "stream",
     "text": [
      "C:\\Users\\kynan.lawlor\\AppData\\Local\\Continuum\\miniconda3\\envs\\imaging\\lib\\site-packages\\skimage\\io\\_io.py:141: UserWarning: final_KE012_data\\cherry_full_set_trimmed\\cherry_plate2a_w2_line_2020-02-11_09.28.33_iso_Kynan Lawlor_F_fused.tif is a low contrast image\n",
      "  warn('%s is a low contrast image' % fname)\n",
      "C:\\Users\\kynan.lawlor\\AppData\\Local\\Continuum\\miniconda3\\envs\\imaging\\lib\\site-packages\\skimage\\io\\_io.py:141: UserWarning: final_KE012_data\\cherry_full_set_trimmed\\cherry_plate2a_w2_dots_2020-02-11_09.28.04_iso_Kynan Lawlor_convert.tif is a low contrast image\n",
      "  warn('%s is a low contrast image' % fname)\n",
      "C:\\Users\\kynan.lawlor\\AppData\\Local\\Continuum\\miniconda3\\envs\\imaging\\lib\\site-packages\\skimage\\io\\_io.py:141: UserWarning: final_KE012_data\\cherry_full_set_trimmed\\cherry_plate2a_w2_dots_2020-02-11_09.27.42_iso_Kynan Lawlor_convert.tif is a low contrast image\n",
      "  warn('%s is a low contrast image' % fname)\n"
     ]
    },
    {
     "name": "stdout",
     "output_type": "stream",
     "text": [
      "\n",
      "(1024, 1024)\n",
      "final_KE012_data\\cherry_full_set_trimmed\\cherry_plate2a_w2_dots_2020-02-11_09.27.42_iso_Kynan Lawlor_convert.tif\n",
      "(4992, 1030)\n",
      "(4800, 1020)\n",
      "final_KE012_data\\cherry_full_set_trimmed\\cherry_plate2a_w2_line_2020-02-11_09.29.31_iso_Kynan Lawlor_F_fused.tif\n",
      "(1024, 1024)\n",
      "(1024, 1024)\n",
      "final_KE012_data\\cherry_full_set_trimmed\\cherry_plate2a_w2_dots_2020-02-11_09.28.17_iso_Kynan Lawlor_convert.tif\n"
     ]
    },
    {
     "name": "stderr",
     "output_type": "stream",
     "text": [
      "C:\\Users\\kynan.lawlor\\AppData\\Local\\Continuum\\miniconda3\\envs\\imaging\\lib\\site-packages\\skimage\\io\\_io.py:141: UserWarning: final_KE012_data\\cherry_full_set_trimmed\\cherry_plate2a_w2_line_2020-02-11_09.29.31_iso_Kynan Lawlor_F_fused.tif is a low contrast image\n",
      "  warn('%s is a low contrast image' % fname)\n",
      "C:\\Users\\kynan.lawlor\\AppData\\Local\\Continuum\\miniconda3\\envs\\imaging\\lib\\site-packages\\skimage\\io\\_io.py:141: UserWarning: final_KE012_data\\cherry_full_set_trimmed\\cherry_plate2a_w2_dots_2020-02-11_09.28.17_iso_Kynan Lawlor_convert.tif is a low contrast image\n",
      "  warn('%s is a low contrast image' % fname)\n"
     ]
    },
    {
     "name": "stdout",
     "output_type": "stream",
     "text": [
      "(4990, 1030)\n",
      "(4800, 1020)\n",
      "final_KE012_data\\cherry_full_set_trimmed\\cherry_plate2a_w5_line_2020-02-11_09.37.38_iso_Kynan Lawlor_F_fused.tif\n"
     ]
    },
    {
     "name": "stderr",
     "output_type": "stream",
     "text": [
      "C:\\Users\\kynan.lawlor\\AppData\\Local\\Continuum\\miniconda3\\envs\\imaging\\lib\\site-packages\\skimage\\io\\_io.py:141: UserWarning: final_KE012_data\\cherry_full_set_trimmed\\cherry_plate2a_w5_line_2020-02-11_09.37.38_iso_Kynan Lawlor_F_fused.tif is a low contrast image\n",
      "  warn('%s is a low contrast image' % fname)\n"
     ]
    },
    {
     "name": "stdout",
     "output_type": "stream",
     "text": [
      "(4991, 1029)\n",
      "(4800, 1020)\n",
      "final_KE012_data\\cherry_full_set_trimmed\\cherry_plate2a_w5_line_2020-02-11_09.36.40_iso_Kynan Lawlor_F_fused.tif\n"
     ]
    },
    {
     "name": "stderr",
     "output_type": "stream",
     "text": [
      "C:\\Users\\kynan.lawlor\\AppData\\Local\\Continuum\\miniconda3\\envs\\imaging\\lib\\site-packages\\skimage\\io\\_io.py:141: UserWarning: final_KE012_data\\cherry_full_set_trimmed\\cherry_plate2a_w5_line_2020-02-11_09.36.40_iso_Kynan Lawlor_F_fused.tif is a low contrast image\n",
      "  warn('%s is a low contrast image' % fname)\n"
     ]
    },
    {
     "name": "stdout",
     "output_type": "stream",
     "text": [
      "(4990, 1030)\n",
      "(4800, 1020)\n",
      "final_KE012_data\\cherry_full_set_trimmed\\cherry_plate2a_w5_line_2020-02-11_09.37.06_iso_Kynan Lawlor_F_fused.tif\n"
     ]
    },
    {
     "name": "stderr",
     "output_type": "stream",
     "text": [
      "C:\\Users\\kynan.lawlor\\AppData\\Local\\Continuum\\miniconda3\\envs\\imaging\\lib\\site-packages\\skimage\\io\\_io.py:141: UserWarning: final_KE012_data\\cherry_full_set_trimmed\\cherry_plate2a_w5_line_2020-02-11_09.37.06_iso_Kynan Lawlor_F_fused.tif is a low contrast image\n",
      "  warn('%s is a low contrast image' % fname)\n"
     ]
    },
    {
     "name": "stdout",
     "output_type": "stream",
     "text": [
      "(1024, 1024)\n",
      "(1024, 1024)\n",
      "final_KE012_data\\cherry_full_set_trimmed\\cherry_plate2a_w5_dots_2020-02-11_09.36.13_iso_Kynan Lawlor_convert.tif\n",
      "(1024, 1024)\n",
      "(1024, 1024)\n",
      "final_KE012_data\\cherry_full_set_trimmed\\cherry_plate2a_w5_dots_2020-02-11_09.35.55_iso_Kynan Lawlor_convert.tif\n"
     ]
    },
    {
     "name": "stderr",
     "output_type": "stream",
     "text": [
      "C:\\Users\\kynan.lawlor\\AppData\\Local\\Continuum\\miniconda3\\envs\\imaging\\lib\\site-packages\\skimage\\io\\_io.py:141: UserWarning: final_KE012_data\\cherry_full_set_trimmed\\cherry_plate2a_w5_dots_2020-02-11_09.36.13_iso_Kynan Lawlor_convert.tif is a low contrast image\n",
      "  warn('%s is a low contrast image' % fname)\n",
      "C:\\Users\\kynan.lawlor\\AppData\\Local\\Continuum\\miniconda3\\envs\\imaging\\lib\\site-packages\\skimage\\io\\_io.py:141: UserWarning: final_KE012_data\\cherry_full_set_trimmed\\cherry_plate2a_w5_dots_2020-02-11_09.35.55_iso_Kynan Lawlor_convert.tif is a low contrast image\n",
      "  warn('%s is a low contrast image' % fname)\n"
     ]
    },
    {
     "name": "stdout",
     "output_type": "stream",
     "text": [
      "(1024, 1024)\n",
      "(1024, 1024)\n",
      "final_KE012_data\\cherry_full_set_trimmed\\cherry_plate2a_w5_dots_2020-02-11_09.36.27_iso_Kynan Lawlor_convert.tif\n",
      "(1024, 1024)\n",
      "(1024, 1024)\n",
      "final_KE012_data\\cherry_full_set_trimmed\\cherry_plate1a_w3_dots_2020-02-11_08.42.19_iso_Kynan Lawlor_convert.tif\n"
     ]
    },
    {
     "name": "stderr",
     "output_type": "stream",
     "text": [
      "C:\\Users\\kynan.lawlor\\AppData\\Local\\Continuum\\miniconda3\\envs\\imaging\\lib\\site-packages\\skimage\\io\\_io.py:141: UserWarning: final_KE012_data\\cherry_full_set_trimmed\\cherry_plate2a_w5_dots_2020-02-11_09.36.27_iso_Kynan Lawlor_convert.tif is a low contrast image\n",
      "  warn('%s is a low contrast image' % fname)\n",
      "C:\\Users\\kynan.lawlor\\AppData\\Local\\Continuum\\miniconda3\\envs\\imaging\\lib\\site-packages\\skimage\\io\\_io.py:141: UserWarning: final_KE012_data\\cherry_full_set_trimmed\\cherry_plate1a_w3_dots_2020-02-11_08.42.19_iso_Kynan Lawlor_convert.tif is a low contrast image\n",
      "  warn('%s is a low contrast image' % fname)\n"
     ]
    },
    {
     "name": "stdout",
     "output_type": "stream",
     "text": [
      "(4872, 1031)\n",
      "(4800, 1020)\n",
      "final_KE012_data\\cherry_full_set_trimmed\\cherry_plate1a_w3_line_2020-02-11_08.43.33_iso_Kynan Lawlor_F_fused.tif\n",
      "(1024, 1024)\n",
      "(1024, 1024)\n",
      "final_KE012_data\\cherry_full_set_trimmed\\cherry_plate1a_w3_dots_2020-02-11_08.41.05_iso_Kynan Lawlor_convert.tif\n"
     ]
    },
    {
     "name": "stderr",
     "output_type": "stream",
     "text": [
      "C:\\Users\\kynan.lawlor\\AppData\\Local\\Continuum\\miniconda3\\envs\\imaging\\lib\\site-packages\\skimage\\io\\_io.py:141: UserWarning: final_KE012_data\\cherry_full_set_trimmed\\cherry_plate1a_w3_line_2020-02-11_08.43.33_iso_Kynan Lawlor_F_fused.tif is a low contrast image\n",
      "  warn('%s is a low contrast image' % fname)\n",
      "C:\\Users\\kynan.lawlor\\AppData\\Local\\Continuum\\miniconda3\\envs\\imaging\\lib\\site-packages\\skimage\\io\\_io.py:141: UserWarning: final_KE012_data\\cherry_full_set_trimmed\\cherry_plate1a_w3_dots_2020-02-11_08.41.05_iso_Kynan Lawlor_convert.tif is a low contrast image\n",
      "  warn('%s is a low contrast image' % fname)\n"
     ]
    },
    {
     "name": "stdout",
     "output_type": "stream",
     "text": [
      "(4992, 1032)\n",
      "(4800, 1020)\n",
      "final_KE012_data\\cherry_full_set_trimmed\\cherry_plate1a_w3_line_2020-02-11_08.42.39_iso_Kynan Lawlor_F_fused.tif\n"
     ]
    },
    {
     "name": "stderr",
     "output_type": "stream",
     "text": [
      "C:\\Users\\kynan.lawlor\\AppData\\Local\\Continuum\\miniconda3\\envs\\imaging\\lib\\site-packages\\skimage\\io\\_io.py:141: UserWarning: final_KE012_data\\cherry_full_set_trimmed\\cherry_plate1a_w3_line_2020-02-11_08.42.39_iso_Kynan Lawlor_F_fused.tif is a low contrast image\n",
      "  warn('%s is a low contrast image' % fname)\n"
     ]
    },
    {
     "name": "stdout",
     "output_type": "stream",
     "text": [
      "(4992, 1032)\n",
      "(4800, 1020)\n",
      "final_KE012_data\\cherry_full_set_trimmed\\cherry_plate1a_w3_line_2020-02-11_08.46.15_iso_Kynan Lawlor_F_fused.tif\n",
      "(1024, 1024)\n",
      "(1024, 1024)\n",
      "final_KE012_data\\cherry_full_set_trimmed\\cherry_plate1a_w3_dots_2020-02-11_08.41.56_iso_Kynan Lawlor_convert.tif\n"
     ]
    },
    {
     "name": "stderr",
     "output_type": "stream",
     "text": [
      "C:\\Users\\kynan.lawlor\\AppData\\Local\\Continuum\\miniconda3\\envs\\imaging\\lib\\site-packages\\skimage\\io\\_io.py:141: UserWarning: final_KE012_data\\cherry_full_set_trimmed\\cherry_plate1a_w3_line_2020-02-11_08.46.15_iso_Kynan Lawlor_F_fused.tif is a low contrast image\n",
      "  warn('%s is a low contrast image' % fname)\n",
      "C:\\Users\\kynan.lawlor\\AppData\\Local\\Continuum\\miniconda3\\envs\\imaging\\lib\\site-packages\\skimage\\io\\_io.py:141: UserWarning: final_KE012_data\\cherry_full_set_trimmed\\cherry_plate1a_w3_dots_2020-02-11_08.41.56_iso_Kynan Lawlor_convert.tif is a low contrast image\n",
      "  warn('%s is a low contrast image' % fname)\n"
     ]
    },
    {
     "name": "stdout",
     "output_type": "stream",
     "text": [
      "(2922, 1707)\n",
      "(2922, 1020)\n",
      "final_KE012_data\\cherry_full_set_trimmed\\cherry_plate1a_w6_line_2020-02-11_08.56.33_iso_Kynan Lawlor_F_fused.tif\n"
     ]
    },
    {
     "name": "stderr",
     "output_type": "stream",
     "text": [
      "C:\\Users\\kynan.lawlor\\AppData\\Local\\Continuum\\miniconda3\\envs\\imaging\\lib\\site-packages\\skimage\\io\\_io.py:141: UserWarning: final_KE012_data\\cherry_full_set_trimmed\\cherry_plate1a_w6_line_2020-02-11_08.56.33_iso_Kynan Lawlor_F_fused.tif is a low contrast image\n",
      "  warn('%s is a low contrast image' % fname)\n"
     ]
    },
    {
     "name": "stdout",
     "output_type": "stream",
     "text": [
      "(4871, 1032)\n",
      "(4800, 1020)\n",
      "final_KE012_data\\cherry_full_set_trimmed\\cherry_plate1a_w6_line_2020-02-11_08.54.39_iso_Kynan Lawlor_F_fused.tif\n",
      "(1024, 1024)\n",
      "(1024, 1024)\n",
      "final_KE012_data\\cherry_full_set_trimmed\\cherry_plate1a_w6_dots_2020-02-11_08.52.27_iso_Kynan Lawlor_convert.tif\n",
      "(1024, 1024)"
     ]
    },
    {
     "name": "stderr",
     "output_type": "stream",
     "text": [
      "C:\\Users\\kynan.lawlor\\AppData\\Local\\Continuum\\miniconda3\\envs\\imaging\\lib\\site-packages\\skimage\\io\\_io.py:141: UserWarning: final_KE012_data\\cherry_full_set_trimmed\\cherry_plate1a_w6_line_2020-02-11_08.54.39_iso_Kynan Lawlor_F_fused.tif is a low contrast image\n",
      "  warn('%s is a low contrast image' % fname)\n",
      "C:\\Users\\kynan.lawlor\\AppData\\Local\\Continuum\\miniconda3\\envs\\imaging\\lib\\site-packages\\skimage\\io\\_io.py:141: UserWarning: final_KE012_data\\cherry_full_set_trimmed\\cherry_plate1a_w6_dots_2020-02-11_08.52.27_iso_Kynan Lawlor_convert.tif is a low contrast image\n",
      "  warn('%s is a low contrast image' % fname)\n",
      "C:\\Users\\kynan.lawlor\\AppData\\Local\\Continuum\\miniconda3\\envs\\imaging\\lib\\site-packages\\skimage\\io\\_io.py:141: UserWarning: final_KE012_data\\cherry_full_set_trimmed\\cherry_plate1a_w6_dots_2020-02-11_08.53.20_iso_Kynan Lawlor_convert.tif is a low contrast image\n",
      "  warn('%s is a low contrast image' % fname)\n"
     ]
    },
    {
     "name": "stdout",
     "output_type": "stream",
     "text": [
      "\n",
      "(1024, 1024)\n",
      "final_KE012_data\\cherry_full_set_trimmed\\cherry_plate1a_w6_dots_2020-02-11_08.53.20_iso_Kynan Lawlor_convert.tif\n",
      "(4992, 1031)\n",
      "(4800, 1020)\n",
      "final_KE012_data\\cherry_full_set_trimmed\\cherry_plate1a_w6_line_2020-02-11_08.53.46_iso_Kynan Lawlor_F_fused.tif\n",
      "(1024, 1024)\n",
      "(1024, 1024)\n",
      "final_KE012_data\\cherry_full_set_trimmed\\cherry_plate1a_w6_dots_2020-02-11_08.52.52_iso_Kynan Lawlor_convert.tif\n"
     ]
    },
    {
     "name": "stderr",
     "output_type": "stream",
     "text": [
      "C:\\Users\\kynan.lawlor\\AppData\\Local\\Continuum\\miniconda3\\envs\\imaging\\lib\\site-packages\\skimage\\io\\_io.py:141: UserWarning: final_KE012_data\\cherry_full_set_trimmed\\cherry_plate1a_w6_line_2020-02-11_08.53.46_iso_Kynan Lawlor_F_fused.tif is a low contrast image\n",
      "  warn('%s is a low contrast image' % fname)\n",
      "C:\\Users\\kynan.lawlor\\AppData\\Local\\Continuum\\miniconda3\\envs\\imaging\\lib\\site-packages\\skimage\\io\\_io.py:141: UserWarning: final_KE012_data\\cherry_full_set_trimmed\\cherry_plate1a_w6_dots_2020-02-11_08.52.52_iso_Kynan Lawlor_convert.tif is a low contrast image\n",
      "  warn('%s is a low contrast image' % fname)\n"
     ]
    },
    {
     "name": "stdout",
     "output_type": "stream",
     "text": [
      "(4993, 1031)\n",
      "(4800, 1020)\n",
      "final_KE012_data\\cherry_full_set_trimmed\\cherry_plate1a_w2_line_2020-02-11_08.36.56_iso_Kynan Lawlor_F_fused.tif\n"
     ]
    },
    {
     "name": "stderr",
     "output_type": "stream",
     "text": [
      "C:\\Users\\kynan.lawlor\\AppData\\Local\\Continuum\\miniconda3\\envs\\imaging\\lib\\site-packages\\skimage\\io\\_io.py:141: UserWarning: final_KE012_data\\cherry_full_set_trimmed\\cherry_plate1a_w2_line_2020-02-11_08.36.56_iso_Kynan Lawlor_F_fused.tif is a low contrast image\n",
      "  warn('%s is a low contrast image' % fname)\n",
      "C:\\Users\\kynan.lawlor\\AppData\\Local\\Continuum\\miniconda3\\envs\\imaging\\lib\\site-packages\\skimage\\io\\_io.py:141: UserWarning: final_KE012_data\\cherry_full_set_trimmed\\cherry_plate1a_w2_dots_2020-02-11_08.35.57_iso_Kynan Lawlor_convert.tif is a low contrast image\n",
      "  warn('%s is a low contrast image' % fname)\n"
     ]
    },
    {
     "name": "stdout",
     "output_type": "stream",
     "text": [
      "(1024, 1024)\n",
      "(1024, 1024)\n",
      "final_KE012_data\\cherry_full_set_trimmed\\cherry_plate1a_w2_dots_2020-02-11_08.35.57_iso_Kynan Lawlor_convert.tif\n",
      "(1024, 1024)\n",
      "(1024, 1024)\n",
      "final_KE012_data\\cherry_full_set_trimmed\\cherry_plate1a_w2_dots_2020-02-11_08.36.22_iso_Kynan Lawlor_convert.tif\n"
     ]
    },
    {
     "name": "stderr",
     "output_type": "stream",
     "text": [
      "C:\\Users\\kynan.lawlor\\AppData\\Local\\Continuum\\miniconda3\\envs\\imaging\\lib\\site-packages\\skimage\\io\\_io.py:141: UserWarning: final_KE012_data\\cherry_full_set_trimmed\\cherry_plate1a_w2_dots_2020-02-11_08.36.22_iso_Kynan Lawlor_convert.tif is a low contrast image\n",
      "  warn('%s is a low contrast image' % fname)\n"
     ]
    },
    {
     "name": "stdout",
     "output_type": "stream",
     "text": [
      "(4993, 1031)\n",
      "(4800, 1020)\n",
      "final_KE012_data\\cherry_full_set_trimmed\\cherry_plate1a_w2_line_2020-02-11_08.39.04_iso_Kynan Lawlor_F_fused.tif\n",
      "(1024, 1024)\n",
      "(1024, 1024)\n",
      "final_KE012_data\\cherry_full_set_trimmed\\cherry_plate1a_w2_dots_2020-02-11_08.35.17_iso_Kynan Lawlor_convert.tif\n"
     ]
    },
    {
     "name": "stderr",
     "output_type": "stream",
     "text": [
      "C:\\Users\\kynan.lawlor\\AppData\\Local\\Continuum\\miniconda3\\envs\\imaging\\lib\\site-packages\\skimage\\io\\_io.py:141: UserWarning: final_KE012_data\\cherry_full_set_trimmed\\cherry_plate1a_w2_line_2020-02-11_08.39.04_iso_Kynan Lawlor_F_fused.tif is a low contrast image\n",
      "  warn('%s is a low contrast image' % fname)\n",
      "C:\\Users\\kynan.lawlor\\AppData\\Local\\Continuum\\miniconda3\\envs\\imaging\\lib\\site-packages\\skimage\\io\\_io.py:141: UserWarning: final_KE012_data\\cherry_full_set_trimmed\\cherry_plate1a_w2_dots_2020-02-11_08.35.17_iso_Kynan Lawlor_convert.tif is a low contrast image\n",
      "  warn('%s is a low contrast image' % fname)\n"
     ]
    },
    {
     "name": "stdout",
     "output_type": "stream",
     "text": [
      "(4992, 1030)\n",
      "(4800, 1020)\n",
      "final_KE012_data\\cherry_full_set_trimmed\\cherry_plate1a_w2_line_2020-02-11_08.37.57_iso_Kynan Lawlor_F_fused.tif\n"
     ]
    },
    {
     "name": "stderr",
     "output_type": "stream",
     "text": [
      "C:\\Users\\kynan.lawlor\\AppData\\Local\\Continuum\\miniconda3\\envs\\imaging\\lib\\site-packages\\skimage\\io\\_io.py:141: UserWarning: final_KE012_data\\cherry_full_set_trimmed\\cherry_plate1a_w2_line_2020-02-11_08.37.57_iso_Kynan Lawlor_F_fused.tif is a low contrast image\n",
      "  warn('%s is a low contrast image' % fname)\n"
     ]
    },
    {
     "name": "stdout",
     "output_type": "stream",
     "text": [
      "(1024, 1024)\n",
      "(1024, 1024)\n",
      "final_KE012_data\\cherry_full_set_trimmed\\cherry_plate1a_w5_dots_2020-02-11_08.48.13_iso_Kynan Lawlor_convert.tif\n",
      "(1024, 1024)\n",
      "(1024, 1024)\n",
      "final_KE012_data\\cherry_full_set_trimmed\\cherry_plate1a_w5_dots_2020-02-11_08.48.48_iso_Kynan Lawlor_convert.tif\n"
     ]
    },
    {
     "name": "stderr",
     "output_type": "stream",
     "text": [
      "C:\\Users\\kynan.lawlor\\AppData\\Local\\Continuum\\miniconda3\\envs\\imaging\\lib\\site-packages\\skimage\\io\\_io.py:141: UserWarning: final_KE012_data\\cherry_full_set_trimmed\\cherry_plate1a_w5_dots_2020-02-11_08.48.13_iso_Kynan Lawlor_convert.tif is a low contrast image\n",
      "  warn('%s is a low contrast image' % fname)\n",
      "C:\\Users\\kynan.lawlor\\AppData\\Local\\Continuum\\miniconda3\\envs\\imaging\\lib\\site-packages\\skimage\\io\\_io.py:141: UserWarning: final_KE012_data\\cherry_full_set_trimmed\\cherry_plate1a_w5_dots_2020-02-11_08.48.48_iso_Kynan Lawlor_convert.tif is a low contrast image\n",
      "  warn('%s is a low contrast image' % fname)\n"
     ]
    },
    {
     "name": "stdout",
     "output_type": "stream",
     "text": [
      "(4992, 1030)\n",
      "(4800, 1020)\n",
      "final_KE012_data\\cherry_full_set_trimmed\\cherry_plate1a_w5_line_2020-02-11_08.50.19_iso_Kynan Lawlor_F_fused.tif\n"
     ]
    },
    {
     "name": "stderr",
     "output_type": "stream",
     "text": [
      "C:\\Users\\kynan.lawlor\\AppData\\Local\\Continuum\\miniconda3\\envs\\imaging\\lib\\site-packages\\skimage\\io\\_io.py:141: UserWarning: final_KE012_data\\cherry_full_set_trimmed\\cherry_plate1a_w5_line_2020-02-11_08.50.19_iso_Kynan Lawlor_F_fused.tif is a low contrast image\n",
      "  warn('%s is a low contrast image' % fname)\n"
     ]
    },
    {
     "name": "stdout",
     "output_type": "stream",
     "text": [
      "(4992, 1030)\n",
      "(4800, 1020)\n",
      "final_KE012_data\\cherry_full_set_trimmed\\cherry_plate1a_w5_line_2020-02-11_08.51.14_iso_Kynan Lawlor_F_fused.tif\n",
      "(1024, 1024)\n",
      "(1024, 1024)\n",
      "final_KE012_data\\cherry_full_set_trimmed\\cherry_plate1a_w5_dots_2020-02-11_08.48.29_iso_Kynan Lawlor_convert.tif\n"
     ]
    },
    {
     "name": "stderr",
     "output_type": "stream",
     "text": [
      "C:\\Users\\kynan.lawlor\\AppData\\Local\\Continuum\\miniconda3\\envs\\imaging\\lib\\site-packages\\skimage\\io\\_io.py:141: UserWarning: final_KE012_data\\cherry_full_set_trimmed\\cherry_plate1a_w5_line_2020-02-11_08.51.14_iso_Kynan Lawlor_F_fused.tif is a low contrast image\n",
      "  warn('%s is a low contrast image' % fname)\n",
      "C:\\Users\\kynan.lawlor\\AppData\\Local\\Continuum\\miniconda3\\envs\\imaging\\lib\\site-packages\\skimage\\io\\_io.py:141: UserWarning: final_KE012_data\\cherry_full_set_trimmed\\cherry_plate1a_w5_dots_2020-02-11_08.48.29_iso_Kynan Lawlor_convert.tif is a low contrast image\n",
      "  warn('%s is a low contrast image' % fname)\n"
     ]
    },
    {
     "name": "stdout",
     "output_type": "stream",
     "text": [
      "(4992, 1031)\n",
      "(4800, 1020)\n",
      "final_KE012_data\\cherry_full_set_trimmed\\cherry_plate1a_w5_line_2020-02-11_08.49.26_iso_Kynan Lawlor_F_fused.tif\n",
      "(1024, 1024)\n",
      "(1024, 1024)\n",
      "final_KE012_data\\cherry_full_set_trimmed\\cherry_plate6_hand4_hand_2020-02-11_10.38.58_iso_Kynan Lawlor_convert.tif\n"
     ]
    },
    {
     "name": "stderr",
     "output_type": "stream",
     "text": [
      "C:\\Users\\kynan.lawlor\\AppData\\Local\\Continuum\\miniconda3\\envs\\imaging\\lib\\site-packages\\skimage\\io\\_io.py:141: UserWarning: final_KE012_data\\cherry_full_set_trimmed\\cherry_plate1a_w5_line_2020-02-11_08.49.26_iso_Kynan Lawlor_F_fused.tif is a low contrast image\n",
      "  warn('%s is a low contrast image' % fname)\n",
      "C:\\Users\\kynan.lawlor\\AppData\\Local\\Continuum\\miniconda3\\envs\\imaging\\lib\\site-packages\\skimage\\io\\_io.py:141: UserWarning: final_KE012_data\\cherry_full_set_trimmed\\cherry_plate6_hand4_hand_2020-02-11_10.38.58_iso_Kynan Lawlor_convert.tif is a low contrast image\n",
      "  warn('%s is a low contrast image' % fname)\n",
      "C:\\Users\\kynan.lawlor\\AppData\\Local\\Continuum\\miniconda3\\envs\\imaging\\lib\\site-packages\\skimage\\io\\_io.py:141: UserWarning: final_KE012_data\\cherry_full_set_trimmed\\cherry_plate6_hand4_hand_2020-02-11_10.38.39_iso_Kynan Lawlor_convert.tif is a low contrast image\n",
      "  warn('%s is a low contrast image' % fname)\n"
     ]
    },
    {
     "name": "stdout",
     "output_type": "stream",
     "text": [
      "(1024, 1024)\n",
      "(1024, 1024)\n",
      "final_KE012_data\\cherry_full_set_trimmed\\cherry_plate6_hand4_hand_2020-02-11_10.38.39_iso_Kynan Lawlor_convert.tif\n",
      "(1024, 1024)\n",
      "(1024, 1024)\n",
      "final_KE012_data\\cherry_full_set_trimmed\\cherry_plate6_hand4_hand_2020-02-11_10.38.20_iso_Kynan Lawlor_convert.tif\n",
      "(1024, 1024)\n",
      "(1024, 1024)\n",
      "final_KE012_data\\cherry_full_set_trimmed\\cherry_plate6_hand4_hand_2020-02-11_10.37.52_iso_Kynan Lawlor_convert.tif\n"
     ]
    },
    {
     "name": "stderr",
     "output_type": "stream",
     "text": [
      "C:\\Users\\kynan.lawlor\\AppData\\Local\\Continuum\\miniconda3\\envs\\imaging\\lib\\site-packages\\skimage\\io\\_io.py:141: UserWarning: final_KE012_data\\cherry_full_set_trimmed\\cherry_plate6_hand4_hand_2020-02-11_10.38.20_iso_Kynan Lawlor_convert.tif is a low contrast image\n",
      "  warn('%s is a low contrast image' % fname)\n",
      "C:\\Users\\kynan.lawlor\\AppData\\Local\\Continuum\\miniconda3\\envs\\imaging\\lib\\site-packages\\skimage\\io\\_io.py:141: UserWarning: final_KE012_data\\cherry_full_set_trimmed\\cherry_plate6_hand4_hand_2020-02-11_10.37.52_iso_Kynan Lawlor_convert.tif is a low contrast image\n",
      "  warn('%s is a low contrast image' % fname)\n"
     ]
    }
   ],
   "source": [
    "for i,f in enumerate(files):\n",
    "    plate = [s for s in os.path.dirname(f).split(\"\\\\\") if re.match(\"^plate*\", s)][0]\n",
    "    well = os.path.dirname(f).split(\"\\\\\")[2]\n",
    "    img = skimage.io.imread(f)[:,:,1]\n",
    "    print(img.shape)\n",
    "    if img.shape[0] > 2000:\n",
    "        img = img[0:4800,0:1020]\n",
    "        condition = \"line\"\n",
    "    elif 'hand' in well:\n",
    "        condition = 'hand'\n",
    "    else:\n",
    "        condition = 'dots'\n",
    "    file_string = \"_\".join([plate, well, condition, os.path.basename(f)])\n",
    "    out_path = os.path.join('final_KE012_data','cherry_full_set_trimmed', 'cherry_' + file_string)\n",
    "    print(img.shape)\n",
    "    print(out_path)\n",
    "    skimage.io.imsave(arr=img, fname=out_path)\n",
    "    "
   ]
  },
  {
   "cell_type": "markdown",
   "metadata": {},
   "source": []
  },
  {
   "cell_type": "markdown",
   "metadata": {},
   "source": [
    "Trimmed images have been fed into illastik and used to generate pixel prediction masks. Now I'll read these back in to do quantification.\n",
    "\n"
   ]
  },
  {
   "cell_type": "code",
   "execution_count": 4,
   "metadata": {},
   "outputs": [],
   "source": [
    "paths = glob.glob(os.path.join(\"data\", \"full_set_trimmed\",\"probabilites\", \"*Probabilities*\"))\n",
    "\n"
   ]
  },
  {
   "cell_type": "code",
   "execution_count": 11,
   "metadata": {},
   "outputs": [
    {
     "data": {
      "text/plain": [
       "<matplotlib.image.AxesImage at 0x1a506184c88>"
      ]
     },
     "execution_count": 11,
     "metadata": {},
     "output_type": "execute_result"
    },
    {
     "data": {
      "image/png": "[encoded data removed]",
      "text/plain": [
       "<Figure size 432x288 with 1 Axes>"
      ]
     },
     "metadata": {
      "needs_background": "light"
     },
     "output_type": "display_data"
    }
   ],
   "source": [
    "im = skimage.io.imread(paths[5])[:,:,0]\n",
    "skimage.io.imshow(im[:,20:1000])"
   ]
  },
  {
   "cell_type": "code",
   "execution_count": 31,
   "metadata": {},
   "outputs": [],
   "source": [
    "#this function to process each and do quantification\n",
    "\n",
    "def process_set(paths, target_channel, cutoff):\n",
    "\n",
    "    files = [os.path.basename(s) for s in paths]\n",
    "    times = [get_time_stamp(f) for f in files]\n",
    "    plate = [s.split(\"_\")[1] for s in files]\n",
    "    well = [s.split(\"_\")[2] for s in files]\n",
    "    condition = [s.split(\"_\")[3] for s in files]\n",
    "    scRNA_include = ['scRNA' in s for s in files]\n",
    "\n",
    "    cols = {'dots':'green', 'hand':'red', 'line':'blue'}\n",
    "    condition_idx = [cols[s] for s in condition]\n",
    "\n",
    "    pal = ['b', 'g', 'r', 'c', 'm', 'y', 'k', 'w']\n",
    "\n",
    "    cols_long = {'plate1a':pal[0],\n",
    "           'plate1b':pal[0],\n",
    "           'plate2a':pal[1],\n",
    "           \"plate2b\":pal[1],\n",
    "           \"plate3a\":pal[2],\n",
    "           \"plate3b\":pal[2],\n",
    "           \"plate4a\":pal[3],\n",
    "           \"plate4b\":pal[3],\n",
    "           \"plate5\":pal[4],\n",
    "           \"plate6\":pal[4]}\n",
    "\n",
    "    plate_idx = [cols_long[p] for p in plate]\n",
    "\n",
    "    pixel_pred = []\n",
    "    for f in paths:\n",
    "        pixel_pred.append(skimage.io.imread(f)[:,:,target_channel]) \n",
    "    \n",
    "    skimage.io.imshow(pixel_pred[5])\n",
    "    \n",
    "    #create lists to store measurement data\n",
    "    areas = []\n",
    "    solidity = []\n",
    "    lengths = []\n",
    "    convex_areas = []\n",
    "    heights = []\n",
    "    \n",
    "    #loop through probability images and extraxt region data\n",
    "    for img in pixel_pred:\n",
    "        #print(b)\n",
    "        #fname.append(b)\n",
    "        bin_img = skimage.img_as_int(img > cutoff)\n",
    "        a, s, l, c, h = get_measurements(bin_img)\n",
    "        areas.append(a)\n",
    "        solidity.append(s)\n",
    "        lengths.append(l)\n",
    "        convex_areas.append(c)\n",
    "        heights.append(h)\n",
    "\n",
    "    line_styles = {1:0, 2:10, 3:20, 4:30, 5:40}\n",
    "\n",
    "    line_idx = [line_styles[h] for h in heights]\n",
    "\n",
    "    #correct for pixel size\n",
    "    lengths_c = [(l * pixel_size) / 1000 for l in lengths]\n",
    "    convex_areas_c = [(c * pixel_size * pixel_size) / 1000000 for c in convex_areas]\n",
    "    areas_c = [(a * pixel_size * pixel_size) / 1000000 for a in areas]\n",
    "    \n",
    "    out_data = pd.DataFrame({'fname':files,\n",
    "                         'time_stamp':times,\n",
    "                         'plate':plate,\n",
    "                         'well':well,\n",
    "                         'condition':condition,\n",
    "                         'scRNA_include':scRNA_include,\n",
    "                         'areas_pix':areas, \n",
    "                         'areas_micron':areas_c, \n",
    "                         'solidity':solidity, \n",
    "                         'lengths_pix':lengths, \n",
    "                         'lengths_micron':lengths_c, \n",
    "                         'heights':heights,\n",
    "                         'convex_area_pix':convex_areas, \n",
    "                         'convex_area_micron':convex_areas_c,\n",
    "                         'line_ratio':line_idx})\n",
    "    \n",
    "    return(out_data)"
   ]
  },
  {
   "cell_type": "code",
   "execution_count": 32,
   "metadata": {},
   "outputs": [
    {
     "data": {
      "image/png": "[encoded data removed]",
      "text/plain": [
       "<Figure size 432x288 with 1 Axes>"
      ]
     },
     "metadata": {
      "needs_background": "light"
     },
     "output_type": "display_data"
    }
   ],
   "source": [
    "#note typo in the original path\n",
    "\n",
    "bfp_paths = glob.glob(os.path.join(\"data\", \"full_set_trimmed\",\"probabilites\", \"*Probabilities*\"))\n",
    "\n",
    "\n",
    "df = process_set(bfp_paths, 1, 0.8)"
   ]
  },
  {
   "cell_type": "code",
   "execution_count": 33,
   "metadata": {},
   "outputs": [
    {
     "name": "stdout",
     "output_type": "stream",
     "text": [
      "3.7868890162037028\n",
      "0.6310915383254717\n"
     ]
    }
   ],
   "source": [
    "print(np.mean(df[df.condition == 'line'].areas_micron))\n",
    "\n",
    "print(np.mean(df[df.condition == 'dots'].areas_micron))"
   ]
  },
  {
   "cell_type": "code",
   "execution_count": 25,
   "metadata": {},
   "outputs": [
    {
     "name": "stdout",
     "output_type": "stream",
     "text": [
      "2.3006432453804346\n"
     ]
    },
    {
     "data": {
      "image/png": "[encoded data removed]",
      "text/plain": [
       "<Figure size 432x288 with 1 Axes>"
      ]
     },
     "metadata": {
      "needs_background": "light"
     },
     "output_type": "display_data"
    }
   ],
   "source": [
    "df.plot.scatter(x = 'lengths_micron', y = 'areas_micron')\n"
   ]
  },
  {
   "cell_type": "code",
   "execution_count": 8,
   "metadata": {},
   "outputs": [],
   "source": [
    "df.to_csv(\"KE012_mafb_measurements.csv\")"
   ]
  },
  {
   "cell_type": "code",
   "execution_count": 5,
   "metadata": {},
   "outputs": [
    {
     "name": "stderr",
     "output_type": "stream",
     "text": [
      "C:\\Users\\kynan.lawlor\\AppData\\Local\\Continuum\\miniconda3\\envs\\imaging\\lib\\site-packages\\skimage\\measure\\_regionprops.py:250: UserWarning: regionprops and image moments (including moments, normalized moments, central moments, and inertia tensor) of 2D images will change from xy coordinates to rc coordinates in version 0.16.\n",
      "See https://scikit-image.org/docs/0.14.x/release_notes_and_installation.html#deprecations for details on how to avoid this message.\n",
      "  warn(XY_TO_RC_DEPRECATION_MESSAGE)\n",
      "C:\\Users\\kynan.lawlor\\AppData\\Local\\Continuum\\miniconda3\\envs\\imaging\\lib\\site-packages\\skimage\\measure\\_regionprops.py:260: UserWarning: regionprops and image moments (including moments, normalized moments, central moments, and inertia tensor) of 2D images will change from xy coordinates to rc coordinates in version 0.16.\n",
      "See https://scikit-image.org/docs/0.14.x/release_notes_and_installation.html#deprecations for details on how to avoid this message.\n",
      "  warn(XY_TO_RC_DEPRECATION_MESSAGE)\n"
     ]
    },
    {
     "data": {
      "image/png": "[encoded data removed]",
      "text/plain": [
       "<Figure size 432x288 with 1 Axes>"
      ]
     },
     "metadata": {
      "needs_background": "light"
     },
     "output_type": "display_data"
    }
   ],
   "source": [
    "cherry_paths = glob.glob(os.path.join(\"final_KE012_data\", \"cherry_full_set_trimmed\",\"probabilities\", \"*Probabilities*\"))\n",
    "\n",
    "cherry_df = process_set(cherry_paths, 0, 0.5)"
   ]
  },
  {
   "cell_type": "code",
   "execution_count": 72,
   "metadata": {},
   "outputs": [
    {
     "data": {
      "text/html": [
       "<div>\n",
       "<style scoped>\n",
       "    .dataframe tbody tr th:only-of-type {\n",
       "        vertical-align: middle;\n",
       "    }\n",
       "\n",
       "    .dataframe tbody tr th {\n",
       "        vertical-align: top;\n",
       "    }\n",
       "\n",
       "    .dataframe thead th {\n",
       "        text-align: right;\n",
       "    }\n",
       "</style>\n",
       "<table border=\"1\" class=\"dataframe\">\n",
       "  <thead>\n",
       "    <tr style=\"text-align: right;\">\n",
       "      <th></th>\n",
       "      <th>fname</th>\n",
       "      <th>time_stamp</th>\n",
       "      <th>plate</th>\n",
       "      <th>well</th>\n",
       "      <th>condition</th>\n",
       "      <th>scRNA_include</th>\n",
       "      <th>areas_pix</th>\n",
       "      <th>areas_micron</th>\n",
       "      <th>solidity</th>\n",
       "      <th>lengths_pix</th>\n",
       "      <th>lengths_micron</th>\n",
       "      <th>heights</th>\n",
       "      <th>convex_area_pix</th>\n",
       "      <th>convex_area_micron</th>\n",
       "      <th>line_ratio</th>\n",
       "    </tr>\n",
       "  </thead>\n",
       "  <tbody>\n",
       "    <tr>\n",
       "      <th>0</th>\n",
       "      <td>cherry_plate1a_w3_dots_2020-02-11_08.41.56_iso...</td>\n",
       "      <td>08.41.56</td>\n",
       "      <td>plate1a</td>\n",
       "      <td>w3</td>\n",
       "      <td>dots</td>\n",
       "      <td>False</td>\n",
       "      <td>3</td>\n",
       "      <td>0.000032</td>\n",
       "      <td>0.200000</td>\n",
       "      <td>22.068830</td>\n",
       "      <td>0.071724</td>\n",
       "      <td>1</td>\n",
       "      <td>15</td>\n",
       "      <td>0.000158</td>\n",
       "      <td>0</td>\n",
       "    </tr>\n",
       "    <tr>\n",
       "      <th>1</th>\n",
       "      <td>cherry_plate3b_w3_dots_2020-02-11_10.13.29_iso...</td>\n",
       "      <td>10.13.29</td>\n",
       "      <td>plate3b</td>\n",
       "      <td>w3</td>\n",
       "      <td>dots</td>\n",
       "      <td>True</td>\n",
       "      <td>2874</td>\n",
       "      <td>0.030357</td>\n",
       "      <td>0.014125</td>\n",
       "      <td>739.577281</td>\n",
       "      <td>2.403626</td>\n",
       "      <td>1</td>\n",
       "      <td>203467</td>\n",
       "      <td>2.149120</td>\n",
       "      <td>0</td>\n",
       "    </tr>\n",
       "    <tr>\n",
       "      <th>2</th>\n",
       "      <td>cherry_plate3a_w2_line_2020-02-11_17.43.36_iso...</td>\n",
       "      <td>17.43.36</td>\n",
       "      <td>plate3a</td>\n",
       "      <td>w2</td>\n",
       "      <td>line</td>\n",
       "      <td>False</td>\n",
       "      <td>6254</td>\n",
       "      <td>0.066058</td>\n",
       "      <td>0.009440</td>\n",
       "      <td>3744.205715</td>\n",
       "      <td>12.168669</td>\n",
       "      <td>5</td>\n",
       "      <td>662525</td>\n",
       "      <td>6.997920</td>\n",
       "      <td>40</td>\n",
       "    </tr>\n",
       "    <tr>\n",
       "      <th>3</th>\n",
       "      <td>cherry_plate4a_w6_dots_2020-02-11_18.45.56_iso...</td>\n",
       "      <td>18.45.56</td>\n",
       "      <td>plate4a</td>\n",
       "      <td>w6</td>\n",
       "      <td>dots</td>\n",
       "      <td>False</td>\n",
       "      <td>5180</td>\n",
       "      <td>0.054714</td>\n",
       "      <td>0.022880</td>\n",
       "      <td>581.753034</td>\n",
       "      <td>1.890697</td>\n",
       "      <td>1</td>\n",
       "      <td>226398</td>\n",
       "      <td>2.391329</td>\n",
       "      <td>0</td>\n",
       "    </tr>\n",
       "    <tr>\n",
       "      <th>4</th>\n",
       "      <td>cherry_plate4b_w5_line_2020-02-11_19.00.01_iso...</td>\n",
       "      <td>19.00.01</td>\n",
       "      <td>plate4b</td>\n",
       "      <td>w5</td>\n",
       "      <td>line</td>\n",
       "      <td>False</td>\n",
       "      <td>11883</td>\n",
       "      <td>0.125514</td>\n",
       "      <td>0.005692</td>\n",
       "      <td>5052.819936</td>\n",
       "      <td>16.421665</td>\n",
       "      <td>5</td>\n",
       "      <td>2087595</td>\n",
       "      <td>22.050222</td>\n",
       "      <td>40</td>\n",
       "    </tr>\n",
       "    <tr>\n",
       "      <th>...</th>\n",
       "      <td>...</td>\n",
       "      <td>...</td>\n",
       "      <td>...</td>\n",
       "      <td>...</td>\n",
       "      <td>...</td>\n",
       "      <td>...</td>\n",
       "      <td>...</td>\n",
       "      <td>...</td>\n",
       "      <td>...</td>\n",
       "      <td>...</td>\n",
       "      <td>...</td>\n",
       "      <td>...</td>\n",
       "      <td>...</td>\n",
       "      <td>...</td>\n",
       "      <td>...</td>\n",
       "    </tr>\n",
       "    <tr>\n",
       "      <th>195</th>\n",
       "      <td>cherry_plate2b_w2_line_2020-02-11_17.27.41_iso...</td>\n",
       "      <td>17.27.41</td>\n",
       "      <td>plate2b</td>\n",
       "      <td>w2</td>\n",
       "      <td>line</td>\n",
       "      <td>False</td>\n",
       "      <td>11645</td>\n",
       "      <td>0.123000</td>\n",
       "      <td>0.005347</td>\n",
       "      <td>5034.795096</td>\n",
       "      <td>16.363084</td>\n",
       "      <td>5</td>\n",
       "      <td>2177856</td>\n",
       "      <td>23.003604</td>\n",
       "      <td>40</td>\n",
       "    </tr>\n",
       "    <tr>\n",
       "      <th>196</th>\n",
       "      <td>cherry_plate3a_w3_line_2020-02-11_17.46.09_iso...</td>\n",
       "      <td>17.46.09</td>\n",
       "      <td>plate3a</td>\n",
       "      <td>w3</td>\n",
       "      <td>line</td>\n",
       "      <td>False</td>\n",
       "      <td>1349</td>\n",
       "      <td>0.014249</td>\n",
       "      <td>0.001305</td>\n",
       "      <td>6481.818623</td>\n",
       "      <td>21.065911</td>\n",
       "      <td>5</td>\n",
       "      <td>1033521</td>\n",
       "      <td>10.916566</td>\n",
       "      <td>40</td>\n",
       "    </tr>\n",
       "    <tr>\n",
       "      <th>197</th>\n",
       "      <td>cherry_plate2b_w4_dots_2020-02-11_09.48.01_iso...</td>\n",
       "      <td>09.48.01</td>\n",
       "      <td>plate2b</td>\n",
       "      <td>w4</td>\n",
       "      <td>dots</td>\n",
       "      <td>True</td>\n",
       "      <td>27653</td>\n",
       "      <td>0.292085</td>\n",
       "      <td>0.182756</td>\n",
       "      <td>468.770706</td>\n",
       "      <td>1.523505</td>\n",
       "      <td>1</td>\n",
       "      <td>151311</td>\n",
       "      <td>1.598222</td>\n",
       "      <td>0</td>\n",
       "    </tr>\n",
       "    <tr>\n",
       "      <th>198</th>\n",
       "      <td>cherry_plate1b_w2_line_2020-02-11_09.06.27_iso...</td>\n",
       "      <td>09.06.27</td>\n",
       "      <td>plate1b</td>\n",
       "      <td>w2</td>\n",
       "      <td>line</td>\n",
       "      <td>True</td>\n",
       "      <td>4889</td>\n",
       "      <td>0.051640</td>\n",
       "      <td>0.003109</td>\n",
       "      <td>4764.110051</td>\n",
       "      <td>15.483358</td>\n",
       "      <td>5</td>\n",
       "      <td>1572509</td>\n",
       "      <td>16.609626</td>\n",
       "      <td>40</td>\n",
       "    </tr>\n",
       "    <tr>\n",
       "      <th>199</th>\n",
       "      <td>cherry_plate2b_w3_line_2020-02-11_17.29.18_iso...</td>\n",
       "      <td>17.29.18</td>\n",
       "      <td>plate2b</td>\n",
       "      <td>w3</td>\n",
       "      <td>line</td>\n",
       "      <td>False</td>\n",
       "      <td>28218</td>\n",
       "      <td>0.298053</td>\n",
       "      <td>0.012111</td>\n",
       "      <td>3499.079540</td>\n",
       "      <td>11.372009</td>\n",
       "      <td>5</td>\n",
       "      <td>2329973</td>\n",
       "      <td>24.610340</td>\n",
       "      <td>40</td>\n",
       "    </tr>\n",
       "  </tbody>\n",
       "</table>\n",
       "<p>200 rows × 15 columns</p>\n",
       "</div>"
      ],
      "text/plain": [
       "                                                 fname time_stamp    plate  \\\n",
       "0    cherry_plate1a_w3_dots_2020-02-11_08.41.56_iso...   08.41.56  plate1a   \n",
       "1    cherry_plate3b_w3_dots_2020-02-11_10.13.29_iso...   10.13.29  plate3b   \n",
       "2    cherry_plate3a_w2_line_2020-02-11_17.43.36_iso...   17.43.36  plate3a   \n",
       "3    cherry_plate4a_w6_dots_2020-02-11_18.45.56_iso...   18.45.56  plate4a   \n",
       "4    cherry_plate4b_w5_line_2020-02-11_19.00.01_iso...   19.00.01  plate4b   \n",
       "..                                                 ...        ...      ...   \n",
       "195  cherry_plate2b_w2_line_2020-02-11_17.27.41_iso...   17.27.41  plate2b   \n",
       "196  cherry_plate3a_w3_line_2020-02-11_17.46.09_iso...   17.46.09  plate3a   \n",
       "197  cherry_plate2b_w4_dots_2020-02-11_09.48.01_iso...   09.48.01  plate2b   \n",
       "198  cherry_plate1b_w2_line_2020-02-11_09.06.27_iso...   09.06.27  plate1b   \n",
       "199  cherry_plate2b_w3_line_2020-02-11_17.29.18_iso...   17.29.18  plate2b   \n",
       "\n",
       "    well condition  scRNA_include  areas_pix  areas_micron  solidity  \\\n",
       "0     w3      dots          False          3      0.000032  0.200000   \n",
       "1     w3      dots           True       2874      0.030357  0.014125   \n",
       "2     w2      line          False       6254      0.066058  0.009440   \n",
       "3     w6      dots          False       5180      0.054714  0.022880   \n",
       "4     w5      line          False      11883      0.125514  0.005692   \n",
       "..   ...       ...            ...        ...           ...       ...   \n",
       "195   w2      line          False      11645      0.123000  0.005347   \n",
       "196   w3      line          False       1349      0.014249  0.001305   \n",
       "197   w4      dots           True      27653      0.292085  0.182756   \n",
       "198   w2      line           True       4889      0.051640  0.003109   \n",
       "199   w3      line          False      28218      0.298053  0.012111   \n",
       "\n",
       "     lengths_pix  lengths_micron  heights  convex_area_pix  \\\n",
       "0      22.068830        0.071724        1               15   \n",
       "1     739.577281        2.403626        1           203467   \n",
       "2    3744.205715       12.168669        5           662525   \n",
       "3     581.753034        1.890697        1           226398   \n",
       "4    5052.819936       16.421665        5          2087595   \n",
       "..           ...             ...      ...              ...   \n",
       "195  5034.795096       16.363084        5          2177856   \n",
       "196  6481.818623       21.065911        5          1033521   \n",
       "197   468.770706        1.523505        1           151311   \n",
       "198  4764.110051       15.483358        5          1572509   \n",
       "199  3499.079540       11.372009        5          2329973   \n",
       "\n",
       "     convex_area_micron  line_ratio  \n",
       "0              0.000158           0  \n",
       "1              2.149120           0  \n",
       "2              6.997920          40  \n",
       "3              2.391329           0  \n",
       "4             22.050222          40  \n",
       "..                  ...         ...  \n",
       "195           23.003604          40  \n",
       "196           10.916566          40  \n",
       "197            1.598222           0  \n",
       "198           16.609626          40  \n",
       "199           24.610340          40  \n",
       "\n",
       "[200 rows x 15 columns]"
      ]
     },
     "execution_count": 72,
     "metadata": {},
     "output_type": "execute_result"
    }
   ],
   "source": [
    "cherry_df"
   ]
  },
  {
   "cell_type": "code",
   "execution_count": 10,
   "metadata": {},
   "outputs": [
    {
     "data": {
      "text/plain": [
       "<matplotlib.axes._subplots.AxesSubplot at 0x2e492f9cfc8>"
      ]
     },
     "execution_count": 10,
     "metadata": {},
     "output_type": "execute_result"
    },
    {
     "data": {
      "image/png": "[encoded data removed]",
      "text/plain": [
       "<Figure size 432x288 with 1 Axes>"
      ]
     },
     "metadata": {
      "needs_background": "light"
     },
     "output_type": "display_data"
    }
   ],
   "source": [
    "cherry_df.plot.scatter(x = 'lengths_micron', y = 'areas_micron')"
   ]
  },
  {
   "cell_type": "code",
   "execution_count": 11,
   "metadata": {},
   "outputs": [],
   "source": [
    "cherry_df.to_csv(\"KE012_cherry_measurements.csv\")\n"
   ]
  },
  {
   "cell_type": "code",
   "execution_count": 76,
   "metadata": {},
   "outputs": [
    {
     "data": {
      "text/html": [
       "<div>\n",
       "<style scoped>\n",
       "    .dataframe tbody tr th:only-of-type {\n",
       "        vertical-align: middle;\n",
       "    }\n",
       "\n",
       "    .dataframe tbody tr th {\n",
       "        vertical-align: top;\n",
       "    }\n",
       "\n",
       "    .dataframe thead th {\n",
       "        text-align: right;\n",
       "    }\n",
       "</style>\n",
       "<table border=\"1\" class=\"dataframe\">\n",
       "  <thead>\n",
       "    <tr style=\"text-align: right;\">\n",
       "      <th></th>\n",
       "      <th>fname</th>\n",
       "      <th>time_stamp</th>\n",
       "      <th>plate</th>\n",
       "      <th>well</th>\n",
       "      <th>condition</th>\n",
       "      <th>scRNA_include</th>\n",
       "      <th>areas_pix</th>\n",
       "      <th>areas_micron</th>\n",
       "      <th>solidity</th>\n",
       "      <th>lengths_pix</th>\n",
       "      <th>lengths_micron</th>\n",
       "      <th>heights</th>\n",
       "      <th>convex_area_pix</th>\n",
       "      <th>convex_area_micron</th>\n",
       "      <th>line_ratio</th>\n",
       "    </tr>\n",
       "  </thead>\n",
       "  <tbody>\n",
       "    <tr>\n",
       "      <th>0</th>\n",
       "      <td>bfp_plate5_hand1_hand_2020-02-11_10.32.12_iso_...</td>\n",
       "      <td>10.32.12</td>\n",
       "      <td>plate5</td>\n",
       "      <td>hand1</td>\n",
       "      <td>hand</td>\n",
       "      <td>False</td>\n",
       "      <td>66640</td>\n",
       "      <td>0.703885</td>\n",
       "      <td>0.152489</td>\n",
       "      <td>1062.507340</td>\n",
       "      <td>3.453149</td>\n",
       "      <td>1</td>\n",
       "      <td>437014</td>\n",
       "      <td>4.615960</td>\n",
       "      <td>0</td>\n",
       "    </tr>\n",
       "    <tr>\n",
       "      <th>1</th>\n",
       "      <td>bfp_plate1b_w4_line_2020-02-11_09.12.48_iso_Ky...</td>\n",
       "      <td>09.12.48</td>\n",
       "      <td>plate1b</td>\n",
       "      <td>w4</td>\n",
       "      <td>line</td>\n",
       "      <td>False</td>\n",
       "      <td>272539</td>\n",
       "      <td>2.878693</td>\n",
       "      <td>0.080491</td>\n",
       "      <td>5205.771683</td>\n",
       "      <td>16.918758</td>\n",
       "      <td>5</td>\n",
       "      <td>3385963</td>\n",
       "      <td>35.764234</td>\n",
       "      <td>40</td>\n",
       "    </tr>\n",
       "    <tr>\n",
       "      <th>2</th>\n",
       "      <td>bfp_plate4a_w3_dots_2020-02-11_18.31.25_iso_Ky...</td>\n",
       "      <td>18.31.25</td>\n",
       "      <td>plate4a</td>\n",
       "      <td>w3</td>\n",
       "      <td>dots</td>\n",
       "      <td>False</td>\n",
       "      <td>99234</td>\n",
       "      <td>1.048159</td>\n",
       "      <td>0.314818</td>\n",
       "      <td>794.556486</td>\n",
       "      <td>2.582309</td>\n",
       "      <td>1</td>\n",
       "      <td>315211</td>\n",
       "      <td>3.329416</td>\n",
       "      <td>0</td>\n",
       "    </tr>\n",
       "    <tr>\n",
       "      <th>3</th>\n",
       "      <td>bfp_plate4b_w5_dots_2020-02-11_18.55.34_iso_Ky...</td>\n",
       "      <td>18.55.34</td>\n",
       "      <td>plate4b</td>\n",
       "      <td>w5</td>\n",
       "      <td>dots</td>\n",
       "      <td>False</td>\n",
       "      <td>54435</td>\n",
       "      <td>0.574970</td>\n",
       "      <td>0.186621</td>\n",
       "      <td>805.645062</td>\n",
       "      <td>2.618346</td>\n",
       "      <td>1</td>\n",
       "      <td>291687</td>\n",
       "      <td>3.080944</td>\n",
       "      <td>0</td>\n",
       "    </tr>\n",
       "    <tr>\n",
       "      <th>4</th>\n",
       "      <td>bfp_plate4a_w2_line_2020-02-11_18.28.42_iso_Ky...</td>\n",
       "      <td>18.28.42</td>\n",
       "      <td>plate4a</td>\n",
       "      <td>w2</td>\n",
       "      <td>line</td>\n",
       "      <td>False</td>\n",
       "      <td>683859</td>\n",
       "      <td>7.223261</td>\n",
       "      <td>0.256393</td>\n",
       "      <td>4309.132280</td>\n",
       "      <td>14.004680</td>\n",
       "      <td>5</td>\n",
       "      <td>2667225</td>\n",
       "      <td>28.172564</td>\n",
       "      <td>40</td>\n",
       "    </tr>\n",
       "    <tr>\n",
       "      <th>...</th>\n",
       "      <td>...</td>\n",
       "      <td>...</td>\n",
       "      <td>...</td>\n",
       "      <td>...</td>\n",
       "      <td>...</td>\n",
       "      <td>...</td>\n",
       "      <td>...</td>\n",
       "      <td>...</td>\n",
       "      <td>...</td>\n",
       "      <td>...</td>\n",
       "      <td>...</td>\n",
       "      <td>...</td>\n",
       "      <td>...</td>\n",
       "      <td>...</td>\n",
       "      <td>...</td>\n",
       "    </tr>\n",
       "    <tr>\n",
       "      <th>195</th>\n",
       "      <td>bfp_plate1b_w4_dots_2020-02-11_09.11.47_iso_Ky...</td>\n",
       "      <td>09.11.47</td>\n",
       "      <td>plate1b</td>\n",
       "      <td>w4</td>\n",
       "      <td>dots</td>\n",
       "      <td>False</td>\n",
       "      <td>50001</td>\n",
       "      <td>0.528136</td>\n",
       "      <td>0.168243</td>\n",
       "      <td>826.836407</td>\n",
       "      <td>2.687218</td>\n",
       "      <td>1</td>\n",
       "      <td>297196</td>\n",
       "      <td>3.139133</td>\n",
       "      <td>0</td>\n",
       "    </tr>\n",
       "    <tr>\n",
       "      <th>196</th>\n",
       "      <td>bfp_plate3a_w3_line_2020-02-11_17.46.09_iso_Ky...</td>\n",
       "      <td>17.46.09</td>\n",
       "      <td>plate3a</td>\n",
       "      <td>w3</td>\n",
       "      <td>line</td>\n",
       "      <td>False</td>\n",
       "      <td>192871</td>\n",
       "      <td>2.037200</td>\n",
       "      <td>0.127143</td>\n",
       "      <td>3937.755830</td>\n",
       "      <td>12.797706</td>\n",
       "      <td>5</td>\n",
       "      <td>1516957</td>\n",
       "      <td>16.022858</td>\n",
       "      <td>40</td>\n",
       "    </tr>\n",
       "    <tr>\n",
       "      <th>197</th>\n",
       "      <td>bfp_plate4b_w4_dots_2020-02-11_18.51.19_iso_Ky...</td>\n",
       "      <td>18.51.19</td>\n",
       "      <td>plate4b</td>\n",
       "      <td>w4</td>\n",
       "      <td>dots</td>\n",
       "      <td>False</td>\n",
       "      <td>240994</td>\n",
       "      <td>2.545499</td>\n",
       "      <td>0.706941</td>\n",
       "      <td>687.222383</td>\n",
       "      <td>2.233473</td>\n",
       "      <td>1</td>\n",
       "      <td>340897</td>\n",
       "      <td>3.600725</td>\n",
       "      <td>0</td>\n",
       "    </tr>\n",
       "    <tr>\n",
       "      <th>198</th>\n",
       "      <td>bfp_plate1b_w3_dots_2020-02-11_09.08.16_iso_Ky...</td>\n",
       "      <td>09.08.16</td>\n",
       "      <td>plate1b</td>\n",
       "      <td>w3</td>\n",
       "      <td>dots</td>\n",
       "      <td>False</td>\n",
       "      <td>9334</td>\n",
       "      <td>0.098590</td>\n",
       "      <td>0.031770</td>\n",
       "      <td>931.269393</td>\n",
       "      <td>3.026626</td>\n",
       "      <td>1</td>\n",
       "      <td>293795</td>\n",
       "      <td>3.103210</td>\n",
       "      <td>0</td>\n",
       "    </tr>\n",
       "    <tr>\n",
       "      <th>199</th>\n",
       "      <td>bfp_plate3a_w6_line_2020-02-11_18.01.21_iso_Ky...</td>\n",
       "      <td>18.01.21</td>\n",
       "      <td>plate3a</td>\n",
       "      <td>w6</td>\n",
       "      <td>line</td>\n",
       "      <td>False</td>\n",
       "      <td>250082</td>\n",
       "      <td>2.641491</td>\n",
       "      <td>0.083446</td>\n",
       "      <td>5448.705089</td>\n",
       "      <td>17.708292</td>\n",
       "      <td>5</td>\n",
       "      <td>2996929</td>\n",
       "      <td>31.655063</td>\n",
       "      <td>40</td>\n",
       "    </tr>\n",
       "  </tbody>\n",
       "</table>\n",
       "<p>200 rows × 15 columns</p>\n",
       "</div>"
      ],
      "text/plain": [
       "                                                 fname time_stamp    plate  \\\n",
       "0    bfp_plate5_hand1_hand_2020-02-11_10.32.12_iso_...   10.32.12   plate5   \n",
       "1    bfp_plate1b_w4_line_2020-02-11_09.12.48_iso_Ky...   09.12.48  plate1b   \n",
       "2    bfp_plate4a_w3_dots_2020-02-11_18.31.25_iso_Ky...   18.31.25  plate4a   \n",
       "3    bfp_plate4b_w5_dots_2020-02-11_18.55.34_iso_Ky...   18.55.34  plate4b   \n",
       "4    bfp_plate4a_w2_line_2020-02-11_18.28.42_iso_Ky...   18.28.42  plate4a   \n",
       "..                                                 ...        ...      ...   \n",
       "195  bfp_plate1b_w4_dots_2020-02-11_09.11.47_iso_Ky...   09.11.47  plate1b   \n",
       "196  bfp_plate3a_w3_line_2020-02-11_17.46.09_iso_Ky...   17.46.09  plate3a   \n",
       "197  bfp_plate4b_w4_dots_2020-02-11_18.51.19_iso_Ky...   18.51.19  plate4b   \n",
       "198  bfp_plate1b_w3_dots_2020-02-11_09.08.16_iso_Ky...   09.08.16  plate1b   \n",
       "199  bfp_plate3a_w6_line_2020-02-11_18.01.21_iso_Ky...   18.01.21  plate3a   \n",
       "\n",
       "      well condition  scRNA_include  areas_pix  areas_micron  solidity  \\\n",
       "0    hand1      hand          False      66640      0.703885  0.152489   \n",
       "1       w4      line          False     272539      2.878693  0.080491   \n",
       "2       w3      dots          False      99234      1.048159  0.314818   \n",
       "3       w5      dots          False      54435      0.574970  0.186621   \n",
       "4       w2      line          False     683859      7.223261  0.256393   \n",
       "..     ...       ...            ...        ...           ...       ...   \n",
       "195     w4      dots          False      50001      0.528136  0.168243   \n",
       "196     w3      line          False     192871      2.037200  0.127143   \n",
       "197     w4      dots          False     240994      2.545499  0.706941   \n",
       "198     w3      dots          False       9334      0.098590  0.031770   \n",
       "199     w6      line          False     250082      2.641491  0.083446   \n",
       "\n",
       "     lengths_pix  lengths_micron  heights  convex_area_pix  \\\n",
       "0    1062.507340        3.453149        1           437014   \n",
       "1    5205.771683       16.918758        5          3385963   \n",
       "2     794.556486        2.582309        1           315211   \n",
       "3     805.645062        2.618346        1           291687   \n",
       "4    4309.132280       14.004680        5          2667225   \n",
       "..           ...             ...      ...              ...   \n",
       "195   826.836407        2.687218        1           297196   \n",
       "196  3937.755830       12.797706        5          1516957   \n",
       "197   687.222383        2.233473        1           340897   \n",
       "198   931.269393        3.026626        1           293795   \n",
       "199  5448.705089       17.708292        5          2996929   \n",
       "\n",
       "     convex_area_micron  line_ratio  \n",
       "0              4.615960           0  \n",
       "1             35.764234          40  \n",
       "2              3.329416           0  \n",
       "3              3.080944           0  \n",
       "4             28.172564          40  \n",
       "..                  ...         ...  \n",
       "195            3.139133           0  \n",
       "196           16.022858          40  \n",
       "197            3.600725           0  \n",
       "198            3.103210           0  \n",
       "199           31.655063          40  \n",
       "\n",
       "[200 rows x 15 columns]"
      ]
     },
     "execution_count": 76,
     "metadata": {},
     "output_type": "execute_result"
    }
   ],
   "source": []
  },
  {
   "cell_type": "code",
   "execution_count": 79,
   "metadata": {},
   "outputs": [],
   "source": [
    "out_data.to_csv('KE012_full_set_measurements.csv')"
   ]
  },
  {
   "cell_type": "code",
   "execution_count": null,
   "metadata": {},
   "outputs": [],
   "source": []
  }
 ],
 "metadata": {
  "kernelspec": {
   "display_name": "Python 3",
   "language": "python",
   "name": "python3"
  },
  "language_info": {
   "codemirror_mode": {
    "name": "ipython",
    "version": 3
   },
   "file_extension": ".py",
   "mimetype": "text/x-python",
   "name": "python",
   "nbconvert_exporter": "python",
   "pygments_lexer": "ipython3",
   "version": "3.8.5"
  }
 },
 "nbformat": 4,
 "nbformat_minor": 2
}
